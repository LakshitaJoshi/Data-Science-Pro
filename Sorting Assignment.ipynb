{
 "cells": [
  {
   "cell_type": "markdown",
   "id": "ffdaeb3d-ab29-4dab-89a2-0ccaefa0cfad",
   "metadata": {},
   "source": [
    "Problem 1: Given an array of n numbers, give an algorithm which gives the element appearing maximum\n",
    "number of times?\n",
    "\n"
   ]
  },
  {
   "cell_type": "code",
   "execution_count": 9,
   "id": "5d904f2b-c438-4470-83db-33ee71ed6cb9",
   "metadata": {},
   "outputs": [
    {
     "data": {
      "text/plain": [
       "3"
      ]
     },
     "execution_count": 9,
     "metadata": {},
     "output_type": "execute_result"
    }
   ],
   "source": [
    "def maxTimes(arr):\n",
    "    result = {}\n",
    "    for i in arr:\n",
    "        if i in result:\n",
    "            result[i] += 1\n",
    "        else: \n",
    "            result[i] = 1\n",
    "\n",
    "    max_element = max(result, key=result.get)\n",
    "\n",
    "    return max_element\n",
    "\n",
    "maxTimes([1,2,3,2,4,5,3,6,3,3,8])"
   ]
  },
  {
   "cell_type": "markdown",
   "id": "6f2e55a2-b14c-4b48-8f04-a8a7aa5b34ca",
   "metadata": {},
   "source": [
    "Problem 2 : We are given a list of n-1 integers and these integers are in the range of 1 to n . There are no\n",
    "duplicates in the list. One of the integers is missing in the list. Give an algorithm to find that element Ex:\n",
    "[1,2,4,6,3,7,8] 5 is the missing num.\n",
    "\n"
   ]
  },
  {
   "cell_type": "code",
   "execution_count": 4,
   "id": "640c322d-5256-4171-8007-cbe186f586a2",
   "metadata": {},
   "outputs": [
    {
     "data": {
      "text/plain": [
       "5"
      ]
     },
     "execution_count": 4,
     "metadata": {},
     "output_type": "execute_result"
    }
   ],
   "source": [
    "def missingNumber(array):\n",
    "    n = len(array)+1\n",
    "    array.sort()\n",
    "    total = n*(n+1)//2\n",
    "    return total - sum(array)\n",
    "\n",
    "missingNumber([1,2,4,6,3,7,8])"
   ]
  },
  {
   "cell_type": "markdown",
   "id": "12566fe6-8b97-4e9f-baab-aa895a046c01",
   "metadata": {},
   "source": [
    "Problem 3 : Given an array of n positive numbers. All numbers occurs even number of times except 1 which\n",
    "occurs odd number of times. Find that number in O(n) time and O(1) space. Ex: [1,2,3,2,3,1,3]. 3 is repeats odd\n",
    "times.\n",
    "\n"
   ]
  },
  {
   "cell_type": "code",
   "execution_count": 1,
   "id": "d5b0fa4c-327f-4856-b781-4aea9dd653c5",
   "metadata": {},
   "outputs": [
    {
     "data": {
      "text/plain": [
       "3"
      ]
     },
     "execution_count": 1,
     "metadata": {},
     "output_type": "execute_result"
    }
   ],
   "source": [
    "def findOdd(arr):\n",
    "    ans = 0\n",
    "\n",
    "# XOR all elements\n",
    "    for num in arr:\n",
    "        ans ^= num\n",
    "    return ans\n",
    "\n",
    "findOdd([1,2,3,2,3,1,3]) "
   ]
  },
  {
   "cell_type": "markdown",
   "id": "c2f12ee8-d61c-4fd9-b189-25b47c1fe4a7",
   "metadata": {},
   "source": [
    "Problem 4 : Given an array of n elements. Find two elements in the array such that their sum is equal to given\n",
    "element K.\n",
    "\n"
   ]
  },
  {
   "cell_type": "code",
   "execution_count": 2,
   "id": "ade67142-f816-4151-b4da-4c9c88549789",
   "metadata": {},
   "outputs": [
    {
     "data": {
      "text/plain": [
       "(5, 1)"
      ]
     },
     "execution_count": 2,
     "metadata": {},
     "output_type": "execute_result"
    }
   ],
   "source": [
    "def findElements(arr, k):\n",
    "    seen_element = set()\n",
    "\n",
    "    # traverse the array\n",
    "    for num in arr:\n",
    "        # taking the complement of element k\n",
    "        complement = k - num\n",
    "        if complement in seen_element:\n",
    "            return (num, complement)\n",
    "\n",
    "        seen_element.add(num)\n",
    "    return None\n",
    "\n",
    "findElements([1, 2, 8, 7, 5], 6) "
   ]
  },
  {
   "cell_type": "markdown",
   "id": "5ccfe9f7-cad9-4f78-9864-d8b447d69ddb",
   "metadata": {},
   "source": [
    "Problem 5 : Given an array of both positive and negative numbers, find two numbers such that their sum is\n",
    "closest to 0. Ex: [ 1 ,60 ,-10, 70, -80,85]. Ans : -80,85.\n",
    "\n"
   ]
  },
  {
   "cell_type": "code",
   "execution_count": 4,
   "id": "a4e67229-2c65-4aa2-9f58-5f4a909ca540",
   "metadata": {},
   "outputs": [
    {
     "data": {
      "text/plain": [
       "(-80, 85)"
      ]
     },
     "execution_count": 4,
     "metadata": {},
     "output_type": "execute_result"
    }
   ],
   "source": [
    "def closestSum(arr):\n",
    "\n",
    "    arr.sort()\n",
    "\n",
    "    closest_pair = None\n",
    "    closest_sum = float('inf')\n",
    "\n",
    "    # 2 pointer\n",
    "    left, right = 0, len(arr)-1\n",
    "    \n",
    "    while left < right:\n",
    "        current_sum = arr[left] + arr[right]\n",
    "        \n",
    "        #updating closest pair\n",
    "        if abs(current_sum) < abs(closest_sum):\n",
    "            closest_sum = current_sum\n",
    "            closest_pair = (arr[left], arr[right])\n",
    "\n",
    "        # move pointers based on the comparison with 0\n",
    "        if current_sum < 0:\n",
    "            left += 1\n",
    "        elif current_sum > 0:\n",
    "            right -= 1\n",
    "        else:\n",
    "            # sum is 0\n",
    "            return (arr[left], arr[right])\n",
    "\n",
    "    return closest_pair\n",
    "\n",
    "closestSum([ 1 ,60 ,-10, 70, -80,85])"
   ]
  },
  {
   "cell_type": "markdown",
   "id": "b13ae0fa-7414-4cc9-a891-9b2eaeb9306f",
   "metadata": {},
   "source": [
    "Problem 6 : Given an array of n elements . Find three elements such that their sum is equal to the given\n",
    "number.\n",
    "\n"
   ]
  },
  {
   "cell_type": "code",
   "execution_count": 5,
   "id": "de40bbe3-faea-4302-b85e-cbc20d7871cb",
   "metadata": {},
   "outputs": [
    {
     "data": {
      "text/plain": [
       "(2, 3, 6)"
      ]
     },
     "execution_count": 5,
     "metadata": {},
     "output_type": "execute_result"
    }
   ],
   "source": [
    "def sumThree(arr, k):\n",
    "    arr.sort()\n",
    "\n",
    "    for i in range(len(arr) - 2):\n",
    "        # 2 pointer\n",
    "        left, right = i + 1, len(arr)-1\n",
    "\n",
    "        while left < right:\n",
    "            current_sum = arr[i] + arr[left] + arr[right]\n",
    "\n",
    "            if current_sum < k:\n",
    "                left += 1\n",
    "            elif current_sum > k:\n",
    "                right -= 1\n",
    "            else:\n",
    "                return (arr[i], arr[left], arr[right])\n",
    "\n",
    "    return None\n",
    "\n",
    "sumThree([3,8,6,4,2], 11)"
   ]
  },
  {
   "cell_type": "markdown",
   "id": "16efdbc9-f3f1-47cb-b117-40834edfe9ac",
   "metadata": {},
   "source": [
    "Problem 7 : Given an array of n elements . Find three elements i, j, k in the array such that\n",
    "i * i + j * j = k*k.\n",
    "\n"
   ]
  },
  {
   "cell_type": "code",
   "execution_count": 17,
   "id": "02155583-9d0d-45f0-a8fc-f9abe9809125",
   "metadata": {},
   "outputs": [
    {
     "name": "stdout",
     "output_type": "stream",
     "text": [
      "(3, 4, 5)\n"
     ]
    }
   ],
   "source": [
    "def Triplets(arr):\n",
    "\n",
    "    arr.sort()\n",
    "\n",
    "    for k in range(len(arr) - 1,1, -1):\n",
    "        # 2 pointer\n",
    "        left, right = 0, k-1\n",
    "\n",
    "        while left < right:\n",
    "            square_sums = arr[left]**2 + arr[right]**2\n",
    "            if square_sums < arr[k]**2:\n",
    "                left += 1\n",
    "            elif square_sums > arr[k]**2:\n",
    "                right -= 1\n",
    "            else:\n",
    "                return (arr[left], arr[right], arr[k])\n",
    "\n",
    "    return None\n",
    "\n",
    "result = Triplets([7,2,3,5,9,4])\n",
    "print(result)"
   ]
  },
  {
   "cell_type": "markdown",
   "id": "6e312f81-43be-44b6-8b95-663bd6f2f57f",
   "metadata": {},
   "source": [
    "Problem 8 : An element is a majority if it appears more than n/2 times. Give an algorithm takes an array of n\n",
    "element as argument and identifies a majority (if it exists).\n",
    "\n"
   ]
  },
  {
   "cell_type": "code",
   "execution_count": 18,
   "id": "3ae80fce-9bb3-4120-8ca6-40cfbb7bf723",
   "metadata": {},
   "outputs": [
    {
     "data": {
      "text/plain": [
       "3"
      ]
     },
     "execution_count": 18,
     "metadata": {},
     "output_type": "execute_result"
    }
   ],
   "source": [
    "def elementMajority(arr):\n",
    "    arr.sort()\n",
    "    element = arr[len(arr) // 2]\n",
    "\n",
    "    count = 0\n",
    "    for num in arr:\n",
    "        if num == element:\n",
    "            count += 1\n",
    "\n",
    "    if count > len(arr) // 2:\n",
    "        return element\n",
    "    else:\n",
    "        return None\n",
    "\n",
    "elementMajority([1,2,3,3,4,3,3,1,3,3,3])"
   ]
  },
  {
   "cell_type": "markdown",
   "id": "92c309da-9bdc-480c-9e03-aa1a9ae5d6db",
   "metadata": {},
   "source": [
    "Problem 9 : Given n × n matrix, and in each row all 1’s are followed by 0’s. Find the row with the maximum\n",
    "number of 0’s.\n",
    "\n"
   ]
  },
  {
   "cell_type": "code",
   "execution_count": 3,
   "id": "0759ea03-0859-4c30-96b1-7be02af0d3f5",
   "metadata": {},
   "outputs": [
    {
     "data": {
      "text/plain": [
       "3"
      ]
     },
     "execution_count": 3,
     "metadata": {},
     "output_type": "execute_result"
    }
   ],
   "source": [
    "def maxZeroRow(matrix):\n",
    "    n = len(matrix)\n",
    "    max_count_zero = matrix[0].count(0)\n",
    "    max_zero_row = 0\n",
    "\n",
    "    for i in range(1, n):\n",
    "        count_zero = matrix[i].count(0)\n",
    "\n",
    "        if count_zero > max_count_zero:\n",
    "            max_count_zero = count_zero\n",
    "            max_zero_row = i\n",
    "\n",
    "    return max_zero_row\n",
    "\n",
    "matrix = [\n",
    "            [1,1,0,0,0,0],\n",
    "            [1,1,1,1,1,0],\n",
    "            [1,1,1,1,0,0],\n",
    "            [1,0,0,0,0,0],\n",
    "            [1,1,1,0,0,0]\n",
    "        ]\n",
    "\n",
    "maxZeroRow(matrix)"
   ]
  },
  {
   "cell_type": "markdown",
   "id": "8833b786-c612-442c-a571-1678c2b0b57b",
   "metadata": {},
   "source": [
    "Problem 10 : Sort an array of 0’s, 1’s and 2’s [or R’s, G’s and B’s]: Given an array A[] consisting of 0’s, 1’s and\n",
    "2’s, give an algorithm for sorting A[].The algorithm should put all 0’s first, then all 1’s and finally all 2’s at the\n",
    "end. Example Input = {0,1,1,0,1,2,1,2,0,0,0,1}, Output = {0,0,0,0,0,1,1,1,1,1,2,2}\n"
   ]
  },
  {
   "cell_type": "code",
   "execution_count": 5,
   "id": "974000eb-74b7-4208-8282-51d18a3eef05",
   "metadata": {},
   "outputs": [
    {
     "name": "stdout",
     "output_type": "stream",
     "text": [
      "[0, 0, 0, 0, 1, 1, 1, 1, 1, 0, 2, 2]\n"
     ]
    }
   ],
   "source": [
    "def sorting(arr):\n",
    "    for i in range(len(arr)):\n",
    "        min = i\n",
    "        for j in range(i+1, len(arr)):\n",
    "            if arr[j] < arr[min]:\n",
    "                min = j\n",
    "            arr[i], arr[min] = arr[min], arr[i]\n",
    "\n",
    "arr = [0,1,1,0,1,2,1,2,0,0,0,1]\n",
    "sorting(arr)\n",
    "print(arr)"
   ]
  },
  {
   "cell_type": "code",
   "execution_count": null,
   "id": "53daf215-36a7-4f51-bd1c-946bfa6ad710",
   "metadata": {},
   "outputs": [],
   "source": []
  }
 ],
 "metadata": {
  "kernelspec": {
   "display_name": "Python 3 (ipykernel)",
   "language": "python",
   "name": "python3"
  },
  "language_info": {
   "codemirror_mode": {
    "name": "ipython",
    "version": 3
   },
   "file_extension": ".py",
   "mimetype": "text/x-python",
   "name": "python",
   "nbconvert_exporter": "python",
   "pygments_lexer": "ipython3",
   "version": "3.9.18"
  }
 },
 "nbformat": 4,
 "nbformat_minor": 5
}
