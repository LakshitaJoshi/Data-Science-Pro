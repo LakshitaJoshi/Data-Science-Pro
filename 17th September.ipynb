{
 "cells": [
  {
   "cell_type": "markdown",
   "id": "3ecc18cf",
   "metadata": {},
   "source": [
    "# For Loop"
   ]
  },
  {
   "cell_type": "markdown",
   "id": "064c4563",
   "metadata": {},
   "source": [
    "### 1. Write a Python program to print numbers from 1 to 10 using a for loop.\n"
   ]
  },
  {
   "cell_type": "code",
   "execution_count": 2,
   "id": "76917e19",
   "metadata": {},
   "outputs": [
    {
     "name": "stdout",
     "output_type": "stream",
     "text": [
      "1\n",
      "2\n",
      "3\n",
      "4\n",
      "5\n",
      "6\n",
      "7\n",
      "8\n",
      "9\n",
      "10\n"
     ]
    }
   ],
   "source": [
    "for i in range(1, 11):\n",
    "    print(i)"
   ]
  },
  {
   "cell_type": "markdown",
   "id": "a9aaff7b",
   "metadata": {},
   "source": [
    "### 2. Explain the difference between a for loop and a while loop in Python.\n"
   ]
  },
  {
   "cell_type": "markdown",
   "id": "e7cba542",
   "metadata": {},
   "source": [
    "- For loop is used to iterate over a sequence of items. \n",
    "- While loop is used to repeatedly execute a block of statements while a condition is true."
   ]
  },
  {
   "cell_type": "markdown",
   "id": "1d504e73",
   "metadata": {},
   "source": [
    "### 3. Write a Python program to calculate the sum of all numbers from 1 to 100 using a for loop.\n"
   ]
  },
  {
   "cell_type": "code",
   "execution_count": 3,
   "id": "0bc8f81a",
   "metadata": {},
   "outputs": [
    {
     "name": "stdout",
     "output_type": "stream",
     "text": [
      "5050\n"
     ]
    }
   ],
   "source": [
    "sum = 0\n",
    "for i in range(1, 101):\n",
    "    sum += i\n",
    "    \n",
    "print(sum)"
   ]
  },
  {
   "cell_type": "markdown",
   "id": "13ccb816",
   "metadata": {},
   "source": [
    "### 4. How do you iterate through a list using a for loop in Python?\n"
   ]
  },
  {
   "cell_type": "code",
   "execution_count": 6,
   "id": "361a0977",
   "metadata": {},
   "outputs": [
    {
     "name": "stdout",
     "output_type": "stream",
     "text": [
      "1\n",
      "2\n",
      "3\n",
      "4\n",
      "5\n"
     ]
    }
   ],
   "source": [
    "l = [1, 2, 3, 4, 5]\n",
    "\n",
    "for i in range(1, len(l) + 1):\n",
    "    print(i)"
   ]
  },
  {
   "cell_type": "markdown",
   "id": "55d2d83b",
   "metadata": {},
   "source": [
    "### 5. Write a Python program to find the product of all elements in a list using a for loop.\n"
   ]
  },
  {
   "cell_type": "code",
   "execution_count": 5,
   "id": "03fb0a80",
   "metadata": {},
   "outputs": [
    {
     "name": "stdout",
     "output_type": "stream",
     "text": [
      "120\n"
     ]
    }
   ],
   "source": [
    "l = [1, 2, 3, 4, 5]\n",
    "\n",
    "product = 1\n",
    "\n",
    "for i in range(1, len(l)+1):\n",
    "    product *= i\n",
    "    \n",
    "print(product)"
   ]
  },
  {
   "cell_type": "markdown",
   "id": "eb3bc5bd",
   "metadata": {},
   "source": [
    "### 6. Create a Python program that prints all even numbers from 1 to 20 using a for loop.\n"
   ]
  },
  {
   "cell_type": "code",
   "execution_count": 7,
   "id": "43e5eeeb",
   "metadata": {},
   "outputs": [
    {
     "name": "stdout",
     "output_type": "stream",
     "text": [
      "2\n",
      "4\n",
      "6\n",
      "8\n",
      "10\n",
      "12\n",
      "14\n",
      "16\n",
      "18\n",
      "20\n"
     ]
    }
   ],
   "source": [
    "for i in range(1,21):\n",
    "    if i%2 == 0:\n",
    "        print(i)"
   ]
  },
  {
   "cell_type": "markdown",
   "id": "2d02d281",
   "metadata": {},
   "source": [
    "### 7. Write a Python program that calculates the factorial of a number using a for loop.\n"
   ]
  },
  {
   "cell_type": "code",
   "execution_count": 9,
   "id": "e2b5660f",
   "metadata": {},
   "outputs": [
    {
     "name": "stdout",
     "output_type": "stream",
     "text": [
      "6\n",
      "720\n"
     ]
    }
   ],
   "source": [
    "n = int(input())\n",
    "fact = 1\n",
    "\n",
    "for i in range(1, n+1):\n",
    "    fact *= i\n",
    "    \n",
    "print(fact)"
   ]
  },
  {
   "cell_type": "markdown",
   "id": "f343c899",
   "metadata": {},
   "source": [
    "### 8. How can you iterate through the characters of a string using a for loop in Python?\n"
   ]
  },
  {
   "cell_type": "code",
   "execution_count": 2,
   "id": "727c06e9",
   "metadata": {},
   "outputs": [
    {
     "name": "stdout",
     "output_type": "stream",
     "text": [
      "h\n",
      "e\n",
      "l\n",
      "l\n",
      "o\n",
      " \n",
      "a\n",
      "l\n",
      "l\n",
      "!\n",
      "!\n",
      "!\n"
     ]
    }
   ],
   "source": [
    "s = \"hello all!!!\"\n",
    "for i in s:\n",
    "    print(i)"
   ]
  },
  {
   "cell_type": "markdown",
   "id": "47431425",
   "metadata": {},
   "source": [
    "### 9. Write a Python program to find the largest number in a list using a for loop.\n"
   ]
  },
  {
   "cell_type": "code",
   "execution_count": 6,
   "id": "fa5d6321",
   "metadata": {},
   "outputs": [
    {
     "name": "stdout",
     "output_type": "stream",
     "text": [
      "87\n"
     ]
    }
   ],
   "source": [
    "l = [54,67,57,51,87,16,79,15]\n",
    "max = l[0]\n",
    "\n",
    "for num in l:    \n",
    "    if num > max:\n",
    "        max = num        \n",
    "        \n",
    "print(max)"
   ]
  },
  {
   "cell_type": "markdown",
   "id": "98bcaf86",
   "metadata": {},
   "source": [
    "### 10. Create a Python program that prints the Fibonacci sequence up to a specified limit using a for loop.\n"
   ]
  },
  {
   "cell_type": "code",
   "execution_count": 12,
   "id": "1cece075",
   "metadata": {},
   "outputs": [
    {
     "name": "stdout",
     "output_type": "stream",
     "text": [
      "Enter limit : 7\n",
      "1\n",
      "1\n",
      "2\n",
      "3\n",
      "5\n",
      "8\n",
      "13\n"
     ]
    }
   ],
   "source": [
    "limit = int(input('Enter limit : '))\n",
    "\n",
    "a = 1\n",
    "b = 1\n",
    "print(a)\n",
    "print(b)\n",
    "\n",
    "for i in range(2,limit):\n",
    "    c = a+b\n",
    "    print(c)\n",
    "    a = b\n",
    "    b = c"
   ]
  },
  {
   "cell_type": "markdown",
   "id": "0377dbd0",
   "metadata": {},
   "source": [
    "### 11. Write a Python program to count the number of vowels in a given string using a for loop.\n"
   ]
  },
  {
   "cell_type": "code",
   "execution_count": 13,
   "id": "d97edb99",
   "metadata": {},
   "outputs": [
    {
     "name": "stdout",
     "output_type": "stream",
     "text": [
      "7\n"
     ]
    }
   ],
   "source": [
    "s = 'abbacuisdoee'\n",
    "vowel  = 'aeiouAEIOU'\n",
    "\n",
    "count = 0\n",
    "\n",
    "for i in s:\n",
    "    if i in vowel:\n",
    "        count += 1\n",
    "        \n",
    "print(count)"
   ]
  },
  {
   "cell_type": "markdown",
   "id": "6484d29e",
   "metadata": {},
   "source": [
    "### 12. Create a Python program that generates a multiplication table for a given number using a for loop.\n"
   ]
  },
  {
   "cell_type": "code",
   "execution_count": 17,
   "id": "044efd49",
   "metadata": {},
   "outputs": [
    {
     "name": "stdout",
     "output_type": "stream",
     "text": [
      "Enter +ve integer : 19\n",
      "19 * 1 = 19\n",
      "19 * 2 = 38\n",
      "19 * 3 = 57\n",
      "19 * 4 = 76\n",
      "19 * 5 = 95\n",
      "19 * 6 = 114\n",
      "19 * 7 = 133\n",
      "19 * 8 = 152\n",
      "19 * 9 = 171\n",
      "19 * 10 = 190\n"
     ]
    }
   ],
   "source": [
    "n = int(input('Enter +ve integer : '))\n",
    "\n",
    "for i in range(1,11):\n",
    "    print(f'{n} * {i} = {n*i}')"
   ]
  },
  {
   "cell_type": "markdown",
   "id": "cd5bda57",
   "metadata": {},
   "source": [
    "### 13. Write a Python program to reverse a list using a for loop.\n"
   ]
  },
  {
   "cell_type": "code",
   "execution_count": 19,
   "id": "7a30500d",
   "metadata": {},
   "outputs": [
    {
     "name": "stdout",
     "output_type": "stream",
     "text": [
      "Enter a string : abcde\n",
      "edcba\n"
     ]
    }
   ],
   "source": [
    "s = input('Enter a string : ')\n",
    "r = ''\n",
    "for i in s:\n",
    "    r = i + r\n",
    "    \n",
    "print(r)"
   ]
  },
  {
   "cell_type": "markdown",
   "id": "b876dcaa",
   "metadata": {},
   "source": [
    "### 14. Write a Python program to find the common elements between two lists using a for loop.\n"
   ]
  },
  {
   "cell_type": "code",
   "execution_count": 20,
   "id": "7701d9df",
   "metadata": {},
   "outputs": [
    {
     "name": "stdout",
     "output_type": "stream",
     "text": [
      "[1, 78]\n"
     ]
    }
   ],
   "source": [
    "l1  = [44,5,4,0,64,1,8,78,165,96,51,]\n",
    "l2 = [1, 78, 13, 80, 95, 100]\n",
    "l = []\n",
    "\n",
    "for i in l1:\n",
    "    if i in l2:\n",
    "        l.append(i)\n",
    "        \n",
    "print(l)"
   ]
  },
  {
   "cell_type": "markdown",
   "id": "24e19ebc",
   "metadata": {},
   "source": [
    "### 15. Explain how to use a for loop to iterate through the keys and values of a dictionary in Python.\n"
   ]
  },
  {
   "cell_type": "code",
   "execution_count": 21,
   "id": "a5f43627",
   "metadata": {},
   "outputs": [
    {
     "name": "stdout",
     "output_type": "stream",
     "text": [
      "Key = name Value = Sasuke Uchiha\n",
      "Key = job Value = Shinobi\n"
     ]
    }
   ],
   "source": [
    "d = {'name' : 'Sasuke Uchiha', 'job' : 'Shinobi'}\n",
    "\n",
    "for key, value in d.items():\n",
    "    print(f'Key = {key} Value = {value}')"
   ]
  },
  {
   "cell_type": "markdown",
   "id": "6ddeda06",
   "metadata": {},
   "source": [
    "### 16. Write a Python program to find the GCD (Greatest Common Divisor) of two numbers using a for loop.\n"
   ]
  },
  {
   "cell_type": "code",
   "execution_count": 24,
   "id": "9452c154",
   "metadata": {},
   "outputs": [
    {
     "name": "stdout",
     "output_type": "stream",
     "text": [
      "78\n",
      "192\n",
      "GCD of 78, 192 = 6\n"
     ]
    }
   ],
   "source": [
    "a = int(input())\n",
    "b = int(input())\n",
    "gcd = 1\n",
    "\n",
    "for i in range(1, min(a,b)):\n",
    "    if a % i == 0 and b % i == 0:\n",
    "        gcd = i\n",
    "        \n",
    "print(f'GCD of {a}, {b} = {gcd}')"
   ]
  },
  {
   "cell_type": "markdown",
   "id": "4e6b38d8",
   "metadata": {},
   "source": [
    "### 17. Create a Python program that checks if a string is a palindrome using a for loop.\n"
   ]
  },
  {
   "cell_type": "code",
   "execution_count": 33,
   "id": "8a80b088",
   "metadata": {},
   "outputs": [
    {
     "name": "stdout",
     "output_type": "stream",
     "text": [
      "abbaBBA\n",
      "abbabba is a palindrome\n"
     ]
    }
   ],
   "source": [
    "s = input()\n",
    "s = s.replace(' ', '').lower()\n",
    "\n",
    "l = 0\n",
    "r = len(s) - 1\n",
    "    \n",
    "for _ in range(len(s)//2):\n",
    "    if s[l] != s[r]:\n",
    "        print(f'{s} is not a palindrome')\n",
    "    else:\n",
    "        l += 1\n",
    "        r -= 1\n",
    "    \n",
    "print(f'{s} is a palindrome')"
   ]
  },
  {
   "cell_type": "markdown",
   "id": "7209f8a5",
   "metadata": {},
   "source": [
    "### 18. Write a Python program to remove duplicates from a list using a for loop.\n"
   ]
  },
  {
   "cell_type": "code",
   "execution_count": 34,
   "id": "bfa32695",
   "metadata": {},
   "outputs": [
    {
     "name": "stdout",
     "output_type": "stream",
     "text": [
      "[1, 2, 3, 4, 5, 7, 8, 9]\n"
     ]
    }
   ],
   "source": [
    "l = [1,2,3,4,5,3,2,7,8,9]\n",
    "\n",
    "unique_lst = []\n",
    "\n",
    "for i in l:\n",
    "    if i not in unique_lst:\n",
    "        unique_lst.append(i)\n",
    "        \n",
    "print(unique_lst)"
   ]
  },
  {
   "cell_type": "markdown",
   "id": "93ecd228",
   "metadata": {},
   "source": [
    "### 19. Create a Python program that counts the number of words in a sentence using a for loop.\n"
   ]
  },
  {
   "cell_type": "code",
   "execution_count": 37,
   "id": "b7cc61f3",
   "metadata": {},
   "outputs": [
    {
     "name": "stdout",
     "output_type": "stream",
     "text": [
      "hey, how are you?\n",
      "4\n"
     ]
    }
   ],
   "source": [
    "sen = input()\n",
    "count = 0\n",
    "\n",
    "for i in sen:\n",
    "    if i == ' ' or i== sen[-1]:\n",
    "        count += 1 \n",
    "        \n",
    "print(count)"
   ]
  },
  {
   "cell_type": "markdown",
   "id": "224c4f9c",
   "metadata": {},
   "source": [
    "### 20. Write a Python program to find the sum of all odd numbers from 1 to 50 using a for loop.\n"
   ]
  },
  {
   "cell_type": "code",
   "execution_count": 38,
   "id": "ce227039",
   "metadata": {},
   "outputs": [
    {
     "name": "stdout",
     "output_type": "stream",
     "text": [
      "625\n"
     ]
    }
   ],
   "source": [
    "sum = 0\n",
    "\n",
    "for i in range(1,50):\n",
    "    if i % 2 == 1:\n",
    "        sum += i\n",
    "        \n",
    "print(sum)"
   ]
  },
  {
   "cell_type": "markdown",
   "id": "2013a6b9",
   "metadata": {},
   "source": [
    "### 21. Write a Python program that checks if a given year is a leap year using a for loop.\n"
   ]
  },
  {
   "cell_type": "code",
   "execution_count": 47,
   "id": "d7217aea",
   "metadata": {},
   "outputs": [
    {
     "name": "stdout",
     "output_type": "stream",
     "text": [
      "2020\n",
      "2020 is a leap year\n"
     ]
    }
   ],
   "source": [
    "year = int(input())\n",
    "\n",
    "is_leap_year = False\n",
    "\n",
    "for _ in range(1):\n",
    "    if (year % 4 == 0 and year % 100 != 0) or (year % 400 == 0):\n",
    "        print(f'{year} is a leap year')\n",
    "    else:\n",
    "        print(f'{year} is not a leap year')\n",
    "        "
   ]
  },
  {
   "cell_type": "markdown",
   "id": "a8bc7725",
   "metadata": {},
   "source": [
    "### 22. Create a Python program that calculates the square root of a number using a for loop.\n"
   ]
  },
  {
   "cell_type": "code",
   "execution_count": 53,
   "id": "bd51b894",
   "metadata": {},
   "outputs": [
    {
     "name": "stdout",
     "output_type": "stream",
     "text": [
      "Enter a number: 99858\n",
      "The square root of 99858.0 is approximately 316.0031645411166\n"
     ]
    }
   ],
   "source": [
    "number = float(input(\"Enter a number: \"))\n",
    "\n",
    "root = number / 2.0\n",
    "\n",
    "iterations = 20  \n",
    "\n",
    "for _ in range(iterations):\n",
    "    root = 0.5 * (root + number / root)\n",
    "\n",
    "print(f\"The square root of {number} is approximately {root}\")"
   ]
  },
  {
   "cell_type": "markdown",
   "id": "a78664a7",
   "metadata": {},
   "source": [
    "### 23. Write a Python program to find the LCM (Least Common Multiple) of two numbers using a for loop.\n"
   ]
  },
  {
   "cell_type": "code",
   "execution_count": 54,
   "id": "47423ea9",
   "metadata": {},
   "outputs": [
    {
     "name": "stdout",
     "output_type": "stream",
     "text": [
      "Enter the first number: 5\n",
      "Enter the second number: 3\n",
      "The LCM of 5 and 3 is 15\n"
     ]
    }
   ],
   "source": [
    "num1 = int(input(\"Enter the first number: \"))\n",
    "num2 = int(input(\"Enter the second number: \"))\n",
    "\n",
    "if num1 > num2:\n",
    "    larger_num = num1\n",
    "    smaller_num = num2\n",
    "else:\n",
    "    larger_num = num2\n",
    "    smaller_num = num1\n",
    "\n",
    "lcm = larger_num\n",
    "\n",
    "for i in range(larger_num, (num1 * num2) + 1, larger_num):\n",
    "    if i % smaller_num == 0:\n",
    "        lcm = i\n",
    "        break\n",
    "\n",
    "print(f\"The LCM of {num1} and {num2} is {lcm}\")\n"
   ]
  },
  {
   "cell_type": "markdown",
   "id": "d23495b8",
   "metadata": {},
   "source": [
    "# If Else"
   ]
  },
  {
   "cell_type": "markdown",
   "id": "484cfbd5",
   "metadata": {},
   "source": [
    "### 1. Write a Python program to check if a number is positive, negative, or zero using an if-else statement.\n"
   ]
  },
  {
   "cell_type": "code",
   "execution_count": 2,
   "id": "d5512777",
   "metadata": {},
   "outputs": [
    {
     "name": "stdout",
     "output_type": "stream",
     "text": [
      "Enter the number : -5\n",
      "-5 is negative\n"
     ]
    }
   ],
   "source": [
    "n = int(input('Enter the number : '))\n",
    "\n",
    "if n > 0:\n",
    "    print(n, 'is positive')\n",
    "    \n",
    "elif n < 0:\n",
    "    print(n, 'is negative')\n",
    "    \n",
    "else:\n",
    "    print(n, 'is zero')"
   ]
  },
  {
   "cell_type": "markdown",
   "id": "dacfc316",
   "metadata": {},
   "source": [
    "### 2. Create a Python program that checks if a given number is even or odd using an if-else statement.\n"
   ]
  },
  {
   "cell_type": "code",
   "execution_count": 4,
   "id": "2e1aa440",
   "metadata": {},
   "outputs": [
    {
     "name": "stdout",
     "output_type": "stream",
     "text": [
      "Enter the number : 5\n",
      "5 is odd\n"
     ]
    }
   ],
   "source": [
    "n = int(input('Enter the number : '))\n",
    "\n",
    "if n%2 == 0:\n",
    "    print(n, 'is even')\n",
    "    \n",
    "else:\n",
    "    print(n, 'is odd')"
   ]
  },
  {
   "cell_type": "markdown",
   "id": "efd6ab06",
   "metadata": {},
   "source": [
    "### 3. How can you use nested if-else statements in Python, and provide an example?\n"
   ]
  },
  {
   "cell_type": "code",
   "execution_count": 21,
   "id": "20b4c80f",
   "metadata": {},
   "outputs": [
    {
     "name": "stdout",
     "output_type": "stream",
     "text": [
      "Enter the 1st number : 3\n",
      "Enter the 2nd number : 5\n",
      "Enter the 3rd number : 1\n",
      "5 is the largest\n"
     ]
    }
   ],
   "source": [
    "a = int(input('Enter the 1st number : '))\n",
    "b = int(input('Enter the 2nd number : '))\n",
    "c = int(input('Enter the 3rd number : '))\n",
    "\n",
    "if a > b and a > c:\n",
    "    print(a, 'is the largest')\n",
    "    \n",
    "else:\n",
    "    if b > a and b > c:\n",
    "        print(b, 'is the largest')\n",
    "    else:\n",
    "        if c > a:\n",
    "            print(c, 'is the largest')\n",
    "        else:\n",
    "            print(a,b,c, 'are equal')"
   ]
  },
  {
   "cell_type": "markdown",
   "id": "5862aaf6",
   "metadata": {},
   "source": [
    "\n",
    "### 4. Write a Python program to determine the largest of three numbers using if-else.\n"
   ]
  },
  {
   "cell_type": "code",
   "execution_count": 22,
   "id": "e2b0fb84",
   "metadata": {},
   "outputs": [
    {
     "name": "stdout",
     "output_type": "stream",
     "text": [
      "Enter the 1st number : 8\n",
      "Enter the 2nd number : 75\n",
      "Enter the 3rd number : 66\n",
      "75 is the largest\n"
     ]
    }
   ],
   "source": [
    "a = int(input('Enter the 1st number : '))\n",
    "b = int(input('Enter the 2nd number : '))\n",
    "c = int(input('Enter the 3rd number : '))\n",
    "\n",
    "if a > b and a > c:\n",
    "    print(a, 'is the largest')\n",
    "    \n",
    "elif b > a and b > c:\n",
    "    print(b, 'is the largest')\n",
    "\n",
    "elif c > a:\n",
    "    print(c, 'is the largest')\n",
    "else:\n",
    "    print(a,b,c, 'are equal')"
   ]
  },
  {
   "cell_type": "markdown",
   "id": "4a119529",
   "metadata": {},
   "source": [
    "### 5. Write a Python program that calculates the absolute value of a number using if-else.\n"
   ]
  },
  {
   "cell_type": "code",
   "execution_count": 23,
   "id": "f9a6a477",
   "metadata": {},
   "outputs": [
    {
     "name": "stdout",
     "output_type": "stream",
     "text": [
      "Enter  a number : -5\n",
      "absolute value =  5\n"
     ]
    }
   ],
   "source": [
    "n = int(input('Enter  a number : '))\n",
    "\n",
    "if n > 0:\n",
    "    print('absolute value = ', n)\n",
    "    \n",
    "else:\n",
    "    print('absolute value = ', -n)"
   ]
  },
  {
   "cell_type": "markdown",
   "id": "4041c691",
   "metadata": {},
   "source": [
    "### 6. Create a Python program that checks if a given character is a vowel or consonant using ifelse.\n"
   ]
  },
  {
   "cell_type": "code",
   "execution_count": 25,
   "id": "bd5ad7e9",
   "metadata": {},
   "outputs": [
    {
     "name": "stdout",
     "output_type": "stream",
     "text": [
      "Enter an alphabet : f\n",
      "f is a consonant\n"
     ]
    }
   ],
   "source": [
    "c = input('Enter an alphabet : ')\n",
    "vowel = 'aeiouAEIOU'\n",
    "\n",
    "if c in vowel:\n",
    "    print(c, 'is a vowel')\n",
    "    \n",
    "else:\n",
    "    print(c, 'is a consonant')"
   ]
  },
  {
   "cell_type": "code",
   "execution_count": 26,
   "id": "2202ce29",
   "metadata": {},
   "outputs": [
    {
     "name": "stdout",
     "output_type": "stream",
     "text": [
      "Enter an alphabet : a\n",
      "a is a vowel\n"
     ]
    }
   ],
   "source": [
    "c = input('Enter an alphabet : ')\n",
    "vowel = 'aeiouAEIOU'\n",
    "\n",
    "if c in vowel:\n",
    "    print(c, 'is a vowel')\n",
    "    \n",
    "else:\n",
    "    print(c, 'is a consonant')"
   ]
  },
  {
   "cell_type": "markdown",
   "id": "783c4835",
   "metadata": {},
   "source": [
    "### 7. Write a Python program to determine if a user is eligible to vote based on their age using ifelse.\n"
   ]
  },
  {
   "cell_type": "code",
   "execution_count": 27,
   "id": "63e1234d",
   "metadata": {},
   "outputs": [
    {
     "name": "stdout",
     "output_type": "stream",
     "text": [
      "Enter an age : 54\n",
      "Person is eligible to vote\n"
     ]
    }
   ],
   "source": [
    "age = int(input('Enter an age : '))\n",
    "\n",
    "if age >= 18:\n",
    "    print('Person is eligible to vote')\n",
    "    \n",
    "else:\n",
    "    print('Person is not eligible to vote')"
   ]
  },
  {
   "cell_type": "markdown",
   "id": "680eace0",
   "metadata": {},
   "source": [
    "### 8. Create a Python program that calculates the discount amount based on the purchase amount using if-else.\n"
   ]
  },
  {
   "cell_type": "code",
   "execution_count": 29,
   "id": "1b33f20f",
   "metadata": {},
   "outputs": [
    {
     "name": "stdout",
     "output_type": "stream",
     "text": [
      "Enter the amount : 8580\n",
      "Discounted price =  6864.0\n"
     ]
    }
   ],
   "source": [
    "amount = int(input('Enter the amount : ')) \n",
    "\n",
    "if amount >= 5000:\n",
    "    discount_rate = .2\n",
    "    print('Discounted price = ', amount - (amount * discount_rate))\n",
    "    \n",
    "elif amount >= 3000:\n",
    "    discount_rate = .15\n",
    "    print('Discounted price = ', amount - (amount * discount_rate))\n",
    "\n",
    "    \n",
    "elif amount >= 1000:\n",
    "    discount_rate = .05\n",
    "    print('Discounted price = ', amount - (amount * discount_rate))\n",
    "\n",
    "else:\n",
    "        print('No discount for price below Rs. 1000')"
   ]
  },
  {
   "cell_type": "markdown",
   "id": "df43b818",
   "metadata": {},
   "source": [
    "### 9. Write a Python program to check if a number is within a specified range using if-else.\n"
   ]
  },
  {
   "cell_type": "code",
   "execution_count": 30,
   "id": "59f5c061",
   "metadata": {},
   "outputs": [
    {
     "name": "stdout",
     "output_type": "stream",
     "text": [
      "Enter  a number : 2000\n",
      "2000 is in the range of 1000 - 5000\n"
     ]
    }
   ],
   "source": [
    "n = int(input('Enter  a number : '))\n",
    "\n",
    "if n > 1000 and n < 5000:\n",
    "    print(n, 'is in the range of 1000 - 5000')\n",
    "    \n",
    "else:\n",
    "    print(n, 'is not in the range of 1000 - 5000')"
   ]
  },
  {
   "cell_type": "markdown",
   "id": "da7bb5ea",
   "metadata": {},
   "source": [
    "### 10. Create a Python program that determines the grade of a student based on their score using if-else.\n"
   ]
  },
  {
   "cell_type": "code",
   "execution_count": 31,
   "id": "733d8f07",
   "metadata": {},
   "outputs": [
    {
     "name": "stdout",
     "output_type": "stream",
     "text": [
      "Enter score : 88\n",
      "Gade : 'A'\n"
     ]
    }
   ],
   "source": [
    "S = int(input(\"Enter score : \"))\n",
    "\n",
    "if S > 100:\n",
    "    print('Invalid')\n",
    "elif S > 90:\n",
    "    print(\"Gade : 'O'\")\n",
    "elif S > 75:\n",
    "    print(\"Gade : 'A'\")\n",
    "elif S > 60:\n",
    "    print(\"Gade : 'B'\")\n",
    "elif S > 50:\n",
    "    print(\"Gade : 'C'\")\n",
    "elif S >=45:\n",
    "    print(\"Gade : 'D'\")\n",
    "else:\n",
    "    print('Fail')"
   ]
  },
  {
   "cell_type": "markdown",
   "id": "9abf1196",
   "metadata": {},
   "source": [
    "### 11. Write a Python program to check if a string is empty or not using if-else.\n"
   ]
  },
  {
   "cell_type": "code",
   "execution_count": 55,
   "id": "ea115f87",
   "metadata": {},
   "outputs": [
    {
     "name": "stdout",
     "output_type": "stream",
     "text": [
      "Enter a string: \n",
      "The string is empty.\n"
     ]
    }
   ],
   "source": [
    "user_input = input(\"Enter a string: \")\n",
    "\n",
    "# Check if the string is empty\n",
    "if len(user_input) == 0:\n",
    "    print(\"The string is empty.\")\n",
    "else:\n",
    "    print(\"The string is not empty.\")\n"
   ]
  },
  {
   "cell_type": "markdown",
   "id": "27652c01",
   "metadata": {},
   "source": [
    "### 12. Create a Python program that identifies the type of a triangle (e.g., equilateral, isosceles, or scalene) based on input values using if-else.\n"
   ]
  },
  {
   "cell_type": "code",
   "execution_count": 35,
   "id": "6a8a448e",
   "metadata": {},
   "outputs": [
    {
     "name": "stdout",
     "output_type": "stream",
     "text": [
      "Enter side 'A' : 45\n",
      "Enter side 'B' : 45\n",
      "Enter side 'C' : 60\n",
      "Isosceles Triangle\n"
     ]
    }
   ],
   "source": [
    "A = int(input(\"Enter side 'A' : \"))\n",
    "B = int(input(\"Enter side 'B' : \"))\n",
    "C = int(input(\"Enter side 'C' : \"))\n",
    "\n",
    "if A + B > C  and C + A > B  and B + C > A:\n",
    "    if A == B and A == C:\n",
    "        print('Equilateral Triangle')\n",
    "    else:\n",
    "        if A != B or A != C or B != C:\n",
    "            print('Isosceles Triangle')\n",
    "        else:\n",
    "            print('Scalene Triangle')\n",
    "            \n",
    "else:\n",
    "    print('Triangle does not exist')"
   ]
  },
  {
   "cell_type": "code",
   "execution_count": 36,
   "id": "75935137",
   "metadata": {},
   "outputs": [
    {
     "name": "stdout",
     "output_type": "stream",
     "text": [
      "Enter side 'A' : 40\n",
      "Enter side 'B' : 40\n",
      "Enter side 'C' : 100\n",
      "Triangle does not exist\n"
     ]
    }
   ],
   "source": [
    "A = int(input(\"Enter side 'A' : \"))\n",
    "B = int(input(\"Enter side 'B' : \"))\n",
    "C = int(input(\"Enter side 'C' : \"))\n",
    "\n",
    "if A + B > C  and C + A > B  and B + C > A:\n",
    "    if A == B and A == C:\n",
    "        print('Equilateral Triangle')\n",
    "    else:\n",
    "        if A != B or A != C or B != C:\n",
    "            print('Isosceles Triangle')\n",
    "        else:\n",
    "            print('Scalene Triangle')\n",
    "            \n",
    "else:\n",
    "    print('Triangle does not exist')"
   ]
  },
  {
   "cell_type": "markdown",
   "id": "1afd3a99",
   "metadata": {},
   "source": [
    "### 13. Write a Python program to determine the day of the week based on a user-provided number using if-else.\n"
   ]
  },
  {
   "cell_type": "code",
   "execution_count": null,
   "id": "1097ef1e",
   "metadata": {},
   "outputs": [],
   "source": [
    "day = input('Day = ')\n",
    "day.lower()\n",
    "\n",
    "if day == 'Monday':\n",
    "    print('1st day of the week')\n",
    "else:\n",
    "    if day == 'Tuesday':\n",
    "        print('2nd day of the week')\n",
    "    if day == 'Wednesday':\n",
    "        print('3th day of the week')\n",
    "    if day == 'Thursday':\n",
    "        print('4th day of the week')\n",
    "    if day == 'Friday':\n",
    "        print('5th day of the week')\n",
    "    if day == 'Saturday':\n",
    "        print('6th day of the week')\n",
    "    if day == 'Sunday':\n",
    "        print('7th day of the week')"
   ]
  },
  {
   "cell_type": "markdown",
   "id": "f0a76efd",
   "metadata": {},
   "source": [
    "### 14. Create a Python program that checks if a given year is a leap year using both if-else and a function.\n"
   ]
  },
  {
   "cell_type": "code",
   "execution_count": 39,
   "id": "b29587ea",
   "metadata": {},
   "outputs": [
    {
     "name": "stdout",
     "output_type": "stream",
     "text": [
      "Enter a year : 1987\n",
      "It is not a leap year\n"
     ]
    }
   ],
   "source": [
    "# using if else\n",
    "\n",
    "y = int(input('Enter a year : '))\n",
    "\n",
    "if((y % 400 == 0) or\n",
    "     (y % 100 != 0) and\n",
    "     (y % 4 == 0)):\n",
    "    print('It is a leap year')\n",
    "else:\n",
    "    print('It is not a leap year')"
   ]
  },
  {
   "cell_type": "code",
   "execution_count": 41,
   "id": "f4604372",
   "metadata": {},
   "outputs": [
    {
     "name": "stdout",
     "output_type": "stream",
     "text": [
      "Enter a year : 2020\n",
      "It is a leap year\n"
     ]
    }
   ],
   "source": [
    "# using function\n",
    "\n",
    "y = int(input('Enter a year : '))\n",
    "\n",
    "def leap(year):\n",
    "    if((y % 400 == 0) or\n",
    "     (y % 100 != 0) and\n",
    "     (y % 4 == 0)):\n",
    "        print('It is a leap year')\n",
    "    else:\n",
    "        print('It is not a leap year')    \n",
    "    \n",
    "leap(y)"
   ]
  },
  {
   "cell_type": "markdown",
   "id": "11210737",
   "metadata": {},
   "source": [
    "### 15. How do you use the \"assert\" statement in Python to add debugging checks within if-else blocks?\n"
   ]
  },
  {
   "cell_type": "markdown",
   "id": "754e6d86",
   "metadata": {},
   "source": [
    "The assert statement in Python is used for debugging purposes to check if a given condition is True. If the condition is False, it raises an AssertionError exception, indicating that something unexpected has occurred. You can use assert to add debugging checks within if-else blocks to verify that certain conditions are met during the program's execution."
   ]
  },
  {
   "cell_type": "code",
   "execution_count": 56,
   "id": "c2f38c1f",
   "metadata": {},
   "outputs": [
    {
     "name": "stdout",
     "output_type": "stream",
     "text": [
      "AssertionError: Denominator cannot be zero\n"
     ]
    }
   ],
   "source": [
    "def divide(a, b):\n",
    "    # Check if b is not zero before dividing\n",
    "    assert b != 0, \"Division by zero is not allowed\"\n",
    "    \n",
    "    result = a / b\n",
    "    return result\n",
    "\n",
    "try:\n",
    "    numerator = 10\n",
    "    denominator = 0\n",
    "\n",
    "    # Check if the denominator is zero before performing division\n",
    "    assert denominator != 0, \"Denominator cannot be zero\"\n",
    "\n",
    "    quotient = divide(numerator, denominator)\n",
    "    print(f\"The result of the division is: {quotient}\")\n",
    "except AssertionError as e:\n",
    "    print(f\"AssertionError: {e}\")\n",
    "except ZeroDivisionError as e:\n",
    "    print(f\"ZeroDivisionError: {e}\")\n"
   ]
  },
  {
   "cell_type": "markdown",
   "id": "8b6e6af4",
   "metadata": {},
   "source": [
    "### 16. Create a Python program that determines the eligibility of a person for a senior citizen discount based on age using if-else.\n"
   ]
  },
  {
   "cell_type": "code",
   "execution_count": 42,
   "id": "8b344303",
   "metadata": {},
   "outputs": [
    {
     "name": "stdout",
     "output_type": "stream",
     "text": [
      "Enter age : 85\n",
      "70% discount\n"
     ]
    }
   ],
   "source": [
    "age = int(input('Enter age : '))\n",
    "\n",
    "if age >= 80:\n",
    "    print('70% discount')\n",
    "elif age >=65:\n",
    "    print('50% discount')\n",
    "else:\n",
    "    print('No discount')"
   ]
  },
  {
   "cell_type": "markdown",
   "id": "702f218b",
   "metadata": {},
   "source": [
    "### 17. Write a Python program to categorize a given character as uppercase, lowercase, or neither using if-else.\n"
   ]
  },
  {
   "cell_type": "code",
   "execution_count": 43,
   "id": "0ebf6eb6",
   "metadata": {},
   "outputs": [
    {
     "name": "stdout",
     "output_type": "stream",
     "text": [
      "Enter a characterR\n",
      "R  is in Uppercase\n"
     ]
    }
   ],
   "source": [
    "c = input('Enter a character')\n",
    "\n",
    "if c.isupper():\n",
    "    print(c, ' is in Uppercase')\n",
    "elif c.islower():\n",
    "    print(c, ' is in lowercase')\n",
    "else:\n",
    "    print(c, ' is a special character')"
   ]
  },
  {
   "cell_type": "markdown",
   "id": "194bef51",
   "metadata": {},
   "source": [
    "### 18. Write a Python program to determine the roots of a quadratic equation using if-else.\n"
   ]
  },
  {
   "cell_type": "code",
   "execution_count": 44,
   "id": "6d52c4f5",
   "metadata": {},
   "outputs": [
    {
     "name": "stdout",
     "output_type": "stream",
     "text": [
      "a = 1\n",
      "b = 5\n",
      "c = 4\n",
      "Roots =  -1.0  and  -4.0\n"
     ]
    }
   ],
   "source": [
    "a = int(input('a = '))\n",
    "b = int(input('b = '))\n",
    "c = int(input('c = '))\n",
    "\n",
    "d = (b**2) - (4*a*c)\n",
    "\n",
    "if d == 0:\n",
    "    print('Roots = ', (-b+(d)**(1/2))/2*a)\n",
    "else:\n",
    "    if d > 0:\n",
    "        print('Roots = ', (-b+(d)**(1/2))/2*a, ' and ', (-b - (d)**(1/2))/2*a)\n",
    "    else:\n",
    "        print('Roots = ', (-b+(d)**(1/2))/2*a, 'i', ' and ', (-b - (d)**(1/2))/2*a,'i')"
   ]
  },
  {
   "cell_type": "markdown",
   "id": "926600f4",
   "metadata": {},
   "source": [
    "### 19. Create a Python program that checks if a given year is a century year or not using if-else.\n"
   ]
  },
  {
   "cell_type": "code",
   "execution_count": 47,
   "id": "56ab0038",
   "metadata": {},
   "outputs": [
    {
     "name": "stdout",
     "output_type": "stream",
     "text": [
      "Enter a year2000\n",
      "2000 is a century\n"
     ]
    }
   ],
   "source": [
    "year = int(input('Enter a year'))\n",
    "\n",
    "if year%100 == 0:\n",
    "    print(year, 'is a century')\n",
    "else:\n",
    "    print(year, 'is not a century')"
   ]
  },
  {
   "cell_type": "markdown",
   "id": "b9ca8135",
   "metadata": {},
   "source": [
    "### 20. Write a Python program to determine if a given number is a perfect square using if-else.\n"
   ]
  },
  {
   "cell_type": "code",
   "execution_count": 53,
   "id": "cdf2b8a1",
   "metadata": {},
   "outputs": [
    {
     "name": "stdout",
     "output_type": "stream",
     "text": [
      "Enter a year : 5\n",
      "5 is not a perfect square\n"
     ]
    }
   ],
   "source": [
    "n = int(input('Enter a year : '))\n",
    "\n",
    "if n%(n**.5) == 0:\n",
    "    print(n, 'is a perfect square')\n",
    "else:\n",
    "    print(n, 'is not a perfect square')"
   ]
  },
  {
   "cell_type": "code",
   "execution_count": 54,
   "id": "824d8891",
   "metadata": {},
   "outputs": [
    {
     "name": "stdout",
     "output_type": "stream",
     "text": [
      "Enter a year : 4\n",
      "4 is a perfect square\n"
     ]
    }
   ],
   "source": [
    "n = int(input('Enter a year : '))\n",
    "\n",
    "if n%(n**.5) == 0:\n",
    "    print(n, 'is a perfect square')\n",
    "else:\n",
    "    print(n, 'is not a perfect square')"
   ]
  },
  {
   "cell_type": "markdown",
   "id": "d28e9580",
   "metadata": {},
   "source": [
    "### 21. Explain the purpose of the \"continue\" and \"break\" statements within if-else loops.\n"
   ]
  },
  {
   "cell_type": "markdown",
   "id": "22141ce5",
   "metadata": {},
   "source": [
    "- The \"continue\" statement is used to skip the current iteration of a loop and move to the next one, without executing the remaining code within the current iteration.\n",
    "- The \"break\" statement is used to exit a loop prematurely, terminating the entire loop regardless of whether the loop condition or remaining iterations would normally allow it to continue."
   ]
  },
  {
   "cell_type": "code",
   "execution_count": 2,
   "id": "a7ca70fe",
   "metadata": {},
   "outputs": [
    {
     "name": "stdout",
     "output_type": "stream",
     "text": [
      "1\n",
      "2\n",
      "4\n",
      "5\n"
     ]
    }
   ],
   "source": [
    "for i in range(1, 6):\n",
    "    if i == 3:\n",
    "        continue  # Skip iteration 3\n",
    "    print(i)"
   ]
  },
  {
   "cell_type": "code",
   "execution_count": 1,
   "id": "0d7a96a7",
   "metadata": {},
   "outputs": [
    {
     "name": "stdout",
     "output_type": "stream",
     "text": [
      "1\n",
      "2\n",
      "3\n"
     ]
    }
   ],
   "source": [
    "for i in range(1, 6):\n",
    "    if i == 4:\n",
    "        break  # Exit the loop when i is 4\n",
    "    print(i)\n"
   ]
  },
  {
   "cell_type": "markdown",
   "id": "45dd22a5",
   "metadata": {},
   "source": [
    "### 22. Create a Python program that calculates the BMI (Body Mass Index) of a person based on their weight and height using if-else.\n"
   ]
  },
  {
   "cell_type": "code",
   "execution_count": 55,
   "id": "0c7e4cf5",
   "metadata": {},
   "outputs": [
    {
     "name": "stdout",
     "output_type": "stream",
     "text": [
      "weight in kgs : 75\n",
      "height in m : 1.72\n",
      "25.351541373715524  - Overweight\n"
     ]
    }
   ],
   "source": [
    "w = float(input('weight in kgs : '))\n",
    "h = float(input('height in m : '))\n",
    "\n",
    "bmi = w / h**2\n",
    "\n",
    "if bmi < 18.5:\n",
    "    print(bmi, ' - Underweight')\n",
    "elif bmi > 18.5 and bmi < 24.9:\n",
    "    print(bmi, ' - Normal')\n",
    "elif bmi > 25 and bmi < 29.9:\n",
    "    print(bmi, ' - Overweight')\n",
    "else:\n",
    "    print(bmi, ' - Obese')"
   ]
  },
  {
   "cell_type": "markdown",
   "id": "bf91b560",
   "metadata": {},
   "source": [
    "### 23. How can you use the \"filter()\" function with if-else statements to filter elements from a list?\n"
   ]
  },
  {
   "cell_type": "code",
   "execution_count": 3,
   "id": "f39c5b71",
   "metadata": {},
   "outputs": [
    {
     "name": "stdout",
     "output_type": "stream",
     "text": [
      "[2, 4, 6, 8, 10]\n"
     ]
    }
   ],
   "source": [
    "l = [1,2,3,4,5,6,7,8,9,10]\n",
    "\n",
    "def filt(i):\n",
    "    if i % 2 == 0:\n",
    "        return True\n",
    "    else:\n",
    "        return False\n",
    "    \n",
    "filtered_list = list(filter(filt, l))\n",
    "\n",
    "print(filtered_list)"
   ]
  },
  {
   "cell_type": "markdown",
   "id": "52cae30a",
   "metadata": {},
   "source": [
    "### 24. Write a Python program to determine if a given number is prime or not using if-else.\n"
   ]
  },
  {
   "cell_type": "code",
   "execution_count": 4,
   "id": "d5e668b3",
   "metadata": {},
   "outputs": [
    {
     "name": "stdout",
     "output_type": "stream",
     "text": [
      "Enter a number: 17\n",
      "17 is a prime number.\n"
     ]
    }
   ],
   "source": [
    "def is_prime(number):\n",
    "\n",
    "    if number < 2:\n",
    "        return False\n",
    "\n",
    "    for i in range(2, int(number**0.5) + 1):\n",
    "        if number % i == 0:\n",
    "            return False  # Number is divisible by i, not prime\n",
    "    return True  # Number is prime\n",
    "\n",
    "\n",
    "num = int(input(\"Enter a number: \"))\n",
    "\n",
    "if is_prime(num):\n",
    "    print(f\"{num} is a prime number.\")\n",
    "else:\n",
    "    print(f\"{num} is not a prime number.\")\n"
   ]
  },
  {
   "cell_type": "markdown",
   "id": "4d872e97",
   "metadata": {},
   "source": [
    "# Map"
   ]
  },
  {
   "cell_type": "markdown",
   "id": "16a94d2b",
   "metadata": {},
   "source": [
    "### 1. Explain the purpose of the `map()` function in Python and provide an example of how it can be used to apply a function to each element of an iterable.\n"
   ]
  },
  {
   "cell_type": "markdown",
   "id": "4364c51e",
   "metadata": {},
   "source": [
    "The map() function in Python is used to apply a given function to each item in an iterable (e.g., a list, tuple, or other iterable) and return an iterable with the results. It essentially transforms the elements of the original iterable based on the function provided without modifying the original iterable. The main purpose of the map() function is to apply the same operation to each element in a concise and efficient manner."
   ]
  },
  {
   "cell_type": "code",
   "execution_count": 5,
   "id": "5205242c",
   "metadata": {},
   "outputs": [
    {
     "name": "stdout",
     "output_type": "stream",
     "text": [
      "[1, 4, 9, 16, 25]\n"
     ]
    }
   ],
   "source": [
    "def square(x):\n",
    "    return x ** 2\n",
    "\n",
    "numbers = [1, 2, 3, 4, 5]\n",
    "\n",
    "squared_numbers = list(map(square, numbers))\n",
    "\n",
    "print(squared_numbers)"
   ]
  },
  {
   "cell_type": "markdown",
   "id": "ad7b2343",
   "metadata": {},
   "source": [
    "### 2. Write a Python program that uses the `map()` function to square each element of a list of numbers.\n"
   ]
  },
  {
   "cell_type": "code",
   "execution_count": 1,
   "id": "a56ddbfd",
   "metadata": {},
   "outputs": [
    {
     "name": "stdout",
     "output_type": "stream",
     "text": [
      "[1, 4, 9, 16, 25]\n"
     ]
    }
   ],
   "source": [
    "l = [1,2,3,4,5]\n",
    "\n",
    "sq_l = list(map(lambda n: n**2, l))\n",
    "\n",
    "print(sq_l)"
   ]
  },
  {
   "cell_type": "markdown",
   "id": "47f6ac37",
   "metadata": {},
   "source": [
    "### 3. How does the `map()` function differ from a list comprehension in Python, and when would you choose one over the other?\n"
   ]
  },
  {
   "cell_type": "markdown",
   "id": "8dd76755",
   "metadata": {},
   "source": [
    "- map(): The map() function takes two arguments, a function, and an iterable, and returns a map object. You often need to convert this map object to a list or another iterable type to see the results.\n",
    "- List Comprehension: List comprehensions use a more concise and readable syntax to create a new list by applying an expression to each item in an iterable.\n",
    "\n",
    "- Use cases:\n",
    "    - Use map() when:\n",
    "        - You want to apply an existing function (not just an expression) to each item in an iterable.\n",
    "        - You want to avoid creating a new list immediately, as map() returns a map object, which can save memory for large iterables.\n",
    "        - You're working with functional programming concepts and want to leverage them.\n",
    "   - Use list comprehensions when:\n",
    "        - You want a more readable and concise way to create a new list based on an expression applied to each item.\n",
    "        - You're not using an existing function but an inline operation.\n",
    "        - The operation is relatively simple.\n",
    "    "
   ]
  },
  {
   "cell_type": "markdown",
   "id": "bbc5d5dd",
   "metadata": {},
   "source": [
    "### 4. Create a Python program that uses the `map()` function to convert a list of names to uppercase.\n"
   ]
  },
  {
   "cell_type": "code",
   "execution_count": 4,
   "id": "c4541253",
   "metadata": {},
   "outputs": [
    {
     "name": "stdout",
     "output_type": "stream",
     "text": [
      "['LAKSHITA', 'AVANI', 'AMAN']\n"
     ]
    }
   ],
   "source": [
    "l = ['Lakshita', 'Avani', 'Aman']\n",
    "\n",
    "upper_l = list(map(lambda name: name.upper(), l))\n",
    "\n",
    "print(upper_l)"
   ]
  },
  {
   "cell_type": "markdown",
   "id": "c63e3c23",
   "metadata": {},
   "source": [
    "### 5. Write a Python program that uses the `map()` function to calculate the length of each word in a list of strings.\n"
   ]
  },
  {
   "cell_type": "code",
   "execution_count": 5,
   "id": "1892586c",
   "metadata": {},
   "outputs": [
    {
     "name": "stdout",
     "output_type": "stream",
     "text": [
      "[5, 3, 4, 1, 9, 3]\n"
     ]
    }
   ],
   "source": [
    "l = ['hello', 'all', 'have', 'a', 'wonderful', 'day']\n",
    "\n",
    "length_l = list(map(lambda s: len(s), l))\n",
    "\n",
    "print(length_l)"
   ]
  },
  {
   "cell_type": "markdown",
   "id": "e41e8ab8",
   "metadata": {},
   "source": [
    "### 6. How can you use the `map()` function to apply a custom function to elements of multiple lists simultaneously in Python?\n"
   ]
  },
  {
   "cell_type": "code",
   "execution_count": 6,
   "id": "a2d629bc",
   "metadata": {},
   "outputs": [
    {
     "name": "stdout",
     "output_type": "stream",
     "text": [
      "[11, 22, 33, 44, 55]\n"
     ]
    }
   ],
   "source": [
    "def add_lists(x, y):\n",
    "    return x + y\n",
    "\n",
    "list1 = [1, 2, 3, 4, 5]\n",
    "list2 = [10, 20, 30, 40, 50]\n",
    "\n",
    "result = list(map(add_lists, list1, list2))\n",
    "\n",
    "print(result)"
   ]
  },
  {
   "cell_type": "markdown",
   "id": "d359a39c",
   "metadata": {},
   "source": [
    "### 7. Create a Python program that uses `map()` to convert a list of temperatures from Celsius to Fahrenheit.\n"
   ]
  },
  {
   "cell_type": "code",
   "execution_count": 6,
   "id": "88a4dd08",
   "metadata": {},
   "outputs": [
    {
     "name": "stdout",
     "output_type": "stream",
     "text": [
      "[113.0, 356.0, 455.0, 1850.0, 32.0, -112.0, 212.0]\n"
     ]
    }
   ],
   "source": [
    "cel = [45, 180, 235, 1010, 0, -80, 100]\n",
    "\n",
    "fahren = list(map(lambda temp : (temp * 9/5)+32, cel))\n",
    "\n",
    "print(fahren)"
   ]
  },
  {
   "cell_type": "markdown",
   "id": "0463a225",
   "metadata": {},
   "source": [
    "### 8. Write a Python program that uses the `map()` function to round each element of a list of floating-point numbers to the nearest integer.\n"
   ]
  },
  {
   "cell_type": "code",
   "execution_count": 7,
   "id": "73479e56",
   "metadata": {},
   "outputs": [
    {
     "name": "stdout",
     "output_type": "stream",
     "text": [
      "[25, 8, 96, 1, 4, 5]\n"
     ]
    }
   ],
   "source": [
    "l = [25.006, 7.86, 95.73, 1.25, 3.776, 5.49]\n",
    "\n",
    "round_l = list(map(lambda n: round(n), l))\n",
    "\n",
    "print(round_l)"
   ]
  },
  {
   "cell_type": "markdown",
   "id": "0a4a9d46",
   "metadata": {},
   "source": [
    "# Reduce"
   ]
  },
  {
   "cell_type": "markdown",
   "id": "c20606cf",
   "metadata": {},
   "source": [
    "### 1. What is the `reduce()` function in Python, and what module should you import to use it? Provide an example of its basic usage.\n"
   ]
  },
  {
   "cell_type": "markdown",
   "id": "981aaa69",
   "metadata": {},
   "source": [
    "The reduce() function in Python is used to apply a specified function cumulatively to the items of an iterable (e.g., a list) to reduce the iterable to a single cumulative result. \n",
    "It's part of the functools module, so you need to import this module to use the reduce() function."
   ]
  },
  {
   "cell_type": "code",
   "execution_count": 7,
   "id": "4478ed30",
   "metadata": {},
   "outputs": [
    {
     "name": "stdout",
     "output_type": "stream",
     "text": [
      "120\n"
     ]
    }
   ],
   "source": [
    "import functools\n",
    "\n",
    "def multiply(x, y):\n",
    "    return x * y\n",
    "\n",
    "numbers = [1, 2, 3, 4, 5]\n",
    "\n",
    "result = functools.reduce(multiply, numbers)\n",
    "\n",
    "print(result)"
   ]
  },
  {
   "cell_type": "markdown",
   "id": "e8fb8b46",
   "metadata": {},
   "source": [
    "### 2. Write a Python program that uses the `reduce()` function to find the product of all elements in a list.\n"
   ]
  },
  {
   "cell_type": "code",
   "execution_count": 11,
   "id": "a21399bd",
   "metadata": {},
   "outputs": [
    {
     "name": "stdout",
     "output_type": "stream",
     "text": [
      "30\n"
     ]
    }
   ],
   "source": [
    "import functools \n",
    "import operator\n",
    "l = [4,5,6,7,8]\n",
    "\n",
    "print(functools.reduce(operator.add, l))"
   ]
  },
  {
   "cell_type": "markdown",
   "id": "349da191",
   "metadata": {},
   "source": [
    "### 3. Create a Python program that uses `reduce()` to find the maximum element in a list of numbers.\n"
   ]
  },
  {
   "cell_type": "code",
   "execution_count": 6,
   "id": "9412d8f1",
   "metadata": {},
   "outputs": [
    {
     "name": "stdout",
     "output_type": "stream",
     "text": [
      "3\n"
     ]
    }
   ],
   "source": [
    "from functools import reduce\n",
    "l = [4,5,6,3,7,8]\n",
    "\n",
    "print(reduce(min, l))"
   ]
  },
  {
   "cell_type": "markdown",
   "id": "027135ba",
   "metadata": {},
   "source": [
    "### 4. How can you use the `reduce()` function to concatenate a list of strings into a single string?\n"
   ]
  },
  {
   "cell_type": "code",
   "execution_count": 9,
   "id": "31f8c72e",
   "metadata": {},
   "outputs": [
    {
     "name": "stdout",
     "output_type": "stream",
     "text": [
      "helloall!!!\n"
     ]
    }
   ],
   "source": [
    "from functools import reduce\n",
    "\n",
    "string = ['hello', 'all', '!!!']\n",
    "\n",
    "concatenated = reduce(lambda x,y : x+y, string)\n",
    "\n",
    "print(concatenated)"
   ]
  },
  {
   "cell_type": "markdown",
   "id": "eb4c179d",
   "metadata": {},
   "source": [
    "### 5. Write a Python program that calculates the factorial of a number using the `reduce()` function.\n"
   ]
  },
  {
   "cell_type": "code",
   "execution_count": 13,
   "id": "58e6d0b1",
   "metadata": {},
   "outputs": [
    {
     "name": "stdout",
     "output_type": "stream",
     "text": [
      "Enter the number : 5\n",
      "120\n"
     ]
    }
   ],
   "source": [
    "n = int(input('Enter the number : '))\n",
    "\n",
    "fact = reduce(lambda  x, y: x*y, range(1,n+1))\n",
    "print(fact)"
   ]
  },
  {
   "cell_type": "markdown",
   "id": "9317e798",
   "metadata": {},
   "source": [
    "### 6. Create a Python program that uses `reduce()` to find the GCD (Greatest Common Divisor) of a list of numbers.\n"
   ]
  },
  {
   "cell_type": "code",
   "execution_count": 17,
   "id": "c540dfef",
   "metadata": {},
   "outputs": [
    {
     "name": "stdout",
     "output_type": "stream",
     "text": [
      "3\n"
     ]
    }
   ],
   "source": [
    "def gcd(a,b):\n",
    "    if b == 0:\n",
    "        return a\n",
    "    return gcd(b, a%b)\n",
    "\n",
    "l = [12, 45, 36, 48, 15, 18]\n",
    "\n",
    "gcd_reduce = reduce(gcd, l )\n",
    "\n",
    "print(gcd_reduce)"
   ]
  },
  {
   "cell_type": "markdown",
   "id": "c1e0f8d4",
   "metadata": {},
   "source": [
    "\n",
    "### 7. Write a Python program that uses the `reduce()` function to find the sum of the digits of a given number.\n"
   ]
  },
  {
   "cell_type": "code",
   "execution_count": 34,
   "id": "ea144617",
   "metadata": {},
   "outputs": [
    {
     "name": "stdout",
     "output_type": "stream",
     "text": [
      "578\n",
      "20\n"
     ]
    }
   ],
   "source": [
    "def add_digits(x, y):\n",
    "    return int(x) + int(y)\n",
    "\n",
    "n = input()\n",
    "digit = list(n)\n",
    "sum_of_digits = reduce(add_digits, digit )\n",
    "print(sum_of_digits)"
   ]
  },
  {
   "cell_type": "markdown",
   "id": "1e02be7f",
   "metadata": {},
   "source": [
    "# Filter"
   ]
  },
  {
   "cell_type": "markdown",
   "id": "afe05b30",
   "metadata": {},
   "source": [
    "### 1. Explain the purpose of the `filter()` function in Python and provide an example of how it can be used to filter elements from an iterable.\n"
   ]
  },
  {
   "cell_type": "markdown",
   "id": "1c3d0366",
   "metadata": {},
   "source": [
    "The filter() function in Python is used to filter elements from an iterable (e.g., a list, tuple, or other iterable) based on a specified function or condition. It creates a new iterable containing only those elements from the original iterable that satisfy the given condition. In essence, it allows you to selectively include or exclude elements from an iterable based on your criteria."
   ]
  },
  {
   "cell_type": "code",
   "execution_count": 9,
   "id": "a69c08a2",
   "metadata": {},
   "outputs": [
    {
     "name": "stdout",
     "output_type": "stream",
     "text": [
      "[2, 4, 6, 8]\n"
     ]
    }
   ],
   "source": [
    "def is_even(x):\n",
    "    return x % 2 == 0\n",
    "\n",
    "numbers = [1, 2, 3, 4, 5, 6, 7, 8, 9]\n",
    "\n",
    "filtered_numbers = list(filter(is_even, numbers))\n",
    "\n",
    "print(filtered_numbers)"
   ]
  },
  {
   "cell_type": "markdown",
   "id": "aa55f6ba",
   "metadata": {},
   "source": [
    "### 2. Write a Python program that uses the `filter()` function to select even numbers from a list of integers.\n"
   ]
  },
  {
   "cell_type": "code",
   "execution_count": 36,
   "id": "c81f74eb",
   "metadata": {},
   "outputs": [
    {
     "name": "stdout",
     "output_type": "stream",
     "text": [
      "[2, 46, 6, 8]\n"
     ]
    }
   ],
   "source": [
    "l = [1,2,3,46,5,79,9,81,6,8]\n",
    "\n",
    "even_l = list(filter(lambda n : n%2 == 0, l))\n",
    "\n",
    "print(even_l)"
   ]
  },
  {
   "cell_type": "markdown",
   "id": "03c71318",
   "metadata": {},
   "source": [
    "### 3. Create a Python program that uses the `filter()` function to select names that start with a specific letter from a list of strings.\n"
   ]
  },
  {
   "cell_type": "code",
   "execution_count": 38,
   "id": "1e62f07b",
   "metadata": {},
   "outputs": [
    {
     "name": "stdout",
     "output_type": "stream",
     "text": [
      "Enter names : Lakshita Avani Lavisha Louraine Isha\n",
      "Enter letterl\n",
      "['Lakshita', 'Lavisha', 'Louraine']\n"
     ]
    }
   ],
   "source": [
    "names = input('Enter names : ').split()\n",
    "\n",
    "filter_letter = input('Enter letter').upper()\n",
    "\n",
    "filtered_name = list(filter(lambda name : name.startswith(filter_letter), names))\n",
    "\n",
    "print(filtered_name)"
   ]
  },
  {
   "cell_type": "markdown",
   "id": "9d191711",
   "metadata": {},
   "source": [
    "### 4. Write a Python program that uses the `filter()` function to select prime numbers from a list of integers.\n"
   ]
  },
  {
   "cell_type": "code",
   "execution_count": 46,
   "id": "f070b63e",
   "metadata": {},
   "outputs": [
    {
     "name": "stdout",
     "output_type": "stream",
     "text": [
      "[2, 3, 5, 7, 11, 13, 17, 19, 23, 29]\n"
     ]
    }
   ],
   "source": [
    "l = [1,2,3,4,5,6,7,8,9,10,11,12,13,14,15,16,17,18,19,20,21,22,23,24,25,26,27,28,29,30]\n",
    "\n",
    "prime = list(filter(lambda num : num > 1 and all(num%i != 0 for i in range(2, int(num**.5)+1)), l))\n",
    "\n",
    "print(prime)"
   ]
  },
  {
   "cell_type": "markdown",
   "id": "b8e2c9ee",
   "metadata": {},
   "source": [
    "### 5. How can you use the `filter()` function to remove None values from a list in Python?\n"
   ]
  },
  {
   "cell_type": "code",
   "execution_count": 48,
   "id": "c2918b66",
   "metadata": {},
   "outputs": [
    {
     "name": "stdout",
     "output_type": "stream",
     "text": [
      "[1, 2, 3, 4]\n"
     ]
    }
   ],
   "source": [
    "l = [1, None, 2, None, 3, None, 4, None]\n",
    "\n",
    "new_l = list(filter(None, l))\n",
    "\n",
    "print(new_l)"
   ]
  },
  {
   "cell_type": "markdown",
   "id": "9a9cc6cf",
   "metadata": {},
   "source": [
    "### 6. Create a Python program that uses `filter()` to select words longer than a certain length from a list of strings.\n"
   ]
  },
  {
   "cell_type": "code",
   "execution_count": 49,
   "id": "9e1d463b",
   "metadata": {},
   "outputs": [
    {
     "name": "stdout",
     "output_type": "stream",
     "text": [
      "n : 4\n",
      "['quick', 'brown', 'jumped']\n"
     ]
    }
   ],
   "source": [
    "l = ['a', 'quick', 'brown', 'fox', 'jumped', 'over', 'a', 'lazy', 'dog']\n",
    "n = int(input('n : ' ))\n",
    "\n",
    "new_l = list(filter(lambda i : len(i) > n, l))\n",
    "\n",
    "print(new_l)"
   ]
  },
  {
   "cell_type": "markdown",
   "id": "4cc270e4",
   "metadata": {},
   "source": [
    "### 7. Write a Python program that uses the `filter()` function to select elements greater than a specified threshold from a list of values.\n"
   ]
  },
  {
   "cell_type": "code",
   "execution_count": 51,
   "id": "83f0c8a9",
   "metadata": {},
   "outputs": [
    {
     "name": "stdout",
     "output_type": "stream",
     "text": [
      "5.5\n",
      "[7.8, 9, 12.03, 11.8]\n"
     ]
    }
   ],
   "source": [
    "l = [2,3,4.5, 5.1, 7.8, 9, 12.03, 11.8]\n",
    "threshold = float(input())\n",
    "\n",
    "new_l = list(filter(lambda n : n > threshold, l))\n",
    "\n",
    "print(new_l)"
   ]
  },
  {
   "cell_type": "markdown",
   "id": "fec0aef3",
   "metadata": {},
   "source": [
    "# Recursion"
   ]
  },
  {
   "cell_type": "markdown",
   "id": "31f7ad2f",
   "metadata": {},
   "source": [
    "### 1. Explain the concept of recursion in Python. How does it differ from iteration?\n"
   ]
  },
  {
   "cell_type": "markdown",
   "id": "c9f3207c",
   "metadata": {},
   "source": [
    "Recursion is a programming technique where a function calls itself in order to solve a problem. In a recursive function, the problem is broken down into smaller subproblems that are solved recursively. Each recursive call works on a smaller or simpler version of the problem until a base case is reached, which provides a solution without further recursive calls.<br><br>\n",
    "\n",
    "Key characteristics of recursion:\n",
    "<br><br>\n",
    "<b>Base Case:</b> Recursive functions always have one or more base cases, which are conditions that determine when the recursion should stop. Without base cases, the recursion would continue indefinitely, leading to a stack overflow error.<br>\n",
    "<b>Divide and Conquer:</b> Recursive functions break down a problem into smaller, more manageable subproblems. Each recursive call works on a subset of the problem, reducing its complexity.<br>\n",
    "<b>Stack:</b> Recursive function calls are stored in a call stack, allowing the program to keep track of where to return when each recursive call completes."
   ]
  },
  {
   "cell_type": "markdown",
   "id": "551be1a0",
   "metadata": {},
   "source": [
    "<b>Differences:<b>\n",
    "\n",
    "Control Flow: Recursion uses function calls to control the flow of execution, whereas iteration relies on loop constructs like for and while to control repetition.\n",
    "\n",
    "Memory Usage: Recursion can consume more memory due to the call stack, especially for deep or deeply nested recursive calls. Iteration typically uses a fixed amount of memory.\n",
    "\n",
    "Readability: Recursive solutions can be elegant and concise for certain problems but may be harder to understand for some programmers. Iterative solutions are often more explicit and may be easier to follow.\n",
    "\n",
    "Performance: In some cases, recursion can be less efficient than iteration due to the overhead of function calls and the potential for stack overflow errors. Iteration is usually more efficient for many simple repetitive tasks.\n",
    "\n"
   ]
  },
  {
   "cell_type": "markdown",
   "id": "b0a9e1b2",
   "metadata": {},
   "source": [
    "### 2. Write a Python program to calculate the factorial of a number using recursion.\n"
   ]
  },
  {
   "cell_type": "code",
   "execution_count": 1,
   "id": "82eac6f9",
   "metadata": {},
   "outputs": [
    {
     "name": "stdout",
     "output_type": "stream",
     "text": [
      "Enter num : 8\n",
      "40320\n"
     ]
    }
   ],
   "source": [
    "n = int(input('Enter num : '))\n",
    "\n",
    "def fact(num):\n",
    "    if num <0:\n",
    "        return False\n",
    "    elif num == 0:\n",
    "        return 1\n",
    "    else:\n",
    "        return num * fact(num-1)\n",
    "    \n",
    "print(fact(n))"
   ]
  },
  {
   "cell_type": "markdown",
   "id": "bb695fa3",
   "metadata": {},
   "source": [
    "### 3. Create a recursive Python function to find the nth Fibonacci number.\n"
   ]
  },
  {
   "cell_type": "code",
   "execution_count": 6,
   "id": "4372fc70",
   "metadata": {},
   "outputs": [
    {
     "name": "stdout",
     "output_type": "stream",
     "text": [
      "13\n"
     ]
    }
   ],
   "source": [
    "def fibonacci(n):\n",
    "    if n <= 0:\n",
    "        return 0\n",
    "    elif n == 1:\n",
    "        return 1\n",
    "    else:\n",
    "        return fibonacci(n - 1) + fibonacci(n - 2)\n",
    "    \n",
    "print(fibonacci(7))"
   ]
  },
  {
   "cell_type": "markdown",
   "id": "80ebe477",
   "metadata": {},
   "source": [
    "### 4. Write a recursive Python function to calculate the sum of all elements in a list.\n"
   ]
  },
  {
   "cell_type": "code",
   "execution_count": 10,
   "id": "5bf84a52",
   "metadata": {},
   "outputs": [
    {
     "name": "stdout",
     "output_type": "stream",
     "text": [
      "149\n"
     ]
    }
   ],
   "source": [
    "def sumList(n):\n",
    "    if not n:\n",
    "        return 0\n",
    "    else:\n",
    "        return n[0] + sumList(n[1:])\n",
    "    \n",
    "l = [1,2,3,45,8,9,6,75]\n",
    "print(sumList(l))"
   ]
  },
  {
   "cell_type": "markdown",
   "id": "2c079edd",
   "metadata": {},
   "source": [
    "### 5. How can you prevent a recursive function from running indefinitely, causing a stack overflow error?\n"
   ]
  },
  {
   "cell_type": "markdown",
   "id": "2e8b5699",
   "metadata": {},
   "source": [
    "#### Define a Base Case:\n",
    "\n",
    "A base case is a condition under which the recursive function should return a result without making any further recursive calls. It's the stopping condition that prevents infinite recursion.\n",
    "Ensure that your base case is well-defined and will eventually be reached as the recursion progresses.\n",
    "<br>\n",
    "####  Update Parameters:\n",
    "\n",
    "In each recursive call, you should update the parameters or arguments passed to the function in a way that gets closer to the base case.\n",
    "For example, if you're working with integers, you can decrement or increment them in each recursive call until they reach the base case.\n",
    "<br>\n",
    "#### Test the Base Case:\n",
    "\n",
    "Inside the recursive function, check if the current values of the parameters satisfy the base case condition. If they do, return the result immediately.\n",
    "If the base case condition is not met, continue with the recursive calls.\n"
   ]
  },
  {
   "cell_type": "code",
   "execution_count": 10,
   "id": "8274ef30",
   "metadata": {},
   "outputs": [
    {
     "name": "stdout",
     "output_type": "stream",
     "text": [
      "120\n"
     ]
    }
   ],
   "source": [
    "def factorial(n):\n",
    "    # Base case: If n is 0, return 1 (0! = 1)\n",
    "    if n == 0:\n",
    "        return 1\n",
    "    # Recursive case: Multiply n by the factorial of (n-1)\n",
    "    else:\n",
    "        return n * factorial(n - 1)\n",
    "\n",
    "# Example usage\n",
    "result = factorial(5)\n",
    "print(result)\n"
   ]
  },
  {
   "cell_type": "markdown",
   "id": "caff830a",
   "metadata": {},
   "source": [
    "### 6. Create a recursive Python function to find the greatest common divisor (GCD) of two numbers using the Euclidean algorithm.\n"
   ]
  },
  {
   "cell_type": "code",
   "execution_count": 13,
   "id": "73bdd413",
   "metadata": {},
   "outputs": [
    {
     "name": "stdout",
     "output_type": "stream",
     "text": [
      "24\n"
     ]
    }
   ],
   "source": [
    "def gcd(a,b):\n",
    "    if b == 0:\n",
    "        return a\n",
    "    else:\n",
    "        return gcd(b, a%b)\n",
    "\n",
    "a = 192\n",
    "b = 72\n",
    "\n",
    "print(gcd(a,b))"
   ]
  },
  {
   "cell_type": "markdown",
   "id": "6076cfb2",
   "metadata": {},
   "source": [
    "### 7. Write a recursive Python function to reverse a string.\n"
   ]
  },
  {
   "cell_type": "code",
   "execution_count": 4,
   "id": "122449c3",
   "metadata": {},
   "outputs": [
    {
     "name": "stdout",
     "output_type": "stream",
     "text": [
      "!dlroW ,olleH\n"
     ]
    }
   ],
   "source": [
    "def reverse_s(s):\n",
    "    if len(s) <= 1:\n",
    "        return s\n",
    "    else:\n",
    "        return s[-1] + reverse_s(s[:-1])\n",
    "\n",
    "    \n",
    "original_str = \"Hello, World!\"\n",
    "reversed_str = reverse_s(original_str)\n",
    "print(reversed_str)\n",
    "\n"
   ]
  },
  {
   "cell_type": "markdown",
   "id": "fdc0ec5a",
   "metadata": {},
   "source": [
    "### 8. Create a recursive Python function to calculate the power of a number (x^n).\n"
   ]
  },
  {
   "cell_type": "code",
   "execution_count": 5,
   "id": "5562ef2d",
   "metadata": {},
   "outputs": [
    {
     "name": "stdout",
     "output_type": "stream",
     "text": [
      "125\n"
     ]
    }
   ],
   "source": [
    "def power(n,  x):\n",
    "    if x == 0:\n",
    "        return 1\n",
    "    elif x == 1:\n",
    "        return n\n",
    "    else:\n",
    "        return n * power(n, x-1)\n",
    "    \n",
    "print(power(5,3))"
   ]
  },
  {
   "cell_type": "markdown",
   "id": "47f4b692",
   "metadata": {},
   "source": [
    "###  9. Write a recursive Python function to find all permutations of a given string.\n"
   ]
  },
  {
   "cell_type": "code",
   "execution_count": 7,
   "id": "a43e8834",
   "metadata": {},
   "outputs": [
    {
     "name": "stdout",
     "output_type": "stream",
     "text": [
      "abc\n",
      "acb\n",
      "bac\n",
      "bca\n",
      "cab\n",
      "cba\n"
     ]
    }
   ],
   "source": [
    "def get_permutations(input_str):\n",
    "    # Base case: If the string has only one character, there's only one permutation.\n",
    "    if len(input_str) <= 1:\n",
    "        return [input_str]\n",
    "    \n",
    "    # Recursive case:\n",
    "    permutations = []\n",
    "    for i in range(len(input_str)):\n",
    "        # Fix the first character and find permutations of the rest of the string.\n",
    "        fixed_char = input_str[i]\n",
    "        remaining_chars = input_str[:i] + input_str[i+1:]\n",
    "        sub_permutations = get_permutations(remaining_chars)\n",
    "        \n",
    "        # Combine the fixed character with the permutations of the remaining string.\n",
    "        for perm in sub_permutations:\n",
    "            permutations.append(fixed_char + perm)\n",
    "    \n",
    "    return permutations\n",
    "\n",
    "# Example usage:\n",
    "input_string = \"abc\"\n",
    "result = get_permutations(input_string)\n",
    "for perm in result:\n",
    "    print(perm)"
   ]
  },
  {
   "cell_type": "markdown",
   "id": "13a2a0f0",
   "metadata": {},
   "source": [
    "### 10. Write a recursive Python function to check if a string is a palindrome."
   ]
  },
  {
   "cell_type": "code",
   "execution_count": 8,
   "id": "79e8b496",
   "metadata": {},
   "outputs": [
    {
     "name": "stdout",
     "output_type": "stream",
     "text": [
      "racecar is a palindrome.\n"
     ]
    }
   ],
   "source": [
    "def is_palindrome(s):\n",
    "    # Base case: If the string has 0 or 1 character, it's a palindrome.\n",
    "    if len(s) <= 1:\n",
    "        return True\n",
    "    \n",
    "    # Recursive case:\n",
    "    first_char = s[0]\n",
    "    last_char = s[-1]\n",
    "    \n",
    "    # If the first and last characters are the same, check the rest of the string.\n",
    "    if first_char == last_char:\n",
    "        return is_palindrome(s[1:-1])\n",
    "    else:\n",
    "        return False\n",
    "\n",
    "# Example usage:\n",
    "input_string = \"racecar\"\n",
    "result = is_palindrome(input_string)\n",
    "if result:\n",
    "    print(f\"{input_string} is a palindrome.\")\n",
    "else:\n",
    "    print(f\"{input_string} is not a palindrome.\")\n"
   ]
  },
  {
   "cell_type": "markdown",
   "id": "ec587f8e",
   "metadata": {},
   "source": [
    "### 11. Create a recursive Python function to generate all possible combinations of a list of elements.\n"
   ]
  },
  {
   "cell_type": "code",
   "execution_count": 9,
   "id": "b320542f",
   "metadata": {},
   "outputs": [
    {
     "name": "stdout",
     "output_type": "stream",
     "text": [
      "[]\n",
      "[3]\n",
      "[2]\n",
      "[2, 3]\n",
      "[1]\n",
      "[1, 3]\n",
      "[1, 2]\n",
      "[1, 2, 3]\n"
     ]
    }
   ],
   "source": [
    "def generate_combinations(input_list):\n",
    "    if len(input_list) == 0:\n",
    "        return [[]]  # Return an empty list as the base case\n",
    "    \n",
    "    first_element = input_list[0]\n",
    "    rest_of_elements = input_list[1:]\n",
    "    \n",
    "    # Recursive case:\n",
    "    # Generate combinations without the first element\n",
    "    combinations_without_first = generate_combinations(rest_of_elements)\n",
    "    \n",
    "    # Generate combinations with the first element\n",
    "    combinations_with_first = []\n",
    "    for combo in combinations_without_first:\n",
    "        # Include the first element in the combination\n",
    "        combinations_with_first.append([first_element] + combo)\n",
    "    \n",
    "    # Combine the two sets of combinations\n",
    "    all_combinations = combinations_without_first + combinations_with_first\n",
    "    \n",
    "    return all_combinations\n",
    "\n",
    "# Example usage:\n",
    "input_list = [1, 2, 3]\n",
    "result = generate_combinations(input_list)\n",
    "for combo in result:\n",
    "    print(combo)\n"
   ]
  },
  {
   "cell_type": "markdown",
   "id": "5b228ed7",
   "metadata": {},
   "source": [
    "# Basics of Functions"
   ]
  },
  {
   "cell_type": "markdown",
   "id": "821dba2f",
   "metadata": {},
   "source": [
    "### 1. What is a function in Python, and why is it used?\n"
   ]
  },
  {
   "cell_type": "markdown",
   "id": "09ad0ccc",
   "metadata": {},
   "source": [
    "In Python, the function is a block of code defined with a  name.\n",
    "\n",
    "- A function is a block of code that only runs when it is called.\n",
    "- You can pass down, known as parameters, into a function.\n",
    "- Functions are used to perform specifications, and they are also known as methods\n",
    "\n",
    "<b>Why use Functions?</b>\n",
    "- To reduce code: define line code once and use it many times"
   ]
  },
  {
   "cell_type": "markdown",
   "id": "1b162f61",
   "metadata": {},
   "source": [
    "### 2. How do you define a function in Python? Provide an example.\n"
   ]
  },
  {
   "cell_type": "markdown",
   "id": "628804e8",
   "metadata": {},
   "source": [
    "A function is a block of code which only runs when it is called.\n",
    "You can pass data, known as parameters, into a function.\n",
    "A function can return data as a result."
   ]
  },
  {
   "cell_type": "code",
   "execution_count": 2,
   "id": "9c063e3f",
   "metadata": {},
   "outputs": [],
   "source": [
    "def my_fun():\n",
    "    print('This is a function example')"
   ]
  },
  {
   "cell_type": "markdown",
   "id": "9035d8bd",
   "metadata": {},
   "source": [
    "### 3. Explain the difference between a function definition and a function call.\n"
   ]
  },
  {
   "cell_type": "markdown",
   "id": "886ab22e",
   "metadata": {},
   "source": [
    "<b><u>Function Definition:</u></b>\n",
    "- A function definition (also known as function declaration) is where you create and specify the behavior of a function. It defines the name of the function, the parameters it takes (if any), and the code that gets executed when the function is called.\n",
    "- When you define a function, you're essentially creating a blueprint or template for that function's behavior.\n",
    "- Function definitions typically include the following components:\n",
    "    - Function Name: A unique identifier for the function, used to call it later in your code.\n",
    "    - Parameters (optional): Input values that the function can accept. These are like variables that hold values passed into the function.\n",
    "    - Function Body: The actual code that gets executed when the function is called. It consists of statements and expressions that perform the desired tasks.\n",
    "    - Return Statement (optional): If the function produces a result or value, you can use a return statement to send that value back to the caller.\n",
    "\n",
    "<b><u>Function Call:</u></b>\n",
    "- A function call is the action of using a defined function in your code to execute its behavior. When you call a function, you're invoking or using the code inside the function's definition with specific arguments (values) for its parameters, if any.\n",
    "- Function calls are how you make use of the functionality defined in a function. You can call a function multiple times from different parts of your program.\n",
    "- To call a function, you use its name followed by parentheses, and you may provide arguments (values) within the parentheses that match the parameters defined in the function's definition. "
   ]
  },
  {
   "cell_type": "markdown",
   "id": "df6540b8",
   "metadata": {},
   "source": [
    "### 4. Write a Python program that defines a function to calculate the sum of two numbers and then calls the function.\n"
   ]
  },
  {
   "cell_type": "code",
   "execution_count": 3,
   "id": "61d0300d",
   "metadata": {},
   "outputs": [
    {
     "name": "stdout",
     "output_type": "stream",
     "text": [
      "26\n"
     ]
    }
   ],
   "source": [
    "def Sum_two(a,b):\n",
    "    return a + b\n",
    "\n",
    "print(Sum_two(8, 18))"
   ]
  },
  {
   "cell_type": "markdown",
   "id": "cdc27b5b",
   "metadata": {},
   "source": [
    "### 5. What is a function signature, and what information does it typically include?\n"
   ]
  },
  {
   "cell_type": "markdown",
   "id": "2644dc27",
   "metadata": {},
   "source": [
    "A function signature is a concise and standardized way to represent the essential information about a function in computer programming. It serves as a declaration or summary of the function's interface, providing crucial details about how the function can be used. The information typically included in a function signature may vary depending on the programming language, but it generally consists of the following components:\n",
    "\n",
    "1. Function Name:\n",
    "   - The name of the function, which serves as its unique identifier. This is how you reference and call the function in your code.\n",
    "\n",
    "2. Return Type:\n",
    "   - The data type of the value that the function returns when it's executed. Some languages, like Python, allow functions to return values of different types or even no value (i.e., `None` in Python), while other languages enforce strict typing rules for return values.\n",
    "\n",
    "3. Parameters (Input):\n",
    "   - The parameters (also known as arguments) that the function accepts. These parameters define the input values that the function expects when it's called. Each parameter typically includes:\n",
    "     - Parameter Name: The name used to reference the parameter within the function.\n",
    "     - Parameter Data Type: The data type or class of the expected input.\n",
    "\n",
    "4. Function Signature Syntax:\n",
    "   - In some languages, the function signature may also include syntax to represent the parameters and return type. For example, in C or C++, the function signature might look like this:\n",
    "\n",
    "\"Python\"\n",
    "   \n",
    "   def add_numbers(a: int, b: int) -> int:\n",
    "\n",
    "\n",
    "Function signatures are crucial for understanding how to use a function correctly. They provide information about the function's inputs and outputs, allowing developers to write code that interacts with the function accurately. Additionally, function signatures help with documentation and code readability, making it easier for other programmers (including your future self) to understand and use the functions you create."
   ]
  },
  {
   "cell_type": "markdown",
   "id": "f8548aa6",
   "metadata": {},
   "source": [
    "### 6. Create a Python function that takes two arguments and returns their product.\n"
   ]
  },
  {
   "cell_type": "code",
   "execution_count": 6,
   "id": "63401be7",
   "metadata": {},
   "outputs": [
    {
     "name": "stdout",
     "output_type": "stream",
     "text": [
      "144\n"
     ]
    }
   ],
   "source": [
    "def product(a, b):\n",
    "    return a * b\n",
    "\n",
    "print(product(8, 18))"
   ]
  },
  {
   "cell_type": "markdown",
   "id": "91651c59",
   "metadata": {},
   "source": [
    "# Function Parameters and Arguments"
   ]
  },
  {
   "cell_type": "markdown",
   "id": "786f6f93",
   "metadata": {},
   "source": [
    "### 1. Explain the concepts of formal parameters and actual arguments in Python functions.\n"
   ]
  },
  {
   "cell_type": "markdown",
   "id": "613c07ae",
   "metadata": {},
   "source": [
    "1. Formal Parameters:\n",
    "\n",
    "Formal parameters are the placeholders or names that you define in the function's parameter list. They represent the input values that the function expects to receive when it is called.\n",
    "Formal parameters are defined inside the parentheses of a function's definition.\n",
    "They are used to define the structure and behavior of the function, as well as to specify what kind of input the function can accept.\n",
    "Formal parameters are variables that are local to the function, meaning they exist only within the scope of the function.\n",
    "\n"
   ]
  },
  {
   "cell_type": "code",
   "execution_count": 10,
   "id": "c80cac09",
   "metadata": {},
   "outputs": [],
   "source": [
    "def add_numbers(x, y):  # Here, 'x' and 'y' are formal parameters.\n",
    "    result = x + y\n",
    "    return result\n"
   ]
  },
  {
   "cell_type": "markdown",
   "id": "0673908e",
   "metadata": {},
   "source": [
    "2. Actual Arguments (Arguments):\n",
    "\n",
    "Actual arguments, also known as arguments or function arguments, are the values or expressions that you provide when calling a function.\n",
    "These are the real data that gets passed into the function for processing.\n",
    "Actual arguments are the values you place within the parentheses when calling a function.\n",
    "They are matched to the formal parameters based on their order or by using keyword arguments."
   ]
  },
  {
   "cell_type": "code",
   "execution_count": 12,
   "id": "6e64e969",
   "metadata": {},
   "outputs": [],
   "source": [
    "def add_numbers(x, y):  # Here, 'x' and 'y' are formal parameters.\n",
    "    result = add_numbers(5, 3)  # Here, '5' and '3' are actual arguments.\n"
   ]
  },
  {
   "cell_type": "markdown",
   "id": "01403178",
   "metadata": {},
   "source": [
    "### 2. Write a Python program that defines a function with default argument values.\n"
   ]
  },
  {
   "cell_type": "code",
   "execution_count": 14,
   "id": "1736ec1f",
   "metadata": {},
   "outputs": [
    {
     "name": "stdout",
     "output_type": "stream",
     "text": [
      "300000.0\n"
     ]
    }
   ],
   "source": [
    "def interest(p, t, r = .2):\n",
    "    return p*t*r\n",
    "\n",
    "print(interest(500000, 3))"
   ]
  },
  {
   "cell_type": "markdown",
   "id": "aae97287",
   "metadata": {},
   "source": [
    "### 3. How do you use keyword arguments in Python function calls? Provide an example.\n"
   ]
  },
  {
   "cell_type": "markdown",
   "id": "0cac5497",
   "metadata": {},
   "source": [
    "In Python, you can use keyword arguments to pass arguments to a function by specifying the parameter names along with their corresponding values when calling the function. Keyword arguments are particularly useful when you want to make your code more readable and explicitly specify which argument corresponds to which parameter in the function definition."
   ]
  },
  {
   "cell_type": "code",
   "execution_count": 8,
   "id": "89fb0f74",
   "metadata": {},
   "outputs": [
    {
     "name": "stdout",
     "output_type": "stream",
     "text": [
      "Hello, Alice! You are 30 years old and live in New York.\n",
      "Hello, Bob! You are 25 years old and live in Los Angeles.\n"
     ]
    }
   ],
   "source": [
    "def greet(name, age, city):\n",
    "    print(f\"Hello, {name}! You are {age} years old and live in {city}.\")\n",
    "\n",
    "# Using keyword arguments to call the function\n",
    "greet(name=\"Alice\", age=30, city=\"New York\")\n",
    "greet(age=25, city=\"Los Angeles\", name=\"Bob\")\n"
   ]
  },
  {
   "cell_type": "markdown",
   "id": "6b63d188",
   "metadata": {},
   "source": [
    "### 4. Create a Python function that accepts a variable number of arguments and calculates their sum.\n"
   ]
  },
  {
   "cell_type": "code",
   "execution_count": 3,
   "id": "a96b70b9",
   "metadata": {},
   "outputs": [
    {
     "name": "stdout",
     "output_type": "stream",
     "text": [
      "40\n"
     ]
    }
   ],
   "source": [
    "def func(*args):\n",
    "    return sum(args)\n",
    "\n",
    "print(func(10,11,15,4))"
   ]
  },
  {
   "cell_type": "markdown",
   "id": "de0d76e9",
   "metadata": {},
   "source": [
    "### 5. What is the purpose of the `*args` and `**kwargs` syntax in function parameter lists?\n"
   ]
  },
  {
   "cell_type": "markdown",
   "id": "1076e0a6",
   "metadata": {},
   "source": [
    "The *args and '**kwargs' syntax in function parameter lists are used to accept a 'n' number of arguments. \n",
    "*args is used to accept a variable number of positional arguments, while '**kwargs' is used to accept a variable number of keyword arguments (eg : key - value pair of Dictionary)"
   ]
  },
  {
   "cell_type": "markdown",
   "id": "cdd1a1ea",
   "metadata": {},
   "source": [
    "# Return Values and Scoping"
   ]
  },
  {
   "cell_type": "markdown",
   "id": "fcadfb14",
   "metadata": {},
   "source": [
    "### 1. Describe the role of the `return` statement in Python functions and provide examples.\n"
   ]
  },
  {
   "cell_type": "markdown",
   "id": "c4b98e70",
   "metadata": {},
   "source": [
    "The return statement in Python functions is used to specify the value that a function should compute and provide as its result. When a function encounters a return statement, it immediately exits the function, returning the specified value to the caller. The return statement serves several key roles in Python functions:\n",
    "\n",
    "Returning Values: The primary role of the return statement is to return a value computed by the function to the caller. This value can be of any data type, including numbers, strings, lists, dictionaries, or custom objects.\n",
    "\n",
    "Terminating Execution: When a return statement is encountered in a function, it terminates the execution of the function, even if there is more code after the return statement. This ensures that the function doesn't continue executing unnecessary code.\n",
    "\n",
    "Multiple Returns: Functions can have multiple return statements, allowing different return values to be provided based on different conditions or branches of code. The function will exit as soon as a return statement is encountered."
   ]
  },
  {
   "cell_type": "code",
   "execution_count": 28,
   "id": "edf4adf4",
   "metadata": {},
   "outputs": [
    {
     "name": "stdout",
     "output_type": "stream",
     "text": [
      "7\n"
     ]
    }
   ],
   "source": [
    "def add(a, b):\n",
    "    result = a + b\n",
    "    return result  # Return the sum of a and b\n",
    "\n",
    "sum_result = add(3, 4)\n",
    "print(sum_result)  # Output: 7\n"
   ]
  },
  {
   "cell_type": "code",
   "execution_count": 29,
   "id": "c587db11",
   "metadata": {},
   "outputs": [
    {
     "name": "stdout",
     "output_type": "stream",
     "text": [
      "Even\n",
      "Odd\n"
     ]
    }
   ],
   "source": [
    "#multiple returns\n",
    "def check_even_odd(number):\n",
    "    if number % 2 == 0:\n",
    "        return \"Even\"\n",
    "    else:\n",
    "        return \"Odd\"\n",
    "\n",
    "result1 = check_even_odd(4)\n",
    "result2 = check_even_odd(7)\n",
    "\n",
    "print(result1)  # Output: \"Even\"\n",
    "print(result2)  # Output: \"Odd\"\n"
   ]
  },
  {
   "cell_type": "code",
   "execution_count": 30,
   "id": "be5baba9",
   "metadata": {},
   "outputs": [
    {
     "name": "stdout",
     "output_type": "stream",
     "text": [
      "[1, 2, 3, 4, 5]\n"
     ]
    }
   ],
   "source": [
    "# Returning Lists or Other Data Structures\n",
    "def create_list():\n",
    "    return [1, 2, 3, 4, 5]\n",
    "\n",
    "my_list = create_list()\n",
    "print(my_list)  # Output: [1, 2, 3, 4, 5]\n"
   ]
  },
  {
   "cell_type": "code",
   "execution_count": 31,
   "id": "d9c19b0a",
   "metadata": {},
   "outputs": [
    {
     "name": "stdout",
     "output_type": "stream",
     "text": [
      "None\n"
     ]
    }
   ],
   "source": [
    "# No Explicit Return Value\n",
    "\n",
    "def no_return():\n",
    "    # This function returns None implicitly\n",
    "    pass\n",
    "\n",
    "result = no_return()\n",
    "print(result)  # Output: None\n"
   ]
  },
  {
   "cell_type": "markdown",
   "id": "b5d42ff7",
   "metadata": {},
   "source": [
    "### 2. Explain the concept of variable scope in Python, including local and global variables.\n"
   ]
  },
  {
   "cell_type": "markdown",
   "id": "85231fb4",
   "metadata": {},
   "source": [
    "Variable scope in Python refers to the region or context in which a variable is visible, accessible, and can be used. Python defines two primary variable scopes:\n",
    "\n",
    "1. **Local Scope:** Variables defined within a specific block of code, such as within a function or method, are said to have local scope. These variables are only accessible from within the block or function where they are defined.\n",
    "\n",
    "2. **Global Scope:** Variables defined outside of any function, typically at the top level of a script or module, have global scope. These variables are accessible from anywhere in the script or module, including within functions and methods.\n",
    "\n",
    "Here's a more detailed explanation of local and global variables:\n",
    "\n",
    "**Local Variables:**\n",
    "- Local variables are created when you define them within a function or block of code.\n",
    "- They are only accessible within the function or block where they are defined.\n",
    "- Attempting to access a local variable from outside its scope will result in a `NameError`.\n",
    "- Local variables are temporary and exist only for the duration of the function or block execution.\n",
    "- They do not affect or interfere with variables of the same name in other scopes.\n",
    "\n",
    "\n",
    "\n",
    "\n"
   ]
  },
  {
   "cell_type": "code",
   "execution_count": 25,
   "id": "dfd30594",
   "metadata": {},
   "outputs": [
    {
     "name": "stdout",
     "output_type": "stream",
     "text": [
      "42\n"
     ]
    },
    {
     "ename": "NameError",
     "evalue": "name 'local_var' is not defined",
     "output_type": "error",
     "traceback": [
      "\u001b[1;31m---------------------------------------------------------------------------\u001b[0m",
      "\u001b[1;31mNameError\u001b[0m                                 Traceback (most recent call last)",
      "\u001b[1;32m~\\AppData\\Local\\Temp/ipykernel_4128/3038441666.py\u001b[0m in \u001b[0;36m<module>\u001b[1;34m\u001b[0m\n\u001b[0;32m      4\u001b[0m \u001b[1;33m\u001b[0m\u001b[0m\n\u001b[0;32m      5\u001b[0m \u001b[0mmy_function\u001b[0m\u001b[1;33m(\u001b[0m\u001b[1;33m)\u001b[0m\u001b[1;33m\u001b[0m\u001b[1;33m\u001b[0m\u001b[0m\n\u001b[1;32m----> 6\u001b[1;33m \u001b[0mprint\u001b[0m\u001b[1;33m(\u001b[0m\u001b[0mlocal_var\u001b[0m\u001b[1;33m)\u001b[0m  \u001b[1;31m# This will raise a NameError\u001b[0m\u001b[1;33m\u001b[0m\u001b[1;33m\u001b[0m\u001b[0m\n\u001b[0m",
      "\u001b[1;31mNameError\u001b[0m: name 'local_var' is not defined"
     ]
    }
   ],
   "source": [
    "def my_function():\n",
    "    local_var = 42  # This is a local variable\n",
    "    print(local_var)\n",
    "\n",
    "my_function()\n",
    "print(local_var)  # This will raise a NameError\n"
   ]
  },
  {
   "cell_type": "markdown",
   "id": "ae0230c3",
   "metadata": {},
   "source": [
    "**Global Variables:**\n",
    "- Global variables are defined outside of any function or block, at the top level of a script or module.\n",
    "- They are accessible from anywhere within the script or module, including inside functions and methods.\n",
    "- Global variables maintain their value across different function calls.\n",
    "- Modifying a global variable within a function typically requires using the `global` keyword to indicate that you are working with the global variable.\n",
    "\n",
    "\n",
    "\n",
    "**Scope Hierarchy:**\n",
    "- Python follows a hierarchy when searching for variable names. It first checks the local scope, then the enclosing function's scope (if applicable), and finally the global scope.\n",
    "- If a variable with the same name exists in both local and global scopes, the local variable takes precedence within its scope.\n",
    "- Enclosing (non-global) scopes are relevant for nested functions, where a function defined inside another function can access variables from its containing (enclosing) function's scope.\n",
    "\n",
    "Understanding variable scope is essential in Python programming because it helps you manage the visibility and lifetime of variables. Properly defining and scoping variables ensures that your code behaves as expected and avoids naming conflicts between local and global variables."
   ]
  },
  {
   "cell_type": "code",
   "execution_count": 27,
   "id": "9e3cc4de",
   "metadata": {},
   "outputs": [
    {
     "name": "stdout",
     "output_type": "stream",
     "text": [
      "42\n",
      "42\n",
      "100\n"
     ]
    }
   ],
   "source": [
    "global_var = 42  # This is a global variable\n",
    "\n",
    "def my_function():\n",
    "    print(global_var)  # Accessing the global variable\n",
    "\n",
    "my_function()\n",
    "print(global_var)\n",
    "\n",
    "def modify_global_var():\n",
    "    global global_var\n",
    "    global_var = 100  # Modifying the global variable\n",
    "\n",
    "modify_global_var()\n",
    "print(global_var)  # After modification\n"
   ]
  },
  {
   "cell_type": "markdown",
   "id": "c7d798b1",
   "metadata": {},
   "source": [
    "### 3. Write a Python program that demonstrates the use of global variables within functions.\n"
   ]
  },
  {
   "cell_type": "code",
   "execution_count": 23,
   "id": "517d37e1",
   "metadata": {},
   "outputs": [
    {
     "name": "stdout",
     "output_type": "stream",
     "text": [
      "Inside the function: Global variable value is 42\n",
      "Inside the function: Modified global variable to 100\n",
      "Outside the function: Global variable value is 100\n"
     ]
    }
   ],
   "source": [
    "global_variable = 42\n",
    "\n",
    "def access_global_variable():\n",
    "    print(f\"Inside the function: Global variable value is {global_variable}\")\n",
    "\n",
    "def modify_global_variable():\n",
    "    global global_variable\n",
    "    global_variable = 100\n",
    "    print(f\"Inside the function: Modified global variable to {global_variable}\")\n",
    "\n",
    "access_global_variable()\n",
    "\n",
    "modify_global_variable()\n",
    "\n",
    "print(f\"Outside the function: Global variable value is {global_variable}\")"
   ]
  },
  {
   "cell_type": "markdown",
   "id": "2e6c3e22",
   "metadata": {},
   "source": [
    "### 4. Create a Python function that calculates the factorial of a number and returns it.\n"
   ]
  },
  {
   "cell_type": "code",
   "execution_count": 22,
   "id": "7580fa2c",
   "metadata": {},
   "outputs": [
    {
     "name": "stdout",
     "output_type": "stream",
     "text": [
      "The factorial of 5 is 120\n"
     ]
    }
   ],
   "source": [
    "def factorial(n):\n",
    "    if n < 0:\n",
    "        return \"Factorial is not defined for negative numbers\"\n",
    "    elif n == 0:\n",
    "        return 1\n",
    "    else:\n",
    "        return n * factorial(n - 1)\n",
    "\n",
    "# Test the function with an example\n",
    "num = 5\n",
    "result = factorial(num)\n",
    "print(f\"The factorial of {num} is {result}\")\n"
   ]
  },
  {
   "cell_type": "markdown",
   "id": "859c3a18",
   "metadata": {},
   "source": [
    "### 5. How can you access variables defined outside a function from within the function?\n"
   ]
  },
  {
   "cell_type": "markdown",
   "id": "b5e118dc",
   "metadata": {},
   "source": [
    "In Python, you can access variables defined outside a function from within the function by following these rules:\n",
    "\n",
    "Global Variables: Variables defined at the top level of a Python script or module (outside of any function) are considered global variables. They can be accessed from any function within the same script or module.\n",
    "\n",
    "Using the global Keyword: To modify a global variable from within a function, you should declare the variable as global within the function."
   ]
  },
  {
   "cell_type": "code",
   "execution_count": 21,
   "id": "1e057586",
   "metadata": {},
   "outputs": [
    {
     "name": "stdout",
     "output_type": "stream",
     "text": [
      "Global variable value: 42\n"
     ]
    }
   ],
   "source": [
    "# Define a global variable\n",
    "global_variable = 42\n",
    "\n",
    "# Define a function that accesses the global variable\n",
    "def access_global_variable():\n",
    "    # Access the global variable\n",
    "    print(f\"Global variable value: {global_variable}\")\n",
    "\n",
    "# Call the function\n",
    "access_global_variable()\n"
   ]
  },
  {
   "cell_type": "markdown",
   "id": "7119cb4d",
   "metadata": {},
   "source": [
    "# Lambda Functions and Higher-Order Functions"
   ]
  },
  {
   "cell_type": "markdown",
   "id": "32174fe9",
   "metadata": {},
   "source": [
    "### 1. What are lambda functions in Python, and when are they typically used?\n"
   ]
  },
  {
   "cell_type": "markdown",
   "id": "aacb5030",
   "metadata": {},
   "source": [
    "Lambda functions, also known as lambda expressions or anonymous functions, are a feature in Python that allows you to create small, \n",
    "unnamed, and inline functions.  Lambda functions are defined using the lambda keyword and are commonly used when you need a \n",
    "simple function for a short period of time without the need to give it a formal name.\n",
    "\n",
    "'lambda arguments: expression'\n",
    "\n",
    "- arguments: The input arguments or parameters of the function.\n",
    "- expression: The single expression that is evaluated and returned as the function's result.\n",
    "\n",
    "Lambda functions are typically used in the following scenarios:\n",
    "\n",
    "1. Passing Functions as Arguments: Lambda functions are often used as arguments for higher-order functions like map(), filter(), and sorted(). They allow you to define simple operations on the fly without having to write a separate named function.\n",
    "\n",
    "2. Short, Simple Operations: When you need a concise function for a short and straightforward operation, lambda functions can be used to define it inline, making the code more compact and readable.\n",
    "\n",
    "3. Filtering: Lambda functions are often used with the filter() function to filter elements from an iterable based on a condition.\n",
    "\n",
    "4. Short-lived or Disposable Functions: Lambda functions are suitable for creating small, one-time-use functions that don't warrant a separate named function definition.\n",
    "\n",
    "5. Functional Programming: In functional programming paradigms, lambda functions are commonly used to express simple functions as first-class citizens, enabling higher-order functions and functional-style programming."
   ]
  },
  {
   "cell_type": "markdown",
   "id": "8d5d5396",
   "metadata": {},
   "source": [
    "### 2. Write a Python program that uses lambda functions to sort a list of tuples based on the second element.\n"
   ]
  },
  {
   "cell_type": "code",
   "execution_count": 26,
   "id": "a5ad8b20",
   "metadata": {},
   "outputs": [
    {
     "name": "stdout",
     "output_type": "stream",
     "text": [
      "[(3, 2), (2, 4), (1, 5)]\n"
     ]
    }
   ],
   "source": [
    "tuples = [(1, 5), (3, 2), (2, 4)]\n",
    "\n",
    "sorted_tuples = sorted(tuples, key=lambda x: x[1])\n",
    "\n",
    "print(sorted_tuples)"
   ]
  },
  {
   "cell_type": "markdown",
   "id": "3fbeac63",
   "metadata": {},
   "source": [
    "### 3. Explain the concept of higher-order functions in Python, and provide an example.\n"
   ]
  },
  {
   "cell_type": "markdown",
   "id": "cf5c1e66",
   "metadata": {},
   "source": [
    "A higher-order function is a function that can take one or more functions as arguments or can return a function as its result. Essentially, it treats functions as first-class citizens, allowing you to manipulate and work with them just like any other data type, such as integers or strings. Higher-order functions are a fundamental concept in functional programming and can lead to more flexible and expressive code.\n",
    "\n",
    "There are two common scenarios involving higher-order functions:\n",
    "\n",
    "Functions as Arguments: A higher-order function can accept other functions as arguments, enabling you to customize its behavior. These functions passed as arguments are often referred to as \"callback\" functions or \"function parameters.\"\n",
    "\n",
    "Functions as Return Values: A higher-order function can also generate and return functions as its output. This is particularly useful for creating specialized or customized functions on the fly."
   ]
  },
  {
   "cell_type": "code",
   "execution_count": 27,
   "id": "c1aa1411",
   "metadata": {},
   "outputs": [
    {
     "name": "stdout",
     "output_type": "stream",
     "text": [
      "8\n",
      "6\n",
      "12\n",
      "10\n",
      "12\n"
     ]
    }
   ],
   "source": [
    "# Scenario 1: Function as Argument\n",
    "def apply_operation(func, x, y):\n",
    "    \"\"\"\n",
    "    Applies a binary operation on two numbers using the provided function.\n",
    "    \"\"\"\n",
    "    return func(x, y)\n",
    "\n",
    "# Define some simple operations as functions\n",
    "def add(x, y):\n",
    "    return x + y\n",
    "\n",
    "def subtract(x, y):\n",
    "    return x - y\n",
    "\n",
    "def multiply(x, y):\n",
    "    return x * y\n",
    "\n",
    "# Use apply_operation to perform different operations\n",
    "result1 = apply_operation(add, 5, 3)\n",
    "result2 = apply_operation(subtract, 10, 4)\n",
    "result3 = apply_operation(multiply, 6, 2)\n",
    "\n",
    "print(result1)  # Output: 8\n",
    "print(result2)  # Output: 6\n",
    "print(result3)  # Output: 12\n",
    "\n",
    "# Scenario 2: Function as Return Value\n",
    "def create_multiplier(factor):\n",
    "    \"\"\"\n",
    "    Returns a function that multiplies a given number by the specified factor.\n",
    "    \"\"\"\n",
    "    def multiplier(x):\n",
    "        return x * factor\n",
    "    return multiplier\n",
    "\n",
    "# Create custom multiplier functions\n",
    "double = create_multiplier(2)\n",
    "triple = create_multiplier(3)\n",
    "\n",
    "# Use the custom multiplier functions\n",
    "result4 = double(5)\n",
    "result5 = triple(4)\n",
    "\n",
    "print(result4)  # Output: 10\n",
    "print(result5)  # Output: 12\n"
   ]
  },
  {
   "cell_type": "markdown",
   "id": "977249bd",
   "metadata": {},
   "source": [
    "### 4. Create a Python function that takes a list of numbers and a function as arguments, applying the function to each element in the list."
   ]
  },
  {
   "cell_type": "code",
   "execution_count": null,
   "id": "972fecf3",
   "metadata": {},
   "outputs": [],
   "source": []
  },
  {
   "cell_type": "markdown",
   "id": "599b8273",
   "metadata": {},
   "source": [
    "# Built-in Functions"
   ]
  },
  {
   "cell_type": "markdown",
   "id": "f39e714b",
   "metadata": {},
   "source": [
    "### 1. Describe the role of built-in functions like `len()`, `max()`, and `min()` in Python.\n"
   ]
  },
  {
   "cell_type": "markdown",
   "id": "2f4cb1bb",
   "metadata": {},
   "source": [
    "- len() : returns the number of items in an object\n",
    "- max() : returns the item with the highest value, or the item with the highest value in an iterable\n",
    "- min() :returns the item with the lowest value, or the item with the lowest value in an iterable"
   ]
  },
  {
   "cell_type": "markdown",
   "id": "7b2eb55a",
   "metadata": {},
   "source": [
    "### 2. Write a Python program that uses the `map()` function to apply a function to each element of a list.\n"
   ]
  },
  {
   "cell_type": "code",
   "execution_count": 20,
   "id": "a1af17bc",
   "metadata": {},
   "outputs": [
    {
     "name": "stdout",
     "output_type": "stream",
     "text": [
      "[4, 25, 49, 7921, 36, 16, 25]\n"
     ]
    }
   ],
   "source": [
    "l = [2,5,7,89,6,4,5]\n",
    "\n",
    "mapping = list(map(lambda x : x**2, l))\n",
    "\n",
    "print(mapping)"
   ]
  },
  {
   "cell_type": "markdown",
   "id": "db1ae990",
   "metadata": {},
   "source": [
    "### 3. How does the `filter()` function work in Python, and when would you use it?\n"
   ]
  },
  {
   "cell_type": "markdown",
   "id": "03b06c6a",
   "metadata": {},
   "source": [
    "The `filter()` function in Python is used to filter elements from an iterable (e.g., a list, tuple, or other iterable) based on a specified function or condition. It creates a new iterable containing only those elements from the original iterable that satisfy the given condition. In essence, it allows you to selectively include or exclude elements from an iterable based on your criteria.\n",
    "\n",
    "The general syntax of the `filter()` function is as follows:\n",
    "\n",
    "```python\n",
    "filter(function, iterable)\n",
    "```\n",
    "\n",
    "- `function`: The function that defines the condition for filtering. This function should return `True` for elements you want to keep and `False` for elements you want to filter out.\n",
    "- `iterable`: The iterable from which you want to filter elements.\n",
    "\n",
    "Here's how the `filter()` function works:\n",
    "\n",
    "1. For each element in the `iterable`, the `function` is applied.\n",
    "2. If the `function` returns `True` for an element, that element is included in the filtered result.\n",
    "3. If the `function` returns `False` for an element, that element is excluded from the filtered result.\n"
   ]
  },
  {
   "cell_type": "code",
   "execution_count": 19,
   "id": "8309b5db",
   "metadata": {},
   "outputs": [
    {
     "name": "stdout",
     "output_type": "stream",
     "text": [
      "[2, 4, 6, 8]\n"
     ]
    }
   ],
   "source": [
    "def is_even(x):\n",
    "    return x % 2 == 0\n",
    "\n",
    "numbers = [1, 2, 3, 4, 5, 6, 7, 8, 9]\n",
    "\n",
    "filtered_numbers = list(filter(is_even, numbers))\n",
    "\n",
    "print(filtered_numbers)"
   ]
  },
  {
   "cell_type": "markdown",
   "id": "1306ea15",
   "metadata": {},
   "source": [
    "### 4. Create a Python program that uses the `reduce()` function to find the product of all elementsin a list.\n"
   ]
  },
  {
   "cell_type": "code",
   "execution_count": 18,
   "id": "8d8b62b9",
   "metadata": {},
   "outputs": [
    {
     "name": "stdout",
     "output_type": "stream",
     "text": [
      "The product of all elements in the list is: 2160\n"
     ]
    }
   ],
   "source": [
    "from functools import reduce\n",
    "\n",
    "\n",
    "def multiply(x, y):\n",
    "    return x * y\n",
    "\n",
    "numbers = [2,3,5,8,9]\n",
    "\n",
    "product = reduce(multiply, numbers)\n",
    "\n",
    "print(f\"The product of all elements in the list is: {product}\")\n",
    "\n"
   ]
  },
  {
   "cell_type": "markdown",
   "id": "8024c997",
   "metadata": {},
   "source": [
    "# Function Documentation and Best Practices"
   ]
  },
  {
   "cell_type": "markdown",
   "id": "a8e50ed5",
   "metadata": {},
   "source": [
    "### 1. Explain the purpose of docstrings in Python functions and how to write them.\n"
   ]
  },
  {
   "cell_type": "markdown",
   "id": "ca7fcc34",
   "metadata": {},
   "source": [
    "Docstrings in Python functions serve as documentation for your code. They are strings that provide information about the purpose and usage of a function, including details about its parameters, return values, and any additional information that may be helpful for developers using the function. Properly documented code is easier to understand, maintain, and collaborate on.\n",
    "\n",
    "The key purposes of docstrings are as follows:\n",
    "\n",
    "1. **Documentation:** Docstrings help explain what a function does, what arguments it takes, and how it should be used. They serve as a form of self-documentation for your code.\n",
    "\n",
    "2. **Readability:** Well-written docstrings make your code more readable and accessible to other developers who may work on it. It also helps you remember how to use your own functions.\n",
    "\n",
    "3. **Auto-Generated Documentation:** Docstrings can be automatically extracted by documentation generation tools (e.g., Sphinx, Doxygen) to generate user-friendly documentation for your codebase.\n",
    "\n",
    "To write docstrings in Python functions, follow these guidelines:\n",
    "\n",
    "1. **Placement:** Docstrings are placed as the first statement in a function definition (after the function signature) and are enclosed in triple-quotes (either single or double quotes). Conventionally, they are placed within triple double-quotes (`\"\"\"`) for consistency.\n",
    "\n",
    "2. **Format:** While there's no strict format for docstrings, it's common to include the following sections:\n",
    "\n",
    "   - A brief one-line description of the function's purpose (a summary).\n",
    "   - Detailed descriptions of function parameters, specifying their data types, and whether they are optional or required.\n",
    "   - An explanation of the return value(s) and any exceptions that may be raised.\n",
    "   - Additional notes, examples, or usage guidelines.\n",
    "\n"
   ]
  },
  {
   "cell_type": "code",
   "execution_count": 11,
   "id": "7178b1e1",
   "metadata": {},
   "outputs": [],
   "source": [
    "def add(a, b):\n",
    "    \"\"\"\n",
    "    Calculate the sum of two numbers.\n",
    "\n",
    "    Parameters:\n",
    "    a (int or float): The first number.\n",
    "    b (int or float): The second number.\n",
    "\n",
    "    Returns:\n",
    "    int or float: The sum of a and b.\n",
    "\n",
    "    Example:\n",
    "    >>> add(2, 3)\n",
    "    5\n",
    "    >>> add(1.5, 2.5)\n",
    "    4.0\n",
    "    \"\"\"\n",
    "    return a + b\n"
   ]
  },
  {
   "cell_type": "markdown",
   "id": "5c457bf3",
   "metadata": {},
   "source": [
    "### 2. Describe some best practices for naming functions and variables in Python, including naming conventions and guidelines"
   ]
  },
  {
   "cell_type": "markdown",
   "id": "5ba89e50",
   "metadata": {},
   "source": [
    "1. Use descriptive and meaningful names\n",
    "Variable names should be descriptive and meaningful. They should describe what the variable represents or contains. For example, if you are writing a program that calculates the area of a circle, you might name your variable \"radius\" or \"area\". Avoid using generic or meaningless names such as \"x\" or \"temp\".\n",
    "\n",
    "2. Follow a consistent naming convention\n",
    "It's important to follow a consistent naming convention to make your code more readable and understandable. There are several naming conventions that you can follow, but the most common ones are:\n",
    "\n",
    "    - CamelCase: This convention capitalizes the first letter of each word except for the first word. For example, \"firstName\" or \"lastName\".\n",
    "    - snake_case: This convention uses underscores to separate words. For example, \"first_name\" or \"last_name\".\n",
    "\n",
    "Choose a naming convention and stick to it throughout your code.\n",
    "\n",
    "3. Avoid reserved keywords\n",
    "Avoid using reserved keywords as variable names. Python has several reserved keywords that have special meanings in the language. Using reserved keywords as variable names can cause syntax errors and make your code hard to read. Some examples of reserved keywords are \"if\", \"while\", \"for\", and \"print\".\n",
    "\n",
    "4. Don't use abbreviations\n",
    "Avoid using abbreviations in your variable names. Abbreviations can be confusing and may not be understandable to other developers. Instead, use full and descriptive names.\n",
    "\n",
    "5. Be mindful of variable scope\n",
    "Be mindful of the scope of your variables. Variables should be defined in the smallest possible scope to avoid naming conflicts and improve readability. For example, if you have a function that uses a variable, define that variable inside the function instead of at the global level."
   ]
  },
  {
   "cell_type": "code",
   "execution_count": null,
   "id": "66cdc5bf",
   "metadata": {},
   "outputs": [],
   "source": []
  }
 ],
 "metadata": {
  "kernelspec": {
   "display_name": "Python 3 (ipykernel)",
   "language": "python",
   "name": "python3"
  },
  "language_info": {
   "codemirror_mode": {
    "name": "ipython",
    "version": 3
   },
   "file_extension": ".py",
   "mimetype": "text/x-python",
   "name": "python",
   "nbconvert_exporter": "python",
   "pygments_lexer": "ipython3",
   "version": "3.9.7"
  }
 },
 "nbformat": 4,
 "nbformat_minor": 5
}
