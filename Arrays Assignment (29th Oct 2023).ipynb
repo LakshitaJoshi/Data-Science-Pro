{
 "cells": [
  {
   "cell_type": "markdown",
   "id": "eedf961a-9fdd-4652-a28b-11472d63afe8",
   "metadata": {},
   "source": [
    "### 1. Given an array, check if it contains any duplicates or not.\n",
    "arr = [1, 2, 4, 2, 5, 9]\n",
    "\n",
    "Output = True\n",
    "e = [1, 2, 3, 4, 5]"
   ]
  },
  {
   "cell_type": "code",
   "execution_count": 1,
   "id": "f32c2319-2a68-4d20-9cfb-55fad3001c6c",
   "metadata": {},
   "outputs": [
    {
     "data": {
      "text/plain": [
       "True"
      ]
     },
     "execution_count": 1,
     "metadata": {},
     "output_type": "execute_result"
    }
   ],
   "source": [
    "def checkDuplicates(arr):\n",
    "    ans = set()\n",
    "    for element in arr:\n",
    "        if element in ans:\n",
    "            return True\n",
    "        ans.add(element)\n",
    "    return False\n",
    "\n",
    "arr = [1,2,4,2,5]\n",
    "checkDuplicates(arr)\n"
   ]
  },
  {
   "cell_type": "markdown",
   "id": "24c412aa-a01d-48d8-9d08-433ca1df39b6",
   "metadata": {},
   "source": [
    "#### 2. Given an array and an integer k, rotate the array to the right by k steps.\n",
    "arr = [1, 2, 3, 4, 5, 6, 7] k = 3\n",
    "\n",
    "Output = [5, 6, 7, 1, 2, 3, 4]\n",
    "\n"
   ]
  },
  {
   "cell_type": "code",
   "execution_count": 2,
   "id": "770736a6-dcf4-4ea8-a24d-6e10e96e1e09",
   "metadata": {},
   "outputs": [
    {
     "name": "stdout",
     "output_type": "stream",
     "text": [
      "[5, 6, 7, 1, 2, 3, 4]\n"
     ]
    }
   ],
   "source": [
    "def rotateRight(arr, k):\n",
    "    n = len(arr)\n",
    "    k = k % n\n",
    "    arr[:] = arr[-k:] + arr[:-k]\n",
    "\n",
    "arr = [1, 2, 3, 4, 5, 6, 7]\n",
    "k = 3\n",
    "\n",
    "rotateRight(arr, k)\n",
    "print(arr)"
   ]
  },
  {
   "cell_type": "markdown",
   "id": "eb23c5d0-1790-4961-951f-037c8121273d",
   "metadata": {},
   "source": [
    "#### 3. Reverse the given array in-place, means without using any extra data structure.\n",
    "arr = [2, 4, 5, 7, 9, 12]\n",
    "Output = [12, 9, 7, 5, 4, 2]\n",
    "\n"
   ]
  },
  {
   "cell_type": "code",
   "execution_count": 3,
   "id": "4ae04a59-e0ec-4c85-80aa-90aa03d342ea",
   "metadata": {},
   "outputs": [
    {
     "name": "stdout",
     "output_type": "stream",
     "text": [
      "[12, 9, 7, 5, 4, 2]\n"
     ]
    }
   ],
   "source": [
    "def reveseArray(arr):\n",
    "    start, end = 0, len(arr)-1\n",
    "\n",
    "    while start < end:\n",
    "        arr[start], arr[end] = arr[end], arr[start]\n",
    "        start += 1\n",
    "        end -= 1\n",
    "            \n",
    "arr = [2, 4, 5, 7, 9, 12] \n",
    "reveseArray(arr)\n",
    "print(arr)"
   ]
  },
  {
   "cell_type": "markdown",
   "id": "8cb99d69-1491-4e4b-bb2d-e2af6433967e",
   "metadata": {},
   "source": [
    "#### 4. Given an array of integers, find the maximum element in an array\n",
    "arr = [10, 5, 20, 8, 15]\n",
    "\n",
    "Output = 20\n",
    "\n"
   ]
  },
  {
   "cell_type": "code",
   "execution_count": 4,
   "id": "f824b230-da83-4810-a207-d3062f49beec",
   "metadata": {},
   "outputs": [
    {
     "data": {
      "text/plain": [
       "20"
      ]
     },
     "execution_count": 4,
     "metadata": {},
     "output_type": "execute_result"
    }
   ],
   "source": [
    "def findMax(arr):\n",
    "    max = arr[0]\n",
    "    for i in range(1, len(arr)):\n",
    "        if arr[i] > max:\n",
    "            max = arr[i]\n",
    "    return max\n",
    "\n",
    "arr = [10, 5, 20, 8, 15]\n",
    "findMax(arr)"
   ]
  },
  {
   "cell_type": "markdown",
   "id": "e4ae7ff5-1e9e-43b9-babe-a116fc512cbb",
   "metadata": {},
   "source": [
    "#### 5. Given a sorted array, remove the duplicate element without using any extra data structure.\n",
    "arr = [1, 1, 2, 2, 2, 3, 3, 4, 4, 4, 5, 5]\n",
    "\n",
    "Output = [1, 2, 3, 4, 5]\n"
   ]
  },
  {
   "cell_type": "code",
   "execution_count": 5,
   "id": "e878bc19-14cf-4885-830a-08ce10aaa8f9",
   "metadata": {},
   "outputs": [
    {
     "name": "stdout",
     "output_type": "stream",
     "text": [
      "[1, 2, 3, 4, 5]\n"
     ]
    }
   ],
   "source": [
    "def removeDuplicates(arr):\n",
    "    n = len(arr)\n",
    "    if n == 0:\n",
    "        return arr\n",
    "    index = 1 # next index for a unique element\n",
    "    for i in range(1, n):\n",
    "        if arr[i] != arr[i - 1]:\n",
    "            arr[index] = arr[i]\n",
    "            index += 1\n",
    "    arr[:] = arr[:index]\n",
    "\n",
    "arr = [1, 1, 2, 2, 2, 3, 3, 4, 4, 4, 5, 5]\n",
    "removeDuplicates(arr)\n",
    "print(arr)"
   ]
  },
  {
   "cell_type": "code",
   "execution_count": null,
   "id": "1b452d50-4d2d-4dc9-bf46-41833b510c34",
   "metadata": {},
   "outputs": [],
   "source": []
  }
 ],
 "metadata": {
  "kernelspec": {
   "display_name": "Python 3 (ipykernel)",
   "language": "python",
   "name": "python3"
  },
  "language_info": {
   "codemirror_mode": {
    "name": "ipython",
    "version": 3
   },
   "file_extension": ".py",
   "mimetype": "text/x-python",
   "name": "python",
   "nbconvert_exporter": "python",
   "pygments_lexer": "ipython3",
   "version": "3.9.18"
  }
 },
 "nbformat": 4,
 "nbformat_minor": 5
}
