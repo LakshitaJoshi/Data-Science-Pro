{
 "cells": [
  {
   "cell_type": "markdown",
   "id": "b6f3e8eb",
   "metadata": {},
   "source": [
    "### 1. Create a tuple with integers from 1 to 5.\n"
   ]
  },
  {
   "cell_type": "code",
   "execution_count": 13,
   "id": "b2966462",
   "metadata": {},
   "outputs": [
    {
     "name": "stdout",
     "output_type": "stream",
     "text": [
      "(1, 2, 3, 4, 5)\n"
     ]
    }
   ],
   "source": [
    "t = tuple(range(1,6))\n",
    "print(t)"
   ]
  },
  {
   "cell_type": "markdown",
   "id": "bebf7d1e",
   "metadata": {},
   "source": [
    "### 2. Access the third element of a tuple.\n"
   ]
  },
  {
   "cell_type": "code",
   "execution_count": 3,
   "id": "a04d19c4",
   "metadata": {},
   "outputs": [
    {
     "data": {
      "text/plain": [
       "3"
      ]
     },
     "execution_count": 3,
     "metadata": {},
     "output_type": "execute_result"
    }
   ],
   "source": [
    "t = (1,2,3,4,5)\n",
    "t[2]"
   ]
  },
  {
   "cell_type": "markdown",
   "id": "7142c206",
   "metadata": {},
   "source": [
    "### 3. Find the length of a tuple without using the `len()` function.\n"
   ]
  },
  {
   "cell_type": "code",
   "execution_count": 4,
   "id": "3f5637ff",
   "metadata": {},
   "outputs": [
    {
     "name": "stdout",
     "output_type": "stream",
     "text": [
      "5\n"
     ]
    }
   ],
   "source": [
    "t = (1,2,3,4,5)\n",
    "length = 0\n",
    "\n",
    "for i in t:\n",
    "    length +=1\n",
    "    \n",
    "print(length)"
   ]
  },
  {
   "cell_type": "markdown",
   "id": "4fce3356",
   "metadata": {},
   "source": [
    "### 4. Count the occurrences of an element in a tuple."
   ]
  },
  {
   "cell_type": "code",
   "execution_count": 7,
   "id": "13f11d0c",
   "metadata": {},
   "outputs": [
    {
     "name": "stdout",
     "output_type": "stream",
     "text": [
      "(1, 1, 2, 2, 2, 3, 3, 3, 3, 3, 3, 4, 4, 4, 4, 4, 4, 4, 4, 4, 4, 4, 5, 5, 5, 5, 5, 5, 5, 5, 5, 5, 5, 5, 5)\n",
      "Enter the number fromthe above you want to check the occurence of : 4\n",
      "11\n"
     ]
    }
   ],
   "source": [
    "t = (1,1,2,2,2,3,3,3,3,3,3,4,4,4,4,4,4,4,4,4,4,4,5,5,5,5,5,5,5,5,5,5,5,5,5)\n",
    "print(t)\n",
    "\n",
    "count = 0\n",
    "\n",
    "n = int(input('Enter the number fromthe above you want to check the occurence of : '))\n",
    "\n",
    "for i in t:\n",
    "    if i == n:\n",
    "        count += 1\n",
    "        \n",
    "print(count)\n"
   ]
  },
  {
   "cell_type": "markdown",
   "id": "2c7fdc92",
   "metadata": {},
   "source": [
    "### 5. Find the index of the first occurrence of an element in a tuple.\n"
   ]
  },
  {
   "cell_type": "code",
   "execution_count": 2,
   "id": "0e650529",
   "metadata": {},
   "outputs": [
    {
     "name": "stdout",
     "output_type": "stream",
     "text": [
      "(1, 1, 2, 2, 2, 3, 3, 3, 3, 3, 3, 4, 4, 4, 4, 4, 4, 4, 4, 4, 4, 4, 5, 5, 5, 5, 5, 5, 5, 5, 5, 5, 5, 5, 5)\n",
      "Enter the number fromthe above you want to check the first occurence of : 3\n"
     ]
    },
    {
     "data": {
      "text/plain": [
       "5"
      ]
     },
     "execution_count": 2,
     "metadata": {},
     "output_type": "execute_result"
    }
   ],
   "source": [
    "t = (1,1,2,2,2,3,3,3,3,3,3,4,4,4,4,4,4,4,4,4,4,4,5,5,5,5,5,5,5,5,5,5,5,5,5)\n",
    "print(t)\n",
    "\n",
    "n = int(input('Enter the number fromthe above you want to check the first occurence of : '))\n",
    "\n",
    "t.index(n)\n",
    "        \n"
   ]
  },
  {
   "cell_type": "markdown",
   "id": "a6632361",
   "metadata": {},
   "source": [
    "### 6. Check if an element exists in a tuple.\n"
   ]
  },
  {
   "cell_type": "code",
   "execution_count": 1,
   "id": "86c4c5eb",
   "metadata": {},
   "outputs": [
    {
     "name": "stdout",
     "output_type": "stream",
     "text": [
      "6\n",
      "No 6 is not present in the tuple\n"
     ]
    }
   ],
   "source": [
    "t = (1,2,3,4,5)\n",
    "n = int(input())\n",
    "\n",
    "if n in t:\n",
    "    print('Yes', n, 'is present in the tuple')\n",
    "else:\n",
    "    print('No', n, 'is not present in the tuple')"
   ]
  },
  {
   "cell_type": "code",
   "execution_count": 2,
   "id": "8e0e7258",
   "metadata": {},
   "outputs": [
    {
     "name": "stdout",
     "output_type": "stream",
     "text": [
      "5\n",
      "Yes 5 is present in the tuple\n"
     ]
    }
   ],
   "source": [
    "t = (1,2,3,4,5)\n",
    "n = int(input())\n",
    "\n",
    "if n in t:\n",
    "    print('Yes', n, 'is present in the tuple')\n",
    "else:\n",
    "    print('No', n, 'is not present in the tuple')"
   ]
  },
  {
   "cell_type": "markdown",
   "id": "1d3e78e0",
   "metadata": {},
   "source": [
    "### 7. Convert a tuple to a list.\n"
   ]
  },
  {
   "cell_type": "code",
   "execution_count": 11,
   "id": "5fa74e43",
   "metadata": {},
   "outputs": [
    {
     "name": "stdout",
     "output_type": "stream",
     "text": [
      "[1, 2, 3, 4, 5]\n"
     ]
    },
    {
     "data": {
      "text/plain": [
       "list"
      ]
     },
     "execution_count": 11,
     "metadata": {},
     "output_type": "execute_result"
    }
   ],
   "source": [
    "t = (1,2,3,4,5)\n",
    "\n",
    "l = list(t)\n",
    "\n",
    "print(l)\n",
    "type(l)"
   ]
  },
  {
   "cell_type": "markdown",
   "id": "bcd5949d",
   "metadata": {},
   "source": [
    "### 8. Convert a list to a tuple.\n"
   ]
  },
  {
   "cell_type": "code",
   "execution_count": 12,
   "id": "382a47ee",
   "metadata": {},
   "outputs": [
    {
     "name": "stdout",
     "output_type": "stream",
     "text": [
      "(1, 2, 3, 4, 5)\n"
     ]
    },
    {
     "data": {
      "text/plain": [
       "tuple"
      ]
     },
     "execution_count": 12,
     "metadata": {},
     "output_type": "execute_result"
    }
   ],
   "source": [
    "l = [1,2,3,4,5]\n",
    "\n",
    "t = tuple(l)\n",
    "\n",
    "print(t)\n",
    "type(t)"
   ]
  },
  {
   "cell_type": "markdown",
   "id": "cab2c246",
   "metadata": {},
   "source": [
    "### 9. Unpack the elements of a tuple into variables.\n"
   ]
  },
  {
   "cell_type": "code",
   "execution_count": 6,
   "id": "754256e5",
   "metadata": {},
   "outputs": [
    {
     "name": "stdout",
     "output_type": "stream",
     "text": [
      "apple\n",
      "mango\n",
      "25\n"
     ]
    }
   ],
   "source": [
    "x, y, z = ('apple', 'mango', 25)\n",
    "\n",
    "print(x)\n",
    "print(y)\n",
    "print(z)"
   ]
  },
  {
   "cell_type": "code",
   "execution_count": 7,
   "id": "2d3f9c8b",
   "metadata": {},
   "outputs": [
    {
     "name": "stdout",
     "output_type": "stream",
     "text": [
      "apple\n",
      "mango\n",
      "25\n"
     ]
    }
   ],
   "source": [
    "a = ('apple', 'mango', 25)\n",
    "\n",
    "(x,y,z) = a\n",
    "\n",
    "print(x)\n",
    "print(y)\n",
    "print(z)"
   ]
  },
  {
   "cell_type": "markdown",
   "id": "87928c73",
   "metadata": {},
   "source": [
    "### 10. Create a tuple of even numbers from 1 to 10.\n"
   ]
  },
  {
   "cell_type": "code",
   "execution_count": 12,
   "id": "43213e37",
   "metadata": {},
   "outputs": [
    {
     "name": "stdout",
     "output_type": "stream",
     "text": [
      "(2, 4, 6, 8, 10)\n"
     ]
    }
   ],
   "source": [
    "t = tuple(range(2,11,2))\n",
    "print(t)\n",
    "        "
   ]
  },
  {
   "cell_type": "markdown",
   "id": "4233b21d",
   "metadata": {},
   "source": [
    "### 11. Create a tuple of odd numbers from 1 to 10.\n"
   ]
  },
  {
   "cell_type": "code",
   "execution_count": 10,
   "id": "6af8f5de",
   "metadata": {},
   "outputs": [
    {
     "name": "stdout",
     "output_type": "stream",
     "text": [
      "(1, 3, 5, 7, 9)\n"
     ]
    }
   ],
   "source": [
    "t = tuple(range(1,10,2))\n",
    "print(t)"
   ]
  },
  {
   "cell_type": "markdown",
   "id": "9ba6b477",
   "metadata": {},
   "source": [
    "### 12. Concatenate two tuples.\n",
    "\n"
   ]
  },
  {
   "cell_type": "code",
   "execution_count": 15,
   "id": "ebff7d6e",
   "metadata": {},
   "outputs": [
    {
     "name": "stdout",
     "output_type": "stream",
     "text": [
      "[1, 3, 5, 7, 9, 2, 4, 6, 8, 10]\n"
     ]
    }
   ],
   "source": [
    "t1 = (1, 3, 5, 7, 9)\n",
    "t2 = (2, 4, 6, 8, 10)\n",
    "\n",
    "t3 = t1+t2\n",
    "\n",
    "print(t3)"
   ]
  },
  {
   "cell_type": "markdown",
   "id": "792fa6ee",
   "metadata": {},
   "source": [
    "\n",
    "### 13. Repeat a tuple three times.\n"
   ]
  },
  {
   "cell_type": "code",
   "execution_count": 5,
   "id": "ee924e3d",
   "metadata": {},
   "outputs": [
    {
     "data": {
      "text/plain": [
       "[1, 3, 5, 7, 9, 1, 3, 5, 7, 9, 1, 3, 5, 7, 9]"
      ]
     },
     "execution_count": 5,
     "metadata": {},
     "output_type": "execute_result"
    }
   ],
   "source": [
    "t = (1, 3, 5, 7, 9) *3\n",
    "\n",
    "t"
   ]
  },
  {
   "cell_type": "markdown",
   "id": "fc72854b",
   "metadata": {},
   "source": [
    "# 14. Check if a tuple is empty.\n"
   ]
  },
  {
   "cell_type": "code",
   "execution_count": 3,
   "id": "c3fc6541",
   "metadata": {},
   "outputs": [
    {
     "name": "stdout",
     "output_type": "stream",
     "text": [
      "[1, 2, 3] is not an empty tuple\n"
     ]
    }
   ],
   "source": [
    "t = (1,2,3)\n",
    "\n",
    "    \n",
    "if not t:\n",
    "    print(t, 'is an empty tuple')\n",
    "else:\n",
    "    print(t, 'is not an empty tuple')"
   ]
  },
  {
   "cell_type": "code",
   "execution_count": 4,
   "id": "5b9dd4a1",
   "metadata": {},
   "outputs": [
    {
     "name": "stdout",
     "output_type": "stream",
     "text": [
      "[] is an empty tuple\n"
     ]
    }
   ],
   "source": [
    "t = ()\n",
    "\n",
    "    \n",
    "if not t:\n",
    "    print(t, 'is an empty tuple')\n",
    "else:\n",
    "    print(t, 'is not an empty tuple')"
   ]
  },
  {
   "cell_type": "markdown",
   "id": "1e852e33",
   "metadata": {},
   "source": [
    "### 15. Create a nested tuple.\n"
   ]
  },
  {
   "cell_type": "code",
   "execution_count": 15,
   "id": "b1c4f641",
   "metadata": {},
   "outputs": [
    {
     "data": {
      "text/plain": [
       "((1, 2, 3), ('a', 'b', 'c'), (True, False))"
      ]
     },
     "execution_count": 15,
     "metadata": {},
     "output_type": "execute_result"
    }
   ],
   "source": [
    "nested_tuple = (('a','b','c'), (1,2,3), ('abc', 123))\n",
    "\n",
    "nested_tuple"
   ]
  },
  {
   "cell_type": "markdown",
   "id": "3c1a280c",
   "metadata": {},
   "source": [
    "### 16. Access the first element of a nested tuple.\n"
   ]
  },
  {
   "cell_type": "code",
   "execution_count": 16,
   "id": "89bd800a",
   "metadata": {},
   "outputs": [
    {
     "data": {
      "text/plain": [
       "'a'"
      ]
     },
     "execution_count": 16,
     "metadata": {},
     "output_type": "execute_result"
    }
   ],
   "source": [
    "nt = (('a','b','c'), (1,2,3), ('abc', 123))\n",
    "\n",
    "nt[0][0]"
   ]
  },
  {
   "cell_type": "markdown",
   "id": "209abfa2",
   "metadata": {},
   "source": [
    "### 17. Create a tuple with a single element.\n"
   ]
  },
  {
   "cell_type": "code",
   "execution_count": 17,
   "id": "69c7c527",
   "metadata": {},
   "outputs": [
    {
     "data": {
      "text/plain": [
       "4"
      ]
     },
     "execution_count": 17,
     "metadata": {},
     "output_type": "execute_result"
    }
   ],
   "source": [
    "t = (4)\n",
    "t"
   ]
  },
  {
   "cell_type": "markdown",
   "id": "fdb61374",
   "metadata": {},
   "source": [
    "### 18. Compare two tuples.\n"
   ]
  },
  {
   "cell_type": "code",
   "execution_count": 34,
   "id": "d6ab1173",
   "metadata": {},
   "outputs": [
    {
     "name": "stdout",
     "output_type": "stream",
     "text": [
      "Enter tuple 1 : 1,2,3\n",
      "Enter tuple 2 : 2,2,3\n",
      "('2', ',', '2', ',', '3') > ('1', ',', '2', ',', '3')\n"
     ]
    }
   ],
   "source": [
    "t1 = tuple(input('Enter tuple 1 : ').split())\n",
    "t2 = tuple(input('Enter tuple 2 : ').split())\n",
    "\n",
    "if t1>t2:\n",
    "    print(t1,'>', t2)\n",
    "elif t2>t1:\n",
    "     print(t2,'>', t1)\n",
    "    \n",
    "elif t1 == t2:\n",
    "    print(t,'==', t)\n",
    "    \n",
    "else:\n",
    "    print(t,'!=>', t)"
   ]
  },
  {
   "cell_type": "markdown",
   "id": "48cc9bc4",
   "metadata": {},
   "source": [
    "### 19. Delete a tuple.\n"
   ]
  },
  {
   "cell_type": "code",
   "execution_count": 3,
   "id": "6451e5ac",
   "metadata": {},
   "outputs": [],
   "source": [
    "t = (2,3,4,5)\n",
    "\n",
    "del t"
   ]
  },
  {
   "cell_type": "markdown",
   "id": "1581ba5a",
   "metadata": {},
   "source": [
    "### 20. Slice a tuple.\n"
   ]
  },
  {
   "cell_type": "code",
   "execution_count": 22,
   "id": "b7b00f3d",
   "metadata": {},
   "outputs": [
    {
     "data": {
      "text/plain": [
       "(4, 5, 6, 7, 8)"
      ]
     },
     "execution_count": 22,
     "metadata": {},
     "output_type": "execute_result"
    }
   ],
   "source": [
    "t = (1,2,3,4,5,6,7,8,9,10,11,12,13,14,15)\n",
    "\n",
    "t[3:8]"
   ]
  },
  {
   "cell_type": "markdown",
   "id": "f80d35b2",
   "metadata": {},
   "source": [
    "### 21. Find the maximum value in a tuple.\n"
   ]
  },
  {
   "cell_type": "code",
   "execution_count": 24,
   "id": "ec828459",
   "metadata": {},
   "outputs": [
    {
     "data": {
      "text/plain": [
       "99"
      ]
     },
     "execution_count": 24,
     "metadata": {},
     "output_type": "execute_result"
    }
   ],
   "source": [
    "t = (1,2,3,4,5,6,7,8,99,10,11,12,13,14,15)\n",
    "\n",
    "max(t)"
   ]
  },
  {
   "cell_type": "markdown",
   "id": "f6a033c1",
   "metadata": {},
   "source": [
    "### 22. Find the minimum value in a tuple.\n"
   ]
  },
  {
   "cell_type": "code",
   "execution_count": 25,
   "id": "fccd0d79",
   "metadata": {},
   "outputs": [
    {
     "data": {
      "text/plain": [
       "0"
      ]
     },
     "execution_count": 25,
     "metadata": {},
     "output_type": "execute_result"
    }
   ],
   "source": [
    "t = (1,2,3,4,5,6,7,8,99,10,11,12,13,14,0,15)\n",
    "\n",
    "min(t)"
   ]
  },
  {
   "cell_type": "markdown",
   "id": "da99ffa4",
   "metadata": {},
   "source": [
    "### 23. Convert a string to a tuple of characters.\n"
   ]
  },
  {
   "cell_type": "code",
   "execution_count": 27,
   "id": "257da27f",
   "metadata": {},
   "outputs": [
    {
     "data": {
      "text/plain": [
       "('h', 'e', 'l', 'l', 'o', ' ', 'a', 'l', 'l')"
      ]
     },
     "execution_count": 27,
     "metadata": {},
     "output_type": "execute_result"
    }
   ],
   "source": [
    "s = 'hello all'\n",
    "\n",
    "t = tuple(s)\n",
    "t"
   ]
  },
  {
   "cell_type": "markdown",
   "id": "a8311042",
   "metadata": {},
   "source": [
    "### 24. Convert a tuple of characters to a string.\n"
   ]
  },
  {
   "cell_type": "code",
   "execution_count": 29,
   "id": "6c407150",
   "metadata": {},
   "outputs": [
    {
     "data": {
      "text/plain": [
       "'hello all'"
      ]
     },
     "execution_count": 29,
     "metadata": {},
     "output_type": "execute_result"
    }
   ],
   "source": [
    "t = ('h', 'e', 'l', 'l', 'o', ' ', 'a', 'l', 'l')\n",
    "\n",
    "s = ''.join(t)\n",
    "s"
   ]
  },
  {
   "cell_type": "markdown",
   "id": "4c04458e",
   "metadata": {},
   "source": [
    "### 25. Create a tuple from multiple data types.\n"
   ]
  },
  {
   "cell_type": "code",
   "execution_count": 30,
   "id": "6bee5dfb",
   "metadata": {},
   "outputs": [
    {
     "data": {
      "text/plain": [
       "(1, 'Hello', 3.14, True, [4, 5, 6])"
      ]
     },
     "execution_count": 30,
     "metadata": {},
     "output_type": "execute_result"
    }
   ],
   "source": [
    "t = (1, \"Hello\", 3.14, True, [4, 5, 6])\n",
    "t"
   ]
  },
  {
   "cell_type": "markdown",
   "id": "8892bba9",
   "metadata": {},
   "source": [
    "### 26. Check if two tuples are identical.\n"
   ]
  },
  {
   "cell_type": "code",
   "execution_count": 35,
   "id": "337df551",
   "metadata": {},
   "outputs": [
    {
     "name": "stdout",
     "output_type": "stream",
     "text": [
      "Enter tuple 1 : 1,2,3\n",
      "Enter tuple 2 : 1,2,3\n",
      "('1,2,3',) are identical ('1,2,3',)\n"
     ]
    }
   ],
   "source": [
    "t1 = tuple(input('Enter tuple 1 : ').split())\n",
    "t2 = tuple(input('Enter tuple 2 : ').split())\n",
    "    \n",
    "if t1 == t2:\n",
    "    print(t1,'are identical', t2)\n",
    "else:\n",
    "    print(t1,'are not identical', t2)"
   ]
  },
  {
   "cell_type": "code",
   "execution_count": 36,
   "id": "069e9b21",
   "metadata": {},
   "outputs": [
    {
     "name": "stdout",
     "output_type": "stream",
     "text": [
      "Enter tuple 1 : 1,2,3\n",
      "Enter tuple 2 : 1,3,3\n",
      "('1,2,3',) are not identical ('1,3,3',)\n"
     ]
    }
   ],
   "source": [
    "t1 = tuple(input('Enter tuple 1 : ').split())\n",
    "t2 = tuple(input('Enter tuple 2 : ').split())\n",
    "    \n",
    "if t1 == t2:\n",
    "    print(t1,'are identical', t2)\n",
    "else:\n",
    "    print(t1,'are not identical', t2)"
   ]
  },
  {
   "cell_type": "markdown",
   "id": "cd8e193b",
   "metadata": {},
   "source": [
    "### 27. Sort the elements of a tuple.\n"
   ]
  },
  {
   "cell_type": "code",
   "execution_count": 44,
   "id": "499acbef",
   "metadata": {},
   "outputs": [
    {
     "data": {
      "text/plain": [
       "[0, 2, 2, 4, 5, 6, 6, 7, 8, 8]"
      ]
     },
     "execution_count": 44,
     "metadata": {},
     "output_type": "execute_result"
    }
   ],
   "source": [
    "t = (4,5,8,2,6,7,8,6,2,0)\n",
    "\n",
    "t1 = sorted(t)\n",
    "\n",
    "t1"
   ]
  },
  {
   "cell_type": "markdown",
   "id": "cef76b33",
   "metadata": {},
   "source": [
    "### 28. Convert a tuple of integers to a tuple of strings.\n"
   ]
  },
  {
   "cell_type": "code",
   "execution_count": 3,
   "id": "c0e6c482",
   "metadata": {},
   "outputs": [
    {
     "data": {
      "text/plain": [
       "('1', '2', '3', '4', '5', '6', '7', '8', '9')"
      ]
     },
     "execution_count": 3,
     "metadata": {},
     "output_type": "execute_result"
    }
   ],
   "source": [
    "t_int = (1,2,3,4,5,6,7,8,9)\n",
    "\n",
    "t_str = tuple(map(str, t_int)\n",
    "t_str"
   ]
  },
  {
   "cell_type": "markdown",
   "id": "f868bb4d",
   "metadata": {},
   "source": [
    "### 29. Convert a tuple of strings to a tuple of integers.\n"
   ]
  },
  {
   "cell_type": "code",
   "execution_count": 7,
   "id": "25074fe8",
   "metadata": {},
   "outputs": [
    {
     "data": {
      "text/plain": [
       "(1, 2, 3, 4, 5, 6, 7, 8, 9)"
      ]
     },
     "execution_count": 7,
     "metadata": {},
     "output_type": "execute_result"
    }
   ],
   "source": [
    "t_str = ('1', '2', '3', '4', '5', '6', '7', '8', '9')\n",
    "\n",
    "t_int = tuple(map(int, t_str))\n",
    "\n",
    "t_int"
   ]
  },
  {
   "cell_type": "markdown",
   "id": "bddaacb6",
   "metadata": {},
   "source": [
    "### 30. Merge two tuples.\n"
   ]
  },
  {
   "cell_type": "code",
   "execution_count": 1,
   "id": "9cf9df78",
   "metadata": {},
   "outputs": [
    {
     "data": {
      "text/plain": [
       "(1, 3, 5, 7, 9, 11, 0, 2, 4, 5, 6, 7, 8)"
      ]
     },
     "execution_count": 1,
     "metadata": {},
     "output_type": "execute_result"
    }
   ],
   "source": [
    "t1 = (1,3,5,7,9,11)\n",
    "t2 = (0,2,4,5,6,7,8)\n",
    "\n",
    "\n",
    "t3 = t1+t2\n",
    "t3"
   ]
  },
  {
   "cell_type": "markdown",
   "id": "29d97168",
   "metadata": {},
   "source": [
    "### 31. Flatten a nested tuple.\n"
   ]
  },
  {
   "cell_type": "code",
   "execution_count": 2,
   "id": "cf0f73a9",
   "metadata": {},
   "outputs": [
    {
     "name": "stdout",
     "output_type": "stream",
     "text": [
      "Flattened tuple: (1, 2, 3, 4, 5, 6, 7, 8)\n"
     ]
    }
   ],
   "source": [
    "def flatten_tuple(nested_tuple):\n",
    "    flattened = []\n",
    "    for item in nested_tuple:\n",
    "        if isinstance(item, tuple):\n",
    "            flattened.extend(flatten_tuple(item))\n",
    "        else:\n",
    "            flattened.append(item)\n",
    "    return flattened\n",
    "\n",
    "nested_tuple = ((1, 2), (3, 4, 5), (6, (7, 8)))\n",
    "\n",
    "flattened_tuple = tuple(flatten_tuple(nested_tuple))\n",
    "\n",
    "print(\"Flattened tuple:\", flattened_tuple)"
   ]
  },
  {
   "cell_type": "markdown",
   "id": "e5304d1b",
   "metadata": {},
   "source": [
    "### 32. Create a tuple of the first 5 prime numbers.\n"
   ]
  },
  {
   "cell_type": "code",
   "execution_count": 17,
   "id": "8ffd8090",
   "metadata": {},
   "outputs": [
    {
     "name": "stdout",
     "output_type": "stream",
     "text": [
      "Tuple of the first 5 prime numbers: (2, 3, 5, 7, 11)\n"
     ]
    }
   ],
   "source": [
    "def is_prime(num):\n",
    "    if num < 2:\n",
    "        return False\n",
    "    for i in range(2, int(num**0.5) + 1):\n",
    "        if num % i == 0:\n",
    "            return False\n",
    "    return True\n",
    "\n",
    "def generate_prime_numbers(count):\n",
    "    prime_numbers = []\n",
    "    num = 2\n",
    "    while len(prime_numbers) < count:\n",
    "        if is_prime(num):\n",
    "            prime_numbers.append(num)\n",
    "        num += 1\n",
    "    return tuple(prime_numbers)\n",
    "\n",
    "# Generate and display the tuple of the first 5 prime numbers\n",
    "first_5_primes = generate_prime_numbers(5)\n",
    "print(\"Tuple of the first 5 prime numbers:\", first_5_primes)\n"
   ]
  },
  {
   "cell_type": "markdown",
   "id": "86d4cdd7",
   "metadata": {},
   "source": [
    "### 33. Check if a tuple is a palindrome.\n"
   ]
  },
  {
   "cell_type": "code",
   "execution_count": 2,
   "id": "f8d475da",
   "metadata": {},
   "outputs": [
    {
     "name": "stdout",
     "output_type": "stream",
     "text": [
      "Input tuple : abbabba\n",
      "('a', 'b', 'b', 'a', 'b', 'b', 'a') is a palindrome\n"
     ]
    }
   ],
   "source": [
    "t = tuple(input('Input tuple : '))\n",
    "\n",
    "if t == t[::-1]:\n",
    "    print(t,'is a palindrome')\n",
    "else:\n",
    "    print(t, 'is not a palindrome')"
   ]
  },
  {
   "cell_type": "markdown",
   "id": "04377fba",
   "metadata": {},
   "source": [
    "### 34. Create a tuple of squares of numbers from 1 to 5.\n"
   ]
  },
  {
   "cell_type": "code",
   "execution_count": 4,
   "id": "8c526b06",
   "metadata": {},
   "outputs": [
    {
     "data": {
      "text/plain": [
       "(1, 4, 9, 16, 25)"
      ]
     },
     "execution_count": 4,
     "metadata": {},
     "output_type": "execute_result"
    }
   ],
   "source": [
    "t = tuple(i**2 for i in range(1,6))\n",
    "t"
   ]
  },
  {
   "cell_type": "markdown",
   "id": "e5c4526f",
   "metadata": {},
   "source": [
    "### 35. Filter out all even numbers from a tuple.\n"
   ]
  },
  {
   "cell_type": "code",
   "execution_count": 18,
   "id": "615b730a",
   "metadata": {},
   "outputs": [
    {
     "data": {
      "text/plain": [
       "(2, 4, 6, 8, 10, 12, 14, 16, 18, 20)"
      ]
     },
     "execution_count": 18,
     "metadata": {},
     "output_type": "execute_result"
    }
   ],
   "source": [
    "t = (1,2,3,4,6,7,8,9,10,11,12,13,14,15,16,17,18,19,20)\n",
    "\n",
    "even_t = tuple(i for i in t if i%2 == 0)\n",
    "\n",
    "even_t"
   ]
  },
  {
   "cell_type": "markdown",
   "id": "1b12ed04",
   "metadata": {},
   "source": [
    "### 36. Multiply all elements in a tuple by 2.\n"
   ]
  },
  {
   "cell_type": "code",
   "execution_count": 8,
   "id": "733a6b2e",
   "metadata": {},
   "outputs": [
    {
     "data": {
      "text/plain": [
       "(2, 4, 6, 8, 10, 12, 14, 16, 18, 20)"
      ]
     },
     "execution_count": 8,
     "metadata": {},
     "output_type": "execute_result"
    }
   ],
   "source": [
    "t = (1,2,3,4,5,6,7,8,9,10)\n",
    "\n",
    "twice_t = tuple(i*2 for i in t)\n",
    "\n",
    "twice_t"
   ]
  },
  {
   "cell_type": "markdown",
   "id": "72a7847d",
   "metadata": {},
   "source": [
    "### 37. Create a tuple of random numbers.\n"
   ]
  },
  {
   "cell_type": "code",
   "execution_count": 9,
   "id": "03ca2741",
   "metadata": {},
   "outputs": [
    {
     "name": "stdout",
     "output_type": "stream",
     "text": [
      "Enter range : 10\n"
     ]
    },
    {
     "data": {
      "text/plain": [
       "(19, 25, 11, 21, 22, 15, 34, 36, 44, 18)"
      ]
     },
     "execution_count": 9,
     "metadata": {},
     "output_type": "execute_result"
    }
   ],
   "source": [
    "import random\n",
    "\n",
    "n = int(input('Enter range : '))\n",
    "\n",
    "random_t = tuple(random.randint(1,50) for i in range(n))\n",
    "\n",
    "random_t"
   ]
  },
  {
   "cell_type": "markdown",
   "id": "8ce8d682",
   "metadata": {},
   "source": [
    "### 38. Check if a tuple is sorted.\n"
   ]
  },
  {
   "cell_type": "code",
   "execution_count": 33,
   "id": "4c67e4b4",
   "metadata": {},
   "outputs": [
    {
     "name": "stdout",
     "output_type": "stream",
     "text": [
      "False\n",
      "True\n"
     ]
    }
   ],
   "source": [
    "def is_sorted(t):    \n",
    "    for i in range(len(t)-1):\n",
    "        if t[i] > t[i+1]:\n",
    "            return False\n",
    "    return True\n",
    "            \n",
    "t1 = (19,25, 11, 21, 22, 15, 34, 36, 44, 18)\n",
    "t2 = (1,2,3,4,5)\n",
    "\n",
    "is_sorted1 = is_sorted(t1)\n",
    "is_sorted2 = is_sorted(t2)\n",
    "\n",
    "print(is_sorted1)\n",
    "print(is_sorted2)\n",
    "\n"
   ]
  },
  {
   "cell_type": "markdown",
   "id": "e7b26e60",
   "metadata": {},
   "source": [
    "### 39. Rotate a tuple to the left by `n` positions.\n"
   ]
  },
  {
   "cell_type": "code",
   "execution_count": 39,
   "id": "d33c836b",
   "metadata": {},
   "outputs": [
    {
     "name": "stdout",
     "output_type": "stream",
     "text": [
      "3\n",
      "(21, 22, 15, 34, 36, 44, 18, 19, 25, 11)\n"
     ]
    }
   ],
   "source": [
    "t = (19,25, 11, 21, 22, 15, 34, 36, 44, 18)\n",
    "n = int(input())\n",
    "\n",
    "def rotate_tuple_left(tup, n):\n",
    "    n = n % len(tup)  # Ensure n is within the range of tuple length\n",
    "    rotated_tuple = tup[n:] + tup[:n]  # Rotate the tuple\n",
    "    return rotated_tuple\n",
    "\n",
    "result = rotate_tuple_left(t, n)\n",
    "print(result)"
   ]
  },
  {
   "cell_type": "markdown",
   "id": "9ea62122",
   "metadata": {},
   "source": [
    "### 40. Rotate a tuple to the right by `n` positions.\n"
   ]
  },
  {
   "cell_type": "code",
   "execution_count": 38,
   "id": "473a7231",
   "metadata": {},
   "outputs": [
    {
     "name": "stdout",
     "output_type": "stream",
     "text": [
      "3\n",
      "(36, 44, 18, 19, 25, 11, 21, 22, 15, 34)\n"
     ]
    }
   ],
   "source": [
    "t = (19,25, 11, 21, 22, 15, 34, 36, 44, 18)\n",
    "n = int(input())\n",
    "\n",
    "def rotate_tuple_left(tup, n):\n",
    "    n = n % len(tup)  # Ensure n is within the range of tuple length\n",
    "    rotated_tuple = tup[-n:] + tup[:-n]  # Rotate the tuple\n",
    "    return rotated_tuple\n",
    "\n",
    "result = rotate_tuple_left(t, n)\n",
    "print(result)"
   ]
  },
  {
   "cell_type": "markdown",
   "id": "91f7a30c",
   "metadata": {},
   "source": [
    "### 41. Create a tuple of the first 5 Fibonacci numbers.\n"
   ]
  },
  {
   "cell_type": "code",
   "execution_count": 4,
   "id": "97e32c44",
   "metadata": {},
   "outputs": [
    {
     "name": "stdout",
     "output_type": "stream",
     "text": [
      "First 10 factorial numbers:\n",
      "(1, 2, 6, 24, 120)\n"
     ]
    }
   ],
   "source": [
    "import math\n",
    "\n",
    "l = []\n",
    "\n",
    "factorial_numbers = [math.factorial(n) for n in range(1, 6)]\n",
    "\n",
    "print(\"First 10 factorial numbers:\")\n",
    "for index, factorial in enumerate(factorial_numbers, start=1):\n",
    "    l.append(factorial)\n",
    "           \n",
    "t = tuple(l)\n",
    "\n",
    "print(t)"
   ]
  },
  {
   "cell_type": "markdown",
   "id": "65c29e9c",
   "metadata": {},
   "source": [
    "### 42. Create a tuple from user input.\n"
   ]
  },
  {
   "cell_type": "code",
   "execution_count": 5,
   "id": "bc416513",
   "metadata": {},
   "outputs": [
    {
     "name": "stdout",
     "output_type": "stream",
     "text": [
      "Enter elements for the tuple separated by spaces: 4 8 12 16 20\n",
      "The tuple created from user input: ('4', '8', '12', '16', '20')\n"
     ]
    }
   ],
   "source": [
    "input_values = input(\"Enter elements for the tuple separated by spaces: \")\n",
    "\n",
    "input_list = input_values.split()\n",
    "\n",
    "user_tuple = tuple(input_list)\n",
    "\n",
    "print(\"The tuple created from user input:\", user_tuple)"
   ]
  },
  {
   "cell_type": "markdown",
   "id": "45e23a83",
   "metadata": {},
   "source": [
    "### 43. Swap two elements in a tuple.\n"
   ]
  },
  {
   "cell_type": "code",
   "execution_count": 8,
   "id": "96de9aee",
   "metadata": {},
   "outputs": [
    {
     "name": "stdout",
     "output_type": "stream",
     "text": [
      "1\n",
      "4\n",
      "Original Tuple: (1, 2, 3, 4, 5)\n",
      "Swapped Tuple: (1, 5, 3, 4, 2)\n"
     ]
    }
   ],
   "source": [
    "my_tuple = (1, 2, 3, 4, 5)\n",
    "\n",
    "index1  = int(input())\n",
    "index2 = int(input())\n",
    "\n",
    "tuple_list = list(my_tuple)\n",
    "\n",
    "tuple_list[index1], tuple_list[index2] = tuple_list[index2], tuple_list[index1]\n",
    "\n",
    "swapped_tuple = tuple(tuple_list)\n",
    "\n",
    "print(\"Original Tuple:\", my_tuple)\n",
    "print(\"Swapped Tuple:\", swapped_tuple)\n"
   ]
  },
  {
   "cell_type": "markdown",
   "id": "bbf027fb",
   "metadata": {},
   "source": [
    "### 44. Reverse the elements of a tuple.\n"
   ]
  },
  {
   "cell_type": "code",
   "execution_count": 10,
   "id": "005092ea",
   "metadata": {},
   "outputs": [
    {
     "name": "stdout",
     "output_type": "stream",
     "text": [
      "(5, 4, 3, 2, 1)\n"
     ]
    }
   ],
   "source": [
    "t = (1, 2, 3, 4, 5)\n",
    "\n",
    "rev_t = t[::-1]\n",
    "\n",
    "print(rev_t)"
   ]
  },
  {
   "cell_type": "markdown",
   "id": "1abd2acd",
   "metadata": {},
   "source": [
    "### 45. Create a tuple of the first `n` powers of 2.\n"
   ]
  },
  {
   "cell_type": "code",
   "execution_count": 9,
   "id": "d2badb52",
   "metadata": {},
   "outputs": [
    {
     "name": "stdout",
     "output_type": "stream",
     "text": [
      "6\n",
      "(1, 2, 4, 8, 16, 32)\n"
     ]
    }
   ],
   "source": [
    "n = int(input())\n",
    "\n",
    "l = []\n",
    "\n",
    "for i in range(n):\n",
    "    j = 2**i\n",
    "    l.append(j)\n",
    "    \n",
    "t = tuple(l)\n",
    "print(t)"
   ]
  },
  {
   "cell_type": "markdown",
   "id": "7c6dd217",
   "metadata": {},
   "source": [
    "### 46. Find the longest string in a tuple of strings.\n"
   ]
  },
  {
   "cell_type": "code",
   "execution_count": 11,
   "id": "ddb753d0",
   "metadata": {},
   "outputs": [
    {
     "name": "stdout",
     "output_type": "stream",
     "text": [
      "dragen fruit\n"
     ]
    }
   ],
   "source": [
    "def find_longest_str(list_of_str):\n",
    "    longest_str = max(list_of_str, key = len)\n",
    "    return longest_str\n",
    "\n",
    "s = ('ants', 'elephant', 'ape', 'dragen fruit', 'mangoes', 'apples')\n",
    "\n",
    "print(find_longest_str(s))"
   ]
  },
  {
   "cell_type": "markdown",
   "id": "e180bcf9",
   "metadata": {},
   "source": [
    "### 47. Find the shortest string in a tuple of strings.\n"
   ]
  },
  {
   "cell_type": "code",
   "execution_count": 12,
   "id": "c5b3669e",
   "metadata": {},
   "outputs": [
    {
     "name": "stdout",
     "output_type": "stream",
     "text": [
      "ape\n"
     ]
    }
   ],
   "source": [
    "def find_shortest_string(list_of_strings):\n",
    "    shortest_string = min(list_of_strings, key=len)\n",
    "    return shortest_string\n",
    "\n",
    "s = ('ants', 'elephant', 'ape', 'dragen fruit', 'mangoes', 'apples')\n",
    "\n",
    "shortest_string = find_shortest_string(s)\n",
    "\n",
    "print(shortest_string)"
   ]
  },
  {
   "cell_type": "markdown",
   "id": "7800b635",
   "metadata": {},
   "source": [
    "### 48. Create a tuple of the first `n` triangular numbers.\n"
   ]
  },
  {
   "cell_type": "code",
   "execution_count": 15,
   "id": "f17346cb",
   "metadata": {},
   "outputs": [
    {
     "name": "stdout",
     "output_type": "stream",
     "text": [
      "Enter the value of n: 6\n",
      "The first 6 triangular numbers are: (1, 3, 6, 10, 15, 21)\n"
     ]
    }
   ],
   "source": [
    "def generate_triangular_numbers(n):\n",
    "    triangular_numbers = [i * (i + 1) // 2 for i in range(1, n + 1)]\n",
    "    return triangular_numbers\n",
    "\n",
    "# Get user input for n\n",
    "n = int(input(\"Enter the value of n: \"))\n",
    "\n",
    "# Generate and display the list of triangular numbers\n",
    "triangular_numbers_list = generate_triangular_numbers(n)\n",
    "\n",
    "t = tuple(triangular_numbers_list)\n",
    "\n",
    "print(f\"The first {n} triangular numbers are:\", t)"
   ]
  },
  {
   "cell_type": "markdown",
   "id": "0d2bd31a",
   "metadata": {},
   "source": [
    "### 49. Check if a tuple contains another tuple as a subsequence.\n"
   ]
  },
  {
   "cell_type": "code",
   "execution_count": 16,
   "id": "17f64b88",
   "metadata": {},
   "outputs": [
    {
     "name": "stdout",
     "output_type": "stream",
     "text": [
      "tuple contains another tuple as a subsequence\n"
     ]
    }
   ],
   "source": [
    "t = (1,2, (3,4,5,6), 7,8)\n",
    "count = 0\n",
    "\n",
    "for i in t:\n",
    "    if type(i) == tuple:\n",
    "        count += 1\n",
    "        \n",
    "        \n",
    "if count > 0:\n",
    "    print('tuple contains another tuple as a subsequence')\n",
    "else:\n",
    "        print(\"tuple doesn't contains another tuple as a subsequence\")"
   ]
  },
  {
   "cell_type": "markdown",
   "id": "c1e0c41c",
   "metadata": {},
   "source": [
    "### 50. Create a tuple of alternating 1s and 0s of length `n`.\n"
   ]
  },
  {
   "cell_type": "code",
   "execution_count": 41,
   "id": "4b7a8be1",
   "metadata": {},
   "outputs": [
    {
     "name": "stdout",
     "output_type": "stream",
     "text": [
      "Enter length of tuple : 15\n"
     ]
    },
    {
     "data": {
      "text/plain": [
       "(1, 0, 1, 0, 1, 0, 1, 0, 1, 0, 1, 0, 1, 0, 1)"
      ]
     },
     "execution_count": 41,
     "metadata": {},
     "output_type": "execute_result"
    }
   ],
   "source": [
    "n = int(input('Enter length of tuple : '))\n",
    "\n",
    "t = tuple(1 if i%2 == 0 else 0 for i in range(n))\n",
    "t"
   ]
  },
  {
   "cell_type": "code",
   "execution_count": null,
   "id": "fd13c0af",
   "metadata": {},
   "outputs": [],
   "source": []
  }
 ],
 "metadata": {
  "kernelspec": {
   "display_name": "Python 3 (ipykernel)",
   "language": "python",
   "name": "python3"
  },
  "language_info": {
   "codemirror_mode": {
    "name": "ipython",
    "version": 3
   },
   "file_extension": ".py",
   "mimetype": "text/x-python",
   "name": "python",
   "nbconvert_exporter": "python",
   "pygments_lexer": "ipython3",
   "version": "3.9.7"
  }
 },
 "nbformat": 4,
 "nbformat_minor": 5
}
