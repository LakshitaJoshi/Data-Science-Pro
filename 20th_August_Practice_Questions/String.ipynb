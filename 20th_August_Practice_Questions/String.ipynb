{
 "cells": [
  {
   "cell_type": "markdown",
   "id": "94f363b7",
   "metadata": {},
   "source": [
    "### 1. Write a program to reverse a string."
   ]
  },
  {
   "cell_type": "code",
   "execution_count": 1,
   "id": "909bee6e",
   "metadata": {},
   "outputs": [
    {
     "name": "stdout",
     "output_type": "stream",
     "text": [
      "Reversed String :  .yad lufituaeb a si siht\n"
     ]
    }
   ],
   "source": [
    "s = \"this is a beautiful day.\"\n",
    "\n",
    "print(\"Reversed String : \", s[::-1])"
   ]
  },
  {
   "cell_type": "markdown",
   "id": "5f704fa3",
   "metadata": {},
   "source": [
    "### 2. Check if a string is a palindrome."
   ]
  },
  {
   "cell_type": "code",
   "execution_count": 2,
   "id": "2c7ed9bf",
   "metadata": {},
   "outputs": [
    {
     "name": "stdout",
     "output_type": "stream",
     "text": [
      "Enter a string : malayalam\n",
      "malayalam  is a palindrome.\n"
     ]
    }
   ],
   "source": [
    "String = input(\"Enter a string : \")\n",
    "\n",
    "lower = String.lower()\n",
    "\n",
    "for i in range(0, int(len(lower)/2)):\n",
    "    if lower[i] != lower[len(lower)-i-1]:\n",
    "        print(String, \" is not a palindrome.\")\n",
    "        break\n",
    "    else:\n",
    "        print(String, \" is a palindrome.\")\n",
    "        break\n"
   ]
  },
  {
   "cell_type": "markdown",
   "id": "33e18382",
   "metadata": {},
   "source": [
    "### 3. Convert a string to uppercase."
   ]
  },
  {
   "cell_type": "code",
   "execution_count": 4,
   "id": "b07b5083",
   "metadata": {},
   "outputs": [
    {
     "data": {
      "text/plain": [
       "'HELLO ALL'"
      ]
     },
     "execution_count": 4,
     "metadata": {},
     "output_type": "execute_result"
    }
   ],
   "source": [
    "S = \"hello all\"\n",
    "\n",
    "S.upper()"
   ]
  },
  {
   "cell_type": "markdown",
   "id": "6a665770",
   "metadata": {},
   "source": [
    "### 4. Convert a string to lowercase."
   ]
  },
  {
   "cell_type": "code",
   "execution_count": 6,
   "id": "4687feaa",
   "metadata": {},
   "outputs": [
    {
     "data": {
      "text/plain": [
       "'hello all!'"
      ]
     },
     "execution_count": 6,
     "metadata": {},
     "output_type": "execute_result"
    }
   ],
   "source": [
    "S = \"HELLO ALL!\"\n",
    "S.lower()"
   ]
  },
  {
   "cell_type": "markdown",
   "id": "2b170e4c",
   "metadata": {},
   "source": [
    "### 5. Count the number of vowels in a string."
   ]
  },
  {
   "cell_type": "code",
   "execution_count": 7,
   "id": "58ad98c6",
   "metadata": {},
   "outputs": [
    {
     "name": "stdout",
     "output_type": "stream",
     "text": [
      "Enter a Sentence : hello all\n",
      "Number of vowels =  3\n"
     ]
    }
   ],
   "source": [
    "String = input(\"Enter a Sentence : \")\n",
    "vowel = \"aeiouAEIOU\"\n",
    "count = 0\n",
    "\n",
    "for i in String:\n",
    "    if i in vowel:\n",
    "        count += 1\n",
    "\n",
    "print(\"Number of vowels = \", count)  "
   ]
  },
  {
   "cell_type": "markdown",
   "id": "13ecc440",
   "metadata": {},
   "source": [
    "### 6. Count the number of consonants in a string."
   ]
  },
  {
   "cell_type": "markdown",
   "id": "9d4a28ea",
   "metadata": {},
   "source": [
    "#### ord () returns the number representing the unicode code of a specified character."
   ]
  },
  {
   "cell_type": "code",
   "execution_count": 28,
   "id": "312a945e",
   "metadata": {},
   "outputs": [
    {
     "name": "stdout",
     "output_type": "stream",
     "text": [
      "Enter a Sentence : Hello all\n",
      "Number of Consonants =  5\n"
     ]
    }
   ],
   "source": [
    "String = input(\"Enter a Sentence : \")\n",
    "vowel = \"aeiouAEIOU\"\n",
    "count = 0\n",
    "\n",
    "for i in String:\n",
    "    if i not in vowel and (ord(i) >= 65 and ord(i) <= 90 or ord(i) >= 97 and ord(i) <= 122):\n",
    "        count = count + 1\n",
    "\n",
    "print(\"Number of Consonants = \", count)  "
   ]
  },
  {
   "cell_type": "markdown",
   "id": "6692c50d",
   "metadata": {},
   "source": [
    "### 7. Remove all whitespaces from a string."
   ]
  },
  {
   "cell_type": "code",
   "execution_count": 12,
   "id": "02cd9bfa",
   "metadata": {},
   "outputs": [
    {
     "name": "stdout",
     "output_type": "stream",
     "text": [
      "Enter a string : The quick brown fox jumped over a lazy dog\n"
     ]
    },
    {
     "data": {
      "text/plain": [
       "'Thequickbrownfoxjumpedoveralazydog'"
      ]
     },
     "execution_count": 12,
     "metadata": {},
     "output_type": "execute_result"
    }
   ],
   "source": [
    "String = input(\"Enter a string : \")\n",
    "\n",
    "String.replace(' ', '')"
   ]
  },
  {
   "cell_type": "markdown",
   "id": "2bdd84f5",
   "metadata": {},
   "source": [
    "### 8. Find the length of a string without using the `len()` function."
   ]
  },
  {
   "cell_type": "code",
   "execution_count": 14,
   "id": "17e710e3",
   "metadata": {},
   "outputs": [
    {
     "name": "stdout",
     "output_type": "stream",
     "text": [
      "42\n"
     ]
    }
   ],
   "source": [
    "String = \"The quick brown fox jumped over a lazy dog\"\n",
    "\n",
    "count = 0\n",
    "\n",
    "for i in String:\n",
    "    count += 1\n",
    "\n",
    "print(count) \n",
    "\n",
    "    "
   ]
  },
  {
   "cell_type": "markdown",
   "id": "467c4d6e",
   "metadata": {},
   "source": [
    "### 9. Check if a string contains a specific word."
   ]
  },
  {
   "cell_type": "code",
   "execution_count": 34,
   "id": "0d0f4bd6",
   "metadata": {},
   "outputs": [
    {
     "name": "stdout",
     "output_type": "stream",
     "text": [
      "Enter the sentence : The quick brown fox jumped over a lazy dog\n",
      "Enter the wordfox\n",
      "Yes it is present\n"
     ]
    }
   ],
   "source": [
    "String = input('Enter the sentence : ')\n",
    "\n",
    "word = input('Enter the word')\n",
    "\n",
    "if word in String:\n",
    "    print(\"Yes it is present\")\n",
    "else:\n",
    "    print(\"No it is not present\")"
   ]
  },
  {
   "cell_type": "markdown",
   "id": "213722bf",
   "metadata": {},
   "source": [
    "### 10. Replace a word in a string with another word."
   ]
  },
  {
   "cell_type": "code",
   "execution_count": 35,
   "id": "0d83d217",
   "metadata": {},
   "outputs": [
    {
     "data": {
      "text/plain": [
       "'The quick red fox jumped over a lazy dog'"
      ]
     },
     "execution_count": 35,
     "metadata": {},
     "output_type": "execute_result"
    }
   ],
   "source": [
    "String = 'The quick brown fox jumped over a lazy dog'\n",
    "\n",
    "String.replace('brown', 'red')"
   ]
  },
  {
   "cell_type": "markdown",
   "id": "1fcfd314",
   "metadata": {},
   "source": [
    "### 11. Count the occurrences of a word in a string."
   ]
  },
  {
   "cell_type": "code",
   "execution_count": 38,
   "id": "d8714de8",
   "metadata": {},
   "outputs": [
    {
     "data": {
      "text/plain": [
       "2"
      ]
     },
     "execution_count": 38,
     "metadata": {},
     "output_type": "execute_result"
    }
   ],
   "source": [
    "String = 'Convert a string where words are separated by spaces to one where words are separated by underscores'\n",
    "\n",
    "String.count('are')"
   ]
  },
  {
   "cell_type": "markdown",
   "id": "4111f5dd",
   "metadata": {},
   "source": [
    "### 12. Find the first occurrence of a word in a string."
   ]
  },
  {
   "cell_type": "code",
   "execution_count": 40,
   "id": "d514e7ec",
   "metadata": {},
   "outputs": [
    {
     "data": {
      "text/plain": [
       "29"
      ]
     },
     "execution_count": 40,
     "metadata": {},
     "output_type": "execute_result"
    }
   ],
   "source": [
    "String = 'Convert a string where words are separated by spaces to one where words are separated by underscores'\n",
    "\n",
    "String.find('are')"
   ]
  },
  {
   "cell_type": "markdown",
   "id": "d708d2dd",
   "metadata": {},
   "source": [
    "### 13. Find the last occurrence of a word in a string."
   ]
  },
  {
   "cell_type": "code",
   "execution_count": 41,
   "id": "fe30862f",
   "metadata": {},
   "outputs": [
    {
     "data": {
      "text/plain": [
       "72"
      ]
     },
     "execution_count": 41,
     "metadata": {},
     "output_type": "execute_result"
    }
   ],
   "source": [
    "String = 'Convert a string where words are separated by spaces to one where words are separated by underscores'\n",
    "\n",
    "String.rfind('are')"
   ]
  },
  {
   "cell_type": "markdown",
   "id": "4424209b",
   "metadata": {},
   "source": [
    "### 14. Split a string into a list of words."
   ]
  },
  {
   "cell_type": "code",
   "execution_count": 51,
   "id": "04e00531",
   "metadata": {},
   "outputs": [
    {
     "data": {
      "text/plain": [
       "['The', 'quick', 'brown', 'fox', 'jumped', 'over', 'a', 'lazy', 'dog']"
      ]
     },
     "execution_count": 51,
     "metadata": {},
     "output_type": "execute_result"
    }
   ],
   "source": [
    "String = 'The quick brown fox jumped over a lazy dog'\n",
    "\n",
    "String.split()"
   ]
  },
  {
   "cell_type": "markdown",
   "id": "0e177e99",
   "metadata": {},
   "source": [
    "### 15. Join a list of words into a string."
   ]
  },
  {
   "cell_type": "code",
   "execution_count": 46,
   "id": "164ee661",
   "metadata": {},
   "outputs": [
    {
     "data": {
      "text/plain": [
       "'The quick brown fox jumped over a lazy dog'"
      ]
     },
     "execution_count": 46,
     "metadata": {},
     "output_type": "execute_result"
    }
   ],
   "source": [
    "List = ['The', 'quick', 'brown', 'fox', 'jumped', 'over', 'a', 'lazy', 'dog']\n",
    "\n",
    "' '.join(List)"
   ]
  },
  {
   "cell_type": "markdown",
   "id": "6f74cfd0",
   "metadata": {},
   "source": [
    "### 16. Convert a string where words are separated by spaces to one where words are separated by underscores."
   ]
  },
  {
   "cell_type": "code",
   "execution_count": 52,
   "id": "43cdb0d9",
   "metadata": {},
   "outputs": [
    {
     "data": {
      "text/plain": [
       "'The_quick_brown_fox_jumped_over_a_lazy_dog'"
      ]
     },
     "execution_count": 52,
     "metadata": {},
     "output_type": "execute_result"
    }
   ],
   "source": [
    "String = 'The quick brown fox jumped over a lazy dog'\n",
    "\n",
    "String.replace(' ', '_')"
   ]
  },
  {
   "cell_type": "markdown",
   "id": "cd08ce31",
   "metadata": {},
   "source": [
    "### 17. Check if a string starts with a specific word or phrase."
   ]
  },
  {
   "cell_type": "code",
   "execution_count": 57,
   "id": "59421fba",
   "metadata": {},
   "outputs": [
    {
     "data": {
      "text/plain": [
       "True"
      ]
     },
     "execution_count": 57,
     "metadata": {},
     "output_type": "execute_result"
    }
   ],
   "source": [
    "String = 'The quick brown fox jumped over a lazy dog'\n",
    "\n",
    "String.startswith('The')"
   ]
  },
  {
   "cell_type": "markdown",
   "id": "8aa41fcc",
   "metadata": {},
   "source": [
    "### 18. Check if a string ends with a specific word or phrase."
   ]
  },
  {
   "cell_type": "code",
   "execution_count": 59,
   "id": "0e93357f",
   "metadata": {},
   "outputs": [
    {
     "data": {
      "text/plain": [
       "True"
      ]
     },
     "execution_count": 59,
     "metadata": {},
     "output_type": "execute_result"
    }
   ],
   "source": [
    "String = 'The quick brown fox jumped over a lazy dog'\n",
    "\n",
    "String.endswith('dog')"
   ]
  },
  {
   "cell_type": "markdown",
   "id": "db72e3f1",
   "metadata": {},
   "source": [
    "### 19. Convert a string to title case (e.g., \"hello world\" to \"Hello World\")."
   ]
  },
  {
   "cell_type": "code",
   "execution_count": 60,
   "id": "9c5ef6a7",
   "metadata": {},
   "outputs": [
    {
     "data": {
      "text/plain": [
       "'The Quick Brown Fox Jumped Over A Lazy Dog'"
      ]
     },
     "execution_count": 60,
     "metadata": {},
     "output_type": "execute_result"
    }
   ],
   "source": [
    "String = 'The quick brown fox jumped over a lazy dog'\n",
    "\n",
    "String.title()"
   ]
  },
  {
   "cell_type": "markdown",
   "id": "abcc7ca2",
   "metadata": {},
   "source": [
    "### 20. Find the longest word in a string.\n",
    "\n"
   ]
  },
  {
   "cell_type": "code",
   "execution_count": 69,
   "id": "e0166f86",
   "metadata": {},
   "outputs": [
    {
     "name": "stdout",
     "output_type": "stream",
     "text": [
      "jumped\n"
     ]
    }
   ],
   "source": [
    "String = 'The quick brown fox jumped over a lazy dog'\n",
    "\n",
    "length =  0 \n",
    "w = ''\n",
    "\n",
    "for word in String.split():\n",
    "    if len(word) > length:\n",
    "        length = len(word)\n",
    "        w = word \n",
    "    \n",
    "print(w)"
   ]
  },
  {
   "cell_type": "markdown",
   "id": "db88ad82",
   "metadata": {},
   "source": [
    "### 21. Find the shortest word in a string."
   ]
  },
  {
   "cell_type": "code",
   "execution_count": 72,
   "id": "177d1312",
   "metadata": {},
   "outputs": [
    {
     "name": "stdout",
     "output_type": "stream",
     "text": [
      "a\n"
     ]
    }
   ],
   "source": [
    "String = 'The quick brown fox jumped over a lazy dog'\n",
    "\n",
    "s = String.split()\n",
    "\n",
    "print(min(s, key=len))"
   ]
  },
  {
   "cell_type": "markdown",
   "id": "07b4af6b",
   "metadata": {},
   "source": [
    "### 22. Reverse the order of words in a string."
   ]
  },
  {
   "cell_type": "code",
   "execution_count": 81,
   "id": "8c7341c2",
   "metadata": {},
   "outputs": [
    {
     "name": "stdout",
     "output_type": "stream",
     "text": [
      "dog lazy a over jumped fox brown quick The\n"
     ]
    }
   ],
   "source": [
    "String = 'The quick brown fox jumped over a lazy dog'\n",
    "\n",
    "s = String.split(' ')\n",
    "\n",
    "res =[]\n",
    "for word in s:\n",
    "    res.insert(0, word)\n",
    "\n",
    "print(\" \".join(res))\n"
   ]
  },
  {
   "cell_type": "markdown",
   "id": "a003986a",
   "metadata": {},
   "source": [
    "### 23. Check if a string is alphanumeric."
   ]
  },
  {
   "cell_type": "code",
   "execution_count": 85,
   "id": "ec13bd44",
   "metadata": {},
   "outputs": [
    {
     "data": {
      "text/plain": [
       "True"
      ]
     },
     "execution_count": 85,
     "metadata": {},
     "output_type": "execute_result"
    }
   ],
   "source": [
    "String = 'hello123'\n",
    "\n",
    "String.isalnum()"
   ]
  },
  {
   "cell_type": "markdown",
   "id": "f4d3f58b",
   "metadata": {},
   "source": [
    "### 24. Extract all digits from a string."
   ]
  },
  {
   "cell_type": "code",
   "execution_count": 5,
   "id": "f18d3dde",
   "metadata": {},
   "outputs": [
    {
     "name": "stdout",
     "output_type": "stream",
     "text": [
      "1\n",
      "2\n"
     ]
    }
   ],
   "source": [
    "String = 'I ate 1 apple and 2 bananas'\n",
    "\n",
    "s = String.split()\n",
    "\n",
    "for i in s:\n",
    "    if i.isdigit():\n",
    "        print(i)    "
   ]
  },
  {
   "cell_type": "markdown",
   "id": "9bfffbbf",
   "metadata": {},
   "source": [
    "### 25. Extract all alphabets from a string."
   ]
  },
  {
   "cell_type": "code",
   "execution_count": 6,
   "id": "6d946176",
   "metadata": {},
   "outputs": [
    {
     "name": "stdout",
     "output_type": "stream",
     "text": [
      "I\n",
      "ate\n",
      "apple\n",
      "and\n",
      "bananas\n"
     ]
    }
   ],
   "source": [
    "String = 'I ate 1 apple and 2 bananas'\n",
    "\n",
    "s = String.split()\n",
    "\n",
    "for i in s:\n",
    "    if i.isalpha():\n",
    "        print(i)  "
   ]
  },
  {
   "cell_type": "markdown",
   "id": "1a8ead29",
   "metadata": {},
   "source": [
    "### 26. Count the number of uppercase letters in a string."
   ]
  },
  {
   "cell_type": "code",
   "execution_count": 19,
   "id": "68fc94b3",
   "metadata": {},
   "outputs": [
    {
     "name": "stdout",
     "output_type": "stream",
     "text": [
      "3\n"
     ]
    }
   ],
   "source": [
    "String = 'I ate 1 APPLE and 2 BANANAS'\n",
    "\n",
    "s = String.split()\n",
    "\n",
    "upper = 0\n",
    "\n",
    "for i in s:\n",
    "    if i.isupper():\n",
    "        upper += 1\n",
    "        \n",
    "print(upper)"
   ]
  },
  {
   "cell_type": "markdown",
   "id": "9ac959cb",
   "metadata": {},
   "source": [
    "### 27. Count the number of lowercase letters in a string."
   ]
  },
  {
   "cell_type": "code",
   "execution_count": 20,
   "id": "c93aa45d",
   "metadata": {},
   "outputs": [
    {
     "name": "stdout",
     "output_type": "stream",
     "text": [
      "2\n"
     ]
    }
   ],
   "source": [
    "String = 'I ate 1 APPLE and 2 BANANAS'\n",
    "\n",
    "s = String.split()\n",
    "\n",
    "upper = 0\n",
    "\n",
    "for i in s:\n",
    "    if i.islower():\n",
    "        upper += 1\n",
    "        \n",
    "print(upper)"
   ]
  },
  {
   "cell_type": "markdown",
   "id": "d02e8a12",
   "metadata": {},
   "source": [
    "### 28. Swap the case of each character in a string."
   ]
  },
  {
   "cell_type": "code",
   "execution_count": 21,
   "id": "472dee14",
   "metadata": {},
   "outputs": [
    {
     "name": "stdout",
     "output_type": "stream",
     "text": [
      "i ATE 1 apple AND 2 bananas\n"
     ]
    }
   ],
   "source": [
    "String = 'I ate 1 APPLE and 2 BANANAS'\n",
    "\n",
    "s = String.swapcase()\n",
    "\n",
    "print(s)"
   ]
  },
  {
   "cell_type": "markdown",
   "id": "73e2a2c7",
   "metadata": {},
   "source": [
    "### 29. Remove a specific word from a string."
   ]
  },
  {
   "cell_type": "code",
   "execution_count": 35,
   "id": "463e4e6f",
   "metadata": {},
   "outputs": [
    {
     "data": {
      "text/plain": [
       "'I ate 1 APPLE and BANANAS'"
      ]
     },
     "execution_count": 35,
     "metadata": {},
     "output_type": "execute_result"
    }
   ],
   "source": [
    "String = 'I ate 1 APPLE and 2 BANANAS'\n",
    "\n",
    "s= String.split()\n",
    "\n",
    "s.remove('2')\n",
    "\n",
    "s1 = ' '\n",
    "\n",
    "s1.join(s)"
   ]
  },
  {
   "cell_type": "markdown",
   "id": "b17a836e",
   "metadata": {},
   "source": [
    "### 30. Check if a string is a valid email address."
   ]
  },
  {
   "cell_type": "code",
   "execution_count": 1,
   "id": "862036d7",
   "metadata": {},
   "outputs": [
    {
     "name": "stdout",
     "output_type": "stream",
     "text": [
      "True\n",
      "False\n"
     ]
    }
   ],
   "source": [
    "import re  # Import the regular expression module\n",
    "\n",
    "def is_valid_email(email):\n",
    "    pattern = r'^[\\w\\.-]+@[\\w\\.-]+\\.\\w+$'  # Regular expression pattern for a basic email validation\n",
    "    if re.match(pattern, email):\n",
    "        return True\n",
    "    else:\n",
    "        return False\n",
    "\n",
    "# Example email addresses\n",
    "email1 = \"abcd1234@gmail.com\"\n",
    "email2 = \"abcd1234-gmail\"\n",
    "\n",
    "print(is_valid_email(email1))\n",
    "print(is_valid_email(email2))"
   ]
  },
  {
   "cell_type": "markdown",
   "id": "281217ec",
   "metadata": {},
   "source": [
    "### 31. Extract the username from an email address string."
   ]
  },
  {
   "cell_type": "code",
   "execution_count": 2,
   "id": "5c29db54",
   "metadata": {},
   "outputs": [
    {
     "name": "stdout",
     "output_type": "stream",
     "text": [
      "abcd1234\n"
     ]
    }
   ],
   "source": [
    "email = 'abcd1234@gmail.com'\n",
    "username = email.split('@')[0]\n",
    "print(username)"
   ]
  },
  {
   "cell_type": "markdown",
   "id": "889b3aac",
   "metadata": {},
   "source": [
    "### 32. Extract the domain name from an email address string."
   ]
  },
  {
   "cell_type": "code",
   "execution_count": 3,
   "id": "30885812",
   "metadata": {},
   "outputs": [
    {
     "name": "stdout",
     "output_type": "stream",
     "text": [
      "gmail.com\n"
     ]
    }
   ],
   "source": [
    "email = 'abcd1234@gmail.com'\n",
    "domain = email.split('@')[1]\n",
    "print(domain)"
   ]
  },
  {
   "cell_type": "markdown",
   "id": "6737ed18",
   "metadata": {},
   "source": [
    "### 33. Replace multiple spaces in a string with a single space."
   ]
  },
  {
   "cell_type": "code",
   "execution_count": 5,
   "id": "56541ece",
   "metadata": {},
   "outputs": [
    {
     "data": {
      "text/plain": [
       "'a black fat hen'"
      ]
     },
     "execution_count": 5,
     "metadata": {},
     "output_type": "execute_result"
    }
   ],
   "source": [
    "string = 'a                black                          fat     hen'\n",
    "single_spaced = ' '.join(string.split())\n",
    "single_spaced"
   ]
  },
  {
   "cell_type": "markdown",
   "id": "d10864fa",
   "metadata": {},
   "source": [
    "### 34. Check if a string is a valid URL."
   ]
  },
  {
   "cell_type": "code",
   "execution_count": 9,
   "id": "e81119e8",
   "metadata": {},
   "outputs": [
    {
     "name": "stdout",
     "output_type": "stream",
     "text": [
      "True\n",
      "False\n"
     ]
    }
   ],
   "source": [
    "from urllib.parse import urlparse\n",
    "\n",
    "\n",
    "def is_valid_url(url):\n",
    "    try:\n",
    "        result = urlparse(url)\n",
    "        return all([result.scheme, result.netloc])\n",
    "    except ValueError:\n",
    "        return False\n",
    "\n",
    "url1 = \"https://www.gfg.com\"\n",
    "url2 = \"abc-url\"\n",
    "\n",
    "result1 = is_valid_url(url1)\n",
    "result2 = is_valid_url(url2)\n",
    "\n",
    "print(result1)\n",
    "print(result2)"
   ]
  },
  {
   "cell_type": "markdown",
   "id": "e2662c28",
   "metadata": {},
   "source": [
    "### 35. Extract the protocol (http or https) from a URL string."
   ]
  },
  {
   "cell_type": "code",
   "execution_count": 12,
   "id": "933c12aa",
   "metadata": {},
   "outputs": [
    {
     "name": "stdout",
     "output_type": "stream",
     "text": [
      "Protocol 1: https\n"
     ]
    }
   ],
   "source": [
    "def extract_protocol(url):\n",
    "\n",
    "    protocol_end = url.find(\"://\")\n",
    "\n",
    "    if protocol_end != -1:\n",
    "        # Extract the protocol from the URL\n",
    "        protocol = url[:protocol_end]\n",
    "        return protocol\n",
    "    else:\n",
    "        return None\n",
    "\n",
    "\n",
    "url1 = \"https://google.com\"\n",
    "\n",
    "protocol1 = extract_protocol(url1)\n",
    "\n",
    "print(\"Protocol 1:\", protocol1)"
   ]
  },
  {
   "cell_type": "markdown",
   "id": "477f421a",
   "metadata": {},
   "source": [
    "### 36. Find the frequency of each character in a string."
   ]
  },
  {
   "cell_type": "code",
   "execution_count": 13,
   "id": "32a06a41",
   "metadata": {},
   "outputs": [
    {
     "name": "stdout",
     "output_type": "stream",
     "text": [
      "String = hello all\n",
      "Char : 'h', Freq : '1'\n",
      "Char : 'e', Freq : '1'\n",
      "Char : 'l', Freq : '4'\n",
      "Char : 'o', Freq : '1'\n",
      "Char : ' ', Freq : '1'\n",
      "Char : 'a', Freq : '1'\n"
     ]
    }
   ],
   "source": [
    "s = input('String = ')\n",
    "freq = {}\n",
    "\n",
    "for ch in s:\n",
    "    if ch in freq:\n",
    "        freq[ch] += 1\n",
    "    else:\n",
    "        freq[ch] = 1\n",
    "        \n",
    "for ch, f in freq.items():\n",
    "    print(f\"Char : '{ch}', Freq : '{f}'\")"
   ]
  },
  {
   "cell_type": "markdown",
   "id": "ba343b70",
   "metadata": {},
   "source": [
    "### 37. Remove all punctuation from a string."
   ]
  },
  {
   "cell_type": "code",
   "execution_count": 14,
   "id": "ac5c51b8",
   "metadata": {},
   "outputs": [
    {
     "name": "stdout",
     "output_type": "stream",
     "text": [
      "Original string: Hello, world! How's it going?\n",
      "Cleaned string: Hello world Hows it going\n"
     ]
    }
   ],
   "source": [
    "import string\n",
    "\n",
    "def remove_punctuation(input_string):\n",
    "    # Create a translation table to remove punctuation\n",
    "    translator = str.maketrans(\"\", \"\", string.punctuation)\n",
    "\n",
    "    # Use the translation table to remove punctuation from the input string\n",
    "    clean_string = input_string.translate(translator)\n",
    "\n",
    "    return clean_string\n",
    "\n",
    "# Example string with punctuation\n",
    "input_str = \"Hello, world! How's it going?\"\n",
    "\n",
    "# Remove punctuation\n",
    "cleaned_str = remove_punctuation(input_str)\n",
    "\n",
    "# Print the cleaned string\n",
    "print(\"Original string:\", input_str)\n",
    "print(\"Cleaned string:\", cleaned_str)"
   ]
  },
  {
   "cell_type": "markdown",
   "id": "a30caa88",
   "metadata": {},
   "source": [
    "### 38. Check if a string contains only digits."
   ]
  },
  {
   "cell_type": "code",
   "execution_count": 16,
   "id": "10db5ca9",
   "metadata": {},
   "outputs": [
    {
     "name": "stdout",
     "output_type": "stream",
     "text": [
      "''1a, 2b , c, d' contains only digits :  False\n",
      "''nice12345' contains only digits :  False\n",
      "''12345' contains only digits :  True\n"
     ]
    }
   ],
   "source": [
    "s1 = '1a, 2b , c, d'\n",
    "s2 = 'nice12345'\n",
    "s3 = '12345'\n",
    "\n",
    "ans1 = s1.isdigit()\n",
    "ans2 = s2.isdigit()\n",
    "ans3 = s3.isdigit()\n",
    "\n",
    "print(f\"''{s1}' contains only digits : \", ans1)\n",
    "print(f\"''{s2}' contains only digits : \", ans2)\n",
    "print(f\"''{s3}' contains only digits : \", ans3)"
   ]
  },
  {
   "cell_type": "markdown",
   "id": "5b9e3852",
   "metadata": {},
   "source": [
    "### 39. Check if a string contains only alphabets."
   ]
  },
  {
   "cell_type": "code",
   "execution_count": 17,
   "id": "9cd2ceb0",
   "metadata": {},
   "outputs": [
    {
     "name": "stdout",
     "output_type": "stream",
     "text": [
      "''1a, 2b , c, d' contains only alphabets :  False\n",
      "''nice12345' contains only alphabets :  False\n",
      "''abc' contains only alphabets :  True\n"
     ]
    }
   ],
   "source": [
    "s1 = '1a, 2b , c, d'\n",
    "s2 = 'nice12345'\n",
    "s3 = 'abc'\n",
    "\n",
    "ans1 = s1.isalpha()\n",
    "ans2 = s2.isalpha()\n",
    "ans3 = s3.isalpha()\n",
    "\n",
    "print(f\"''{s1}' contains only alphabets : \", ans1)\n",
    "print(f\"''{s2}' contains only alphabets : \", ans2)\n",
    "print(f\"''{s3}' contains only alphabets : \", ans3)"
   ]
  },
  {
   "cell_type": "markdown",
   "id": "faa74a18",
   "metadata": {},
   "source": [
    "### 40. Convert a string to a list of characters."
   ]
  },
  {
   "cell_type": "code",
   "execution_count": 18,
   "id": "c62e07a9",
   "metadata": {},
   "outputs": [
    {
     "data": {
      "text/plain": [
       "['h', 'e', 'l', 'l', 'o', ' ', 'a', 'l', 'l']"
      ]
     },
     "execution_count": 18,
     "metadata": {},
     "output_type": "execute_result"
    }
   ],
   "source": [
    "s = 'hello all'\n",
    "l = list(s)\n",
    "l"
   ]
  },
  {
   "cell_type": "markdown",
   "id": "c574c39c",
   "metadata": {},
   "source": [
    "### 41. Check if two strings are anagrams."
   ]
  },
  {
   "cell_type": "code",
   "execution_count": 19,
   "id": "35e4ec17",
   "metadata": {},
   "outputs": [
    {
     "name": "stdout",
     "output_type": "stream",
     "text": [
      "True\n",
      "False\n"
     ]
    }
   ],
   "source": [
    "s1 = 'how'\n",
    "s2 = 'who'\n",
    "s3 = 'ten'\n",
    "s4 = 'hen'\n",
    "\n",
    "def anagram(s1, s2):\n",
    "    s1 = s1.replace(' ', '').lower()\n",
    "    s2 = s2.replace(' ', '').lower()\n",
    "    \n",
    "    return sorted(s1) == sorted(s2)\n",
    "\n",
    "ans1 = anagram(s1, s2)\n",
    "ans2 = anagram(s3, s4)\n",
    "\n",
    "print(ans1)\n",
    "print(ans2)"
   ]
  },
  {
   "cell_type": "markdown",
   "id": "c256581f",
   "metadata": {},
   "source": [
    "### 42. Encode a string using a Caesar cipher."
   ]
  },
  {
   "cell_type": "code",
   "execution_count": 7,
   "id": "8445c26a",
   "metadata": {},
   "outputs": [
    {
     "name": "stdout",
     "output_type": "stream",
     "text": [
      "d txlfn eurzq ira mxpshg ryhu d odcb grj\n"
     ]
    }
   ],
   "source": [
    "text = 'a quick brown fox jumped over a lazy dog'\n",
    "shift = 3\n",
    "encoded_txt = ''\n",
    "\n",
    "for ch in text:\n",
    "    if ch.isalpha():\n",
    "        encoded_char = chr((ord(ch) + shift - ord('a'))%26 + ord('a'))\n",
    "    else:\n",
    "        encoded_char = ch\n",
    "        \n",
    "    encoded_txt += encoded_char    \n",
    "\n",
    "print(encoded_txt)"
   ]
  },
  {
   "cell_type": "markdown",
   "id": "b2d224d4",
   "metadata": {},
   "source": [
    "### 43. Decode a Caesar cipher encoded string."
   ]
  },
  {
   "cell_type": "code",
   "execution_count": 10,
   "id": "a6826066",
   "metadata": {},
   "outputs": [
    {
     "name": "stdout",
     "output_type": "stream",
     "text": [
      "a quick brown fox jumped over a lazy dog\n"
     ]
    }
   ],
   "source": [
    "encoded_txt = 'd txlfn eurzq ira mxpshg ryhu d odcb grj'\n",
    "shift = 3\n",
    "decoded_txt =''\n",
    "\n",
    "for ch in encoded_txt:\n",
    "    if ch.isalpha():\n",
    "        decoded_ch = chr((ord(ch) - shift - ord('a'))%26 +ord('a'))\n",
    "    else:\n",
    "        decoded_ch = ch\n",
    "        \n",
    "    decoded_txt += decoded_ch\n",
    "        \n",
    "print(decoded_txt)"
   ]
  },
  {
   "cell_type": "markdown",
   "id": "c0b24750",
   "metadata": {},
   "source": [
    "### 44. Find the most frequent word in a string."
   ]
  },
  {
   "cell_type": "code",
   "execution_count": 20,
   "id": "668c9e5a",
   "metadata": {},
   "outputs": [
    {
     "name": "stdout",
     "output_type": "stream",
     "text": [
      "('sea', 2)\n"
     ]
    }
   ],
   "source": [
    "def word_count(s):\n",
    "    counts = dict()\n",
    "    words = s.split()\n",
    "\n",
    "    for word in words:\n",
    "        if word in counts:\n",
    "            counts[word] += 1\n",
    "        else:\n",
    "            counts[word] = 1\n",
    "\n",
    "    counts_x = sorted(counts.items(), key=lambda kv: kv[1])\n",
    "    #print(counts_x)\n",
    "    return counts_x[-1]\n",
    " \n",
    "\n",
    "string = \"she sells sea shells on the sea shore\"\n",
    "print(word_count(string))\n"
   ]
  },
  {
   "cell_type": "markdown",
   "id": "ccac5177",
   "metadata": {},
   "source": [
    "### 45. Find all unique words in a string."
   ]
  },
  {
   "cell_type": "code",
   "execution_count": 5,
   "id": "8cbfd378",
   "metadata": {},
   "outputs": [
    {
     "name": "stdout",
     "output_type": "stream",
     "text": [
      "Java\n",
      "Grails\n",
      "also\n"
     ]
    }
   ],
   "source": [
    "import re\n",
    "dict = {}\n",
    "def uniqueWord(Word):\n",
    " \n",
    "    if Word in dict:\n",
    " \n",
    "        # If the word exists in dictionary then\n",
    "        # simply increase its count\n",
    "        dict[words] += 1\n",
    " \n",
    "    else:\n",
    " \n",
    "        # If the word does not exists in\n",
    "        # dictionary update the dictionary\n",
    "        # and make its count 1\n",
    "        dict.update({words: 1})\n",
    " \n",
    "# Driver code\n",
    "if __name__ == '__main__':\n",
    "     \n",
    "    string = \"Java is great. Grails is also great\"\n",
    "     \n",
    "    # re.split() method is used to split\n",
    "    # all the words in a string separated\n",
    "    # by non-alphanumeric characters (\\W)\n",
    "    ListOfWords = re.split(\"[\\W]+\", string)\n",
    " \n",
    "    # Extract each word from ListOfWords\n",
    "    # and pass it to the method uniqueWord()\n",
    "    for words in ListOfWords:\n",
    "        uniqueWord(words)\n",
    " \n",
    "    # Iterate over dictionary if the value\n",
    "    # of the key is 1, then print the element\n",
    "    for elements in dict:\n",
    "        if dict[elements] == 1:\n",
    "            print(elements)"
   ]
  },
  {
   "cell_type": "markdown",
   "id": "da41b148",
   "metadata": {},
   "source": [
    "### 46. Count the number of syllables in a string."
   ]
  },
  {
   "cell_type": "code",
   "execution_count": 7,
   "id": "43e70167",
   "metadata": {},
   "outputs": [
    {
     "name": "stdout",
     "output_type": "stream",
     "text": [
      "9\n"
     ]
    }
   ],
   "source": [
    "def count_syllables(word):\n",
    "    vowels = \"aeiouAEIOU\"\n",
    "    count = 0\n",
    "\n",
    "    # Check if a letter is a vowel and not part of a consecutive vowel sequence\n",
    "    for i in range(len(word)):\n",
    "        if word[i] in vowels and (i == 0 or word[i - 1] not in vowels):\n",
    "            count += 1\n",
    "\n",
    "    return count\n",
    "\n",
    "def count_syllables_in_string(input_string):\n",
    "    words = input_string.split()\n",
    "    total_syllables = 0\n",
    "\n",
    "    for word in words:\n",
    "        total_syllables += count_syllables(word)\n",
    "\n",
    "    return total_syllables\n",
    "\n",
    "input_string = \"Hello, how are you doing today?\"\n",
    "result = count_syllables_in_string(input_string)\n",
    "print(result)\n"
   ]
  },
  {
   "cell_type": "markdown",
   "id": "4f740c7b",
   "metadata": {},
   "source": [
    "### 47. Check if a string contains any special characters."
   ]
  },
  {
   "cell_type": "code",
   "execution_count": 5,
   "id": "c69d4142",
   "metadata": {},
   "outputs": [
    {
     "name": "stdout",
     "output_type": "stream",
     "text": [
      "Yes String contains Special Character\n"
     ]
    }
   ],
   "source": [
    "String = 'hello @ 123 & xyz'\n",
    "\n",
    "Special = '!@#$%^&*'\n",
    "count = 0\n",
    "\n",
    "for i in String:\n",
    "    if i in Special:\n",
    "        count += 1\n",
    "if count > 0:\n",
    "    print('Yes String contains Special Character')\n",
    "else:\n",
    "    print('No String does not contain Special Character')\n",
    "        "
   ]
  },
  {
   "cell_type": "markdown",
   "id": "62c7c83d",
   "metadata": {},
   "source": [
    "### 48. Remove the nth word from a string."
   ]
  },
  {
   "cell_type": "code",
   "execution_count": 15,
   "id": "feba59be",
   "metadata": {},
   "outputs": [
    {
     "name": "stdout",
     "output_type": "stream",
     "text": [
      "The word that occurs most is :  \n",
      "No of times: 6\n"
     ]
    }
   ],
   "source": [
    "s = \"she sell sea shell on the sea floor\"\n",
    "n = len(s)\n",
    "\n",
    "for i in range(0, n, 1):\n",
    "    count = 0\n",
    "    for j in range(i + 1, n, 1):\n",
    "        if s[j] == s[i]:\n",
    "            count += 1\n",
    " \n",
    "    if count >= freq:\n",
    "        res = s[i]\n",
    "        freq = count\n",
    "        \n",
    "print(\"The word that occurs most is : \" + str(res))\n",
    "print(\"No of times: \" + str(freq))\n"
   ]
  },
  {
   "cell_type": "markdown",
   "id": "2ca4ad7c",
   "metadata": {},
   "source": [
    "### 49. Insert a word at the nth position in a string."
   ]
  },
  {
   "cell_type": "code",
   "execution_count": 8,
   "id": "0a75bacd",
   "metadata": {},
   "outputs": [
    {
     "name": "stdout",
     "output_type": "stream",
     "text": [
      "Thisnew is a sample sentence.\n"
     ]
    }
   ],
   "source": [
    "def insert_word_at_nth_position(original_string, word_to_insert, n):\n",
    "    # Insert the word at the nth position\n",
    "    modified_string = original_string[:n] + word_to_insert + original_string[n:]\n",
    "\n",
    "    return modified_string\n",
    "\n",
    "original_string = \"This is a sample sentence.\"\n",
    "word_to_insert = \"new\"\n",
    "nth_position = 4\n",
    "\n",
    "result = insert_word_at_nth_position(original_string, word_to_insert, nth_position)\n",
    "print(result)\n"
   ]
  },
  {
   "cell_type": "markdown",
   "id": "1c423e57",
   "metadata": {},
   "source": [
    "### 50. Convert a CSV string to a list of lists."
   ]
  },
  {
   "cell_type": "code",
   "execution_count": 9,
   "id": "9d2a3e7c",
   "metadata": {},
   "outputs": [
    {
     "name": "stdout",
     "output_type": "stream",
     "text": [
      "[['Name', 'Age', 'Occupation'], ['John', '25', 'Engineer'], ['Jane', '30', 'Doctor'], ['Bob', '22', 'Student']]\n"
     ]
    }
   ],
   "source": [
    "import csv\n",
    "from io import StringIO\n",
    "\n",
    "def csv_string_to_list(csv_string):\n",
    "    # Use StringIO to create a file-like object from the CSV string\n",
    "    csv_file = StringIO(csv_string)\n",
    "\n",
    "    # Create a CSV reader\n",
    "    csv_reader = csv.reader(csv_file)\n",
    "\n",
    "    # Convert the CSV data to a list of lists\n",
    "    csv_data = list(csv_reader)\n",
    "\n",
    "    return csv_data\n",
    "\n",
    "# Example usage:\n",
    "csv_string = \"Name,Age,Occupation\\nJohn,25,Engineer\\nJane,30,Doctor\\nBob,22,Student\"\n",
    "result = csv_string_to_list(csv_string)\n",
    "print(result)\n"
   ]
  },
  {
   "cell_type": "code",
   "execution_count": null,
   "id": "1c1cf36f",
   "metadata": {},
   "outputs": [],
   "source": []
  }
 ],
 "metadata": {
  "kernelspec": {
   "display_name": "Python 3 (ipykernel)",
   "language": "python",
   "name": "python3"
  },
  "language_info": {
   "codemirror_mode": {
    "name": "ipython",
    "version": 3
   },
   "file_extension": ".py",
   "mimetype": "text/x-python",
   "name": "python",
   "nbconvert_exporter": "python",
   "pygments_lexer": "ipython3",
   "version": "3.9.7"
  }
 },
 "nbformat": 4,
 "nbformat_minor": 5
}
