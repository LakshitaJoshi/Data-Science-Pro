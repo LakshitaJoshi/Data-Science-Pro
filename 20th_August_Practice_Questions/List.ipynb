{
 "cells": [
  {
   "cell_type": "markdown",
   "id": "2ff863de",
   "metadata": {},
   "source": [
    "### 1. Create a list with integers from 1 to 10."
   ]
  },
  {
   "cell_type": "code",
   "execution_count": 13,
   "id": "d01927cc",
   "metadata": {},
   "outputs": [
    {
     "name": "stdout",
     "output_type": "stream",
     "text": [
      "[1, 2, 3, 4, 5, 6, 7, 8, 9, 10]\n"
     ]
    }
   ],
   "source": [
    "l = list(range(1,11))\n",
    "    \n",
    "print(l)\n",
    "    "
   ]
  },
  {
   "cell_type": "markdown",
   "id": "adb0b512",
   "metadata": {},
   "source": [
    "### 2. Find the length of a list without using the `len()` function."
   ]
  },
  {
   "cell_type": "code",
   "execution_count": 14,
   "id": "bfa19839",
   "metadata": {},
   "outputs": [
    {
     "name": "stdout",
     "output_type": "stream",
     "text": [
      "9\n"
     ]
    }
   ],
   "source": [
    "l = [45, 25, 62, 33, 78, 21, 11, 98,55]\n",
    "\n",
    "count = 0\n",
    "\n",
    "for i in l:\n",
    "    count += 1\n",
    "\n",
    "print(count) \n"
   ]
  },
  {
   "cell_type": "markdown",
   "id": "73f86986",
   "metadata": {},
   "source": [
    "### 3. Append an element to the end of a list."
   ]
  },
  {
   "cell_type": "code",
   "execution_count": 22,
   "id": "5153ba0c",
   "metadata": {},
   "outputs": [
    {
     "data": {
      "text/plain": [
       "[45, 25, 62, 33, 78, 21, 11, 98, 55, 100]"
      ]
     },
     "execution_count": 22,
     "metadata": {},
     "output_type": "execute_result"
    }
   ],
   "source": [
    "l = [45, 25, 62, 33, 78, 21, 11, 98,55]\n",
    "\n",
    "l.append(100)\n",
    "l"
   ]
  },
  {
   "cell_type": "markdown",
   "id": "5cc242fc",
   "metadata": {},
   "source": [
    "### 4. Insert an element at a specific index in a list."
   ]
  },
  {
   "cell_type": "code",
   "execution_count": 24,
   "id": "ed133875",
   "metadata": {},
   "outputs": [
    {
     "data": {
      "text/plain": [
       "[5, 45, 25, 62, 33, 78, 21, 11, 98, 55]"
      ]
     },
     "execution_count": 24,
     "metadata": {},
     "output_type": "execute_result"
    }
   ],
   "source": [
    "l = [45, 25, 62, 33, 78, 21, 11, 98,55]\n",
    "\n",
    "l.insert(0,5)\n",
    "l"
   ]
  },
  {
   "cell_type": "markdown",
   "id": "ea451cc6",
   "metadata": {},
   "source": [
    "### 5. Remove an element from a list by its value."
   ]
  },
  {
   "cell_type": "code",
   "execution_count": 25,
   "id": "7302ffb6",
   "metadata": {},
   "outputs": [
    {
     "data": {
      "text/plain": [
       "[45, 62, 33, 78, 21, 11, 98, 55]"
      ]
     },
     "execution_count": 25,
     "metadata": {},
     "output_type": "execute_result"
    }
   ],
   "source": [
    "l = [45, 25, 62, 33, 78, 21, 11, 98,55]\n",
    "\n",
    "l.remove(25)\n",
    "l"
   ]
  },
  {
   "cell_type": "markdown",
   "id": "336ea4de",
   "metadata": {},
   "source": [
    "### 6. Remove an element from a list by its index."
   ]
  },
  {
   "cell_type": "code",
   "execution_count": 2,
   "id": "f6e4d4fc",
   "metadata": {},
   "outputs": [
    {
     "data": {
      "text/plain": [
       "[45, 25, 62, 78, 21, 11, 98, 55]"
      ]
     },
     "execution_count": 2,
     "metadata": {},
     "output_type": "execute_result"
    }
   ],
   "source": [
    "l = [45, 25, 62, 33, 78, 21, 11, 98,55]\n",
    "del l[3]\n",
    "l"
   ]
  },
  {
   "cell_type": "markdown",
   "id": "e7742db7",
   "metadata": {},
   "source": [
    "### 7. Check if an element exists in a list."
   ]
  },
  {
   "cell_type": "code",
   "execution_count": 9,
   "id": "3bf008d9",
   "metadata": {},
   "outputs": [
    {
     "name": "stdout",
     "output_type": "stream",
     "text": [
      "Enter the element to check : 11\n",
      "Yes\n"
     ]
    }
   ],
   "source": [
    "l = [45, 25, 62, 33, 78, 21, 11, 98,55]\n",
    "\n",
    "element = int(input('Enter the element to check : '))\n",
    "\n",
    "if element in l:\n",
    "    print('Yes')\n",
    "    else:\n",
    "    print('no')"
   ]
  },
  {
   "cell_type": "markdown",
   "id": "08894ac0",
   "metadata": {},
   "source": [
    "### 8. Find the index of the first occurrence of an element in a list."
   ]
  },
  {
   "cell_type": "code",
   "execution_count": 13,
   "id": "fc65d054",
   "metadata": {},
   "outputs": [
    {
     "data": {
      "text/plain": [
       "1"
      ]
     },
     "execution_count": 13,
     "metadata": {},
     "output_type": "execute_result"
    }
   ],
   "source": [
    "l = [45, 25, 62, 33, 25, 78, 21, 11, 98,55]\n",
    "\n",
    "l.index(25)"
   ]
  },
  {
   "cell_type": "markdown",
   "id": "716e592d",
   "metadata": {},
   "source": [
    "### 9. Count the occurrences of an element in a list."
   ]
  },
  {
   "cell_type": "code",
   "execution_count": 15,
   "id": "b7356f92",
   "metadata": {},
   "outputs": [
    {
     "name": "stdout",
     "output_type": "stream",
     "text": [
      "Enter the element to check : 25\n",
      "2\n"
     ]
    }
   ],
   "source": [
    "l = [45, 25, 62, 33, 25, 78, 21, 11, 98,55]\n",
    "\n",
    "element = int(input('Enter the element to check : '))\n",
    "\n",
    "count = 0\n",
    "\n",
    "for i in l:\n",
    "    if i == element:\n",
    "        count += 1\n",
    "    \n",
    "print(count)\n",
    "    "
   ]
  },
  {
   "cell_type": "markdown",
   "id": "c9d64117",
   "metadata": {},
   "source": [
    "### 10. Reverse the order of elements in a list."
   ]
  },
  {
   "cell_type": "code",
   "execution_count": 17,
   "id": "89eecca8",
   "metadata": {},
   "outputs": [
    {
     "data": {
      "text/plain": [
       "[55, 98, 11, 21, 78, 33, 62, 25, 45]"
      ]
     },
     "execution_count": 17,
     "metadata": {},
     "output_type": "execute_result"
    }
   ],
   "source": [
    "l = [45, 25, 62, 33, 78, 21, 11, 98,55]\n",
    "\n",
    "l2 = l[::-1]\n",
    "l2"
   ]
  },
  {
   "cell_type": "code",
   "execution_count": 19,
   "id": "fa3e9248",
   "metadata": {},
   "outputs": [
    {
     "data": {
      "text/plain": [
       "[55, 98, 11, 21, 78, 33, 62, 25, 45]"
      ]
     },
     "execution_count": 19,
     "metadata": {},
     "output_type": "execute_result"
    }
   ],
   "source": [
    "l = [45, 25, 62, 33, 78, 21, 11, 98,55]\n",
    "l.reverse()\n",
    "l"
   ]
  },
  {
   "cell_type": "markdown",
   "id": "e4ec581d",
   "metadata": {},
   "source": [
    "### 11. Sort a list in ascending order."
   ]
  },
  {
   "cell_type": "code",
   "execution_count": 20,
   "id": "69114f50",
   "metadata": {},
   "outputs": [
    {
     "data": {
      "text/plain": [
       "[11, 21, 25, 33, 45, 55, 62, 78, 98]"
      ]
     },
     "execution_count": 20,
     "metadata": {},
     "output_type": "execute_result"
    }
   ],
   "source": [
    "l = [45, 25, 62, 33, 78, 21, 11, 98,55]\n",
    "l.sort()\n",
    "l"
   ]
  },
  {
   "cell_type": "markdown",
   "id": "306aab34",
   "metadata": {},
   "source": [
    "### 12. Sort a list in descending order."
   ]
  },
  {
   "cell_type": "code",
   "execution_count": 21,
   "id": "b7b68cc6",
   "metadata": {},
   "outputs": [
    {
     "data": {
      "text/plain": [
       "[98, 78, 62, 55, 45, 33, 25, 21, 11]"
      ]
     },
     "execution_count": 21,
     "metadata": {},
     "output_type": "execute_result"
    }
   ],
   "source": [
    "l = [45, 25, 62, 33, 78, 21, 11, 98,55]\n",
    "l.sort()\n",
    "l.reverse()\n",
    "l"
   ]
  },
  {
   "cell_type": "markdown",
   "id": "5e2acdd7",
   "metadata": {},
   "source": [
    "### 13. Create a list of even numbers from 1 to 20."
   ]
  },
  {
   "cell_type": "code",
   "execution_count": 24,
   "id": "333f35c4",
   "metadata": {},
   "outputs": [
    {
     "data": {
      "text/plain": [
       "[2, 4, 6, 8, 10, 12, 14, 16, 18, 20]"
      ]
     },
     "execution_count": 24,
     "metadata": {},
     "output_type": "execute_result"
    }
   ],
   "source": [
    "l = []\n",
    "\n",
    "for i in range(1,21):\n",
    "    if(i%2 == 0):\n",
    "        l.append(i)\n",
    "        \n",
    "l"
   ]
  },
  {
   "cell_type": "markdown",
   "id": "5ec68f3b",
   "metadata": {},
   "source": [
    "### 14. Create a list of odd numbers from 1 to 20."
   ]
  },
  {
   "cell_type": "code",
   "execution_count": 25,
   "id": "a9153eec",
   "metadata": {},
   "outputs": [
    {
     "data": {
      "text/plain": [
       "[1, 3, 5, 7, 9, 11, 13, 15, 17, 19]"
      ]
     },
     "execution_count": 25,
     "metadata": {},
     "output_type": "execute_result"
    }
   ],
   "source": [
    "l = []\n",
    "\n",
    "for i in range(1,21):\n",
    "    if(i%2 == 1):\n",
    "        l.append(i)\n",
    "        \n",
    "l"
   ]
  },
  {
   "cell_type": "markdown",
   "id": "94c28381",
   "metadata": {},
   "source": [
    "### 15. Find the sum of all elements in a list."
   ]
  },
  {
   "cell_type": "code",
   "execution_count": 26,
   "id": "95ef8a47",
   "metadata": {},
   "outputs": [
    {
     "data": {
      "text/plain": [
       "428"
      ]
     },
     "execution_count": 26,
     "metadata": {},
     "output_type": "execute_result"
    }
   ],
   "source": [
    "l = [45, 25, 62, 33, 78, 21, 11, 98,55]\n",
    "\n",
    "add = 0\n",
    "\n",
    "for i in l:\n",
    "    add += i\n",
    "    \n",
    "add"
   ]
  },
  {
   "cell_type": "markdown",
   "id": "4d29cd85",
   "metadata": {},
   "source": [
    "### 16. Find the maximum value in a list."
   ]
  },
  {
   "cell_type": "code",
   "execution_count": 32,
   "id": "1c3ff03c",
   "metadata": {},
   "outputs": [
    {
     "data": {
      "text/plain": [
       "98"
      ]
     },
     "execution_count": 32,
     "metadata": {},
     "output_type": "execute_result"
    }
   ],
   "source": [
    "l = [45, 25, 62, 33, 78, 21, 11, 98,55]\n",
    "\n",
    "max_element = max(l)\n",
    "max_element"
   ]
  },
  {
   "cell_type": "markdown",
   "id": "ebed5d7b",
   "metadata": {},
   "source": [
    "### 17. Find the minimum value in a list."
   ]
  },
  {
   "cell_type": "code",
   "execution_count": 33,
   "id": "8db7a55b",
   "metadata": {},
   "outputs": [
    {
     "data": {
      "text/plain": [
       "11"
      ]
     },
     "execution_count": 33,
     "metadata": {},
     "output_type": "execute_result"
    }
   ],
   "source": [
    "l = [45, 25, 62, 33, 78, 21, 11, 98,55]\n",
    "\n",
    "max_element = min(l)\n",
    "max_element"
   ]
  },
  {
   "cell_type": "markdown",
   "id": "7c43ecc7",
   "metadata": {},
   "source": [
    "### 18. Create a list of squares of numbers from 1 to 10."
   ]
  },
  {
   "cell_type": "code",
   "execution_count": 35,
   "id": "75272ef0",
   "metadata": {},
   "outputs": [
    {
     "data": {
      "text/plain": [
       "[1, 4, 9, 16, 25, 36, 49, 64, 81, 100]"
      ]
     },
     "execution_count": 35,
     "metadata": {},
     "output_type": "execute_result"
    }
   ],
   "source": [
    "l = [n*n for n in range(1,11)] # list comprehensions\n",
    "l"
   ]
  },
  {
   "cell_type": "markdown",
   "id": "40e484b7",
   "metadata": {},
   "source": [
    "### 19. Create a list of random numbers."
   ]
  },
  {
   "cell_type": "code",
   "execution_count": 40,
   "id": "04d45d27",
   "metadata": {},
   "outputs": [
    {
     "name": "stdout",
     "output_type": "stream",
     "text": [
      "[512, 419, 276, 497, 365, 275, 465, 450, 332, 509, 574, 273, 361, 452, 255, 268, 354, 270, 381, 449]\n"
     ]
    }
   ],
   "source": [
    "import random\n",
    "\n",
    "random_list = []\n",
    "n = 20\n",
    "for i in range(n):\n",
    "    random_list.append(random.randint(255,600))\n",
    "print(random_list)"
   ]
  },
  {
   "cell_type": "markdown",
   "id": "40558271",
   "metadata": {},
   "source": [
    "### 20. Remove duplicates from a list."
   ]
  },
  {
   "cell_type": "code",
   "execution_count": 45,
   "id": "1f8d6548",
   "metadata": {},
   "outputs": [
    {
     "data": {
      "text/plain": [
       "[45, 25, 62, 33, 78, 21, 11, 98, 55, 99]"
      ]
     },
     "execution_count": 45,
     "metadata": {},
     "output_type": "execute_result"
    }
   ],
   "source": [
    "l1 = [45, 25,25, 62, 33, 78, 33, 21, 11, 98,55, 99,62]\n",
    "\n",
    "dup = []\n",
    "\n",
    "for i in l1:\n",
    "    if i not in dup:\n",
    "        dup.append(i)\n",
    "\n",
    "dup"
   ]
  },
  {
   "cell_type": "markdown",
   "id": "e6f876fe",
   "metadata": {},
   "source": [
    "### 21. Find the common elements between two lists."
   ]
  },
  {
   "cell_type": "code",
   "execution_count": 41,
   "id": "95b6f34e",
   "metadata": {},
   "outputs": [
    {
     "data": {
      "text/plain": [
       "{25, 33, 78, 98}"
      ]
     },
     "execution_count": 41,
     "metadata": {},
     "output_type": "execute_result"
    }
   ],
   "source": [
    "l1 = [45, 25, 62, 33, 78, 21, 11, 98,55]\n",
    "l2 = [78, 65, 33, 98, 56, 37, 105, 1, 56, 25]\n",
    "\n",
    "set1 = set(l1)\n",
    "set2 = set(l2)\n",
    "\n",
    "set1.intersection(set2)"
   ]
  },
  {
   "cell_type": "markdown",
   "id": "d8faa5f3",
   "metadata": {},
   "source": [
    "### 22. Find the difference between two lists."
   ]
  },
  {
   "cell_type": "code",
   "execution_count": 48,
   "id": "b535c94d",
   "metadata": {},
   "outputs": [
    {
     "data": {
      "text/plain": [
       "[45, 62, 21, 11, 55]"
      ]
     },
     "execution_count": 48,
     "metadata": {},
     "output_type": "execute_result"
    }
   ],
   "source": [
    "l1 = [45, 25, 62, 33, 78, 21, 11, 98,55]\n",
    "l2 = [78, 65, 33, 98, 56, 37, 105, 1, 56, 25]\n",
    "\n",
    "set1 = set(l1)\n",
    "set2 = set(l2)\n",
    "\n",
    "diff = []\n",
    "\n",
    "for i in l1:\n",
    "    if i not in l2:\n",
    "        diff.append(i)\n",
    "diff # elements present in l1 but not in l2"
   ]
  },
  {
   "cell_type": "markdown",
   "id": "9000dac9",
   "metadata": {},
   "source": [
    "### 23. Merge two lists."
   ]
  },
  {
   "cell_type": "code",
   "execution_count": 55,
   "id": "19cd6f50",
   "metadata": {},
   "outputs": [
    {
     "name": "stdout",
     "output_type": "stream",
     "text": [
      "[45, 25, 62, 33, 78, 21, 11, 98, 55, 108, 77, 95]\n"
     ]
    }
   ],
   "source": [
    "l1 = [45, 25, 62, 33, 78, 21, 11, 98,55]\n",
    "l2 = [108,77,95]\n",
    "\n",
    "l3  = l1.extend(l2)\n",
    "print(l1)"
   ]
  },
  {
   "cell_type": "markdown",
   "id": "116837b6",
   "metadata": {},
   "source": [
    "### 24. Multiply all elements in a list by 2."
   ]
  },
  {
   "cell_type": "code",
   "execution_count": 57,
   "id": "c6ade36f",
   "metadata": {},
   "outputs": [
    {
     "name": "stdout",
     "output_type": "stream",
     "text": [
      "[216, 154, 190]\n"
     ]
    }
   ],
   "source": [
    "l = [108,77,95]\n",
    "\n",
    "l2 = [2*i for i in l]\n",
    "print(l2)"
   ]
  },
  {
   "cell_type": "markdown",
   "id": "2075f1f7",
   "metadata": {},
   "source": [
    "### 25. Filter out all even numbers from a list."
   ]
  },
  {
   "cell_type": "code",
   "execution_count": 61,
   "id": "e0dd2573",
   "metadata": {},
   "outputs": [
    {
     "name": "stdout",
     "output_type": "stream",
     "text": [
      "[62, 78, 98]\n"
     ]
    }
   ],
   "source": [
    "l1 = [45, 25, 62, 33, 78, 21, 11, 98,55]\n",
    "\n",
    "l2 = []\n",
    "\n",
    "for i in l1:\n",
    "    if i%2 == 0:\n",
    "        l2.append(i)\n",
    "    \n",
    "print(l2)"
   ]
  },
  {
   "cell_type": "markdown",
   "id": "d20d1d11",
   "metadata": {},
   "source": [
    "### 26. Convert a list of strings to a list of integers."
   ]
  },
  {
   "cell_type": "code",
   "execution_count": 6,
   "id": "ad33b07c",
   "metadata": {},
   "outputs": [
    {
     "name": "stdout",
     "output_type": "stream",
     "text": [
      "['33', '24', '7', '5', '89', '54', '100', '2']\n",
      "[33, 24, 7, 5, 89, 54, 100, 2]\n"
     ]
    }
   ],
   "source": [
    "l = ['33','24','7','5','89','54','100','2']\n",
    "print(l)\n",
    "\n",
    "l = [int(i) for i in l]\n",
    "print(l)"
   ]
  },
  {
   "cell_type": "markdown",
   "id": "10347e80",
   "metadata": {},
   "source": [
    "### 27. Convert a list of integers to a list of strings."
   ]
  },
  {
   "cell_type": "code",
   "execution_count": 8,
   "id": "a454c8aa",
   "metadata": {},
   "outputs": [
    {
     "name": "stdout",
     "output_type": "stream",
     "text": [
      "[33, 24, 7, 5, 89, 54, 100, 2]\n",
      "['33', '24', '7', '5', '89', '54', '100', '2']\n"
     ]
    }
   ],
   "source": [
    "l1 = [45, 25, 62, 33, 78, 21, 11, 98,55]\n",
    "\n",
    "print(l)\n",
    "\n",
    "l = [str(i) for i in l]\n",
    "print(l)"
   ]
  },
  {
   "cell_type": "markdown",
   "id": "872f020a",
   "metadata": {},
   "source": [
    "### 28. Flatten a nested list."
   ]
  },
  {
   "cell_type": "code",
   "execution_count": 4,
   "id": "9a3a1d66",
   "metadata": {},
   "outputs": [
    {
     "name": "stdout",
     "output_type": "stream",
     "text": [
      "[1, 2, 3, 4, 5, 6, 7, 8, 9, 10, 11, 12]\n"
     ]
    }
   ],
   "source": [
    "l = [[1,2,3],[4,5],[6],[7,8,9,10],[11,12]]\n",
    "\n",
    "flatten_list = [element for sublist in l for element in sublist ] # sublist -> [1,2,3] [4,5] [6]..\n",
    "\n",
    "print(flatten_list)"
   ]
  },
  {
   "cell_type": "markdown",
   "id": "8e006b1b",
   "metadata": {},
   "source": [
    "### 29. Create a list of the first 10 Fibonacci numbers."
   ]
  },
  {
   "cell_type": "code",
   "execution_count": 15,
   "id": "3e8c0e16",
   "metadata": {},
   "outputs": [
    {
     "name": "stdout",
     "output_type": "stream",
     "text": [
      "[0, 1, 1, 2, 3, 5, 8, 13, 21, 34]\n"
     ]
    }
   ],
   "source": [
    "a = 0\n",
    "b = 1\n",
    "c = a + b\n",
    "\n",
    "l = []\n",
    "l.append(a)\n",
    "l.append(b)\n",
    "\n",
    "for i in range(3,11):\n",
    "    l.append(c)\n",
    "    a = b\n",
    "    b = c\n",
    "    c = a + b\n",
    "\n",
    "print(l)\n"
   ]
  },
  {
   "cell_type": "markdown",
   "id": "0c889154",
   "metadata": {},
   "source": [
    "### 30. Check if a list is sorted."
   ]
  },
  {
   "cell_type": "code",
   "execution_count": 24,
   "id": "e3d5580f",
   "metadata": {},
   "outputs": [
    {
     "name": "stdout",
     "output_type": "stream",
     "text": [
      "List is not sorted\n"
     ]
    }
   ],
   "source": [
    "l1 = [45, 25, 62, 33, 78, 21, 11, 98,55]\n",
    "\n",
    "if(l1 == l1.sort()):\n",
    "    print('List is sorted')\n",
    "else:\n",
    "    print('List is not sorted')"
   ]
  },
  {
   "cell_type": "markdown",
   "id": "0b3e2b67",
   "metadata": {},
   "source": [
    "### 31. Rotate a list to the left by `n` positions."
   ]
  },
  {
   "cell_type": "code",
   "execution_count": 30,
   "id": "610ec457",
   "metadata": {},
   "outputs": [
    {
     "name": "stdout",
     "output_type": "stream",
     "text": [
      "no of positions : 3\n",
      "[33, 78, 21, 11, 98, 55, 45, 25, 62]\n"
     ]
    }
   ],
   "source": [
    "n = int(input('no of positions : '))\n",
    "\n",
    "l = [45, 25, 62, 33, 78, 21, 11, 98,55]\n",
    "\n",
    "if n < len(l):\n",
    "    l = l[3:] + l[:3]\n",
    "\n",
    "print(l)"
   ]
  },
  {
   "cell_type": "markdown",
   "id": "4a97eaa7",
   "metadata": {},
   "source": [
    "### 32. Rotate a list to the right by `n` positions."
   ]
  },
  {
   "cell_type": "code",
   "execution_count": 31,
   "id": "d5c2b15c",
   "metadata": {},
   "outputs": [
    {
     "name": "stdout",
     "output_type": "stream",
     "text": [
      "no of positions : 3\n",
      "[11, 98, 55, 45, 25, 62, 33, 78, 21]\n"
     ]
    }
   ],
   "source": [
    "n = int(input('no of positions : '))\n",
    "\n",
    "l = [45, 25, 62, 33, 78, 21, 11, 98,55]\n",
    "\n",
    "if n < len(l):\n",
    "    l = l[-3:] + l[:-3]\n",
    "\n",
    "print(l)"
   ]
  },
  {
   "cell_type": "markdown",
   "id": "38655597",
   "metadata": {},
   "source": [
    "### 33. Create a list of prime numbers up to 50."
   ]
  },
  {
   "cell_type": "code",
   "execution_count": 31,
   "id": "b2ff8a73",
   "metadata": {},
   "outputs": [
    {
     "name": "stdout",
     "output_type": "stream",
     "text": [
      "[2, 3, 5, 7, 11, 13, 17, 19, 23, 29, 31, 37, 41, 43, 47]\n"
     ]
    }
   ],
   "source": [
    "def prime_nos(n):\n",
    "    primes = []\n",
    "    for i in range(2, n+1):\n",
    "        for j in range(2, int(i**0.5) + 1):\n",
    "            if i%j == 0:\n",
    "                break\n",
    "        else:\n",
    "            primes.append(i)\n",
    "    return primes\n",
    "\n",
    "prime_list = prime_nos(50)\n",
    "print(prime_list)"
   ]
  },
  {
   "cell_type": "markdown",
   "id": "07e324dd",
   "metadata": {},
   "source": [
    "### 34. Split a list into chunks of size `n`."
   ]
  },
  {
   "cell_type": "code",
   "execution_count": 6,
   "id": "b97aab77",
   "metadata": {},
   "outputs": [
    {
     "name": "stdout",
     "output_type": "stream",
     "text": [
      "[[1, 2, 3], [4, 5, 6], [7, 8, 9]]\n"
     ]
    }
   ],
   "source": [
    "def chunk_list(lst, n):\n",
    "    return [lst[i:i+n] for i in range(0, len(lst), n)]\n",
    "\n",
    "# Example usage:\n",
    "my_list = [1, 2, 3, 4, 5, 6, 7, 8, 9]\n",
    "chunk_size = 3\n",
    "result = chunk_list(my_list, chunk_size)\n",
    "print(result)\n"
   ]
  },
  {
   "cell_type": "markdown",
   "id": "88584835",
   "metadata": {},
   "source": [
    "### 35. Find the second largest number in a list."
   ]
  },
  {
   "cell_type": "code",
   "execution_count": 1,
   "id": "99e37ba6",
   "metadata": {},
   "outputs": [
    {
     "name": "stdout",
     "output_type": "stream",
     "text": [
      "Second largest number: 25\n"
     ]
    }
   ],
   "source": [
    "my_list = [10, 5, 20, 15, 30, 25]\n",
    "\n",
    "# Remove duplicates and sort the list in ascending order\n",
    "sorted_list = sorted(set(my_list))\n",
    "\n",
    "# Find the second largest number\n",
    "if len(sorted_list) >= 2:\n",
    "    second_largest = sorted_list[-2]\n",
    "    print(\"Second largest number:\", second_largest)\n",
    "else:\n",
    "    print(\"The list does not contain enough elements.\")"
   ]
  },
  {
   "cell_type": "markdown",
   "id": "59038ffc",
   "metadata": {},
   "source": [
    "### 36. Replace every element in a list with its square."
   ]
  },
  {
   "cell_type": "code",
   "execution_count": 2,
   "id": "fe6b7707",
   "metadata": {},
   "outputs": [
    {
     "name": "stdout",
     "output_type": "stream",
     "text": [
      "{1, 4, 9, 16, 25}\n"
     ]
    }
   ],
   "source": [
    "l = [1,2,3,4,5]\n",
    "\n",
    "list_sq = set(map(lambda x :  x**2, l ))\n",
    "\n",
    "print(list_sq)"
   ]
  },
  {
   "cell_type": "markdown",
   "id": "5014e764",
   "metadata": {},
   "source": [
    "### 37. Convert a list to a dictionary where list elements become keys and their indices become values."
   ]
  },
  {
   "cell_type": "code",
   "execution_count": 4,
   "id": "c73e6b83",
   "metadata": {},
   "outputs": [
    {
     "name": "stdout",
     "output_type": "stream",
     "text": [
      "Converted dictionary: {'alpha': 0, 'beta': 1, 'gamma': 2, 'delta': 3}\n"
     ]
    }
   ],
   "source": [
    "my_list = ['alpha', 'beta', 'gamma', 'delta']\n",
    "\n",
    "# Convert list to dictionary using dictionary comprehension\n",
    "my_dict = {element: index for index, element in enumerate(my_list)}\n",
    "\n",
    "# Print the resulting dictionary\n",
    "print(\"Converted dictionary:\", my_dict)"
   ]
  },
  {
   "cell_type": "markdown",
   "id": "792ed587",
   "metadata": {},
   "source": [
    "### 38. Shuffle the elements of a list randomly."
   ]
  },
  {
   "cell_type": "code",
   "execution_count": 5,
   "id": "4429ab1a",
   "metadata": {},
   "outputs": [
    {
     "name": "stdout",
     "output_type": "stream",
     "text": [
      "Shuffled list: [2, 5, 1, 10, 6, 3, 9, 4, 7, 8]\n"
     ]
    }
   ],
   "source": [
    "import random\n",
    "\n",
    "my_list = [1, 2, 3, 4, 5, 6, 7, 8, 9, 10]\n",
    "\n",
    "random.shuffle(my_list)\n",
    "\n",
    "print(\"Shuffled list:\", my_list)"
   ]
  },
  {
   "cell_type": "markdown",
   "id": "b6b100ff",
   "metadata": {},
   "source": [
    "### 39. Create a list of the first 10 factorial numbers."
   ]
  },
  {
   "cell_type": "code",
   "execution_count": 28,
   "id": "183617bf",
   "metadata": {},
   "outputs": [
    {
     "name": "stdout",
     "output_type": "stream",
     "text": [
      "First 10 factorial numbers:\n",
      "[1, 2, 6, 24, 120, 720, 5040, 40320, 362880, 3628800]\n"
     ]
    }
   ],
   "source": [
    "import math\n",
    "\n",
    "l = []\n",
    "\n",
    "factorial_numbers = [math.factorial(n) for n in range(1, 11)]\n",
    "\n",
    "print(\"First 10 factorial numbers:\")\n",
    "for index, factorial in enumerate(factorial_numbers, start=1):\n",
    "    l.append(factorial)\n",
    "           \n",
    "print(l)"
   ]
  },
  {
   "cell_type": "markdown",
   "id": "8da78d27",
   "metadata": {},
   "source": [
    "### 40. Check if two lists have at least one element in common."
   ]
  },
  {
   "cell_type": "code",
   "execution_count": 25,
   "id": "755334a9",
   "metadata": {},
   "outputs": [
    {
     "name": "stdout",
     "output_type": "stream",
     "text": [
      "list has 1 elements in common\n"
     ]
    }
   ],
   "source": [
    "l1 = [45, -2, 8, 18, -65, 75, -12]\n",
    "l2 = [12, 77, 96, -2, 10]\n",
    "\n",
    "common = 0\n",
    "\n",
    "for i in l1:\n",
    "    if i in l2:\n",
    "        common += 1\n",
    "        \n",
    "\n",
    "if common >= 1:\n",
    "    print(f'list has {common} elements in common')"
   ]
  },
  {
   "cell_type": "markdown",
   "id": "dc4fc337",
   "metadata": {},
   "source": [
    "### 41. Remove all elements from a list."
   ]
  },
  {
   "cell_type": "code",
   "execution_count": 22,
   "id": "4fc83ded",
   "metadata": {},
   "outputs": [
    {
     "data": {
      "text/plain": [
       "[]"
      ]
     },
     "execution_count": 22,
     "metadata": {},
     "output_type": "execute_result"
    }
   ],
   "source": [
    "l = [45, -2, 8, 18, -65, 75, -12]\n",
    "\n",
    "l.clear()\n",
    "\n",
    "l"
   ]
  },
  {
   "cell_type": "markdown",
   "id": "af207c7c",
   "metadata": {},
   "source": [
    "### 42. Replace negative numbers in a list with 0."
   ]
  },
  {
   "cell_type": "code",
   "execution_count": 19,
   "id": "23cddef9",
   "metadata": {},
   "outputs": [
    {
     "name": "stdout",
     "output_type": "stream",
     "text": [
      "[45, 0, 8, 18, 0, 75, 0]\n"
     ]
    }
   ],
   "source": [
    "l = [45, -2, 8, 18, -65, 75, -12]\n",
    "\n",
    "for i in range(len(l)):\n",
    "\n",
    "    if l[i] < 0:\n",
    "        l[i] = 0\n",
    "        \n",
    "print(l)"
   ]
  },
  {
   "cell_type": "markdown",
   "id": "258426c0",
   "metadata": {},
   "source": [
    "### 43. Convert a string into a list of words."
   ]
  },
  {
   "cell_type": "code",
   "execution_count": 10,
   "id": "9151a614",
   "metadata": {},
   "outputs": [
    {
     "name": "stdout",
     "output_type": "stream",
     "text": [
      "['ants', 'elephant', 'ape', 'dragen-fruit', 'mangoes', 'apples']\n"
     ]
    }
   ],
   "source": [
    "str_words = 'ants elephant ape dragen-fruit mangoes apples'\n",
    "\n",
    "s = str_words.split()\n",
    "\n",
    "print(s)"
   ]
  },
  {
   "cell_type": "markdown",
   "id": "f04d7387",
   "metadata": {},
   "source": [
    "### 44. Convert a list of words into a string\n"
   ]
  },
  {
   "cell_type": "code",
   "execution_count": 7,
   "id": "3a3a96c5",
   "metadata": {},
   "outputs": [
    {
     "name": "stdout",
     "output_type": "stream",
     "text": [
      "antselephantapedragen fruitmangoesapples\n"
     ]
    }
   ],
   "source": [
    "list_words = ['ants', 'elephant', 'ape', 'dragen fruit', 'mangoes', 'apples']\n",
    "str_words = ''\n",
    "\n",
    "for i in list_words:\n",
    "    str_words += (i)\n",
    "\n",
    "print(str_words)"
   ]
  },
  {
   "cell_type": "markdown",
   "id": "5752c7fc",
   "metadata": {},
   "source": [
    "### 45. Create a list of the first `n` powers of 2."
   ]
  },
  {
   "cell_type": "code",
   "execution_count": 2,
   "id": "2f4dc1ef",
   "metadata": {},
   "outputs": [
    {
     "name": "stdout",
     "output_type": "stream",
     "text": [
      "6\n",
      "[1, 2, 4, 8, 16, 32]\n"
     ]
    }
   ],
   "source": [
    "n = int(input())\n",
    "\n",
    "l = []\n",
    "\n",
    "for i in range(n):\n",
    "    j = 2**i\n",
    "    l.append(j)\n",
    "    \n",
    "print(l)"
   ]
  },
  {
   "cell_type": "markdown",
   "id": "7b061544",
   "metadata": {},
   "source": [
    "### 46. Find the longest string in a list of strings."
   ]
  },
  {
   "cell_type": "code",
   "execution_count": 1,
   "id": "ce868e0b",
   "metadata": {},
   "outputs": [
    {
     "name": "stdout",
     "output_type": "stream",
     "text": [
      "dragen fruit\n"
     ]
    }
   ],
   "source": [
    "def find_longest_str(list_of_str):\n",
    "    longest_str = max(list_of_str, key = len)\n",
    "    return longest_str\n",
    "\n",
    "s = ['ants', 'elephant', 'ape', 'dragen fruit', 'mangoes', 'apples']\n",
    "\n",
    "print(find_longest_str(s))"
   ]
  },
  {
   "cell_type": "markdown",
   "id": "88e2590a",
   "metadata": {},
   "source": [
    "### 47. Find the shortest string in a list of strings."
   ]
  },
  {
   "cell_type": "code",
   "execution_count": 13,
   "id": "ed032c79",
   "metadata": {},
   "outputs": [
    {
     "name": "stdout",
     "output_type": "stream",
     "text": [
      "ape\n"
     ]
    }
   ],
   "source": [
    "def find_shortest_string(list_of_strings):\n",
    "    shortest_string = min(list_of_strings, key=len)\n",
    "    return shortest_string\n",
    "\n",
    "s = ['ants', 'elephant', 'ape', 'dragen fruit', 'mangoes', 'apples']\n",
    "\n",
    "shortest_string = find_shortest_string(s)\n",
    "\n",
    "print(shortest_string)"
   ]
  },
  {
   "cell_type": "markdown",
   "id": "9df1cc37",
   "metadata": {},
   "source": [
    "\n",
    "### 48. Create a list of the first `n` triangular numbers."
   ]
  },
  {
   "cell_type": "code",
   "execution_count": 29,
   "id": "21da47b1",
   "metadata": {},
   "outputs": [
    {
     "name": "stdout",
     "output_type": "stream",
     "text": [
      "Enter the value of n: 6\n",
      "The first 6 triangular numbers are: [1, 3, 6, 10, 15, 21]\n"
     ]
    }
   ],
   "source": [
    "def generate_triangular_numbers(n):\n",
    "    triangular_numbers = [i * (i + 1) // 2 for i in range(1, n + 1)]\n",
    "    return triangular_numbers\n",
    "\n",
    "# Get user input for n\n",
    "n = int(input(\"Enter the value of n: \"))\n",
    "\n",
    "# Generate and display the list of triangular numbers\n",
    "triangular_numbers_list = generate_triangular_numbers(n)\n",
    "print(f\"The first {n} triangular numbers are:\", triangular_numbers_list)\n"
   ]
  },
  {
   "cell_type": "markdown",
   "id": "fbcb49f5",
   "metadata": {},
   "source": [
    "### 49. Check if a list contains another list as a subsequence."
   ]
  },
  {
   "cell_type": "code",
   "execution_count": 3,
   "id": "bccc4bbf",
   "metadata": {},
   "outputs": [
    {
     "name": "stdout",
     "output_type": "stream",
     "text": [
      "True\n"
     ]
    }
   ],
   "source": [
    "l = [1,2,[3,4,5],6,7]\n",
    "sub = 0\n",
    "\n",
    "for i in l:\n",
    "    if type(i) == list:\n",
    "        sub += 1\n",
    "        \n",
    "if sub >= 1:\n",
    "    print('True')\n",
    "else:\n",
    "    prit('False')"
   ]
  },
  {
   "cell_type": "markdown",
   "id": "8b23000c",
   "metadata": {},
   "source": [
    "### 50. Swap two elements in a list by their indices.\n",
    "\n"
   ]
  },
  {
   "cell_type": "code",
   "execution_count": 5,
   "id": "c66594b5",
   "metadata": {},
   "outputs": [
    {
     "name": "stdout",
     "output_type": "stream",
     "text": [
      "[1, 5, 9, 8, 7, 12]\n"
     ]
    }
   ],
   "source": [
    "def swap(l, pos1, pos2):\n",
    "    l[pos1], l[pos2] = l[pos2], l[pos1]\n",
    "    return l\n",
    "\n",
    "l = [1,5,7,8,9,12]\n",
    "pos1, pos2 = 2,4\n",
    "\n",
    "print(swap(l, pos1, pos2))  # 1 at index 0, 5 at index 1"
   ]
  },
  {
   "cell_type": "code",
   "execution_count": null,
   "id": "c270fa1b",
   "metadata": {},
   "outputs": [],
   "source": []
  }
 ],
 "metadata": {
  "kernelspec": {
   "display_name": "Python 3 (ipykernel)",
   "language": "python",
   "name": "python3"
  },
  "language_info": {
   "codemirror_mode": {
    "name": "ipython",
    "version": 3
   },
   "file_extension": ".py",
   "mimetype": "text/x-python",
   "name": "python",
   "nbconvert_exporter": "python",
   "pygments_lexer": "ipython3",
   "version": "3.9.7"
  }
 },
 "nbformat": 4,
 "nbformat_minor": 5
}
