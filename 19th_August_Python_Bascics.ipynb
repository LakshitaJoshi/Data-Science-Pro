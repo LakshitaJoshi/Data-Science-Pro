{
 "cells": [
  {
   "cell_type": "markdown",
   "id": "bfec3414",
   "metadata": {},
   "source": [
    "## TOPIC: Python Basics Variable"
   ]
  },
  {
   "cell_type": "markdown",
   "id": "1aac358f",
   "metadata": {},
   "source": [
    "### 1. Declare two variables, `x` and `y`, and assign them integer values. Swap the values of these variables without using any temporary variable."
   ]
  },
  {
   "cell_type": "markdown",
   "id": "8444f0d5",
   "metadata": {},
   "source": [
    "### METHOD 1\n",
    "#### Using '+' '-' method\n",
    "\n",
    "<p>\n",
    "x = x + y (25 + 50 = 75) <br>\n",
    "y = x - y (75 - 50 = 25) <br>\n",
    "x = x - y (75 - 25 = 50) \n",
    "</p>"
   ]
  },
  {
   "cell_type": "code",
   "execution_count": 1,
   "id": "aac694a9",
   "metadata": {},
   "outputs": [
    {
     "name": "stdout",
     "output_type": "stream",
     "text": [
      "Before swapping: \n",
      "x =  25 , y =  50\n",
      "After swapping: \n",
      "x =  50 , y =  25\n"
     ]
    }
   ],
   "source": [
    "x, y = 25, 50\n",
    "\n",
    "print('Before swapping: ')\n",
    "print('x = ', x, ', y = ', y)\n",
    "\n",
    "x = x + y\n",
    "y = x - y\n",
    "x = x - y\n",
    "\n",
    "print('After swapping: ')\n",
    "print('x = ', x, ', y = ', y)"
   ]
  },
  {
   "cell_type": "markdown",
   "id": "9ab201b3",
   "metadata": {},
   "source": [
    "### METHOD 2\n",
    "\n",
    "### Bitwise XOR\n",
    "\n",
    "<p>\n",
    "    <b>What is XOR?</b><br>\n",
    "    exclusive-OR (either or) <br>\n",
    "    Its Output is True when one of the Inputs is True<br>\n",
    "<table>\n",
    "  <tr>\n",
    "    <th>A</th>\n",
    "    <th>B</th>\n",
    "    <th>A XOR B</th>\n",
    "  </tr>\n",
    "  <tr>\n",
    "    <td>0</td>\n",
    "    <td>0</td>\n",
    "    <td>0</td>\n",
    "   \n",
    "  </tr>\n",
    "  <tr>\n",
    "    <td>0</td>\n",
    "    <td>1</td>\n",
    "    <td>1</td>\n",
    "  </tr>\n",
    "    <tr>\n",
    "    <td>1</td>\n",
    "    <td>0</td>\n",
    "    <td>1</td>\n",
    "  </tr>\n",
    "  <tr>\n",
    "    <td>1</td>\n",
    "    <td>1</td>\n",
    "    <td>0</td>\n",
    "  </tr>\n",
    "</table>\n",
    "\n",
    "<br> eg:<br>\n",
    "* Converting to binary (x = 25 -> 11001  and  y = 50 -> 110010)<br>\n",
    "    x ^= y   (after Xor x = 101011 i.e. 43)<br>\n",
    "    y ^= x  (after xor 50 with 43 we get 11001 i.e 25)<br>\n",
    "    x ^= y (after xor 43 with 25 we get 110010 i.e again 50)\n",
    "</p>"
   ]
  },
  {
   "cell_type": "code",
   "execution_count": 2,
   "id": "84895302",
   "metadata": {},
   "outputs": [
    {
     "name": "stdout",
     "output_type": "stream",
     "text": [
      "Before swapping: \n",
      "x =  25 , y =  50\n",
      "After swapping: \n",
      "x =  50 , y =  25\n"
     ]
    }
   ],
   "source": [
    "x, y = 25, 50\n",
    "\n",
    "print('Before swapping: ')\n",
    "print('x = ', x, ', y = ', y)\n",
    "\n",
    "x ^= y\n",
    "y ^= x \n",
    "x ^= y\n",
    "\n",
    "print('After swapping: ')\n",
    "print('x = ', x, ', y = ', y)"
   ]
  },
  {
   "cell_type": "markdown",
   "id": "660cd279",
   "metadata": {},
   "source": [
    "### 2. Create a program that calculates the area of a rectangle. Take the length and width as inputs from the user and store them in variables. Calculate and display the area."
   ]
  },
  {
   "cell_type": "code",
   "execution_count": 3,
   "id": "cc0bf944",
   "metadata": {},
   "outputs": [
    {
     "name": "stdout",
     "output_type": "stream",
     "text": [
      "Length of Rectangle = 5.3\n",
      "Breadth of Rectangle = 5.4\n",
      "Area of rectangle =  28.62\n"
     ]
    }
   ],
   "source": [
    "l = float(input(\"Length of Rectangle = \"))\n",
    "b = float(input(\"Breadth of Rectangle = \"))\n",
    "\n",
    "area = l*b\n",
    "print(\"Area of rectangle = \", area)\n"
   ]
  },
  {
   "cell_type": "markdown",
   "id": "d699f8fd",
   "metadata": {},
   "source": [
    "### 3. Write a Python program that converts temperature from Celsius to Fahrenheit. Take the temperature in Celsius as input, store it in a variable, convert it to Fahrenheit, and display the result."
   ]
  },
  {
   "cell_type": "code",
   "execution_count": 4,
   "id": "4fc58894",
   "metadata": {},
   "outputs": [
    {
     "name": "stdout",
     "output_type": "stream",
     "text": [
      "Temperature in Celcius = 33\n",
      "Temperature in Fahrenheit =  91.4\n"
     ]
    }
   ],
   "source": [
    "C = float(input(\"Temperature in Celcius = \"))\n",
    "\n",
    "F = (1.8 * C) + 32\n",
    "print(\"Temperature in Fahrenheit = \", F)"
   ]
  },
  {
   "cell_type": "markdown",
   "id": "1c0f0f46",
   "metadata": {},
   "source": [
    "## TOPIC: String Based Questions"
   ]
  },
  {
   "cell_type": "markdown",
   "id": "17abb644",
   "metadata": {},
   "source": [
    "### 1. Write a Python program that takes a string as input and prints the length of the string."
   ]
  },
  {
   "cell_type": "code",
   "execution_count": 5,
   "id": "50ad5923",
   "metadata": {},
   "outputs": [
    {
     "name": "stdout",
     "output_type": "stream",
     "text": [
      "Enter a string : a quick brown fox jumps over a lazy dog\n",
      "Length of String =  39\n"
     ]
    }
   ],
   "source": [
    "String = input(\"Enter a string : \")\n",
    "print(\"Length of String = \",len(String))"
   ]
  },
  {
   "cell_type": "code",
   "execution_count": 7,
   "id": "998cdfe7",
   "metadata": {},
   "outputs": [
    {
     "name": "stdout",
     "output_type": "stream",
     "text": [
      "Enter a string : a quick brown fox jumps over a lazy dog\n",
      "Length of String =  39\n"
     ]
    }
   ],
   "source": [
    "String = input(\"Enter a string : \")\n",
    "\n",
    "counter = 0\n",
    "\n",
    "for c in String:  # traverse the string String\n",
    "    counter+=1    #increment the counter\n",
    "print(\"Length of String = \",counter)     # outputs the length (39) of the string String"
   ]
  },
  {
   "cell_type": "markdown",
   "id": "53bd5e15",
   "metadata": {},
   "source": [
    "### 2. Create a program that takes a sentence from the user and counts the number of vowels (a, e, i, o, u) in the string."
   ]
  },
  {
   "cell_type": "code",
   "execution_count": 8,
   "id": "f510e62b",
   "metadata": {},
   "outputs": [
    {
     "name": "stdout",
     "output_type": "stream",
     "text": [
      "Enter a Sentence : a quick brown fox jumps over a lazy dog\n",
      "Number of vowels =  11\n"
     ]
    }
   ],
   "source": [
    "String = input(\"Enter a Sentence : \")\n",
    "vowel = \"aeiouAEIOU\"\n",
    "count = 0\n",
    "\n",
    "for i in String:\n",
    "    if i in vowel:\n",
    "        count += 1\n",
    "\n",
    "print(\"Number of vowels = \", count)  "
   ]
  },
  {
   "cell_type": "code",
   "execution_count": 9,
   "id": "c2699d80",
   "metadata": {},
   "outputs": [
    {
     "name": "stdout",
     "output_type": "stream",
     "text": [
      "Enter a Sentence : a quick brown fox jumps over a lazy dog\n",
      "Number of vowels =  11\n"
     ]
    }
   ],
   "source": [
    "String = input(\"Enter a Sentence : \")\n",
    "vowel = \"aeiouAEIOU\"\n",
    "count = 0\n",
    "\n",
    "count = sum(String.count(i) for i in vowel)\n",
    "\n",
    "print(\"Number of vowels = \", count)  "
   ]
  },
  {
   "cell_type": "markdown",
   "id": "9652ece5",
   "metadata": {},
   "source": [
    "### 3. Given a string, reverse the order of characters using string slicing and print the reversed string."
   ]
  },
  {
   "cell_type": "code",
   "execution_count": 10,
   "id": "e89c8293",
   "metadata": {},
   "outputs": [
    {
     "name": "stdout",
     "output_type": "stream",
     "text": [
      "Reversed string :  .god yzal a revo spmuj xof nworb kciuq a\n"
     ]
    }
   ],
   "source": [
    "String = \"a quick brown fox jumps over a lazy dog.\"\n",
    "\n",
    "print(\"Reversed string : \", String[::-1])"
   ]
  },
  {
   "cell_type": "markdown",
   "id": "2c0fa8c2",
   "metadata": {},
   "source": [
    "### 4. Write a program that takes a string as input and checks if it is a palindrome (reads the same forwards and backwards)."
   ]
  },
  {
   "cell_type": "code",
   "execution_count": 11,
   "id": "827f4c84",
   "metadata": {},
   "outputs": [
    {
     "name": "stdout",
     "output_type": "stream",
     "text": [
      "Enter a string : naman\n",
      "naman  is a palindrome.\n"
     ]
    }
   ],
   "source": [
    "String = input(\"Enter a string : \")\n",
    "\n",
    "lower = String.lower()\n",
    "\n",
    "if lower == lower[::-1]:\n",
    "    print(String, \" is a palindrome.\")\n",
    "else:\n",
    "    print(String, (\" is not a palindrome.\"))"
   ]
  },
  {
   "cell_type": "code",
   "execution_count": 9,
   "id": "a08e283f",
   "metadata": {},
   "outputs": [
    {
     "name": "stdout",
     "output_type": "stream",
     "text": [
      "Enter a string : naman\n",
      "naman  is a palindrome.\n"
     ]
    }
   ],
   "source": [
    "String = input(\"Enter a string : \")\n",
    "\n",
    "lower = String.lower()\n",
    "\n",
    "for i in range(0, int(len(lower)/2)):\n",
    "    if lower[i] != lower[len(lower)-i-1]:\n",
    "        print(String, \" is not a palindrome.\")\n",
    "        break\n",
    "    else:\n",
    "        print(String, \" is a palindrome.\")\n",
    "        break\n"
   ]
  },
  {
   "cell_type": "code",
   "execution_count": 5,
   "id": "5b9d667f",
   "metadata": {},
   "outputs": [
    {
     "name": "stdout",
     "output_type": "stream",
     "text": [
      "Enter a string : Naman\n",
      "Naman is a palindrome.\n"
     ]
    }
   ],
   "source": [
    "String = input(\"Enter a string : \")\n",
    "lower = String.lower()\n",
    "\n",
    "new = ''\n",
    "\n",
    "for i in lower:\n",
    "    new = i + new\n",
    "    \n",
    "if(lower == new):\n",
    "    print(String, \"is a palindrome.\")\n",
    "else:\n",
    "    print(String, \"is not a palindrome.\")\n",
    "    "
   ]
  },
  {
   "cell_type": "markdown",
   "id": "9b015e52",
   "metadata": {},
   "source": [
    "### 5. Create a program that takes a string as input and removes all the spaces from it. Print the modified string without spaces."
   ]
  },
  {
   "cell_type": "code",
   "execution_count": 13,
   "id": "a3197444",
   "metadata": {},
   "outputs": [
    {
     "name": "stdout",
     "output_type": "stream",
     "text": [
      "Enter a string : a quick brown fox jumps over a lazy dog\n"
     ]
    },
    {
     "data": {
      "text/plain": [
       "'aquickbrownfoxjumpsoveralazydog'"
      ]
     },
     "execution_count": 13,
     "metadata": {},
     "output_type": "execute_result"
    }
   ],
   "source": [
    "String = input(\"Enter a string : \")\n",
    "\n",
    "String.replace(' ', '')"
   ]
  },
  {
   "cell_type": "code",
   "execution_count": null,
   "id": "8b2db078",
   "metadata": {},
   "outputs": [],
   "source": []
  },
  {
   "cell_type": "code",
   "execution_count": null,
   "id": "7be31664",
   "metadata": {},
   "outputs": [],
   "source": []
  }
 ],
 "metadata": {
  "kernelspec": {
   "display_name": "Python 3 (ipykernel)",
   "language": "python",
   "name": "python3"
  },
  "language_info": {
   "codemirror_mode": {
    "name": "ipython",
    "version": 3
   },
   "file_extension": ".py",
   "mimetype": "text/x-python",
   "name": "python",
   "nbconvert_exporter": "python",
   "pygments_lexer": "ipython3",
   "version": "3.9.7"
  }
 },
 "nbformat": 4,
 "nbformat_minor": 5
}
