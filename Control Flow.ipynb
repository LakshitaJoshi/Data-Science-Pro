{
 "cells": [
  {
   "cell_type": "markdown",
   "id": "4a9e390d",
   "metadata": {},
   "source": [
    "## Basic If-Else Statements:"
   ]
  },
  {
   "cell_type": "markdown",
   "id": "ab582857",
   "metadata": {},
   "source": [
    "### 1. Write a Python program to check if a given number is positive or negative."
   ]
  },
  {
   "cell_type": "code",
   "execution_count": 1,
   "id": "18d29eea",
   "metadata": {},
   "outputs": [
    {
     "name": "stdout",
     "output_type": "stream",
     "text": [
      "Enter a number : -63\n",
      "Number is negative\n"
     ]
    }
   ],
   "source": [
    "Input = int(input('Enter a number : '))\n",
    "if Input < 0:\n",
    "    print('Number is negative')\n",
    "else:\n",
    "    print('Number is Positive')"
   ]
  },
  {
   "cell_type": "markdown",
   "id": "f5986f35",
   "metadata": {},
   "source": [
    "### 2. Create a program that determines if a person is eligible to vote based on their age.\n"
   ]
  },
  {
   "cell_type": "code",
   "execution_count": 2,
   "id": "7a260aef",
   "metadata": {},
   "outputs": [
    {
     "name": "stdout",
     "output_type": "stream",
     "text": [
      "Enter a number : 45\n",
      "Person is eligible to vote\n"
     ]
    }
   ],
   "source": [
    "Input = int(input(\"Enter a number : \"))\n",
    "if Input >= 18:\n",
    "    print('Person is eligible to vote')\n",
    "else:\n",
    "    print('Person is not eligible to vote')"
   ]
  },
  {
   "cell_type": "markdown",
   "id": "b7ced823",
   "metadata": {},
   "source": [
    "### 3. Develop a program to find the maximum of two numbers using if-else statements.\n"
   ]
  },
  {
   "cell_type": "code",
   "execution_count": 3,
   "id": "2e8d8133",
   "metadata": {},
   "outputs": [
    {
     "name": "stdout",
     "output_type": "stream",
     "text": [
      "Enter number 'A' : 80\n",
      "Enter number 'B' : 60\n",
      "A is maximum\n"
     ]
    }
   ],
   "source": [
    "Input1 = int(input(\"Enter number 'A' : \"))\n",
    "Input2 = int(input(\"Enter number 'B' : \"))\n",
    "\n",
    "if Input1 > Input2:\n",
    "    print('A is maximum')\n",
    "elif Input2 > Input1:\n",
    "    print('B is maximum')\n",
    "else:\n",
    "    print('A and B are equal')"
   ]
  },
  {
   "cell_type": "markdown",
   "id": "a52f78b0",
   "metadata": {},
   "source": [
    "### 4. Write a Python script to classify a given year as a leap year or not.\n",
    "\n"
   ]
  },
  {
   "cell_type": "code",
   "execution_count": 4,
   "id": "a80d6a8f",
   "metadata": {},
   "outputs": [
    {
     "name": "stdout",
     "output_type": "stream",
     "text": [
      "Enter a year : 2023\n",
      "It is not a leap year\n"
     ]
    }
   ],
   "source": [
    "y = int(input('Enter a year : '))\n",
    "\n",
    "if((y % 400 == 0) or\n",
    "     (y % 100 != 0) and\n",
    "     (y % 4 == 0)):\n",
    "    print('It is a leap year')\n",
    "else:\n",
    "    print('It is not a leap year')"
   ]
  },
  {
   "cell_type": "markdown",
   "id": "4f5cdc6f",
   "metadata": {},
   "source": [
    "### 5. Create a program that checks whether a character is a vowel or a consonant.\n",
    "\n"
   ]
  },
  {
   "cell_type": "code",
   "execution_count": 5,
   "id": "ad8f27ca",
   "metadata": {},
   "outputs": [
    {
     "name": "stdout",
     "output_type": "stream",
     "text": [
      "Enter a character : l\n",
      "Character is a consonant\n"
     ]
    }
   ],
   "source": [
    "c = input('Enter a character : ')\n",
    "v = \"AEIOUaeiou\"\n",
    "\n",
    "if(c in v):\n",
    "    print('Character is a vowel')\n",
    "else:\n",
    "    print('Character is a consonant')"
   ]
  },
  {
   "cell_type": "markdown",
   "id": "7c9a0ebc",
   "metadata": {},
   "source": [
    "### 6. Implement a program to determine whether a given number is even or odd.\n",
    "\n"
   ]
  },
  {
   "cell_type": "code",
   "execution_count": 6,
   "id": "d360daa2",
   "metadata": {},
   "outputs": [
    {
     "name": "stdout",
     "output_type": "stream",
     "text": [
      "Enter a number : 45\n",
      "Number is odd\n"
     ]
    }
   ],
   "source": [
    "Input = int(input('Enter a number : '))\n",
    "if Input % 2 == 0:\n",
    "    print('Number is even')\n",
    "else:\n",
    "    print('Number is odd')"
   ]
  },
  {
   "cell_type": "markdown",
   "id": "fb6e2c46",
   "metadata": {},
   "source": [
    "### 7. Write a Python function to calculate the absolute value of a number without using the `abs()` function.\n",
    "\n"
   ]
  },
  {
   "cell_type": "code",
   "execution_count": 7,
   "id": "04ca3419",
   "metadata": {},
   "outputs": [
    {
     "name": "stdout",
     "output_type": "stream",
     "text": [
      "Enter a number : -65\n",
      "Abolute of this negative number is :  65\n"
     ]
    }
   ],
   "source": [
    "Input = int(input('Enter a number : '))\n",
    "if Input < 0:\n",
    "    print('Abolute of this negative number is : ', -Input)\n",
    "else:\n",
    "    print('Absolute of positive no is number itself : ', Input)"
   ]
  },
  {
   "cell_type": "markdown",
   "id": "bd89e49f",
   "metadata": {},
   "source": [
    "### 8. Develop a program that determines the largest of three given numbers using if-else statements.\n",
    "\n"
   ]
  },
  {
   "cell_type": "code",
   "execution_count": 8,
   "id": "e53858e3",
   "metadata": {},
   "outputs": [
    {
     "name": "stdout",
     "output_type": "stream",
     "text": [
      "Enter number 'A' : 45\n",
      "Enter number 'B' : 80\n",
      "Enter number 'C' : 112\n",
      "C is maximum\n"
     ]
    }
   ],
   "source": [
    "A = int(input(\"Enter number 'A' : \"))\n",
    "B = int(input(\"Enter number 'B' : \"))\n",
    "C = int(input(\"Enter number 'C' : \"))\n",
    "\n",
    "if A > B and A > C:\n",
    "    print('A is maximum')\n",
    "elif B > C:\n",
    "    print('B is maximum')\n",
    "elif A== B and A == C:\n",
    "    print(\"A, B and c are equal\")\n",
    "else:\n",
    "    print('C is maximum')"
   ]
  },
  {
   "cell_type": "markdown",
   "id": "2e9b4cbc",
   "metadata": {},
   "source": [
    "### 9. Create a program that checks if a given string is a palindrome.\n",
    "\n"
   ]
  },
  {
   "cell_type": "code",
   "execution_count": 9,
   "id": "43d564b0",
   "metadata": {},
   "outputs": [
    {
     "name": "stdout",
     "output_type": "stream",
     "text": [
      "Enter a string : naman\n",
      "naman  is a palindrome.\n"
     ]
    }
   ],
   "source": [
    "# method 1\n",
    "String = input(\"Enter a string : \")\n",
    "\n",
    "lower = String.lower()\n",
    "\n",
    "if lower == lower[::-1]:\n",
    "    print(String, \" is a palindrome.\")\n",
    "else:\n",
    "    print(String, (\" is not a palindrome.\"))"
   ]
  },
  {
   "cell_type": "markdown",
   "id": "515a0f32",
   "metadata": {},
   "source": [
    "### 10. Write a Python program to calculate the grade based on a student's score.\n"
   ]
  },
  {
   "cell_type": "code",
   "execution_count": 10,
   "id": "10557375",
   "metadata": {},
   "outputs": [
    {
     "name": "stdout",
     "output_type": "stream",
     "text": [
      "Enter score : 86\n",
      "Gade : 'A'\n"
     ]
    }
   ],
   "source": [
    "S = int(input(\"Enter score : \"))\n",
    "\n",
    "if S > 100:\n",
    "    print('Invalid')\n",
    "elif S > 90:\n",
    "    print(\"Gade : 'O'\")\n",
    "elif S > 75:\n",
    "    print(\"Gade : 'A'\")\n",
    "elif S > 60:\n",
    "    print(\"Gade : 'B'\")\n",
    "elif S > 50:\n",
    "    print(\"Gade : 'C'\")\n",
    "elif S >=45:\n",
    "    print(\"Gade : 'D'\")\n",
    "else:\n",
    "    print('Fail')"
   ]
  },
  {
   "cell_type": "markdown",
   "id": "5f5b399f",
   "metadata": {},
   "source": [
    "## Nested If-Else Statements:\n"
   ]
  },
  {
   "cell_type": "markdown",
   "id": "7ac56c2d",
   "metadata": {},
   "source": [
    "### 11. Write a program to find the largest among three numbers using nested if-else statements.\n",
    "\n"
   ]
  },
  {
   "cell_type": "code",
   "execution_count": 11,
   "id": "7c9dddea",
   "metadata": {},
   "outputs": [
    {
     "name": "stdout",
     "output_type": "stream",
     "text": [
      "Enter number 'A' : 45\n",
      "Enter number 'B' : 60\n",
      "Enter number 'C' : 78\n",
      "C is maximum\n"
     ]
    }
   ],
   "source": [
    "A = int(input(\"Enter number 'A' : \"))\n",
    "B = int(input(\"Enter number 'B' : \"))\n",
    "C = int(input(\"Enter number 'C' : \"))\n",
    "\n",
    "if A > B and A > C:\n",
    "    print('A is maximum')\n",
    "else:\n",
    "    if B > C:\n",
    "        print('B is maximum')\n",
    "    else:\n",
    "        print('C is maximum')"
   ]
  },
  {
   "cell_type": "markdown",
   "id": "ff1466d3",
   "metadata": {},
   "source": [
    "### 12. Implement a program to determine if a triangle is equilateral, isosceles, or scalene.\n",
    "\n"
   ]
  },
  {
   "cell_type": "code",
   "execution_count": 14,
   "id": "c1a98d23",
   "metadata": {},
   "outputs": [
    {
     "name": "stdout",
     "output_type": "stream",
     "text": [
      "Enter side 'A' : 45\n",
      "Enter side 'B' : 45\n",
      "Enter side 'C' : 60\n",
      "Isosceles Triangle\n"
     ]
    }
   ],
   "source": [
    "A = int(input(\"Enter side 'A' : \"))\n",
    "B = int(input(\"Enter side 'B' : \"))\n",
    "C = int(input(\"Enter side 'C' : \"))\n",
    "\n",
    "if A == B and A == C:\n",
    "    print('Equilateral Triangle')\n",
    "else:\n",
    "    if A != B or A != C or B != C:\n",
    "        print('Isosceles Triangle')\n",
    "    else:\n",
    "        print('Scalene Triangle')"
   ]
  },
  {
   "cell_type": "markdown",
   "id": "2819d37b",
   "metadata": {},
   "source": [
    "### 13. Develop a program that checks if a year is a leap year and also if it is a century year.\n",
    "\n"
   ]
  },
  {
   "cell_type": "code",
   "execution_count": 15,
   "id": "4776200d",
   "metadata": {},
   "outputs": [
    {
     "name": "stdout",
     "output_type": "stream",
     "text": [
      "Enter a year : 2000\n",
      "It is a leap year\n",
      "2000  is a century\n"
     ]
    }
   ],
   "source": [
    "y = int(input('Enter a year : '))\n",
    "\n",
    "if((y % 400 == 0) or\n",
    "     (y % 100 != 0) and\n",
    "     (y % 4 == 0)):\n",
    "    print('It is a leap year')\n",
    "else:\n",
    "    print('It is not a leap year')\n",
    "    \n",
    "if y % 100 == 0:\n",
    "    print(y, ' is a century')"
   ]
  },
  {
   "cell_type": "markdown",
   "id": "56ee1044",
   "metadata": {},
   "source": [
    "### 14. Write a Python script to determine if a number is positive, negative, or zero.\n",
    "\n"
   ]
  },
  {
   "cell_type": "code",
   "execution_count": 16,
   "id": "ccdf29f7",
   "metadata": {},
   "outputs": [
    {
     "name": "stdout",
     "output_type": "stream",
     "text": [
      "Enter a number : 85\n",
      "Number is Positive\n"
     ]
    }
   ],
   "source": [
    "Input = int(input('Enter a number : '))\n",
    "if Input < 0:\n",
    "    print('Number is negative')\n",
    "else:\n",
    "    if Input > 0:\n",
    "        print('Number is Positive')\n",
    "    else:\n",
    "        print('Number is 0')"
   ]
  },
  {
   "cell_type": "markdown",
   "id": "b1775d07",
   "metadata": {},
   "source": [
    "### 15. Create a program to check if a person is a teenager (between 13 and 19 years old).\n",
    "\n"
   ]
  },
  {
   "cell_type": "code",
   "execution_count": 17,
   "id": "e3943e12",
   "metadata": {},
   "outputs": [
    {
     "name": "stdout",
     "output_type": "stream",
     "text": [
      "Input age : 15\n",
      "Person is a teenager\n"
     ]
    }
   ],
   "source": [
    "age = int(input('Input age : '))\n",
    "if age > 13 and age < 19:\n",
    "    print('Person is a teenager')\n",
    "else:\n",
    "    print('Person is not a teenager')"
   ]
  },
  {
   "cell_type": "markdown",
   "id": "919a0cad",
   "metadata": {},
   "source": [
    "### 16. Develop a program that determines the type of angle based on its measure (acute, obtuse, or right).\n",
    "\n"
   ]
  },
  {
   "cell_type": "code",
   "execution_count": 19,
   "id": "8ca84c14",
   "metadata": {},
   "outputs": [
    {
     "name": "stdout",
     "output_type": "stream",
     "text": [
      "Angle (between 0 to 180): 95\n",
      "Obtuse angle\n"
     ]
    }
   ],
   "source": [
    "angle =  float(input('Angle (between 0 to 180): '))  \n",
    "\n",
    "if angle == 90:\n",
    "    print('Right angle')\n",
    "else:\n",
    "    if angle > 0 and angle < 90:\n",
    "        print('Acute Angle')\n",
    "    else:\n",
    "        print('Obtuse angle')"
   ]
  },
  {
   "cell_type": "markdown",
   "id": "69c751fc",
   "metadata": {},
   "source": [
    "### 17. Write a Python program to calculate the roots of a quadratic equation.\n",
    "\n"
   ]
  },
  {
   "cell_type": "markdown",
   "id": "64b27020",
   "metadata": {},
   "source": [
    "<p>Quadratic equation : ax<sup>2</sup> + bx + c<br>\n",
    "Discriminent d = b<sup>2</sup> - 4ac<br>\n",
    "    Roots : (-b + (d)<sup>1/2</sup>)/2a and (-b - (d)<sup>1/2</sup>)/2a<br> 1. if d < 0 'roots a are imaginary' <br> \n",
    "    2. if d > 0 'real and distinct roots'<br> \n",
    "    3. if d = 0 'Equal roots'</p>"
   ]
  },
  {
   "cell_type": "code",
   "execution_count": 23,
   "id": "da6fbb7e",
   "metadata": {},
   "outputs": [
    {
     "name": "stdout",
     "output_type": "stream",
     "text": [
      "a = 1\n",
      "b = -5\n",
      "c = 6\n",
      "Roots =  3.0  and  2.0\n"
     ]
    }
   ],
   "source": [
    "a = int(input('a = '))\n",
    "b = int(input('b = '))\n",
    "c = int(input('c = '))\n",
    "\n",
    "d = (b**2) - (4*a*c)\n",
    "\n",
    "if d == 0:\n",
    "    print('Roots = ', (-b+(d)**(1/2))/2*a)\n",
    "else:\n",
    "    if d > 0:\n",
    "        print('Roots = ', (-b+(d)**(1/2))/2*a, ' and ', (-b - (d)**(1/2))/2*a)\n",
    "    else:\n",
    "        print('Roots = ', (-b+(d)**(1/2))/2*a, 'i', ' and ', (-b - (d)**(1/2))/2*a,'i')"
   ]
  },
  {
   "cell_type": "markdown",
   "id": "449fbbb3",
   "metadata": {},
   "source": [
    "### 18. Implement a program to determine the day of the week based on a user-provided number (1 for Monday, 2 for Tuesday, etc.).\n",
    "\n"
   ]
  },
  {
   "cell_type": "code",
   "execution_count": 24,
   "id": "e9102f05",
   "metadata": {},
   "outputs": [
    {
     "name": "stdout",
     "output_type": "stream",
     "text": [
      "Day = Tuesday\n",
      "2\n"
     ]
    }
   ],
   "source": [
    "day = input('Day = ')\n",
    "\n",
    "if day == 'Monday':\n",
    "    print('1')\n",
    "else:\n",
    "    if day == 'Tuesday':\n",
    "        print('2')\n",
    "    if day == 'Wednesday':\n",
    "        print('3')\n",
    "    if day == 'Thursday':\n",
    "        print('4')\n",
    "    if day == 'Friday':\n",
    "        print('5')\n",
    "    if day == 'Saturday':\n",
    "        print('6')\n",
    "    if day == 'Sunday':\n",
    "        print('7')"
   ]
  },
  {
   "cell_type": "markdown",
   "id": "8b18e4de",
   "metadata": {},
   "source": [
    "### 19. Create a program that determines if a year is a leap year and also if it is evenly divisible by 400.\n"
   ]
  },
  {
   "cell_type": "code",
   "execution_count": 25,
   "id": "607f53a0",
   "metadata": {},
   "outputs": [
    {
     "name": "stdout",
     "output_type": "stream",
     "text": [
      "Enter a year : 1900\n",
      "It is not a leap year\n"
     ]
    }
   ],
   "source": [
    "y = int(input('Enter a year : '))\n",
    "\n",
    "if((y % 400 == 0) or\n",
    "     (y % 100 != 0) and\n",
    "     (y % 4 == 0)):\n",
    "    print('It is a leap year')\n",
    "else:\n",
    "    print('It is not a leap year')\n",
    "    \n",
    "if y %400 == 0:\n",
    "    print('It is evenly divisible by 400')"
   ]
  },
  {
   "cell_type": "markdown",
   "id": "7648bbb7",
   "metadata": {},
   "source": [
    "### 20. Develop a program that checks if a given number is prime or not using nested if-else statements.\n",
    "\n"
   ]
  },
  {
   "cell_type": "code",
   "execution_count": 26,
   "id": "95c731d1",
   "metadata": {},
   "outputs": [
    {
     "name": "stdout",
     "output_type": "stream",
     "text": [
      "Enter number : 83\n",
      "83 is a prime number\n"
     ]
    }
   ],
   "source": [
    "num = int(input('Enter number : '))\n",
    "\n",
    "if num > 1:\n",
    "    for i in range(2, int(num/2)+1):\n",
    "        if (num % i) == 0:\n",
    "            print(num, \"is not a prime number\")\n",
    "            break\n",
    "    else:\n",
    "        print(num, \"is a prime number\")\n",
    "else:\n",
    "    print(num, \"is not a prime number\")"
   ]
  },
  {
   "cell_type": "markdown",
   "id": "302dfcf0",
   "metadata": {},
   "source": [
    "## Elif Statements:\n"
   ]
  },
  {
   "cell_type": "markdown",
   "id": "8cddb51c",
   "metadata": {},
   "source": [
    "### 21. Write a Python program to assign grades based on different ranges of scores using elif statements.\n",
    "\n"
   ]
  },
  {
   "cell_type": "code",
   "execution_count": 27,
   "id": "3b76f6b1",
   "metadata": {},
   "outputs": [
    {
     "name": "stdout",
     "output_type": "stream",
     "text": [
      "Enter score : 92\n",
      "Gade : 'O'\n"
     ]
    }
   ],
   "source": [
    "S = int(input(\"Enter score : \"))\n",
    "\n",
    "if S > 100:\n",
    "    print('Invalid')\n",
    "elif S > 90:\n",
    "    print(\"Gade : 'O'\")\n",
    "elif S > 75:\n",
    "    print(\"Gade : 'A'\")\n",
    "elif S > 60:\n",
    "    print(\"Gade : 'B'\")\n",
    "elif S > 50:\n",
    "    print(\"Gade : 'C'\")\n",
    "elif S >=45:\n",
    "    print(\"Gade : 'D'\")\n",
    "else:\n",
    "    print('Fail')"
   ]
  },
  {
   "cell_type": "markdown",
   "id": "74a01f0b",
   "metadata": {},
   "source": [
    "### 22. Implement a program to determine the type of a triangle based on its angles.\n",
    "\n"
   ]
  },
  {
   "cell_type": "code",
   "execution_count": 29,
   "id": "c580585c",
   "metadata": {},
   "outputs": [
    {
     "name": "stdout",
     "output_type": "stream",
     "text": [
      "a = 60\n",
      "b = 60\n",
      "c = 60\n",
      "Equilateral triangle\n"
     ]
    }
   ],
   "source": [
    "# angles must sum exactly to 180\n",
    "# we are using the concept of lines and angles : if 2 lines are equal then they have equal and opposite angle\n",
    "\n",
    "a = int(input('a = '))\n",
    "b = int(input('b = '))\n",
    "c = int(input('c = '))\n",
    "\n",
    "if a + b+ c == 180:\n",
    "    if a == b and a == c:\n",
    "        print('Equilateral triangle')\n",
    "        \n",
    "    elif b == 90:\n",
    "        print('Right angled triangle')\n",
    "        \n",
    "    elif a != b or a != c:\n",
    "        print('Isosceles triangle')\n",
    "        \n",
    "    else:\n",
    "        print('Scalene triangle')\n",
    "\n",
    "else:\n",
    "    print('Triangle does not exist')"
   ]
  },
  {
   "cell_type": "markdown",
   "id": "a23274f9",
   "metadata": {},
   "source": [
    "### 23. Develop a program to categorize a given person's BMI into underweight, normal, overweight, or obese using elif statements.\n",
    "\n"
   ]
  },
  {
   "cell_type": "markdown",
   "id": "31a8363e",
   "metadata": {},
   "source": [
    "Underweight: Less than 18.5<br>\n",
    "Healthy weight: 18.5 to 24.9<br>\n",
    "Overweight: 25.0 to 29.9<br>\n",
    "Obese: 30.0 or higher<br>\n",
    "\n",
    "Formula: weight / heigth<sup>2</sup>\n",
    "\n"
   ]
  },
  {
   "cell_type": "code",
   "execution_count": 31,
   "id": "7391c15f",
   "metadata": {},
   "outputs": [
    {
     "name": "stdout",
     "output_type": "stream",
     "text": [
      "weight in kgs : 45\n",
      "height in m : 1.48\n",
      "20.54419284149014  - Normal\n"
     ]
    }
   ],
   "source": [
    "w = float(input('weight in kgs : '))\n",
    "h = float(input('height in m : '))\n",
    "\n",
    "bmi = w / h**2\n",
    "\n",
    "if bmi < 18.5:\n",
    "    print(bmi, ' - Underweight')\n",
    "elif bmi > 18.5 and bmi < 24.9:\n",
    "    print(bmi, ' - Normal')\n",
    "elif bmi > 25 and bmi < 29.9:\n",
    "    print(bmi, ' - Overweight')\n",
    "else:\n",
    "    print(bmi, ' - Obese')"
   ]
  },
  {
   "cell_type": "markdown",
   "id": "b2f29c5f",
   "metadata": {},
   "source": [
    "### 24. Create a program that determines whether a given number is positive, negative, or zero using elif statements.\n",
    "\n"
   ]
  },
  {
   "cell_type": "code",
   "execution_count": 32,
   "id": "6922d9fa",
   "metadata": {},
   "outputs": [
    {
     "name": "stdout",
     "output_type": "stream",
     "text": [
      "Enter a number : 82\n",
      "Number is Positive\n"
     ]
    }
   ],
   "source": [
    "Input = int(input('Enter a number : '))\n",
    "if Input < 0:\n",
    "    print('Number is negative')\n",
    "elif Input > 0:\n",
    "    print('Number is Positive')\n",
    "else:\n",
    "    print('Number is Zero')"
   ]
  },
  {
   "cell_type": "markdown",
   "id": "7484b3b9",
   "metadata": {},
   "source": [
    "### 25. Write a Python script to determine the type of a character (uppercase, lowercase, or special) using elif statements.\n",
    "\n"
   ]
  },
  {
   "cell_type": "code",
   "execution_count": 33,
   "id": "e7f638b4",
   "metadata": {},
   "outputs": [
    {
     "name": "stdout",
     "output_type": "stream",
     "text": [
      "Enter a characterY\n",
      "Y  is in Uppercase\n"
     ]
    }
   ],
   "source": [
    "c = input('Enter a character')\n",
    "\n",
    "if c.isupper():\n",
    "    print(c, ' is in Uppercase')\n",
    "elif c.islower():\n",
    "    print(c, ' is in lowercase')\n",
    "else:\n",
    "    print(c, ' is a special character')"
   ]
  },
  {
   "cell_type": "markdown",
   "id": "a6384afa",
   "metadata": {},
   "source": [
    "### 26. Implement a program to calculate the discounted price based on different purchase amounts using elif statements.\n",
    "\n"
   ]
  },
  {
   "cell_type": "code",
   "execution_count": 34,
   "id": "906e8fca",
   "metadata": {},
   "outputs": [
    {
     "name": "stdout",
     "output_type": "stream",
     "text": [
      "Enter the purchased amount : 2875\n",
      "12% discount\n",
      "Discounted price :  2530.0\n"
     ]
    }
   ],
   "source": [
    "amt = int(input('Enter the purchased amount : '))\n",
    "\n",
    "if amt > 5000:\n",
    "    print('20% discount')\n",
    "    print('Discounted price : ', amt - amt*.2)\n",
    "\n",
    "elif amt > 2500 and amt < 5000:\n",
    "    print('12% discount')\n",
    "    print('Discounted price : ', amt - amt*.12)\n",
    "    \n",
    "elif amt > 1500 and amt < 2500:\n",
    "    print('8% discount')\n",
    "    print('Discounted price : ', amt - amt*.8)\n",
    "    \n",
    "else:\n",
    "    print('No discount at this purchase')"
   ]
  },
  {
   "cell_type": "markdown",
   "id": "c8c1a774",
   "metadata": {},
   "source": [
    "### 27. Develop a program to calculate the electricity bill based on different consumption slabs using elif statements.\n",
    "\n"
   ]
  },
  {
   "cell_type": "code",
   "execution_count": 35,
   "id": "507e15cd",
   "metadata": {},
   "outputs": [
    {
     "name": "stdout",
     "output_type": "stream",
     "text": [
      "Enter the amount of units/month : 400\n",
      "rate = 8\n",
      "Electricity bill =  3200.0\n"
     ]
    }
   ],
   "source": [
    "unit = float(input('Enter the amount of units/month : '))\n",
    "\n",
    "if unit >= 400:\n",
    "    print('rate = 8')\n",
    "    print('Electricity bill = ', unit*8)\n",
    "    \n",
    "elif unit >= 350:\n",
    "    print('rate = 7')\n",
    "    print('Electricity bill = ', unit*7)\n",
    "    \n",
    "elif unit >= 250:\n",
    "    print('rate = 6')\n",
    "    print('Electricity bill = ', unit*6)\n",
    "    \n",
    "elif unit >= 150:\n",
    "    print('rate = 5')\n",
    "    print('Electricity bill = ', unit*5)\n",
    "    \n",
    "else:\n",
    "    print('rate = 4')\n",
    "    print('Electricity bill = ', unit*4)"
   ]
  },
  {
   "cell_type": "markdown",
   "id": "2725f93c",
   "metadata": {},
   "source": [
    "### 28. Create a program to determine the type of quadrilateral based on its angles and sides using elif statements.\n",
    "\n"
   ]
  },
  {
   "cell_type": "code",
   "execution_count": 36,
   "id": "a0285971",
   "metadata": {},
   "outputs": [
    {
     "name": "stdout",
     "output_type": "stream",
     "text": [
      "Enter the length of side 1: 40\n",
      "Enter the length of side 2: 50\n",
      "Enter the length of side 3: 40\n",
      "Enter the length of side 4: 50\n",
      "Enter the measure of angle 1 (in degrees): 60\n",
      "Enter the measure of angle 2 (in degrees): 120\n",
      "Enter the measure of angle 3 (in degrees): 60\n",
      "Enter the measure of angle 4 (in degrees): 120\n",
      "This is a parallelogram.\n"
     ]
    }
   ],
   "source": [
    "# sides\n",
    "a = float(input(\"Enter the length of side 1: \"))\n",
    "b = float(input(\"Enter the length of side 2: \"))\n",
    "c = float(input(\"Enter the length of side 3: \"))\n",
    "d = float(input(\"Enter the length of side 4: \"))\n",
    "\n",
    "\n",
    "#angles\n",
    "A = float(input(\"Enter the measure of angle 1 (in degrees): \"))\n",
    "B = float(input(\"Enter the measure of angle 2 (in degrees): \"))\n",
    "C = float(input(\"Enter the measure of angle 3 (in degrees): \"))\n",
    "D = float(input(\"Enter the measure of angle 4 (in degrees): \"))\n",
    "\n",
    "# Check the type of quadrilateral\n",
    "if a == b == c == d and A == B == C == D == 90:\n",
    "    print(\"This is a square.\")\n",
    "elif a == c and b == d and A == B == C == D == 90:\n",
    "    print(\"This is a rectangle.\")\n",
    "elif a == b == c == d and A == C and B == D:\n",
    "    print(\"This is a rhombus.\")\n",
    "elif a == c and b == d and A == C and B == D:\n",
    "    print(\"This is a parallelogram.\")\n",
    "else:\n",
    "    print(\"This is a generic quadrilateral.\")"
   ]
  },
  {
   "cell_type": "markdown",
   "id": "616b5e5e",
   "metadata": {},
   "source": [
    "### 29. Write a Python script to determine the season based on a user-provided month using elif statements.\n",
    "\n"
   ]
  },
  {
   "cell_type": "markdown",
   "id": "acb0b55c",
   "metadata": {},
   "source": [
    "- Winter \n",
    "- spring\n",
    "- summer\n",
    "- monsoon\n",
    "- autumn"
   ]
  },
  {
   "cell_type": "code",
   "execution_count": 37,
   "id": "62ad530c",
   "metadata": {},
   "outputs": [
    {
     "name": "stdout",
     "output_type": "stream",
     "text": [
      "Enter a month : March\n",
      "season = \"Spring\"\n"
     ]
    }
   ],
   "source": [
    "month = input(\"Enter a month : \")\n",
    "\n",
    "month = month.lower()\n",
    "\n",
    "# Determine the season using elif statements\n",
    "if month == \"december\" or month == \"january\":\n",
    "    print('season = \"Winter\"')\n",
    "elif month == \"february\" or month == \"march\" :\n",
    "    print('season = \"Spring\"')\n",
    "elif  month == \"april\" or month == \"may\" or month == \"june\":\n",
    "    print('season = \"Summer\"')\n",
    "elif month == \"july\" or month == \"august\":\n",
    "    print('season = \"Monsoon\"')\n",
    "elif month == \"september\" or month == \"october\" or month == \"november\":\n",
    "    print('season == \"Autumn\"')\n",
    "else:\n",
    "    print('season = \"Invalid month\"')"
   ]
  },
  {
   "cell_type": "markdown",
   "id": "e556c6d7",
   "metadata": {},
   "source": [
    "### 30. Implement a program to determine the type of a year (leap or common) and month (30 or 31 days) using elif statements."
   ]
  },
  {
   "cell_type": "code",
   "execution_count": 38,
   "id": "7d21bfc2",
   "metadata": {},
   "outputs": [
    {
     "name": "stdout",
     "output_type": "stream",
     "text": [
      "Enter a year : 1996\n",
      "It is a leap year\n",
      "January, March, May, July, August, October December has 31 days.\n",
      "April, June, September, November has 30 days.\n",
      "February has 29 days.\n"
     ]
    }
   ],
   "source": [
    "y = int(input('Enter a year : '))\n",
    "\n",
    "if((y % 400 == 0) or\n",
    "     (y % 100 != 0) and\n",
    "     (y % 4 == 0)):\n",
    "    print('It is a leap year')\n",
    "    \n",
    "    print('January, March, May, July, August, October December has 31 days.')\n",
    "    print('April, June, September, November has 30 days.')\n",
    "    print('February has 29 days.')\n",
    "    \n",
    "    \n",
    "else:\n",
    "    print('It is not a leap year')\n",
    "    \n",
    "    print('January, March, May, July, August, October December has 31 days.')\n",
    "    print('April, June, September, November has 30 days.')\n",
    "    print('February has 28 days.')"
   ]
  },
  {
   "cell_type": "markdown",
   "id": "d1fd1e16",
   "metadata": {},
   "source": [
    "## Basic Level:\n"
   ]
  },
  {
   "cell_type": "markdown",
   "id": "1bc87bde",
   "metadata": {},
   "source": [
    "### 1. Write a Python program that checks if a given number is positive, negative, or zero.\n",
    "\n"
   ]
  },
  {
   "cell_type": "code",
   "execution_count": 39,
   "id": "7ca10e00",
   "metadata": {},
   "outputs": [
    {
     "name": "stdout",
     "output_type": "stream",
     "text": [
      "Enter a number : 87\n",
      "Number is Positive\n"
     ]
    }
   ],
   "source": [
    "Input = int(input('Enter a number : '))\n",
    "if Input < 0:\n",
    "    print('Number is negative')\n",
    "elif Input > 0:\n",
    "    print('Number is Positive')\n",
    "else:\n",
    "    print('Number is Zero')"
   ]
  },
  {
   "cell_type": "markdown",
   "id": "88eeb3b0",
   "metadata": {},
   "source": [
    "### 2. Create a program to determine if a person is eligible to vote based on their age.\n",
    "\n"
   ]
  },
  {
   "cell_type": "code",
   "execution_count": 40,
   "id": "989724df",
   "metadata": {},
   "outputs": [
    {
     "name": "stdout",
     "output_type": "stream",
     "text": [
      "Enter a number : 45\n",
      "Person is eligible to vote\n"
     ]
    }
   ],
   "source": [
    "Input = int(input(\"Enter a number : \"))\n",
    "if Input >= 18:\n",
    "    print('Person is eligible to vote')\n",
    "else:\n",
    "    print('Person is not eligible to vote')"
   ]
  },
  {
   "cell_type": "markdown",
   "id": "fc6f7c60",
   "metadata": {},
   "source": [
    "### 3. Write a program to find the maximum of two given numbers using conditional statements.\n",
    "\n"
   ]
  },
  {
   "cell_type": "code",
   "execution_count": 41,
   "id": "c5c205d5",
   "metadata": {},
   "outputs": [
    {
     "name": "stdout",
     "output_type": "stream",
     "text": [
      "Enter number 'A' : 80\n",
      "Enter number 'B' : 15\n",
      "A is maximum\n"
     ]
    }
   ],
   "source": [
    "Input1 = int(input(\"Enter number 'A' : \"))\n",
    "Input2 = int(input(\"Enter number 'B' : \"))\n",
    "\n",
    "if Input1 > Input2:\n",
    "    print('A is maximum')\n",
    "elif Input2 > Input1:\n",
    "    print('B is maximum')\n",
    "else:\n",
    "    print('A and B are equal')"
   ]
  },
  {
   "cell_type": "markdown",
   "id": "6e9170b8",
   "metadata": {},
   "source": [
    "### 4. Develop a program that calculates the grade of a student based on their exam score.\n",
    "\n"
   ]
  },
  {
   "cell_type": "code",
   "execution_count": 44,
   "id": "89ccef6f",
   "metadata": {},
   "outputs": [
    {
     "name": "stdout",
     "output_type": "stream",
     "text": [
      "Enter score : 75\n",
      "Grade : 'B'\n"
     ]
    }
   ],
   "source": [
    "S = int(input(\"Enter score : \"))\n",
    "\n",
    "if S > 100:\n",
    "    print('Invalid')\n",
    "elif S > 90:\n",
    "    print(\"Grade : 'O'\")\n",
    "elif S > 75:\n",
    "    print(\"Grade : 'A'\")\n",
    "elif S > 60:\n",
    "    print(\"Grade : 'B'\")\n",
    "elif S > 50:\n",
    "    print(\"Grade : 'C'\")\n",
    "elif S >=45:\n",
    "    print(\"Grade : 'D'\")\n",
    "else:\n",
    "    print('Fail')"
   ]
  },
  {
   "cell_type": "markdown",
   "id": "9ee8c802",
   "metadata": {},
   "source": [
    "### 5. Create a program that checks if a year is a leap year or not.\n",
    "\n"
   ]
  },
  {
   "cell_type": "code",
   "execution_count": 45,
   "id": "3e9938a8",
   "metadata": {},
   "outputs": [
    {
     "name": "stdout",
     "output_type": "stream",
     "text": [
      "Enter a year : 1998\n",
      "It is not a leap year\n"
     ]
    }
   ],
   "source": [
    "y = int(input('Enter a year : '))\n",
    "\n",
    "if((y % 400 == 0) or\n",
    "     (y % 100 != 0) and\n",
    "     (y % 4 == 0)):\n",
    "    print('It is a leap year')\n",
    "else:\n",
    "    print('It is not a leap year')"
   ]
  },
  {
   "cell_type": "markdown",
   "id": "6065c05b",
   "metadata": {},
   "source": [
    "### 6. Write a program to classify a triangle based on its sides' lengths.\n",
    "\n"
   ]
  },
  {
   "cell_type": "code",
   "execution_count": 46,
   "id": "d2c661ba",
   "metadata": {},
   "outputs": [
    {
     "name": "stdout",
     "output_type": "stream",
     "text": [
      "Enter side 'A' : 75\n",
      "Enter side 'B' : 60\n",
      "Enter side 'C' : 120\n",
      "Isosceles Triangle\n"
     ]
    }
   ],
   "source": [
    "A = int(input(\"Enter side 'A' : \"))\n",
    "B = int(input(\"Enter side 'B' : \"))\n",
    "C = int(input(\"Enter side 'C' : \"))\n",
    "\n",
    "if A == B and A == C:\n",
    "    print('Equilateral Triangle')\n",
    "else:\n",
    "    if A != B or A != C or B != C:\n",
    "        print('Isosceles Triangle')\n",
    "    else:\n",
    "        print('Scalene Triangle')"
   ]
  },
  {
   "cell_type": "markdown",
   "id": "9dee197a",
   "metadata": {},
   "source": [
    "### 7. Build a program that determines the largest of three given numbers.\n",
    "\n"
   ]
  },
  {
   "cell_type": "code",
   "execution_count": 47,
   "id": "83a7f94d",
   "metadata": {},
   "outputs": [
    {
     "name": "stdout",
     "output_type": "stream",
     "text": [
      "Enter number 'A' : 756\n",
      "Enter number 'B' : 42\n",
      "Enter number 'C' : 152\n",
      "A is the largest\n"
     ]
    }
   ],
   "source": [
    "A = int(input(\"Enter number 'A' : \"))\n",
    "B = int(input(\"Enter number 'B' : \"))\n",
    "C = int(input(\"Enter number 'C' : \"))\n",
    "\n",
    "if A > B and A > C:\n",
    "    print('A is the largest')\n",
    "else:\n",
    "    if B > C:\n",
    "        print('B is the largest')\n",
    "    else:\n",
    "        print('C is the largest')"
   ]
  },
  {
   "cell_type": "markdown",
   "id": "8c5dab74",
   "metadata": {},
   "source": [
    "### 8. Develop a program that checks whether a character is a vowel or a consonant.\n",
    "\n"
   ]
  },
  {
   "cell_type": "code",
   "execution_count": 48,
   "id": "17e6b8ab",
   "metadata": {},
   "outputs": [
    {
     "name": "stdout",
     "output_type": "stream",
     "text": [
      "Enter a character : O\n",
      "Character is a vowel\n"
     ]
    }
   ],
   "source": [
    "c = input('Enter a character : ')\n",
    "v = \"AEIOUaeiou\"\n",
    "\n",
    "if(c in v):\n",
    "    print('Character is a vowel')\n",
    "else:\n",
    "    print('Character is a consonant')"
   ]
  },
  {
   "cell_type": "markdown",
   "id": "158e23ae",
   "metadata": {},
   "source": [
    "### 9. Create a program to calculate the total cost of a shopping cart based on discounts.\n",
    "\n"
   ]
  },
  {
   "cell_type": "code",
   "execution_count": 49,
   "id": "ac4a5c04",
   "metadata": {},
   "outputs": [
    {
     "name": "stdout",
     "output_type": "stream",
     "text": [
      "Enter the purchased amount : 8455\n",
      "20% discount\n",
      "Discounted price :  6764.0\n"
     ]
    }
   ],
   "source": [
    "amt = int(input('Enter the purchased amount : '))\n",
    "\n",
    "if amt > 5000:\n",
    "    print('20% discount')\n",
    "    print('Discounted price : ', amt - amt*.2)\n",
    "\n",
    "elif amt > 2500 and amt < 5000:\n",
    "    print('12% discount')\n",
    "    print('Discounted price : ', amt - amt*.12)\n",
    "    \n",
    "elif amt > 1500 and amt < 2500:\n",
    "    print('8% discount')\n",
    "    print('Discounted price : ', amt - amt*.8)\n",
    "    \n",
    "else:\n",
    "    print('No discount at this purchase')"
   ]
  },
  {
   "cell_type": "markdown",
   "id": "06d56b0a",
   "metadata": {},
   "source": [
    "### 10. Write a program that checks if a given number is even or odd.\n"
   ]
  },
  {
   "cell_type": "code",
   "execution_count": 50,
   "id": "2f99dde1",
   "metadata": {},
   "outputs": [
    {
     "name": "stdout",
     "output_type": "stream",
     "text": [
      "Enter a number : 95\n",
      "Number is odd\n"
     ]
    }
   ],
   "source": [
    "Input = int(input('Enter a number : '))\n",
    "if Input % 2 == 0:\n",
    "    print('Number is even')\n",
    "else:\n",
    "    print('Number is odd')"
   ]
  },
  {
   "cell_type": "markdown",
   "id": "fcdb31b5",
   "metadata": {},
   "source": [
    "## Intermediate Level:\n"
   ]
  },
  {
   "cell_type": "markdown",
   "id": "18edc4c7",
   "metadata": {},
   "source": [
    "### 11. Write a program that calculates the roots of a quadratic equation .\n",
    "\n"
   ]
  },
  {
   "cell_type": "markdown",
   "id": "d845c9c1",
   "metadata": {},
   "source": [
    "- a is coefficient of x <sup>2</sup>\n",
    "- b is coefficient of x\n",
    "- c is a constant\n",
    "\n",
    "- ax <sup>2</sup> + bx + c"
   ]
  },
  {
   "cell_type": "code",
   "execution_count": 51,
   "id": "16237311",
   "metadata": {},
   "outputs": [
    {
     "name": "stdout",
     "output_type": "stream",
     "text": [
      "a = 1\n",
      "b = -5\n",
      "c = 6\n",
      "Roots =  3.0  and  2.0\n"
     ]
    }
   ],
   "source": [
    "a = int(input('a = '))\n",
    "b = int(input('b = '))\n",
    "c = int(input('c = '))\n",
    "\n",
    "d = (b**2) - (4*a*c)\n",
    "\n",
    "if d == 0:\n",
    "    print('Roots = ', (-b+(d)**(1/2))/2*a)\n",
    "else:\n",
    "    if d > 0:\n",
    "        print('Roots = ', (-b+(d)**(1/2))/2*a, ' and ', (-b - (d)**(1/2))/2*a)\n",
    "    else:\n",
    "        print('Roots = ', (-b+(d)**(1/2))/2*a, 'i', ' and ', (-b - (d)**(1/2))/2*a,'i')"
   ]
  },
  {
   "cell_type": "markdown",
   "id": "8c7cace1",
   "metadata": {},
   "source": [
    "### 12. Create a program that determines the day of the week based on the day number (1-7).\n",
    "\n"
   ]
  },
  {
   "cell_type": "code",
   "execution_count": 52,
   "id": "3feea1f7",
   "metadata": {},
   "outputs": [
    {
     "name": "stdout",
     "output_type": "stream",
     "text": [
      "Day = Saturday\n",
      "6\n"
     ]
    }
   ],
   "source": [
    "day = input('Day = ')\n",
    "\n",
    "if day == 'Monday':\n",
    "    print('1')\n",
    "else:\n",
    "    if day == 'Tuesday':\n",
    "        print('2')\n",
    "    if day == 'Wednesday':\n",
    "        print('3')\n",
    "    if day == 'Thursday':\n",
    "        print('4')\n",
    "    if day == 'Friday':\n",
    "        print('5')\n",
    "    if day == 'Saturday':\n",
    "        print('6')\n",
    "    if day == 'Sunday':\n",
    "        print('7')"
   ]
  },
  {
   "cell_type": "markdown",
   "id": "28e3ef31",
   "metadata": {},
   "source": [
    "### 13. Develop a program that calculates the factorial of a given number using recursion.\n",
    "\n"
   ]
  },
  {
   "cell_type": "code",
   "execution_count": 53,
   "id": "943337f6",
   "metadata": {},
   "outputs": [
    {
     "name": "stdout",
     "output_type": "stream",
     "text": [
      "Enter the number : 6\n",
      "Factorial of, 6 is 720\n"
     ]
    }
   ],
   "source": [
    "n = int(input('Enter the number : '))\n",
    "\n",
    "def fact(n):\n",
    "    if n == 1:\n",
    "        return n\n",
    "    else:\n",
    "        return n * fact(n-1)\n",
    "    \n",
    "print('Factorial of,', n, 'is', fact(n))"
   ]
  },
  {
   "cell_type": "markdown",
   "id": "1e0018e9",
   "metadata": {},
   "source": [
    "### 14. Write a program to find the largest among three numbers without using the `max()` function.\n",
    "\n"
   ]
  },
  {
   "cell_type": "code",
   "execution_count": 54,
   "id": "1bea6e7c",
   "metadata": {},
   "outputs": [
    {
     "name": "stdout",
     "output_type": "stream",
     "text": [
      "Enter number 'A' : 78\n",
      "Enter number 'B' : 93\n",
      "Enter number 'C' : 14\n",
      "B is maximum\n"
     ]
    }
   ],
   "source": [
    "A = int(input(\"Enter number 'A' : \"))\n",
    "B = int(input(\"Enter number 'B' : \"))\n",
    "C = int(input(\"Enter number 'C' : \"))\n",
    "\n",
    "if A > B and A > C:\n",
    "    print('A is maximum')\n",
    "else:\n",
    "    if B > C:\n",
    "        print('B is maximum')\n",
    "    else:\n",
    "        print('C is maximum')"
   ]
  },
  {
   "cell_type": "markdown",
   "id": "f68f6f7a",
   "metadata": {},
   "source": [
    "### 15. Create a program that simulates a basic ATM transaction menu.\n",
    "\n"
   ]
  },
  {
   "cell_type": "code",
   "execution_count": 55,
   "id": "ff3c271e",
   "metadata": {},
   "outputs": [
    {
     "name": "stdout",
     "output_type": "stream",
     "text": [
      "press 1 to check balance\n",
      "press 2 to withdrawl money\n",
      "press 3 to deposit money\n",
      "press 4 to Exit\n",
      "Enter one of the above choices : 2\n",
      "Enter the amount to deposit: Rs8500\n",
      "Deposited Rs 8500.0 successfully.\n"
     ]
    }
   ],
   "source": [
    "print('press 1 to check balance')\n",
    "print('press 2 to withdrawl money')\n",
    "print('press 3 to deposit money')\n",
    "print('press 4 to Exit')\n",
    "\n",
    "choice = input(\"Enter one of the above choices : \")\n",
    "bal = 0.00\n",
    "\n",
    "if choice == \"1\":\n",
    "    print('Your account balance is Rs', bal)\n",
    "    \n",
    "elif choice == \"2\":\n",
    "    amount = float(input(\"Enter the amount to deposit: Rs\"))\n",
    "    bal += amount\n",
    "    print('Deposited Rs', amount, 'successfully.')\n",
    "    \n",
    "elif choice == \"3\":\n",
    "    amount = float(input(\"Enter the amount to withdraw: Rs\"))\n",
    "    if amount <= bal:\n",
    "        bal -= amount\n",
    "        print('Withdrew Rs',amount, 'successfully.')\n",
    "    else:\n",
    "        print(\"Insufficient funds!\")\n",
    "        \n",
    "elif choice == \"4\":\n",
    "    print('Exit')\n",
    "    \n",
    "else:\n",
    "    print('Invalid choice. Please select a valid option.')"
   ]
  },
  {
   "cell_type": "markdown",
   "id": "40a814df",
   "metadata": {},
   "source": [
    "### 16. Build a program that checks if a given string is a palindrome or not.\n",
    "\n"
   ]
  },
  {
   "cell_type": "code",
   "execution_count": 56,
   "id": "5b0ff094",
   "metadata": {},
   "outputs": [
    {
     "name": "stdout",
     "output_type": "stream",
     "text": [
      "Enter a string : abbaabba\n",
      "abbaabba  is a palindrome.\n"
     ]
    }
   ],
   "source": [
    "String = input(\"Enter a string : \")\n",
    "\n",
    "lower = String.lower()\n",
    "\n",
    "if lower == lower[::-1]:\n",
    "    print(String, \" is a palindrome.\")\n",
    "else:\n",
    "    print(String, (\" is not a palindrome.\"))"
   ]
  },
  {
   "cell_type": "markdown",
   "id": "261a5f1c",
   "metadata": {},
   "source": [
    "### 17. Write a program that calculates the average of a list of numbers, excluding the smallest and largest values.\n",
    "\n"
   ]
  },
  {
   "cell_type": "code",
   "execution_count": 59,
   "id": "17f5f166",
   "metadata": {},
   "outputs": [
    {
     "name": "stdout",
     "output_type": "stream",
     "text": [
      "Enter numbers with spaces : 12 45 75 82 42 93 76 42\n",
      "sum =  362\n"
     ]
    }
   ],
   "source": [
    "l = input('Enter numbers with spaces : ').split()\n",
    "sum = 0\n",
    "\n",
    "if len(l) < 3:\n",
    "    print('Input atleast 3 numbers.')\n",
    "    \n",
    "else:\n",
    "    s = min(l)\n",
    "    m = max(l)\n",
    "    l.remove(s)\n",
    "    l.remove(m)\n",
    "    \n",
    "    for i in l:\n",
    "        sum += int(i)\n",
    "    \n",
    "print('sum = ', sum)"
   ]
  },
  {
   "cell_type": "markdown",
   "id": "b88b14e2",
   "metadata": {},
   "source": [
    "### 18. Develop a program that converts a given temperature from Celsius to Fahrenheit.\n",
    "\n"
   ]
  },
  {
   "cell_type": "code",
   "execution_count": 60,
   "id": "8d285ea4",
   "metadata": {},
   "outputs": [
    {
     "name": "stdout",
     "output_type": "stream",
     "text": [
      "Temperature in Celcius = 45\n",
      "Temperature in Fahrenheit =  113.0\n"
     ]
    }
   ],
   "source": [
    "C = float(input(\"Temperature in Celcius = \"))\n",
    "\n",
    "F = (1.8 * C) + 32\n",
    "print(\"Temperature in Fahrenheit = \", F)"
   ]
  },
  {
   "cell_type": "markdown",
   "id": "fd01c4d0",
   "metadata": {},
   "source": [
    "### 19. Create a program that simulates a basic calculator for addition, subtraction, multiplication, and division.\n",
    "\n"
   ]
  },
  {
   "cell_type": "code",
   "execution_count": 61,
   "id": "87dd4667",
   "metadata": {},
   "outputs": [
    {
     "name": "stdout",
     "output_type": "stream",
     "text": [
      "a = 75\n",
      "b = 3\n",
      "Press '+' for addition\n",
      "Press '-' for subtraction\n",
      "Press '*' for multiplication\n",
      "Press '/' for division\n",
      "Press '//' for floor division\n",
      "Press '%' to get remainder\n",
      "Press '**' to get power of the number\n",
      "Press one of the above operators**\n",
      "421875\n"
     ]
    }
   ],
   "source": [
    "a = int(input('a = '))\n",
    "b = int(input('b = '))\n",
    "\n",
    "print(\"Press '+' for addition\")\n",
    "print(\"Press '-' for subtraction\")\n",
    "print(\"Press '*' for multiplication\")\n",
    "print(\"Press '/' for division\")\n",
    "print(\"Press '//' for floor division\")\n",
    "print(\"Press '%' to get remainder\")\n",
    "print(\"Press '**' to get power of the number\")\n",
    "\n",
    "choice = input('Press one of the above operators')\n",
    "\n",
    "if choice == '+':\n",
    "    print(a+b)\n",
    "    \n",
    "elif choice == '-':\n",
    "    print(a-b)\n",
    "\n",
    "elif choice == '*':\n",
    "    print(a*b)\n",
    "    \n",
    "elif choice == '/':\n",
    "    print(a/b)\n",
    "    \n",
    "elif choice == '//':\n",
    "    print(a//b)\n",
    "    \n",
    "elif choice == '%':\n",
    "    print(a%b)\n",
    "    \n",
    "elif choice == '**':\n",
    "    print(a**b)\n",
    "    \n",
    "else:\n",
    "    print('Press the correct operator')\n"
   ]
  },
  {
   "cell_type": "markdown",
   "id": "4ef8e71d",
   "metadata": {},
   "source": [
    "### 20. Write a program that determines the roots of a cubic equation using the Cardano formula.\n"
   ]
  },
  {
   "cell_type": "code",
   "execution_count": 62,
   "id": "66c206e8",
   "metadata": {},
   "outputs": [
    {
     "name": "stdout",
     "output_type": "stream",
     "text": [
      "The roots are: (0.951373035591442+5.111928049733164j), (-3.475686517795721-2.555964024866582j), (-3.475686517795721-2.555964024866582j)\n"
     ]
    }
   ],
   "source": [
    "import math\n",
    "\n",
    "def cubic_roots(a, b, c, d):\n",
    "    if a == 0:\n",
    "        if b == 0:\n",
    "            if c == 0:\n",
    "                print(\"This is not an equation.\")\n",
    "            else:\n",
    "                root = -d / c\n",
    "                print(f\"The root is: {root}\")\n",
    "        else:\n",
    "            p = c / b\n",
    "            q = d / b\n",
    "            discriminant = p ** 2 - 3 * q\n",
    "            if discriminant > 0:\n",
    "                u = (-q + math.sqrt(discriminant))**(1/3)\n",
    "                v = (-q - math.sqrt(discriminant))**(1/3)\n",
    "                root1 = u + v\n",
    "                root2 = -(u + v) / 2\n",
    "                root3 = -(u + v) / 2\n",
    "                print(f\"The roots are: {root1}, {root2}, {root3}\")\n",
    "            elif discriminant == 0:\n",
    "                root1 = -p / 3\n",
    "                root2 = -(p / 3)\n",
    "                root3 = -(p / 3)\n",
    "                print(f\"The roots are: {root1}, {root2}, {root3}\")\n",
    "            else:\n",
    "                r = math.sqrt(-discriminant)\n",
    "                theta = math.acos(-q / (p * r))\n",
    "                root1 = 2 * math.sqrt(-p / 3) * math.cos(theta / 3) - p / 3\n",
    "                root2 = 2 * math.sqrt(-p / 3) * math.cos((theta + 2 * math.pi) / 3) - p / 3\n",
    "                root3 = 2 * math.sqrt(-p / 3) * math.cos((theta + 4 * math.pi) / 3) - p / 3\n",
    "                print(f\"The roots are: {root1}, {root2}, {root3}\")\n",
    "    else:\n",
    "        p = (3 * a * c - b**2) / (3 * a**2)\n",
    "        q = (2 * b**3 - 9 * a * b * c + 27 * a**2 * d) / (27 * a**3)\n",
    "        discriminant = (q / 2)**2 + (p / 3)**3\n",
    "        \n",
    "        if discriminant > 0:\n",
    "            u = (-q / 2 + math.sqrt(discriminant))**(1/3)\n",
    "            v = (-q / 2 - math.sqrt(discriminant))**(1/3)\n",
    "            root1 = u + v - b / (3 * a)\n",
    "            root2 = -(u + v) / 2 - b / (3 * a)\n",
    "            root3 = -(u + v) / 2 - b / (3 * a)\n",
    "            print(f\"The roots are: {root1}, {root2}, {root3}\")\n",
    "        elif discriminant == 0:\n",
    "            if q < 0:\n",
    "                root1 = 2 * math.sqrt(-p / 3) - b / (3 * a)\n",
    "                root2 = -math.sqrt(-p / 3) - b / (3 * a)\n",
    "                root3 = -math.sqrt(-p / 3) - b / (3 * a)\n",
    "                print(f\"The roots are: {root1}, {root2}, {root3}\")\n",
    "            else:\n",
    "                root1 = -2 * math.sqrt(-p / 3) - b / (3 * a)\n",
    "                root2 = math.sqrt(-p / 3) - b / (3 * a)\n",
    "                root3 = math.sqrt(-p / 3) - b / (3 * a)\n",
    "                print(f\"The roots are: {root1}, {root2}, {root3}\")\n",
    "        else:\n",
    "            r = math.sqrt(-(p / 3)**3)\n",
    "            theta = math.acos(-(q / 2) / r)\n",
    "            root1 = 2 * math.sqrt(-p / 3) * math.cos(theta / 3) - b / (3 * a)\n",
    "            root2 = 2 * math.sqrt(-p / 3) * math.cos((theta + 2 * math.pi) / 3) - b / (3 * a)\n",
    "            root3 = 2 * math.sqrt(-p / 3) * math.cos((theta + 4 * math.pi) / 3) - b / (3 * a)\n",
    "            print(f\"The roots are: {root1}, {root2}, {root3}\")\n",
    "            \n",
    "cubic_roots(1,6,-12,24)"
   ]
  },
  {
   "cell_type": "markdown",
   "id": "427a2d30",
   "metadata": {},
   "source": [
    "## Advanced Level:\n"
   ]
  },
  {
   "cell_type": "markdown",
   "id": "662215ca",
   "metadata": {},
   "source": [
    "### 21. Create a program that calculates the income tax based on the user's income and tax brackets.\n",
    "\n"
   ]
  },
  {
   "cell_type": "code",
   "execution_count": 63,
   "id": "cc625926",
   "metadata": {},
   "outputs": [
    {
     "name": "stdout",
     "output_type": "stream",
     "text": [
      "Enter Income/ year : Rs 420000\n",
      "Tax =  21000.0\n"
     ]
    }
   ],
   "source": [
    "income = int(input('Enter Income/ year : Rs '))\n",
    "tax = 0\n",
    "\n",
    "if income <= 300000:\n",
    "    print('Exempt from tax')\n",
    "    \n",
    "elif(income >= 300001  and income <= 600000):\n",
    "    tax = income * .05\n",
    "    print('Tax = ', tax)\n",
    "    \n",
    "elif(income >= 600001  and income <= 900000):\n",
    "    tax = income * .1\n",
    "    print('Tax = ', tax)\n",
    "    \n",
    "elif(income >= 900001  and income <= 1200000):\n",
    "    tax = income * .15\n",
    "    print('Tax = ', tax)\n",
    "    \n",
    "elif(income >= 1200001  and income <= 1500000):\n",
    "    tax = income * .2\n",
    "    print('Tax = ', tax)\n",
    "    \n",
    "else:\n",
    "    tax = income * .3\n",
    "    print('Tax = ', tax)"
   ]
  },
  {
   "cell_type": "markdown",
   "id": "df06712d",
   "metadata": {},
   "source": [
    "### 22. Write a program that simulates a rock-paper-scissors game against the computer.\n",
    "\n"
   ]
  },
  {
   "cell_type": "code",
   "execution_count": 64,
   "id": "ee2f811a",
   "metadata": {},
   "outputs": [
    {
     "name": "stdout",
     "output_type": "stream",
     "text": [
      "Make a coice : rock/ paper/ scissors : rock\n",
      "Make a coice : rock/ paper/ scissors : scissors\n",
      "1 points to user\n"
     ]
    }
   ],
   "source": [
    "user = input(\"Make a coice : rock/ paper/ scissors : \")\n",
    "computer = input(\"Make a coice : rock/ paper/ scissors : \")\n",
    "user.lower()\n",
    "computer.lower()\n",
    "\n",
    "if user == 'rock' and computer == 'paper':\n",
    "    print('1 points to computer')\n",
    "    \n",
    "elif user == 'paper' and computer == 'scissors':\n",
    "    print('1 points to computer')\n",
    "    \n",
    "elif user == 'scissors' and computer == 'rock':\n",
    "    print('1 points to computer')\n",
    "    \n",
    "elif user == 'rock' and computer == 'scissors':\n",
    "    print('1 points to user')\n",
    "    \n",
    "elif user == 'scissors' and computer == 'paper':\n",
    "    print('1 points to user')\n",
    "    \n",
    "elif user == 'paper' and computer == 'rock':\n",
    "    print('1 points to user')\n",
    "    \n",
    "else:\n",
    "    print('Its a tie!!')"
   ]
  },
  {
   "cell_type": "markdown",
   "id": "6de032d1",
   "metadata": {},
   "source": [
    "### 23. Develop a program that generates a random password based on user preferences (length, complexity).\n",
    "\n"
   ]
  },
  {
   "cell_type": "code",
   "execution_count": 65,
   "id": "0616771c",
   "metadata": {},
   "outputs": [
    {
     "name": "stdout",
     "output_type": "stream",
     "text": [
      "Enter the length of the password : 12\n",
      "Enter complexity (e for easy/ m for medium / d for difficult : )d\n",
      "Password :  :\\?NYh68%D\\T\n"
     ]
    }
   ],
   "source": [
    "import random\n",
    "import string\n",
    "\n",
    "length = int(input('Enter the length of the password : '))\n",
    "complexity = input('Enter complexity (e for easy/ m for medium / d for difficult : )')\n",
    "\n",
    "if complexity == 'e':\n",
    "    characters = string.ascii_letters  # Only letters (lowercase and uppercase)\n",
    "elif complexity == 'm':\n",
    "    characters = string.ascii_letters + string.digits  # Letters and numbers\n",
    "elif complexity == 'd':\n",
    "    characters = string.ascii_letters + string.digits + string.punctuation  # Letters, numbers, and special characters\n",
    "else:\n",
    "    print(\"Invalid complexity choice.\")\n",
    "    \n",
    "    \n",
    "password = ''.join(random.choice(characters) for _ in range(length))\n",
    "\n",
    "print('Password : ', password)"
   ]
  },
  {
   "cell_type": "markdown",
   "id": "fc40b308",
   "metadata": {},
   "source": [
    "### 24. Create a program that implements a simple text-based adventure game with branching scenarios.\n",
    "\n"
   ]
  },
  {
   "cell_type": "code",
   "execution_count": 66,
   "id": "16aee922",
   "metadata": {},
   "outputs": [
    {
     "name": "stdout",
     "output_type": "stream",
     "text": [
      "Choices\n",
      "Dare to Compete\n",
      "Which path will you choose?\n",
      "\n",
      "1. Take the left path.\n",
      "2. Take the right path.\n",
      "Enter your choice (1/2): 2\n",
      "You chose the right path.\n",
      "Its my fav place.\n",
      "    You can see a chocolate house, full of chocolates and candies. \n",
      "    There are several things which are blended with the fruits nuts and chocolates.\n",
      "    You can enjoy eating here.\n",
      "    'GAME OVER'\n"
     ]
    }
   ],
   "source": [
    "print(\"Choices\")\n",
    "print(\"Dare to Compete\")\n",
    "print(\"Which path will you choose?\")\n",
    "\n",
    "print(\"\\n1. Take the left path.\")\n",
    "print(\"2. Take the right path.\")\n",
    "choice = input(\"Enter your choice (1/2): \")\n",
    "\n",
    "if choice == '1':\n",
    "    print(\"You chose the left path.\")\n",
    "    print(\"\"\"You can see a garden full of fruits, flowers, trees and 3 fountains.\n",
    "You can enjoy eating here.\n",
    "'GAME OVER'\n",
    "    \"\"\")\n",
    "    \n",
    "elif choice == '2':\n",
    "    print(\"You chose the right path.\")\n",
    "    print(\"\"\"Its my fav place.\n",
    "    You can see a chocolate house, full of chocolates and candies. \n",
    "    There are several things which are blended with the fruits nuts and chocolates.\n",
    "    You can enjoy eating here.\n",
    "    'GAME OVER'\"\"\")\n",
    "\n",
    "else:\n",
    "    print(\"Invalid choice. Please enter '1' or '2'.\")\n",
    "    print(\"'GAME OVER'\")\n",
    "\n"
   ]
  },
  {
   "cell_type": "markdown",
   "id": "ce1c1512",
   "metadata": {},
   "source": [
    "### 25. Build a program that solves a linear equation for x, considering different cases.\n",
    "\n"
   ]
  },
  {
   "cell_type": "code",
   "execution_count": 67,
   "id": "bbfa42e0",
   "metadata": {},
   "outputs": [
    {
     "name": "stdout",
     "output_type": "stream",
     "text": [
      "Equation : 4x=16\n",
      "x = 4\n"
     ]
    }
   ],
   "source": [
    "def solveEquation(equation):\n",
    "    sign = 1\n",
    "    coeff = 0\n",
    "    total = 0\n",
    "    i = 0\n",
    "\n",
    "    for j in range(len(equation)):\n",
    "        char = equation[j]\n",
    "\n",
    "        if char == '+' or char == '-':\n",
    "            if j > i:\n",
    "                total += sign * int(equation[i: j])\n",
    "            i = j\n",
    "\n",
    "        elif char == 'x':\n",
    "            if i == j or equation[j - 1] == '+':\n",
    "                coeff += sign\n",
    "            elif equation[j - 1] == '-':\n",
    "                coeff -= sign\n",
    "            else:\n",
    "                coeff += sign * int(equation[i: j])\n",
    "            i = j + 1\n",
    "\n",
    "        elif char == '=':\n",
    "            if j > i:\n",
    "                total += sign * int(equation[i: j])\n",
    "            sign = -1\n",
    "            i = j + 1\n",
    "\n",
    "    if i < len(equation):\n",
    "        total += sign * int(equation[i:])\n",
    "\n",
    "    if coeff == 0:\n",
    "        return \"Infinite solutions\"\n",
    "    else:\n",
    "        ans = -total / coeff\n",
    "        return int(ans)\n",
    "\n",
    "\n",
    "equation = input('Equation : ')\n",
    "print(\"x =\", solveEquation(equation))"
   ]
  },
  {
   "cell_type": "markdown",
   "id": "a0089ae4",
   "metadata": {},
   "source": [
    "### 26. Write a program that simulates a basic quiz game with multiple-choice questions and scoring.\n",
    "\n"
   ]
  },
  {
   "cell_type": "code",
   "execution_count": 68,
   "id": "2176d16c",
   "metadata": {},
   "outputs": [
    {
     "name": "stdout",
     "output_type": "stream",
     "text": [
      "QUIZ TIME!!\n",
      "Who is our Current PM?\n",
      "a. Shri Narendra Modi\n",
      "b. Dr. S. Jayashankar\n",
      "c. Yogi Aditya Nath\n",
      "\n",
      "Enter your choice : a\n",
      "Score =  1\n",
      "What is the Capital of India?\n",
      "a. Haryana\n",
      "b. New Delhi\n",
      "c. Uttrakhand\n",
      "\n",
      "Enter your choice :b\n",
      "Score =  2\n"
     ]
    }
   ],
   "source": [
    "print('QUIZ TIME!!')\n",
    "\n",
    "score = 0\n",
    "\n",
    "print(\"\"\"Who is our Current PM?\n",
    "a. Shri Narendra Modi\n",
    "b. Dr. S. Jayashankar\n",
    "c. Yogi Aditya Nath\n",
    "\"\"\")\n",
    "\n",
    "ans = input('Enter your choice : ')\n",
    "\n",
    "if ans == 'a':\n",
    "    score = score +1\n",
    "    print('Score = ', score)\n",
    "else:\n",
    "    print('Score = ', score)\n",
    "    \n",
    "print(\"\"\"What is the Capital of India?\n",
    "a. Haryana\n",
    "b. New Delhi\n",
    "c. Uttrakhand\n",
    "\"\"\")\n",
    "\n",
    "ans = input('Enter your choice :')\n",
    "\n",
    "if ans == 'b':\n",
    "    score +=1\n",
    "    print('Score = ', score)\n",
    "else:\n",
    "    print('Score = ', score)\n",
    "    "
   ]
  },
  {
   "cell_type": "markdown",
   "id": "76491ff7",
   "metadata": {},
   "source": [
    "### 27. Develop a program that determines whether a given year is a prime number or not.\n",
    "\n"
   ]
  },
  {
   "cell_type": "code",
   "execution_count": 69,
   "id": "02652988",
   "metadata": {},
   "outputs": [
    {
     "name": "stdout",
     "output_type": "stream",
     "text": [
      "Enter the year : 19\n",
      "19 is a prime number\n"
     ]
    }
   ],
   "source": [
    "year = int(input('Enter the year : '))\n",
    "\n",
    "if year > 1:\n",
    "    for i in range(2, int(year/2)+1):\n",
    "        if (year % i) == 0:\n",
    "            print(year, \"is not a prime number\")\n",
    "            break\n",
    "    else:\n",
    "        print(year, \"is a prime number\")\n",
    "else:\n",
    "    print(year, \"is not a prime number\")"
   ]
  },
  {
   "cell_type": "markdown",
   "id": "f3b944dc",
   "metadata": {},
   "source": [
    "### 28. Create a program that sorts three numbers in ascending order using conditional statements.\n",
    "\n"
   ]
  },
  {
   "cell_type": "code",
   "execution_count": 70,
   "id": "d1e0b50d",
   "metadata": {},
   "outputs": [
    {
     "name": "stdout",
     "output_type": "stream",
     "text": [
      "Enter 1st number15\n",
      "Enter 2nd number36\n",
      "Enter 3rd number6\n",
      "6 ,  15 ,  36\n"
     ]
    }
   ],
   "source": [
    "a = int(input('Enter 1st number'))\n",
    "b = int(input('Enter 2nd number'))\n",
    "c = int(input('Enter 3rd number'))\n",
    "\n",
    "if a > b and a > c and b > c:\n",
    "    print(c, ', ', b, ', ', a)\n",
    "\n",
    "elif  b > a and a > c and b > c:\n",
    "    print(c, ', ', a, ', ', b)\n",
    "    \n",
    "elif  a > b and c > b and a > c:\n",
    "    print(b, ', ', a, ', ',c )\n",
    "    \n",
    "elif  a > b and c > b and c > a:\n",
    "    print(b, ', ',c, ', ', a)\n",
    "    \n",
    "elif  b > a and c > a and b > c:\n",
    "    print(a, ', ', c, ', ', b)\n",
    "    \n",
    "else:\n",
    "    print(a, ', ', b, ', ', c)"
   ]
  },
  {
   "cell_type": "markdown",
   "id": "343b418b",
   "metadata": {},
   "source": [
    "### 29. Build a program that determines the roots of a quartic equation using numerical methods.\n",
    "\n"
   ]
  },
  {
   "cell_type": "code",
   "execution_count": 74,
   "id": "3cac232b",
   "metadata": {},
   "outputs": [
    {
     "name": "stdout",
     "output_type": "stream",
     "text": [
      "Enter lower bound of interval: 4\n",
      "Enter upper bound of interval: 9\n",
      "Enter tolerance (e.g., 0.0001): .002\n",
      "Approximate root: 8.9988\n"
     ]
    }
   ],
   "source": [
    "# Define the quartic equation as a function\n",
    "def quartic_equation(x):\n",
    "    return x**4 - 6 * x**3 + 11 * x**2 - 6 * x\n",
    "\n",
    "# Define the bisection method to find a root\n",
    "def bisection_method(a, b, tol):\n",
    "    while (b - a) / 2.0 > tol:\n",
    "        midpoint = (a + b) / 2.0\n",
    "        if quartic_equation(midpoint) * quartic_equation(a) < 0:\n",
    "            b = midpoint\n",
    "        else:\n",
    "            a = midpoint\n",
    "    return (a + b) / 2.0\n",
    "\n",
    "# Input interval [a, b] and tolerance\n",
    "a = float(input(\"Enter lower bound of interval: \"))\n",
    "b = float(input(\"Enter upper bound of interval: \"))\n",
    "tolerance = float(input(\"Enter tolerance (e.g., 0.0001): \"))\n",
    "\n",
    "# Find and print the approximate root\n",
    "root = bisection_method(a, b, tolerance)\n",
    "print(f\"Approximate root: {root:.4f}\")\n"
   ]
  },
  {
   "cell_type": "markdown",
   "id": "79bebfed",
   "metadata": {},
   "source": [
    "### 30. Write a program that calculates the BMI (Body Mass Index) and provides health recommendations based on the user's input.\n",
    "\n",
    "\n"
   ]
  },
  {
   "cell_type": "code",
   "execution_count": 75,
   "id": "6648be6b",
   "metadata": {},
   "outputs": [
    {
     "name": "stdout",
     "output_type": "stream",
     "text": [
      "weight in kgs : 75\n",
      "height in m : 1.84\n",
      "22.152646502835537  - Normal\n",
      "Your metabolic rate is perfect. \n",
      "    So you should eat a balanced diet to maintain your healthy routine.\n",
      "    You should execise 3-5 days a week and not more than 30 minutes\n"
     ]
    }
   ],
   "source": [
    "w = float(input('weight in kgs : '))\n",
    "h = float(input('height in m : '))\n",
    "\n",
    "bmi = w / h**2\n",
    "\n",
    "if bmi < 18.5:\n",
    "    print(bmi, ' - Underweight')\n",
    "    print(\"\"\"Your metabolism is quiet high. \n",
    "    So you should eat more carbs and fats along with proteins and other nutitious food.\n",
    "    You should execise 3 days a week and not more than 20 minutes\"\"\")\n",
    "elif bmi > 18.5 and bmi < 24.9:\n",
    "    print(bmi, ' - Normal')\n",
    "    print(\"\"\"Your metabolic rate is perfect. \n",
    "    So you should eat a balanced diet to maintain your healthy routine.\n",
    "    You should execise 3-5 days a week and not more than 30 minutes\"\"\")\n",
    "elif bmi > 25 and bmi < 29.9:\n",
    "    print(bmi, ' - Overweight')\n",
    "    print(\"\"\"Your metabolism is slow. \n",
    "    So you should make more protein intake.\n",
    "    You should execise 6 days a week for about 50 minutes\"\"\")\n",
    "else:\n",
    "    print(bmi, ' - Obese')\n",
    "    print(\"\"\"Seems like you never workout. \n",
    "    So you should avoid eating junks and focus only one healthy balanced food.\n",
    "    Consult a doctor if there is any medical concern.\n",
    "    You should execise 6 days a week for about 45 - minutes.\"\"\")"
   ]
  },
  {
   "cell_type": "markdown",
   "id": "78f9b254",
   "metadata": {},
   "source": [
    "## Challenge Level:\n"
   ]
  },
  {
   "cell_type": "markdown",
   "id": "997cdf51",
   "metadata": {},
   "source": [
    "### 31. Create a program that validates a password based on complexity rules (length, characters, etc.).\n",
    "\n"
   ]
  },
  {
   "cell_type": "code",
   "execution_count": 76,
   "id": "0e27f93e",
   "metadata": {},
   "outputs": [
    {
     "name": "stdout",
     "output_type": "stream",
     "text": [
      "Enter password : Hajs156@pl\n",
      "Password is Validated\n"
     ]
    }
   ],
   "source": [
    "SpecialSym =['$', '@', '#', '%']\n",
    "val = True\n",
    "     \n",
    "passwd = input('Enter password : ')\n",
    "    \n",
    "if len(passwd) < 6:\n",
    "    print('length should be at least 6')\n",
    "    val = False\n",
    "         \n",
    "if len(passwd) > 20:\n",
    "    print('length should be not be greater than 8')\n",
    "    val = False\n",
    "         \n",
    "if not any(char.isdigit() for char in passwd):\n",
    "    print('Password should have at least one numeral')\n",
    "    val = False\n",
    "         \n",
    "if not any(char.isupper() for char in passwd):\n",
    "    print('Password should have at least one uppercase letter')\n",
    "    val = False\n",
    "         \n",
    "if not any(char.islower() for char in passwd):\n",
    "    print('Password should have at least one lowercase letter')\n",
    "    val = False\n",
    "         \n",
    "if not any(char in SpecialSym for char in passwd):\n",
    "    print('Password should have at least one of the symbols $@#')\n",
    "    val = False\n",
    "    \n",
    "if val:\n",
    "    print('Password is Validated')"
   ]
  },
  {
   "cell_type": "markdown",
   "id": "f14a581f",
   "metadata": {},
   "source": [
    "### 32. Develop a program that performs matrix addition and subtraction based on user input.\n",
    "\n"
   ]
  },
  {
   "cell_type": "code",
   "execution_count": 77,
   "id": "cccf6f4f",
   "metadata": {},
   "outputs": [
    {
     "name": "stdout",
     "output_type": "stream",
     "text": [
      "Printing elements of first matrix\n",
      "1 2 \n",
      "3 4 \n",
      "Printing elements of second matrix\n",
      "4 5 \n",
      "6 7 \n",
      "Enter Choice :\n",
      "1 for addition.\n",
      "2 for subtraction1\n",
      "Addition of two matrix\n",
      "5 7 \n",
      "9 11 \n"
     ]
    }
   ],
   "source": [
    "matrix1 = [[1, 2], [3, 4]]\n",
    "matrix2 = [[4, 5], [6, 7]]\n",
    " \n",
    "# Printing elements of matrix1\n",
    "print(\"Printing elements of first matrix\")\n",
    "for row in matrix1:\n",
    "    for element in row:\n",
    "        print(element, end=\" \")\n",
    "    print()\n",
    " \n",
    "# Printing elements of matrix2\n",
    "print(\"Printing elements of second matrix\")\n",
    "for row in matrix2:\n",
    "    for element in row:\n",
    "        print(element, end=\" \")\n",
    "    print()\n",
    "    \n",
    "choice = input(\"\"\"Enter Choice :\n",
    "1 for addition.\n",
    "2 for subtraction\"\"\")\n",
    "\n",
    "if choice == '1':\n",
    "    result = [[0, 0], [0, 0]]\n",
    "    for i in range(len(matrix1)):\n",
    "        for j in range(len(matrix1[0])):\n",
    "            result[i][j] = matrix1[i][j] + matrix2[i][j]\n",
    "\n",
    "    print(\"Addition of two matrix\")\n",
    "    for row in result:\n",
    "        for element in row:\n",
    "            print(element, end=\" \")\n",
    "        print()\n",
    "    \n",
    "else:\n",
    "    result = [[0, 0], [0, 0]]\n",
    "    for i in range(len(matrix1)):\n",
    "        for j in range(len(matrix1[0])):\n",
    "            result[i][j] = matrix1[i][j] - matrix2[i][j]\n",
    "\n",
    "    print(\"Subtraction of two matrix\")\n",
    "    for row in result:\n",
    "        for element in row:\n",
    "            print(element, end=\" \")\n",
    "        print()\n",
    "    "
   ]
  },
  {
   "cell_type": "markdown",
   "id": "7b9366d3",
   "metadata": {},
   "source": [
    "### 33. Write a program that calculates the greatest common divisor (GCD) of two numbers using the Euclidean algorithm.\n",
    "\n"
   ]
  },
  {
   "cell_type": "code",
   "execution_count": 79,
   "id": "6a6957e1",
   "metadata": {},
   "outputs": [
    {
     "name": "stdout",
     "output_type": "stream",
     "text": [
      "Enter value of a : 45\n",
      "Enter value of b : 36\n",
      "gcd( 45 , 36 ) =  9\n"
     ]
    }
   ],
   "source": [
    "def gcd(a, b):\n",
    "    if a == 0:\n",
    "        return b\n",
    "    else:\n",
    "        return gcd(b % a, a)\n",
    " \n",
    "a = int(input('Enter value of a : '))\n",
    "b = int(input('Enter value of b : '))\n",
    "\n",
    "\n",
    "print(\"gcd(\", a, \",\", b, \") = \", gcd(a, b))"
   ]
  },
  {
   "cell_type": "markdown",
   "id": "aa7745b8",
   "metadata": {},
   "source": [
    "### 34. Build a program that performs matrix multiplication using nested loops and conditional statements.\n",
    "\n"
   ]
  },
  {
   "cell_type": "code",
   "execution_count": 80,
   "id": "10187559",
   "metadata": {},
   "outputs": [
    {
     "name": "stdout",
     "output_type": "stream",
     "text": [
      "[16, 19]\n",
      "[36, 43]\n"
     ]
    }
   ],
   "source": [
    "def matrix_multiply(matrix1, matrix2):\n",
    "    # Check if the matrices can be multiplied\n",
    "    if len(matrix1[0]) != len(matrix2):\n",
    "        return None\n",
    "\n",
    "    # Initialize an empty result matrix\n",
    "    result = []\n",
    "\n",
    "    # Perform matrix multiplication using nested loops\n",
    "    for i in range(len(matrix1)):\n",
    "        row = []\n",
    "        for j in range(len(matrix2[0])):\n",
    "            cell = 0\n",
    "            for k in range(len(matrix2)):\n",
    "                cell += matrix1[i][k] * matrix2[k][j]\n",
    "            row.append(cell)\n",
    "        result.append(row)\n",
    "\n",
    "    return result\n",
    "\n",
    "matrix1 = [[1, 2], [3, 4]]\n",
    "matrix2 = [[4, 5], [6, 7]]\n",
    " \n",
    "\n",
    "result_matrix = matrix_multiply(matrix1, matrix2)\n",
    "\n",
    "# Print the result matrix\n",
    "if result_matrix:\n",
    "    for row in result_matrix:\n",
    "        print(row)"
   ]
  },
  {
   "cell_type": "markdown",
   "id": "1adc251e",
   "metadata": {},
   "source": [
    "### 35. Create a program that simulates a basic text-based tic-tac-toe game against the computer.\n",
    "\n"
   ]
  },
  {
   "cell_type": "code",
   "execution_count": 81,
   "id": "1f4bfd85",
   "metadata": {},
   "outputs": [
    {
     "name": "stdout",
     "output_type": "stream",
     "text": [
      "  |   |  \n",
      "--+---+--\n",
      "  |   |  \n",
      "--+---+--\n",
      "  |   |  \n",
      "Enter your move (1-9): 2\n",
      "  | X |  \n",
      "--+---+--\n",
      "  |   |  \n",
      "--+---+--\n",
      "  |   |  \n",
      "Computer's move:\n",
      "  | X |  \n",
      "--+---+--\n",
      "O |   |  \n",
      "--+---+--\n",
      "  |   |  \n",
      "Enter your move (1-9): 6\n",
      "  | X |  \n",
      "--+---+--\n",
      "O |   | X\n",
      "--+---+--\n",
      "  |   |  \n",
      "Computer's move:\n",
      "  | X |  \n",
      "--+---+--\n",
      "O |   | X\n",
      "--+---+--\n",
      "O |   |  \n",
      "Enter your move (1-9): 1\n",
      "X | X |  \n",
      "--+---+--\n",
      "O |   | X\n",
      "--+---+--\n",
      "O |   |  \n",
      "Computer's move:\n",
      "X | X |  \n",
      "--+---+--\n",
      "O | O | X\n",
      "--+---+--\n",
      "O |   |  \n",
      "Enter your move (1-9): 3\n",
      "X | X | X\n",
      "--+---+--\n",
      "O | O | X\n",
      "--+---+--\n",
      "O |   |  \n",
      "You win!\n"
     ]
    }
   ],
   "source": [
    "import random\n",
    "\n",
    "# Initialize the game board\n",
    "board = [\" \" for _ in range(9)]\n",
    "\n",
    "# Function to display the game board\n",
    "def display_board(board):\n",
    "    print(f\"{board[0]} | {board[1]} | {board[2]}\")\n",
    "    print(\"--+---+--\")\n",
    "    print(f\"{board[3]} | {board[4]} | {board[5]}\")\n",
    "    print(\"--+---+--\")\n",
    "    print(f\"{board[6]} | {board[7]} | {board[8]}\")\n",
    "\n",
    "# Function to check for a win\n",
    "def check_win(board, player):\n",
    "    winning_combinations = [(0, 1, 2), (3, 4, 5), (6, 7, 8),\n",
    "                            (0, 3, 6), (1, 4, 7), (2, 5, 8),\n",
    "                            (0, 4, 8), (2, 4, 6)]\n",
    "    for combo in winning_combinations:\n",
    "        if all(board[i] == player for i in combo):\n",
    "            return True\n",
    "    return False\n",
    "\n",
    "# Function to check if the board is full\n",
    "def check_draw(board):\n",
    "    return \" \" not in board\n",
    "\n",
    "# Computer's move\n",
    "def computer_move(board):\n",
    "    empty_cells = [i for i, cell in enumerate(board) if cell == \" \"]\n",
    "    return random.choice(empty_cells)\n",
    "\n",
    "# Main game loop\n",
    "current_player = \"X\"\n",
    "while True:\n",
    "    display_board(board)\n",
    "    if current_player == \"X\":\n",
    "        player_move = int(input(\"Enter your move (1-9): \")) - 1\n",
    "        if board[player_move] == \" \":\n",
    "            board[player_move] = current_player\n",
    "        else:\n",
    "            print(\"Invalid move. Try again.\")\n",
    "            continue\n",
    "    else:\n",
    "        print(\"Computer's move:\")\n",
    "        computer_choice = computer_move(board)\n",
    "        if board[computer_choice] == \" \":\n",
    "            board[computer_choice] = current_player\n",
    "    \n",
    "    if check_win(board, current_player):\n",
    "        display_board(board)\n",
    "        if current_player == \"X\":\n",
    "            print(\"You win!\")\n",
    "        else:\n",
    "            print(\"Computer wins!\")\n",
    "        break\n",
    "    elif check_draw(board):\n",
    "        display_board(board)\n",
    "        print(\"It's a draw!\")\n",
    "        break\n",
    "    \n",
    "    current_player = \"O\" if current_player == \"X\" else \"X\"\n"
   ]
  },
  {
   "cell_type": "markdown",
   "id": "cde86e7e",
   "metadata": {},
   "source": [
    "### 36. Write a program that generates Fibonacci numbers up to a specified term using iterative methods.\n",
    "\n"
   ]
  },
  {
   "cell_type": "code",
   "execution_count": 82,
   "id": "de21a2c5",
   "metadata": {},
   "outputs": [
    {
     "name": "stdout",
     "output_type": "stream",
     "text": [
      "How many terms? 6\n",
      "Fibonacci sequence:\n",
      "0\n",
      "1\n",
      "1\n",
      "2\n",
      "3\n",
      "5\n"
     ]
    }
   ],
   "source": [
    "nterms = int(input(\"How many terms? \"))\n",
    "\n",
    "n1, n2 = 0, 1\n",
    "count = 0\n",
    "\n",
    "if nterms <= 0:\n",
    "   print(\"Please enter a positive integer\")\n",
    "\n",
    "elif nterms == 1:\n",
    "   print(\"Fibonacci sequence upto\",nterms,\":\")\n",
    "   print(n1)\n",
    "\n",
    "else:\n",
    "   print(\"Fibonacci sequence:\")\n",
    "   while count < nterms:\n",
    "       print(n1)\n",
    "       nth = n1 + n2\n",
    "\n",
    "       n1 = n2\n",
    "       n2 = nth\n",
    "       count += 1"
   ]
  },
  {
   "cell_type": "markdown",
   "id": "6c60902f",
   "metadata": {},
   "source": [
    "### 37. Develop a program that calculates the nth term of the Fibonacci sequence using memoization.\n",
    "\n"
   ]
  },
  {
   "cell_type": "code",
   "execution_count": 83,
   "id": "e12f4f7b",
   "metadata": {},
   "outputs": [
    {
     "name": "stdout",
     "output_type": "stream",
     "text": [
      "Enter the value of n: 8\n",
      "The 8 th fibonacci number is :  21\n"
     ]
    }
   ],
   "source": [
    "fibo = {}\n",
    "\n",
    "def fibonacci(n):\n",
    "\n",
    "    if n in fibo:\n",
    "        return fibo[n]\n",
    "\n",
    "    if n == 0:\n",
    "        result = 0\n",
    "    elif n == 1:\n",
    "        result = 1\n",
    "    else:\n",
    "        result = fibonacci(n - 1) + fibonacci(n - 2)\n",
    "    \n",
    "    fibo[n] = result\n",
    "    \n",
    "    return result\n",
    "\n",
    "n = int(input(\"Enter the value of n: \"))\n",
    "\n",
    "if n < 0:\n",
    "    print(\"Please enter a non-negative integer.\")\n",
    "else:\n",
    "    result = fibonacci(n)\n",
    "    print('The', n,'th fibonacci number is : ', result)"
   ]
  },
  {
   "cell_type": "markdown",
   "id": "468728d9",
   "metadata": {},
   "source": [
    "### 38. Create a program that generates a calendar for a given month and year using conditional statements.\n",
    "\n"
   ]
  },
  {
   "cell_type": "code",
   "execution_count": 84,
   "id": "743be08f",
   "metadata": {},
   "outputs": [
    {
     "name": "stdout",
     "output_type": "stream",
     "text": [
      "Enter the year (e.g., 2023): 2023\n",
      "Enter the month (1-12): 6\n",
      "Calendar for June 2023\n",
      "Mo Tu We Th Fr Sa Su\n",
      "          1  2  3  4 \n",
      " 5  6  7  8  9 10 11 \n",
      "12 13 14 15 16 17 18 \n",
      "19 20 21 22 23 24 25 \n",
      "26 27 28 29 30       \n"
     ]
    }
   ],
   "source": [
    "import calendar\n",
    "\n",
    "year = int(input(\"Enter the year (e.g., 2023): \"))\n",
    "month = int(input(\"Enter the month (1-12): \"))\n",
    "\n",
    "if year < 0 or month < 1 or month > 12:\n",
    "    print(\"Invalid input. Please enter a valid year (>= 0) and month (1-12).\")\n",
    "else:\n",
    "\n",
    "    cal = calendar.monthcalendar(year, month)\n",
    "    \n",
    "    month_name = calendar.month_name[month]\n",
    "    year_header = str(year)\n",
    "    \n",
    "    print(f\"Calendar for {month_name} {year_header}\")\n",
    "    print(\"Mo Tu We Th Fr Sa Su\")\n",
    "    \n",
    "    for week in cal:\n",
    "        for day in week:\n",
    "            if day == 0:\n",
    "                print(\"  \", end=\" \") \n",
    "            else:\n",
    "                print(f\"{day:2d}\", end=\" \")  \n",
    "        print()"
   ]
  },
  {
   "cell_type": "markdown",
   "id": "39a9bc50",
   "metadata": {},
   "source": [
    "### 39. Build a program that simulates a basic text-based blackjack game against the computer.\n",
    "\n"
   ]
  },
  {
   "cell_type": "code",
   "execution_count": 96,
   "id": "f4fac950",
   "metadata": {},
   "outputs": [
    {
     "name": "stdout",
     "output_type": "stream",
     "text": [
      "Player hand: ['8', '4']\n",
      "Dealer hand: 6\n",
      "Hit or stand? (h/s): h\n",
      "Hit or stand? (h/s): s\n",
      "Player hand: ['8', '4', '10']\n"
     ]
    },
    {
     "ename": "TypeError",
     "evalue": "'int' object is not callable",
     "output_type": "error",
     "traceback": [
      "\u001b[1;31m---------------------------------------------------------------------------\u001b[0m",
      "\u001b[1;31mTypeError\u001b[0m                                 Traceback (most recent call last)",
      "\u001b[1;32m~\\AppData\\Local\\Temp/ipykernel_7036/2717501633.py\u001b[0m in \u001b[0;36m<module>\u001b[1;34m\u001b[0m\n\u001b[0;32m     34\u001b[0m \u001b[1;33m\u001b[0m\u001b[0m\n\u001b[0;32m     35\u001b[0m \u001b[1;31m# The dealer must hit until their hand totals at least 17\u001b[0m\u001b[1;33m\u001b[0m\u001b[1;33m\u001b[0m\u001b[0m\n\u001b[1;32m---> 36\u001b[1;33m \u001b[1;32mwhile\u001b[0m \u001b[0msum\u001b[0m\u001b[1;33m(\u001b[0m\u001b[0mdealer_hand\u001b[0m\u001b[1;33m)\u001b[0m \u001b[1;33m<\u001b[0m \u001b[1;36m17\u001b[0m\u001b[1;33m:\u001b[0m\u001b[1;33m\u001b[0m\u001b[1;33m\u001b[0m\u001b[0m\n\u001b[0m\u001b[0;32m     37\u001b[0m     \u001b[0mdealer_hand\u001b[0m\u001b[1;33m.\u001b[0m\u001b[0mappend\u001b[0m\u001b[1;33m(\u001b[0m\u001b[0mcards\u001b[0m\u001b[1;33m.\u001b[0m\u001b[0mpop\u001b[0m\u001b[1;33m(\u001b[0m\u001b[1;33m)\u001b[0m\u001b[1;33m)\u001b[0m\u001b[1;33m\u001b[0m\u001b[1;33m\u001b[0m\u001b[0m\n\u001b[0;32m     38\u001b[0m \u001b[1;33m\u001b[0m\u001b[0m\n",
      "\u001b[1;31mTypeError\u001b[0m: 'int' object is not callable"
     ]
    }
   ],
   "source": [
    "import random\n",
    "\n",
    "cards = ['A', '2', '3', '4', '5', '6', '7', '8', '9', '10', 'J', 'Q', 'K'] * 4\n",
    "\n",
    "random.shuffle(cards)\n",
    "\n",
    "player_hand = []\n",
    "dealer_hand = []\n",
    "\n",
    "# Deal two cards to each player\n",
    "for i in range(2):\n",
    "  player_hand.append(cards.pop())\n",
    "  dealer_hand.append(cards.pop())\n",
    "\n",
    "# Display the player's and dealer's hands\n",
    "print('Player hand: {}'.format(player_hand))\n",
    "print('Dealer hand: {}'.format(dealer_hand[0]))\n",
    "\n",
    "# Let the player hit or stand\n",
    "while True:\n",
    "  # Ask the player if they want to hit or stand\n",
    "  hit_or_stand = input('Hit or stand? (h/s): ')\n",
    "\n",
    "  # If the player hits, deal them another card\n",
    "  if hit_or_stand == 'h':\n",
    "    player_hand.append(cards.pop())\n",
    "\n",
    "  # If the player stands, end their turn\n",
    "  else:\n",
    "    break\n",
    "\n",
    "# Display the player's hand\n",
    "print('Player hand: {}'.format(player_hand))\n",
    "\n",
    "# The dealer must hit until their hand totals at least 17\n",
    "while sum(dealer_hand) < 17:\n",
    "    dealer_hand.append(cards.pop())\n",
    "\n",
    "# Display the dealer's hand\n",
    "print('Dealer hand: {}'.format(dealer_hand))\n",
    "\n",
    "# Determine the winner\n",
    "if sum(player_hand) > 21:\n",
    "  print('Player busts! Dealer wins!')\n",
    "elif sum(dealer_hand) > 21:\n",
    "  print('Dealer busts! Player wins!')\n",
    "elif sum(player_hand) > sum(dealer_hand):\n",
    "  print('Player wins!')\n",
    "elif sum(player_hand) < sum(dealer_hand):\n",
    "  print('Dealer wins!')\n",
    "else:\n",
    "  print('Tie!')"
   ]
  },
  {
   "cell_type": "markdown",
   "id": "1c307b2b",
   "metadata": {},
   "source": [
    "### 40. Write a program that generates the prime factors of a given number using trial division.\n",
    "\n"
   ]
  },
  {
   "cell_type": "code",
   "execution_count": 86,
   "id": "2dc25090",
   "metadata": {},
   "outputs": [
    {
     "name": "stdout",
     "output_type": "stream",
     "text": [
      "Enter a positive integer: 45\n",
      "Prime factors of 45 are:\n",
      "3\n",
      "3\n",
      "5\n"
     ]
    }
   ],
   "source": [
    "num = int(input(\"Enter a positive integer: \"))\n",
    "\n",
    "if num <= 1:\n",
    "    print(\"Prime factors are not defined for numbers less than or equal to 1.\")\n",
    "else:\n",
    "    print(f\"Prime factors of {num} are:\")\n",
    "\n",
    "    divisor = 2\n",
    "    \n",
    "    while num > 1:\n",
    "        if num % divisor == 0:\n",
    "            print(divisor)\n",
    "            num //= divisor\n",
    "        else:\n",
    "            divisor += 1"
   ]
  },
  {
   "cell_type": "code",
   "execution_count": null,
   "id": "4e180dcb",
   "metadata": {},
   "outputs": [],
   "source": []
  },
  {
   "cell_type": "code",
   "execution_count": null,
   "id": "6c407334",
   "metadata": {},
   "outputs": [],
   "source": []
  },
  {
   "cell_type": "code",
   "execution_count": null,
   "id": "1f63e7f3",
   "metadata": {},
   "outputs": [],
   "source": []
  }
 ],
 "metadata": {
  "kernelspec": {
   "display_name": "Python 3 (ipykernel)",
   "language": "python",
   "name": "python3"
  },
  "language_info": {
   "codemirror_mode": {
    "name": "ipython",
    "version": 3
   },
   "file_extension": ".py",
   "mimetype": "text/x-python",
   "name": "python",
   "nbconvert_exporter": "python",
   "pygments_lexer": "ipython3",
   "version": "3.9.7"
  }
 },
 "nbformat": 4,
 "nbformat_minor": 5
}
