{
 "cells": [
  {
   "cell_type": "markdown",
   "id": "aa2a7587-96cc-4add-97ce-6e61919f0f96",
   "metadata": {},
   "source": [
    "1. What is a Python library? Why do we use Python libraries?"
   ]
  },
  {
   "cell_type": "markdown",
   "id": "f100da0f-b7d4-43a9-ab03-c58005616235",
   "metadata": {},
   "source": [
    "A Python library is a collection of modules or packages that provide pre-written and reusable code to perform specific tasks or functions. These libraries contain functions, classes, and methods that you can use in your Python programs to save time and effort, as you don't have to write the code from scratch.\n",
    "\n",
    "Python libraries are created to address various needs, such as data manipulation, numerical computations, web development, machine learning, and more. Some popular Python libraries include:\n",
    "\n",
    "- NumPy: Used for numerical computing, providing support for large, multi-dimensional arrays and matrices, along with mathematical functions.\n",
    "\n",
    "- Pandas: A powerful library for data manipulation and analysis, offering data structures like DataFrames for efficient handling and analysis of structured data.\n",
    "\n",
    "- Matplotlib and Seaborn: Libraries for creating static, animated, and interactive visualizations in Python.\n",
    "\n",
    "- Requests: Simplifies HTTP requests, making it easier to interact with web services and APIs.\n",
    "\n",
    "- Django and Flask: Web frameworks for building web applications in Python, each with its own approach and set of features.\n",
    "\n",
    "- TensorFlow and PyTorch: Popular libraries for machine learning and deep learning, providing tools for building and training neural networks.\n",
    "\n",
    "- Beautiful Soup and Scrapy: Used for web scraping, enabling the extraction of data from HTML and XML documents.\n",
    "\n",
    "- Scikit-learn: A machine learning library that provides simple and efficient tools for data mining and data analysis.\n",
    "\n",
    "- NLTK (Natural Language Toolkit): A library for working with human language data, useful for tasks such as text processing and analysis.\n",
    "\n",
    "- OpenCV: A computer vision library that provides tools for image and video analysis."
   ]
  },
  {
   "cell_type": "markdown",
   "id": "ec3f951c-aa2b-4c48-9385-5467e627b1eb",
   "metadata": {},
   "source": [
    "Python libraries are used for several reasons, providing a wide range of benefits to developers. Here are some key reasons why Python libraries are extensively used:\n",
    "- Efficiency: Libraries contain pre-written code for common tasks, allowing developers to leverage existing solutions rather than writing code from scratch. This significantly speeds up the development process.\n",
    "\n",
    "- Code Reusability: Libraries provide reusable components that can be easily integrated into different projects. This promotes the reuse of well-tested and proven code, reducing redundancy and improving maintainability.\n",
    "\n",
    "- Community Collaboration: Python has a large and active community of developers who contribute to the creation and maintenance of libraries. This collaborative effort leads to the development of high-quality, feature-rich libraries that address various needs.\n",
    "\n",
    "- Specialized Functionality: Python libraries are often designed to address specific tasks or domains, such as data analysis, machine learning, web development, and more. Using specialized libraries allows developers to benefit from the expertise of others in those particular areas.\n",
    "\n",
    "- Rapid Prototyping: Libraries provide ready-to-use tools that enable rapid prototyping and experimentation. This is particularly valuable in fields like data science and machine learning, where quick iterations and testing different algorithms are common.\n",
    "\n",
    "- Standardization: Certain libraries become de facto standards in their respective domains. For example, NumPy and Pandas are widely adopted for numerical computing and data manipulation in the Python ecosystem. This standardization promotes interoperability and a shared knowledge base among developers.\n",
    "\n",
    "- Performance Optimization: Many libraries are implemented in lower-level languages like C or C++ for performance reasons. By using these libraries, developers can benefit from optimized code without sacrificing the ease of use and expressiveness of Python.\n",
    "\n",
    "- Open Source Philosophy: Many Python libraries are open source, encouraging collaboration and allowing developers to inspect, modify, and contribute to the codebase. This fosters transparency and innovation within the Python ecosystem.\n",
    "\n",
    "- Cross-Platform Compatibility: Python libraries are designed to be cross-platform, allowing developers to write code that can run on different operating systems without modification. This enhances portability and broadens the reach of applications.\n",
    "\n",
    "- Documentation and Support: Well-maintained libraries often come with comprehensive documentation and community support. This makes it easier for developers to understand how to use the library effectively and seek help when needed."
   ]
  },
  {
   "cell_type": "markdown",
   "id": "331424d1-eb27-49cc-8ff3-887ab27722b0",
   "metadata": {},
   "source": [
    "2. What is the difference between Numpy array and List?"
   ]
  },
  {
   "cell_type": "markdown",
   "id": "65d583db-478c-48fd-8c74-7b194674c736",
   "metadata": {},
   "source": [
    "Difference between Numpy array and List are:\n",
    "\n",
    "- Data Type Storage :\n",
    "    - List - Lists can store any datatype (l = [25, 33.0078, 'hello'])\n",
    "    - Numpy array - It can store only one datatype (a = [45,78,63,900,45])\n",
    " \n",
    "- Importing Modules\n",
    "    - List - Lists are inbuilt data structures in python and we do not need to install them separetely\n",
    "    - Numpy array - To use numpy arrays we need to install numpy package and import it to work on it\n",
    " \n",
    "- Numerical Operations\n",
    "    - List - we cannot perform much numerical operations on lists. It cannot be used as a matrix\n",
    "    - Numpy array - In numpy arrays there are many functions available to perform these operations. For example, we use numpy in image processing as it can also be used as a matrix.\n",
    " \n",
    "- Modification Capabilities\n",
    "    - List - More functions are available to modify lists\n",
    "    - Numpy array - we can resize or reshape numpy arrays. elements can alsoo be updated \n",
    " \n",
    "- Memory Usage\n",
    "    - List - It consumes more memory\n",
    "    - Numpy array - it consumes less memory\n",
    "        - Fixed size\n",
    "        - homogenous datatype\n",
    "        - contaguous memory allocation\n",
    " \n",
    "- \n",
    "    - List - It is comparatively slow. We can calculate their implementation time by using following :\n",
    "        - %timeit - for single line execution\n",
    "        - %%timeit - for whole program\n",
    "    - Numpy array -  NumPy's speed is a result of its efficient implementation in low-level languages, support for vectorized operations and broadcasting, optimized algorithms, memory efficiency, and the ongoing contributions from the open-source community.\n",
    " \n",
    "- Numpy arrays are convinient to use for large datasets"
   ]
  },
  {
   "cell_type": "markdown",
   "id": "852750f6-bb5b-41e7-9f6f-ccb288a3fa98",
   "metadata": {},
   "source": [
    "3. Find the shape, size and dimension of the following array?\n",
    "\n",
    "[[1, 2, 3, 4]\n",
    "\n",
    "[5, 6, 7, 8],\n",
    "\n",
    "[9, 10, 11, 12]]\n"
   ]
  },
  {
   "cell_type": "code",
   "execution_count": 1,
   "id": "d416b4ba-d84c-4dfa-b174-f50ef5df80b7",
   "metadata": {},
   "outputs": [
    {
     "name": "stdout",
     "output_type": "stream",
     "text": [
      "Shape of array is (3, 4)\n",
      "Size of array is 12\n"
     ]
    }
   ],
   "source": [
    "import numpy as np\n",
    "arr = np.array([[1, 2, 3, 4],[5, 6, 7, 8],[9, 10, 11, 12]])\n",
    "print(f'Shape of array is {arr.shape}')\n",
    "print(f'Size of array is {arr.size}')"
   ]
  },
  {
   "cell_type": "markdown",
   "id": "94b10104-7080-4b49-a632-64f96eceb2b2",
   "metadata": {},
   "source": [
    "\n",
    "\n",
    "4. Write python code to access the first row of the following array?\n",
    "\n",
    "[[1, 2, 3, 4],\n",
    "\n",
    "[5, 6, 7, 8],\n",
    "\n",
    "[9, 10, 11, 12]]\n",
    "\n",
    "\n"
   ]
  },
  {
   "cell_type": "code",
   "execution_count": 2,
   "id": "08caafa0-530e-4289-8367-57b273952a8e",
   "metadata": {},
   "outputs": [
    {
     "name": "stdout",
     "output_type": "stream",
     "text": [
      "First row : [1 2 3 4]\n"
     ]
    }
   ],
   "source": [
    "arr = np.array([[1, 2, 3, 4],[5, 6, 7, 8],[9, 10, 11, 12]])\n",
    "\n",
    "first_row = arr[0,:]\n",
    "print(f'First row : {first_row}')"
   ]
  },
  {
   "cell_type": "markdown",
   "id": "0a42a941-ed06-4c87-b74e-ec56c647708b",
   "metadata": {},
   "source": [
    "5. How do you access the element at the third row and fourth column from the given numpy array?\n",
    "\n",
    "[[1, 2, 3, 4]\n",
    "\n",
    "[5, 6, 7, 8],\n",
    "\n",
    "[9, 10, 11, 12]]"
   ]
  },
  {
   "cell_type": "code",
   "execution_count": 3,
   "id": "b04f294b-2803-4380-9758-e4f3b632bc32",
   "metadata": {},
   "outputs": [
    {
     "data": {
      "text/plain": [
       "12"
      ]
     },
     "execution_count": 3,
     "metadata": {},
     "output_type": "execute_result"
    }
   ],
   "source": [
    "arr = np.array([[1, 2, 3, 4],[5, 6, 7, 8],[9, 10, 11, 12]])\n",
    "\n",
    "# starting index is 0, 3rd row is denoted by 2 and 4th col is denoted by 3\n",
    "arr[2][3]"
   ]
  },
  {
   "cell_type": "markdown",
   "id": "89a16773-34b0-4d0b-9024-3303b25fe967",
   "metadata": {},
   "source": [
    "6. Write code to extract all odd-indexed elements from the given numpy array?\n",
    "\n",
    "[[1, 2, 3, 4]\n",
    "\n",
    "[5, 6, 7, 8],\n",
    "\n",
    "[9, 10, 11, 12]]\n",
    "\n",
    "\n"
   ]
  },
  {
   "cell_type": "code",
   "execution_count": 4,
   "id": "93372e27-b55c-49e8-b0fa-240429b98327",
   "metadata": {},
   "outputs": [
    {
     "name": "stdout",
     "output_type": "stream",
     "text": [
      "Odd indexed elements are : [[ 2  4]\n",
      " [ 6  8]\n",
      " [10 12]]\n"
     ]
    }
   ],
   "source": [
    "arr = np.array([[1, 2, 3, 4],[5, 6, 7, 8],[9, 10, 11, 12]])\n",
    "\n",
    "odd_indexed_elements = arr[:, 1::2]\n",
    "\n",
    "print(f'Odd indexed elements are : {odd_indexed_elements}')"
   ]
  },
  {
   "cell_type": "markdown",
   "id": "e9b7b114-69f1-4557-b5cb-f19f9680bd17",
   "metadata": {},
   "source": [
    "7. How can you generate a random 3x3 matrix with values between 0 and 1?\n",
    "\n",
    "\n"
   ]
  },
  {
   "cell_type": "code",
   "execution_count": 5,
   "id": "f220122b-e491-42ac-8da1-aa862c880058",
   "metadata": {},
   "outputs": [
    {
     "name": "stdout",
     "output_type": "stream",
     "text": [
      "Random 3x3 matrix:\n",
      "[[0.69800102 0.14886526 0.53622273]\n",
      " [0.64813965 0.04968098 0.1962981 ]\n",
      " [0.55185318 0.06789823 0.53202705]]\n"
     ]
    }
   ],
   "source": [
    "random_matrix = np.random.rand(3, 3)\n",
    "\n",
    "print(\"Random 3x3 matrix:\")\n",
    "print(random_matrix)"
   ]
  },
  {
   "cell_type": "markdown",
   "id": "f1cc1158-4e8b-4e68-bb37-244d53e6b9cb",
   "metadata": {},
   "source": [
    "8. Describe the difference between np.random.rand and np.random.randn?"
   ]
  },
  {
   "cell_type": "markdown",
   "id": "b40e26ad-f0f3-418c-80a5-271304ec9e57",
   "metadata": {},
   "source": [
    "1. np.random.rand:\n",
    "    - This function generates random values from a uniform distribution over the interval [0, 1).\n",
    "    - All values have an equal probability of being selected.\n",
    "\n",
    "2. np.random.randn:\n",
    "    -  This function generates random values from a standard normal distribution (mean = 0, standard deviation = 1).\n",
    "    - The values are more likely to be closer to 0, and the distribution follows a bell-shaped curve (normal distribution or Gaussian distribution)."
   ]
  },
  {
   "cell_type": "code",
   "execution_count": 6,
   "id": "df1ead33-3a5f-4897-93b5-a55f0fef1b16",
   "metadata": {},
   "outputs": [
    {
     "name": "stdout",
     "output_type": "stream",
     "text": [
      "Random Matrix [[0.81615019 0.42897588 0.76061205]\n",
      " [0.53755542 0.91013858 0.13782239]\n",
      " [0.79292316 0.38382768 0.53837829]]\n",
      "\n",
      "Random n Matrix [[ 1.40437006  1.20480051  0.04071681]\n",
      " [-1.59992087 -1.71143345  0.56487583]\n",
      " [-0.34568434 -0.88448237  0.95252637]]\n"
     ]
    }
   ],
   "source": [
    "random_mat = np.random.rand(3,3)\n",
    "print(f'Random Matrix {random_mat}')\n",
    "\n",
    "random_n_mat = np.random.randn(3,3)\n",
    "print(f'\\nRandom n Matrix {random_n_mat}')"
   ]
  },
  {
   "cell_type": "markdown",
   "id": "4a400569-4d2d-4e8a-a8ef-3be992e08f98",
   "metadata": {},
   "source": [
    "9. Write code to increase the dimension of the following array?\n",
    "\n",
    "[[1, 2, 3, 4]\n",
    "\n",
    "[5, 6, 7, 8],\n",
    "\n",
    "[9, 10, 11, 12]]\n",
    "\n",
    "\n"
   ]
  },
  {
   "cell_type": "code",
   "execution_count": 7,
   "id": "36c4c476-3f35-411a-8a86-52c388a570c8",
   "metadata": {},
   "outputs": [
    {
     "data": {
      "text/plain": [
       "array([[[ 1,  2,  3,  4],\n",
       "        [ 5,  6,  7,  8],\n",
       "        [ 9, 10, 11, 12]]])"
      ]
     },
     "execution_count": 7,
     "metadata": {},
     "output_type": "execute_result"
    }
   ],
   "source": [
    "arr = np.array([[1, 2, 3, 4],[5, 6, 7, 8],[9, 10, 11, 12]])\n",
    "\n",
    "new_arr = np.expand_dims(arr, axis = 0)\n",
    "new_arr"
   ]
  },
  {
   "cell_type": "markdown",
   "id": "80359e3d-9ef7-4619-8acc-d3f4b579dbe2",
   "metadata": {},
   "source": [
    "10. How to transpose the following array in NumPy?\n",
    "\n",
    "[[1, 2, 3, 4]\n",
    "\n",
    "[5, 6, 7, 8],\n",
    "\n",
    "[9, 10, 11, 12]]\n",
    "\n",
    "\n"
   ]
  },
  {
   "cell_type": "code",
   "execution_count": 8,
   "id": "e0c60121-d162-4ebe-b543-0f05842a00c7",
   "metadata": {},
   "outputs": [
    {
     "name": "stdout",
     "output_type": "stream",
     "text": [
      "[[ 1  5  9]\n",
      " [ 2  6 10]\n",
      " [ 3  7 11]\n",
      " [ 4  8 12]]\n"
     ]
    }
   ],
   "source": [
    "arr = np.array([[1, 2, 3, 4],[5, 6, 7, 8],[9, 10, 11, 12]])\n",
    "print(arr.transpose())"
   ]
  },
  {
   "cell_type": "markdown",
   "id": "1529ea3e-844f-4a29-9acf-30cd43f30ddb",
   "metadata": {},
   "source": [
    "11. Consider the following matrix:\n",
    "\n",
    "Matrix A: [[1, 2, 3, 4] [5, 6, 7, 8],[9, 10, 11, 12]]\n",
    "\n",
    "Matrix B: [[1, 2, 3, 4] [5, 6, 7, 8],[9, 10, 11, 12]]\n",
    "\n",
    "\n",
    "Perform the following operation using Python\n",
    "Index wise multiplicatio\n",
    "Matrix multiplicatio\n",
    "Add both the matric\n",
    "Subtract matrix B from\n",
    "Divide Matrix B by A\n",
    "\n",
    "\n"
   ]
  },
  {
   "cell_type": "code",
   "execution_count": 9,
   "id": "f3989c34-366b-4e9c-8f12-1ea572b2168a",
   "metadata": {},
   "outputs": [],
   "source": [
    "mat_a = np.array([[1, 2, 3, 4], [5, 6, 7, 8],[9, 10, 11, 12]])\n",
    "mat_b = np.array([[1, 2, 3, 4], [5, 6, 7, 8],[9, 10, 11, 12]])"
   ]
  },
  {
   "cell_type": "code",
   "execution_count": 10,
   "id": "d5742e18-0343-46c7-966c-80a525be28c2",
   "metadata": {},
   "outputs": [
    {
     "data": {
      "text/plain": [
       "array([[  1,   4,   9,  16],\n",
       "       [ 25,  36,  49,  64],\n",
       "       [ 81, 100, 121, 144]])"
      ]
     },
     "execution_count": 10,
     "metadata": {},
     "output_type": "execute_result"
    }
   ],
   "source": [
    "#  Index wise multiplication\n",
    "mul = mat_a * mat_b\n",
    "mul"
   ]
  },
  {
   "cell_type": "code",
   "execution_count": 11,
   "id": "a01acf44-d0fe-4c12-b07d-d333279cad1e",
   "metadata": {},
   "outputs": [
    {
     "data": {
      "text/plain": [
       "array([[ 2,  4,  6,  8],\n",
       "       [10, 12, 14, 16],\n",
       "       [18, 20, 22, 24]])"
      ]
     },
     "execution_count": 11,
     "metadata": {},
     "output_type": "execute_result"
    }
   ],
   "source": [
    "# add\n",
    "add = mat_a + mat_b\n",
    "add"
   ]
  },
  {
   "cell_type": "code",
   "execution_count": 12,
   "id": "7a09d78b-b3f4-485a-a34e-76684a9a9008",
   "metadata": {},
   "outputs": [
    {
     "data": {
      "text/plain": [
       "array([[0, 0, 0, 0],\n",
       "       [0, 0, 0, 0],\n",
       "       [0, 0, 0, 0]])"
      ]
     },
     "execution_count": 12,
     "metadata": {},
     "output_type": "execute_result"
    }
   ],
   "source": [
    "# subtract\n",
    "sub = mat_a - mat_b\n",
    "sub"
   ]
  },
  {
   "cell_type": "code",
   "execution_count": 13,
   "id": "0dfbb16b-e69a-4394-a6d8-ff15f9958380",
   "metadata": {},
   "outputs": [
    {
     "data": {
      "text/plain": [
       "array([[1., 1., 1., 1.],\n",
       "       [1., 1., 1., 1.],\n",
       "       [1., 1., 1., 1.]])"
      ]
     },
     "execution_count": 13,
     "metadata": {},
     "output_type": "execute_result"
    }
   ],
   "source": [
    "# divide\n",
    "div = mat_b / mat_a\n",
    "div"
   ]
  },
  {
   "cell_type": "markdown",
   "id": "2981d4de-7e42-4f69-ad6a-28b54d37b578",
   "metadata": {},
   "source": [
    "12. Which function in Numpy can be used to swap the byte order of an array?\n",
    "\n"
   ]
  },
  {
   "cell_type": "code",
   "execution_count": 40,
   "id": "81aed42f-8994-43a4-aee9-68cdbbd560ed",
   "metadata": {},
   "outputs": [
    {
     "name": "stdout",
     "output_type": "stream",
     "text": [
      "[16777216 33554432 50331648 67108864]\n"
     ]
    }
   ],
   "source": [
    "arr = np.array([1, 2, 3, 4])\n",
    "print(arr.byteswap())"
   ]
  },
  {
   "cell_type": "markdown",
   "id": "c3b73123-387d-4128-a4bb-84fd4d26e6a1",
   "metadata": {},
   "source": [
    "13. What is the significance of the np.linalg.inv function?\n",
    "\n"
   ]
  },
  {
   "cell_type": "markdown",
   "id": "86ade3d4-d4a1-48ab-8768-c5c3a3897f13",
   "metadata": {},
   "source": [
    "We use np.linalg.inv() function to calculate the inverse of a matrix. The inverse of a matrix is such that if it is multiplied by the original matrix, it results in identity matrix."
   ]
  },
  {
   "cell_type": "code",
   "execution_count": 14,
   "id": "21cde873-40ae-469e-8738-51f9269f4906",
   "metadata": {
    "scrolled": true
   },
   "outputs": [
    {
     "data": {
      "text/plain": [
       "array([[-1.5 ,  0.25,  1.25],\n",
       "       [ 0.5 ,  0.25, -1.75],\n",
       "       [ 0.5 , -0.25,  0.75]])"
      ]
     },
     "execution_count": 14,
     "metadata": {},
     "output_type": "execute_result"
    }
   ],
   "source": [
    "arr = np.array([[1,2,3],[5,7,8],[1,1,2]])\n",
    "inverse =  np.linalg.inv(arr)\n",
    "inverse"
   ]
  },
  {
   "cell_type": "code",
   "execution_count": 15,
   "id": "13932eef-d448-4e11-9db5-1c8e4b04456a",
   "metadata": {},
   "outputs": [
    {
     "data": {
      "text/plain": [
       "array([[ 1.0000000e+00,  0.0000000e+00, -4.4408921e-16],\n",
       "       [ 0.0000000e+00,  1.0000000e+00,  0.0000000e+00],\n",
       "       [ 0.0000000e+00,  0.0000000e+00,  1.0000000e+00]])"
      ]
     },
     "execution_count": 15,
     "metadata": {},
     "output_type": "execute_result"
    }
   ],
   "source": [
    "# returning identity matrix\n",
    "np.dot(arr,inverse)"
   ]
  },
  {
   "cell_type": "markdown",
   "id": "f91aefbd-7b6c-4074-b1da-3cf1975c56f0",
   "metadata": {},
   "source": [
    "14. What does the np.reshape function do, and how is it used?\n",
    "\n"
   ]
  },
  {
   "cell_type": "markdown",
   "id": "83732d24-1e79-440b-a178-f7a50b4f0ec3",
   "metadata": {},
   "source": [
    "The numpy.reshape() function rearranges the data in an ndarray into a new shape. The new shape must be compatible with the old one, though an index of -1 can be used to infer one dimension.\n",
    "Means if the shape of a matrix was [3,6] before, so when we multiply '3x6' gives '18'. then the new shape should be when multiplied give '18', so that all the elements can be rightly fit inside it."
   ]
  },
  {
   "cell_type": "code",
   "execution_count": 25,
   "id": "c4ea3385-57dd-40a9-904f-bd6d92b471d4",
   "metadata": {},
   "outputs": [],
   "source": [
    "arr = np.random.randint(1,10,(5,6))"
   ]
  },
  {
   "cell_type": "code",
   "execution_count": 26,
   "id": "7985ee5f-fee3-489a-b174-396f11119f82",
   "metadata": {},
   "outputs": [
    {
     "data": {
      "text/plain": [
       "array([[8, 6, 6, 5, 7, 7],\n",
       "       [9, 5, 5, 3, 2, 8],\n",
       "       [2, 7, 7, 2, 6, 6],\n",
       "       [6, 9, 1, 3, 2, 9],\n",
       "       [2, 4, 8, 4, 8, 1]])"
      ]
     },
     "execution_count": 26,
     "metadata": {},
     "output_type": "execute_result"
    }
   ],
   "source": [
    "arr"
   ]
  },
  {
   "cell_type": "code",
   "execution_count": 27,
   "id": "e3ba3bff-f573-435e-8bd9-82c6adfa7bb1",
   "metadata": {},
   "outputs": [
    {
     "data": {
      "text/plain": [
       "(5, 6)"
      ]
     },
     "execution_count": 27,
     "metadata": {},
     "output_type": "execute_result"
    }
   ],
   "source": [
    "arr.shape"
   ]
  },
  {
   "cell_type": "code",
   "execution_count": 29,
   "id": "d6538b8d-2c3b-49ce-9914-a39a53c175e3",
   "metadata": {},
   "outputs": [
    {
     "data": {
      "text/plain": [
       "array([[8, 6],\n",
       "       [6, 5],\n",
       "       [7, 7],\n",
       "       [9, 5],\n",
       "       [5, 3],\n",
       "       [2, 8],\n",
       "       [2, 7],\n",
       "       [7, 2],\n",
       "       [6, 6],\n",
       "       [6, 9],\n",
       "       [1, 3],\n",
       "       [2, 9],\n",
       "       [2, 4],\n",
       "       [8, 4],\n",
       "       [8, 1]])"
      ]
     },
     "execution_count": 29,
     "metadata": {},
     "output_type": "execute_result"
    }
   ],
   "source": [
    "arr.reshape(15,2)"
   ]
  },
  {
   "cell_type": "code",
   "execution_count": 30,
   "id": "f1b46feb-6a6a-4774-8f4b-6ee48e075026",
   "metadata": {},
   "outputs": [
    {
     "data": {
      "text/plain": [
       "array([[8, 6, 6, 5, 7, 7, 9, 5, 5, 3],\n",
       "       [2, 8, 2, 7, 7, 2, 6, 6, 6, 9],\n",
       "       [1, 3, 2, 9, 2, 4, 8, 4, 8, 1]])"
      ]
     },
     "execution_count": 30,
     "metadata": {},
     "output_type": "execute_result"
    }
   ],
   "source": [
    "arr.reshape(3,10)"
   ]
  },
  {
   "cell_type": "markdown",
   "id": "9c0708ee-7078-4d31-a15b-988e824ad51b",
   "metadata": {},
   "source": [
    "15. What is broadcasting in Numpy?\n"
   ]
  },
  {
   "cell_type": "markdown",
   "id": "e06b781c-b246-4a81-bc77-98b58b04320a",
   "metadata": {},
   "source": [
    "The term broadcasting describes how NumPy treats arrays with different shapes during arithmetic operations. Subject to certain constraints, the smaller array is “broadcast” across the larger array so that they have compatible shapes. Broadcasting provides a means of vectorizing array operations so that looping occurs in C instead of Python. It does this without making needless copies of data and usually leads to efficient algorithm implementations. There are, however, cases where broadcasting is a bad idea because it leads to inefficient use of memory that slows computation.<br><br>\n",
    "When operating on two arrays, NumPy compares their shapes element-wise. It starts with the trailing (i.e. rightmost) dimension and works its way left. Two dimensions are compatible when\n",
    "- they are equal, or\n",
    "- one of them is 1."
   ]
  },
  {
   "cell_type": "code",
   "execution_count": 37,
   "id": "28698208-3689-4b6a-877f-a39cc2d46723",
   "metadata": {},
   "outputs": [
    {
     "data": {
      "text/plain": [
       "array([[4, 5, 6, 7],\n",
       "       [6, 7, 5, 4],\n",
       "       [5, 5, 3, 6]])"
      ]
     },
     "execution_count": 37,
     "metadata": {},
     "output_type": "execute_result"
    }
   ],
   "source": [
    "a = np.array([[1,2,3,4],[3,4,2,1],[2,2,0,3]])\n",
    "b = np.array([3])\n",
    "a+b"
   ]
  },
  {
   "cell_type": "code",
   "execution_count": null,
   "id": "b7f46e64-3510-4698-87ea-676f43400f54",
   "metadata": {},
   "outputs": [],
   "source": []
  }
 ],
 "metadata": {
  "kernelspec": {
   "display_name": "Python 3 (ipykernel)",
   "language": "python",
   "name": "python3"
  },
  "language_info": {
   "codemirror_mode": {
    "name": "ipython",
    "version": 3
   },
   "file_extension": ".py",
   "mimetype": "text/x-python",
   "name": "python",
   "nbconvert_exporter": "python",
   "pygments_lexer": "ipython3",
   "version": "3.9.18"
  }
 },
 "nbformat": 4,
 "nbformat_minor": 5
}
