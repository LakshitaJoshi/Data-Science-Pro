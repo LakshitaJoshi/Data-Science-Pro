{
 "cells": [
  {
   "cell_type": "markdown",
   "id": "fd33a45a",
   "metadata": {},
   "source": [
    "### Problem 1: Bank Account Create a class representing a bank account with attributes like account number, account holder name, and balance. Implement methods to deposit and withdraw money from the account.\n",
    "\n"
   ]
  },
  {
   "cell_type": "code",
   "execution_count": 1,
   "id": "3914ae0f",
   "metadata": {},
   "outputs": [],
   "source": [
    "class bank:\n",
    "    \n",
    "    def account_holder(self, name, acnt_num, bal) :\n",
    "        print('Account holder name, account number and balance')\n",
    "        return name, acnt_num, bal\n",
    "    \n",
    "    def open_acnt(self, name, email_id) :\n",
    "        print('open account using name and email id')\n",
    "        return name, email_id\n",
    "    \n",
    "    def deposit(self, acnt_num, acnt_dep) :\n",
    "        print('amount to withdraw')\n",
    "        return acnt_dep\n",
    "    \n",
    "    def withdraw(self, acnt_num, acnt_with) :\n",
    "        print('amount to withdraw')\n",
    "        return acnt_with\n",
    "    \n",
    "    def update(self, name_update, email_update) :\n",
    "        print('this fxn will update name and email id')"
   ]
  },
  {
   "cell_type": "code",
   "execution_count": 2,
   "id": "3bb9cd74",
   "metadata": {},
   "outputs": [],
   "source": [
    "lakshita = bank()"
   ]
  },
  {
   "cell_type": "code",
   "execution_count": 3,
   "id": "0e9bd3ae",
   "metadata": {},
   "outputs": [
    {
     "name": "stdout",
     "output_type": "stream",
     "text": [
      "Account holder name, account number and balance\n"
     ]
    },
    {
     "data": {
      "text/plain": [
       "('Lakshita Joshi', 20004545, 45000)"
      ]
     },
     "execution_count": 3,
     "metadata": {},
     "output_type": "execute_result"
    }
   ],
   "source": [
    "lakshita.account_holder('Lakshita Joshi', 20004545, 45000)"
   ]
  },
  {
   "cell_type": "code",
   "execution_count": 4,
   "id": "ba25aa69",
   "metadata": {},
   "outputs": [
    {
     "name": "stdout",
     "output_type": "stream",
     "text": [
      "amount to withdraw\n"
     ]
    },
    {
     "data": {
      "text/plain": [
       "30000"
      ]
     },
     "execution_count": 4,
     "metadata": {},
     "output_type": "execute_result"
    }
   ],
   "source": [
    "lakshita.deposit(20004545, 30000 )"
   ]
  },
  {
   "cell_type": "markdown",
   "id": "38543c54",
   "metadata": {},
   "source": [
    "### Problem 2: Employee Management Create a class representing an employee with attributes like employee ID, name, and salary. Implement methods to calculate the yearly bonus and display employee details.\n",
    "\n"
   ]
  },
  {
   "cell_type": "code",
   "execution_count": 1,
   "id": "394cb80a",
   "metadata": {},
   "outputs": [],
   "source": [
    "class Employee:\n",
    "    def __init__(self, emp_id, name, salary):\n",
    "        self.emp_id = emp_id\n",
    "        self.name = name\n",
    "        self.salary = salary\n",
    "\n",
    "    def calculate_yearly_bonus(self):\n",
    "        # Assuming a simple bonus calculation, you can customize as needed\n",
    "        bonus_percentage = 0.1  # 10% bonus\n",
    "        yearly_bonus = self.salary * bonus_percentage\n",
    "        return yearly_bonus\n",
    "\n",
    "    def display_employee_details(self):\n",
    "        print(f\"Employee ID: {self.emp_id}\")\n",
    "        print(f\"Name: {self.name}\")\n",
    "        print(f\"Salary: ${self.salary:,}\")\n",
    "        print(f\"Yearly Bonus: ${self.calculate_yearly_bonus():,.2f}\")\n",
    "\n",
    "\n"
   ]
  },
  {
   "cell_type": "code",
   "execution_count": 2,
   "id": "d1d52c5e",
   "metadata": {},
   "outputs": [
    {
     "name": "stdout",
     "output_type": "stream",
     "text": [
      "Employee ID: 1\n",
      "Name: Lakshita Joshi\n",
      "Salary: $60,000\n",
      "Yearly Bonus: $6,000.00\n"
     ]
    }
   ],
   "source": [
    "lakshita = Employee(emp_id=1, name=\"Lakshita Joshi\", salary=60000)\n",
    "lakshita.display_employee_details()"
   ]
  },
  {
   "cell_type": "code",
   "execution_count": null,
   "id": "466c55a9",
   "metadata": {},
   "outputs": [],
   "source": []
  },
  {
   "cell_type": "markdown",
   "id": "fe47a2a3",
   "metadata": {},
   "source": [
    "### Problem 3: Vehicle Rental Create a class representing a vehicle rental system. Implement methods to rent a vehicle, return a vehicle, and display available vehicles.\n",
    "\n"
   ]
  },
  {
   "cell_type": "code",
   "execution_count": 3,
   "id": "5c268e5e",
   "metadata": {},
   "outputs": [
    {
     "name": "stdout",
     "output_type": "stream",
     "text": [
      "Available Vehicles:\n",
      "Car1\n",
      "Car2\n",
      "Bike1\n",
      "Vehicle Car1 rented successfully.\n",
      "Available Vehicles:\n",
      "Car2\n",
      "Bike1\n",
      "Vehicle Car1 returned successfully.\n",
      "Available Vehicles:\n",
      "Car2\n",
      "Car1\n",
      "Bike1\n"
     ]
    }
   ],
   "source": [
    "class VehicleRentalSystem:\n",
    "    def __init__(self):\n",
    "        self.available_vehicles = set()\n",
    "        self.rented_vehicles = set()\n",
    "\n",
    "    def add_vehicle(self, vehicle):\n",
    "        self.available_vehicles.add(vehicle)\n",
    "\n",
    "    def rent_vehicle(self, vehicle):\n",
    "        if vehicle in self.available_vehicles:\n",
    "            self.available_vehicles.remove(vehicle)\n",
    "            self.rented_vehicles.add(vehicle)\n",
    "            print(f\"Vehicle {vehicle} rented successfully.\")\n",
    "        else:\n",
    "            print(f\"Sorry, {vehicle} is not available for rent.\")\n",
    "\n",
    "    def return_vehicle(self, vehicle):\n",
    "        if vehicle in self.rented_vehicles:\n",
    "            self.rented_vehicles.remove(vehicle)\n",
    "            self.available_vehicles.add(vehicle)\n",
    "            print(f\"Vehicle {vehicle} returned successfully.\")\n",
    "        else:\n",
    "            print(f\"Invalid return. {vehicle} was not rented from this rental system.\")\n",
    "\n",
    "    def display_available_vehicles(self):\n",
    "        print(\"Available Vehicles:\")\n",
    "        for vehicle in self.available_vehicles:\n",
    "            print(vehicle)\n",
    "\n",
    "\n",
    "rental_system = VehicleRentalSystem()\n",
    "\n",
    "# Adding vehicles to the system\n",
    "rental_system.add_vehicle(\"Car1\")\n",
    "rental_system.add_vehicle(\"Car2\")\n",
    "rental_system.add_vehicle(\"Bike1\")\n",
    "\n",
    "# Displaying available vehicles\n",
    "rental_system.display_available_vehicles()\n",
    "\n",
    "# Renting a vehicle\n",
    "rental_system.rent_vehicle(\"Car1\")\n",
    "\n",
    "# Displaying available vehicles after renting\n",
    "rental_system.display_available_vehicles()\n",
    "\n",
    "# Returning a vehicle\n",
    "rental_system.return_vehicle(\"Car1\")\n",
    "\n",
    "# Displaying available vehicles after returning\n",
    "rental_system.display_available_vehicles()\n",
    "    \n",
    "    "
   ]
  },
  {
   "cell_type": "markdown",
   "id": "01a31ca6",
   "metadata": {},
   "source": [
    "### Problem 4: Library Catalog Create classes representing a library and a book. Implement methods to add books to the library, borrow books, and display available books.\n",
    "\n"
   ]
  },
  {
   "cell_type": "code",
   "execution_count": 4,
   "id": "f5976b7b",
   "metadata": {},
   "outputs": [
    {
     "name": "stdout",
     "output_type": "stream",
     "text": [
      "Book 'The Great Gatsby by F. Scott Fitzgerald' added to the library.\n",
      "Book 'To Kill a Mockingbird by Harper Lee' added to the library.\n",
      "Book '1984 by George Orwell' added to the library.\n",
      "Available Books:\n",
      "The Great Gatsby by F. Scott Fitzgerald\n",
      "To Kill a Mockingbird by Harper Lee\n",
      "1984 by George Orwell\n",
      "Book 'The Great Gatsby by F. Scott Fitzgerald' borrowed successfully.\n",
      "Available Books:\n",
      "To Kill a Mockingbird by Harper Lee\n",
      "1984 by George Orwell\n",
      "Book 'The Great Gatsby by F. Scott Fitzgerald' returned successfully.\n",
      "Available Books:\n",
      "The Great Gatsby by F. Scott Fitzgerald\n",
      "To Kill a Mockingbird by Harper Lee\n",
      "1984 by George Orwell\n"
     ]
    }
   ],
   "source": [
    "class Book:\n",
    "    def __init__(self, title, author):\n",
    "        self.title = title\n",
    "        self.author = author\n",
    "        self.is_available = True\n",
    "\n",
    "    def __str__(self):\n",
    "        return f\"{self.title} by {self.author}\"\n",
    "\n",
    "class Library:\n",
    "    def __init__(self):\n",
    "        self.books = []\n",
    "\n",
    "    def add_book(self, book):\n",
    "        self.books.append(book)\n",
    "        print(f\"Book '{book}' added to the library.\")\n",
    "\n",
    "    def borrow_book(self, title):\n",
    "        for book in self.books:\n",
    "            if book.title == title and book.is_available:\n",
    "                book.is_available = False\n",
    "                print(f\"Book '{book}' borrowed successfully.\")\n",
    "                return\n",
    "        print(f\"Sorry, '{title}' is not available for borrowing.\")\n",
    "\n",
    "    def return_book(self, title):\n",
    "        for book in self.books:\n",
    "            if book.title == title and not book.is_available:\n",
    "                book.is_available = True\n",
    "                print(f\"Book '{book}' returned successfully.\")\n",
    "                return\n",
    "        print(f\"Invalid return. '{title}' was not borrowed from this library.\")\n",
    "\n",
    "    def display_available_books(self):\n",
    "        print(\"Available Books:\")\n",
    "        for book in self.books:\n",
    "            if book.is_available:\n",
    "                print(book)\n",
    "\n",
    "\n",
    "library = Library()\n",
    "\n",
    "# Adding books to the library\n",
    "book1 = Book(\"The Great Gatsby\", \"F. Scott Fitzgerald\")\n",
    "book2 = Book(\"To Kill a Mockingbird\", \"Harper Lee\")\n",
    "book3 = Book(\"1984\", \"George Orwell\")\n",
    "\n",
    "library.add_book(book1)\n",
    "library.add_book(book2)\n",
    "library.add_book(book3)\n",
    "\n",
    "# Displaying available books\n",
    "library.display_available_books()\n",
    "\n",
    "# Borrowing a book\n",
    "library.borrow_book(\"The Great Gatsby\")\n",
    "# Displaying available books after borrowing\n",
    "library.display_available_books()\n",
    "\n",
    "# Returning a book\n",
    "library.return_book(\"The Great Gatsby\")\n",
    "\n",
    "# Displaying available books after returning\n",
    "library.display_available_books()\n"
   ]
  },
  {
   "cell_type": "markdown",
   "id": "3962af3a",
   "metadata": {},
   "source": [
    "### Problem 5: Product Inventory Create classes representing a product and an inventory system. Implement methods to add products to the inventory, update product quantity, and display available products.\n",
    "\n"
   ]
  },
  {
   "cell_type": "code",
   "execution_count": 5,
   "id": "efe87e6b",
   "metadata": {},
   "outputs": [
    {
     "name": "stdout",
     "output_type": "stream",
     "text": [
      "Product 'Laptop' added to the inventory.\n",
      "Product 'Mouse' added to the inventory.\n",
      "Product 'Headphones' added to the inventory.\n",
      "Available Products:\n",
      "Laptop - $800 - Quantity: 10\n",
      "Mouse - $20 - Quantity: 50\n",
      "Headphones - $50 - Quantity: 30\n",
      "Quantity of 'Mouse' updated to 40.\n",
      "Available Products:\n",
      "Laptop - $800 - Quantity: 10\n",
      "Mouse - $20 - Quantity: 40\n",
      "Headphones - $50 - Quantity: 30\n"
     ]
    }
   ],
   "source": [
    "class Product:\n",
    "    def __init__(self, name, price, quantity):\n",
    "        self.name = name\n",
    "        self.price = price\n",
    "        self.quantity = quantity\n",
    "\n",
    "    def __str__(self):\n",
    "        return f\"{self.name} - ${self.price} - Quantity: {self.quantity}\"\n",
    "\n",
    "class InventorySystem:\n",
    "    def __init__(self):\n",
    "        self.products = []\n",
    "\n",
    "    def add_product(self, product):\n",
    "        self.products.append(product)\n",
    "        print(f\"Product '{product.name}' added to the inventory.\")\n",
    "\n",
    "    def update_quantity(self, product_name, new_quantity):\n",
    "        for product in self.products:\n",
    "            if product.name == product_name:\n",
    "                product.quantity = new_quantity\n",
    "                print(f\"Quantity of '{product.name}' updated to {new_quantity}.\")\n",
    "                return\n",
    "        print(f\"Product '{product_name}' not found in the inventory.\")\n",
    "\n",
    "    def display_available_products(self):\n",
    "        print(\"Available Products:\")\n",
    "        for product in self.products:\n",
    "            print(product)\n",
    "\n",
    "\n",
    "inventory_system = InventorySystem()\n",
    "\n",
    "# Adding products to the inventory\n",
    "product1 = Product(\"Laptop\", 800, 10)\n",
    "product2 = Product(\"Mouse\", 20, 50)\n",
    "product3 = Product(\"Headphones\", 50, 30)\n",
    "\n",
    "inventory_system.add_product(product1)\n",
    "inventory_system.add_product(product2)\n",
    "inventory_system.add_product(product3)\n",
    "\n",
    "# Displaying available products\n",
    "inventory_system.display_available_products()\n",
    "\n",
    "# Updating product quantity\n",
    "inventory_system.update_quantity(\"Mouse\", 40)\n",
    "\n",
    "# Displaying available products after updating quantity\n",
    "inventory_system.display_available_products()\n"
   ]
  },
  {
   "cell_type": "markdown",
   "id": "9f9a45f0",
   "metadata": {},
   "source": [
    "### Problem 6: Shape Calculation Create a class representing a shape with attributes like length, width, and height. Implement methods to calculate the area and perimeter of the shape.\n",
    "\n"
   ]
  },
  {
   "cell_type": "code",
   "execution_count": 6,
   "id": "ad8972ed",
   "metadata": {},
   "outputs": [
    {
     "name": "stdout",
     "output_type": "stream",
     "text": [
      "Rectangle Area: 50\n",
      "Rectangle Perimeter: 30\n",
      "Triangle Area: 6.0\n",
      "Triangle Perimeter: 12\n"
     ]
    }
   ],
   "source": [
    "class Shape:\n",
    "    def __init__(self, length, width, height=None):\n",
    "        self.length = length\n",
    "        self.width = width\n",
    "        self.height = height\n",
    "\n",
    "    def calculate_area(self):\n",
    "        raise NotImplementedError(\"Subclasses must implement this method\")\n",
    "\n",
    "    def calculate_perimeter(self):\n",
    "        raise NotImplementedError(\"Subclasses must implement this method\")\n",
    "\n",
    "class Rectangle(Shape):\n",
    "    def calculate_area(self):\n",
    "        return self.length * self.width\n",
    "\n",
    "    def calculate_perimeter(self):\n",
    "        return 2 * (self.length + self.width)\n",
    "\n",
    "class Triangle(Shape):\n",
    "    def calculate_area(self):\n",
    "        # Using Heron's formula for the area of a triangle\n",
    "        s = (self.length + self.width + self.height) / 2\n",
    "        return (s * (s - self.length) * (s - self.width) * (s - self.height)) ** 0.5\n",
    "\n",
    "    def calculate_perimeter(self):\n",
    "        return self.length + self.width + self.height\n",
    "\n",
    "\n",
    "rectangle = Rectangle(5, 10)\n",
    "triangle = Triangle(3, 4, 5)\n",
    "\n",
    "# Rectangle calculations\n",
    "print(f\"Rectangle Area: {rectangle.calculate_area()}\")\n",
    "print(f\"Rectangle Perimeter: {rectangle.calculate_perimeter()}\")\n",
    "\n",
    "# Triangle calculations\n",
    "print(f\"Triangle Area: {triangle.calculate_area()}\")\n",
    "print(f\"Triangle Perimeter: {triangle.calculate_perimeter()}\")\n"
   ]
  },
  {
   "cell_type": "markdown",
   "id": "67a11244",
   "metadata": {},
   "source": [
    "### Problem 7: Student Management Create a class representing a student with attributes like student ID, name, and grades. Implement methods to calculate the average grade and display student details.\n",
    "\n"
   ]
  },
  {
   "cell_type": "code",
   "execution_count": 7,
   "id": "12649042",
   "metadata": {},
   "outputs": [
    {
     "name": "stdout",
     "output_type": "stream",
     "text": [
      "Student ID: 12345\n",
      "Name: John Doe\n",
      "Grades: 90, 85, 92, 88, 95\n",
      "Average Grade: 90.0\n",
      "Student ID: 67890\n",
      "Name: Jane Smith\n",
      "Grades: 78, 82, 75, 88, 90\n",
      "Average Grade: 82.6\n",
      "Student ID: 54321\n",
      "Name: Alice Johnson\n",
      "Grades: 95, 92, 98, 88, 90\n",
      "Average Grade: 92.6\n"
     ]
    }
   ],
   "source": [
    "class Student:\n",
    "    def __init__(self, student_id, name, grades):\n",
    "        self.student_id = student_id\n",
    "        self.name = name\n",
    "        self.grades = grades\n",
    "\n",
    "    def calculate_average_grade(self):\n",
    "        if not self.grades:\n",
    "            return 0  # Handle the case when there are no grades\n",
    "        return sum(self.grades) / len(self.grades)\n",
    "\n",
    "    def display_student_details(self):\n",
    "        print(f\"Student ID: {self.student_id}\")\n",
    "        print(f\"Name: {self.name}\")\n",
    "        print(f\"Grades: {', '.join(map(str, self.grades))}\")\n",
    "        print(f\"Average Grade: {self.calculate_average_grade()}\")\n",
    "\n",
    "\n",
    "\n",
    "student1 = Student(\"12345\", \"John Doe\", [90, 85, 92, 88, 95])\n",
    "\n",
    "# Displaying student details\n",
    "student1.display_student_details()\n",
    "\n",
    "# Adding more students\n",
    "student2 = Student(\"67890\", \"Jane Smith\", [78, 82, 75, 88, 90])\n",
    "student3 = Student(\"54321\", \"Alice Johnson\", [95, 92, 98, 88, 90])\n",
    "\n",
    "# Displaying details for other students\n",
    "student2.display_student_details()\n",
    "student3.display_student_details()\n"
   ]
  },
  {
   "cell_type": "markdown",
   "id": "16501f3b",
   "metadata": {},
   "source": [
    "### Problem 8: Email Management Create a class representing an email with attributes like sender, recipient, and subject. Implement methods to send an email and display email details.\n",
    "\n"
   ]
  },
  {
   "cell_type": "code",
   "execution_count": 11,
   "id": "5cb387d5",
   "metadata": {},
   "outputs": [
    {
     "name": "stdout",
     "output_type": "stream",
     "text": [
      "Email Details:\n",
      "Sender: john@example.com\n",
      "Recipient: jane@example.com\n",
      "Subject: Meeting Tomorrow\n",
      "Body:\n",
      "Hi Jane, let's meet tomorrow at 2 PM.\n",
      "Email sent from john@example.com to jane@example.com\n",
      "Subject: Meeting Tomorrow\n",
      "Body:\n",
      "Hi Jane, let's meet tomorrow at 2 PM.\n"
     ]
    }
   ],
   "source": [
    "class Email:\n",
    "    def __init__(self, sender, recipient, subject, body):\n",
    "        self.sender = sender\n",
    "        self.recipient = recipient\n",
    "        self.subject = subject\n",
    "        self.body = body\n",
    "\n",
    "    def send_email(self):\n",
    "        print(f\"Email sent from {self.sender} to {self.recipient}\")\n",
    "        print(f\"Subject: {self.subject}\")\n",
    "        print(\"Body:\")\n",
    "        print(self.body)\n",
    "\n",
    "    def display_email_details(self):\n",
    "        print(\"Email Details:\")\n",
    "        print(f\"Sender: {self.sender}\")\n",
    "        print(f\"Recipient: {self.recipient}\")\n",
    "        print(f\"Subject: {self.subject}\")\n",
    "        print(\"Body:\")\n",
    "        print(self.body)\n",
    "\n",
    "\n",
    "email1 = Email(\"john@example.com\", \"jane@example.com\", \"Meeting Tomorrow\", \"Hi Jane, let's meet tomorrow at 2 PM.\")\n",
    "\n",
    "# Displaying email details\n",
    "email1.display_email_details()\n",
    "\n",
    "# Sending the email\n",
    "email1.send_email()\n"
   ]
  },
  {
   "cell_type": "markdown",
   "id": "9042f54a",
   "metadata": {},
   "source": [
    "### Problem 9: Social Media Profile Create a class representing a social media profile with attributes like username and posts. Implement methods to add posts, display posts, and search for posts by keyword.\n",
    "\n"
   ]
  },
  {
   "cell_type": "code",
   "execution_count": 12,
   "id": "a0bd592f",
   "metadata": {},
   "outputs": [
    {
     "name": "stdout",
     "output_type": "stream",
     "text": [
      "Post added to JohnDoe's profile.\n",
      "Post added to JohnDoe's profile.\n",
      "Post added to JohnDoe's profile.\n",
      "Posts by JohnDoe:\n",
      "Enjoying a sunny day at the beach!\n",
      "Just finished reading a great book.\n",
      "Coding is so much fun!\n",
      "Posts containing 'coding':\n",
      "Coding is so much fun!\n"
     ]
    }
   ],
   "source": [
    "class SocialMediaProfile:\n",
    "    def __init__(self, username):\n",
    "        self.username = username\n",
    "        self.posts = []\n",
    "\n",
    "    def add_post(self, content):\n",
    "        self.posts.append(content)\n",
    "        print(f\"Post added to {self.username}'s profile.\")\n",
    "\n",
    "    def display_posts(self):\n",
    "        print(f\"Posts by {self.username}:\")\n",
    "        for post in self.posts:\n",
    "            print(post)\n",
    "\n",
    "    def search_posts(self, keyword):\n",
    "        matching_posts = [post for post in self.posts if keyword.lower() in post.lower()]\n",
    "        if matching_posts:\n",
    "            print(f\"Posts containing '{keyword}':\")\n",
    "            for post in matching_posts:\n",
    "                print(post)\n",
    "        else:\n",
    "            print(f\"No posts found containing '{keyword}'.\")\n",
    "\n",
    "\n",
    "# Creating a social media profile\n",
    "profile = SocialMediaProfile(\"JohnDoe\")\n",
    "\n",
    "# Adding posts\n",
    "profile.add_post(\"Enjoying a sunny day at the beach!\")\n",
    "profile.add_post(\"Just finished reading a great book.\")\n",
    "profile.add_post(\"Coding is so much fun!\")\n",
    "\n",
    "# Displaying all posts\n",
    "profile.display_posts()\n",
    "\n",
    "# Searching for posts with a keyword\n",
    "profile.search_posts(\"coding\")\n"
   ]
  },
  {
   "cell_type": "markdown",
   "id": "bf079fc3",
   "metadata": {},
   "source": [
    "### Problem 10: ToDo List Create a class representing a ToDo list with attributes like tasks and due dates. Implement methods to add tasks, mark tasks as completed, and display pending tasks.\n"
   ]
  },
  {
   "cell_type": "code",
   "execution_count": 10,
   "id": "3f1c754e",
   "metadata": {},
   "outputs": [
    {
     "name": "stdout",
     "output_type": "stream",
     "text": [
      "Post added to JohnDoe's profile.\n",
      "Post added to JohnDoe's profile.\n",
      "Post added to JohnDoe's profile.\n",
      "Posts by JohnDoe:\n",
      "Enjoying a sunny day at the beach!\n",
      "Just finished reading a great book.\n",
      "Coding is so much fun!\n",
      "Posts containing 'coding':\n",
      "Coding is so much fun!\n"
     ]
    }
   ],
   "source": [
    "class SocialMediaProfile:\n",
    "    def __init__(self, username):\n",
    "        self.username = username\n",
    "        self.posts = []\n",
    "\n",
    "    def add_post(self, content):\n",
    "        self.posts.append(content)\n",
    "        print(f\"Post added to {self.username}'s profile.\")\n",
    "\n",
    "    def display_posts(self):\n",
    "        print(f\"Posts by {self.username}:\")\n",
    "        for post in self.posts:\n",
    "            print(post)\n",
    "\n",
    "    def search_posts(self, keyword):\n",
    "        matching_posts = [post for post in self.posts if keyword.lower() in post.lower()]\n",
    "        if matching_posts:\n",
    "            print(f\"Posts containing '{keyword}':\")\n",
    "            for post in matching_posts:\n",
    "                print(post)\n",
    "        else:\n",
    "            print(f\"No posts found containing '{keyword}'.\")\n",
    "\n",
    "\n",
    "\n",
    "# Creating a social media profile\n",
    "profile = SocialMediaProfile(\"JohnDoe\")\n",
    "\n",
    "# Adding posts\n",
    "profile.add_post(\"Enjoying a sunny day at the beach!\")\n",
    "profile.add_post(\"Just finished reading a great book.\")\n",
    "profile.add_post(\"Coding is so much fun!\")\n",
    "\n",
    "# Displaying all posts\n",
    "profile.display_posts()\n",
    "\n",
    "# Searching for posts with a keyword\n",
    "profile.search_posts(\"coding\")\n"
   ]
  },
  {
   "cell_type": "code",
   "execution_count": null,
   "id": "faa671c5",
   "metadata": {},
   "outputs": [],
   "source": []
  },
  {
   "cell_type": "code",
   "execution_count": null,
   "id": "317f26eb",
   "metadata": {},
   "outputs": [],
   "source": []
  }
 ],
 "metadata": {
  "kernelspec": {
   "display_name": "Python 3 (ipykernel)",
   "language": "python",
   "name": "python3"
  },
  "language_info": {
   "codemirror_mode": {
    "name": "ipython",
    "version": 3
   },
   "file_extension": ".py",
   "mimetype": "text/x-python",
   "name": "python",
   "nbconvert_exporter": "python",
   "pygments_lexer": "ipython3",
   "version": "3.9.7"
  }
 },
 "nbformat": 4,
 "nbformat_minor": 5
}
